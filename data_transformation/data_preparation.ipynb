{
 "cells": [
  {
   "cell_type": "code",
   "execution_count": 264,
   "metadata": {},
   "outputs": [
    {
     "data": {
      "text/plain": [
       "<module 'validation' from 's:\\\\Courses\\\\Data Science\\\\0. Henry\\\\M7 - Labs - Project MLOps _ steam\\\\game-recommendation-system\\\\data_transformation\\\\validation.py'>"
      ]
     },
     "execution_count": 264,
     "metadata": {},
     "output_type": "execute_result"
    }
   ],
   "source": [
    "import pandas as pd\n",
    "import numpy as np\n",
    "import json\n",
    "import ast\n",
    "import importlib\n",
    "import validation\n",
    "\n",
    "# Reload the functions module\n",
    "importlib.reload(validation)"
   ]
  },
  {
   "attachments": {},
   "cell_type": "markdown",
   "metadata": {},
   "source": [
    "## User reviews"
   ]
  },
  {
   "attachments": {},
   "cell_type": "markdown",
   "metadata": {},
   "source": [
    "### Creating a DataFrame"
   ]
  },
  {
   "attachments": {},
   "cell_type": "markdown",
   "metadata": {},
   "source": [
    "Creating a DataFrame from the australian_user_reviews JSON file"
   ]
  },
  {
   "cell_type": "code",
   "execution_count": 2,
   "metadata": {},
   "outputs": [],
   "source": [
    "# Open JSON file and load data in a variable\n",
    "review_data = []\n",
    "with open(r\"./raw_data/australian_user_reviews.json\", encoding=\"MacRoman\") as file:\n",
    "    for line in file.readlines():\n",
    "        review_data.append(ast.literal_eval(line))"
   ]
  },
  {
   "cell_type": "code",
   "execution_count": 3,
   "metadata": {},
   "outputs": [
    {
     "data": {
      "text/html": [
       "<div>\n",
       "<style scoped>\n",
       "    .dataframe tbody tr th:only-of-type {\n",
       "        vertical-align: middle;\n",
       "    }\n",
       "\n",
       "    .dataframe tbody tr th {\n",
       "        vertical-align: top;\n",
       "    }\n",
       "\n",
       "    .dataframe thead th {\n",
       "        text-align: right;\n",
       "    }\n",
       "</style>\n",
       "<table border=\"1\" class=\"dataframe\">\n",
       "  <thead>\n",
       "    <tr style=\"text-align: right;\">\n",
       "      <th></th>\n",
       "      <th>user_id</th>\n",
       "      <th>user_url</th>\n",
       "      <th>reviews</th>\n",
       "    </tr>\n",
       "  </thead>\n",
       "  <tbody>\n",
       "    <tr>\n",
       "      <th>0</th>\n",
       "      <td>76561197970982479</td>\n",
       "      <td>http://steamcommunity.com/profiles/76561197970...</td>\n",
       "      <td>[{'funny': '', 'posted': 'Posted November 5, 2...</td>\n",
       "    </tr>\n",
       "    <tr>\n",
       "      <th>1</th>\n",
       "      <td>js41637</td>\n",
       "      <td>http://steamcommunity.com/id/js41637</td>\n",
       "      <td>[{'funny': '', 'posted': 'Posted June 24, 2014...</td>\n",
       "    </tr>\n",
       "    <tr>\n",
       "      <th>2</th>\n",
       "      <td>evcentric</td>\n",
       "      <td>http://steamcommunity.com/id/evcentric</td>\n",
       "      <td>[{'funny': '', 'posted': 'Posted February 3.',...</td>\n",
       "    </tr>\n",
       "    <tr>\n",
       "      <th>3</th>\n",
       "      <td>doctr</td>\n",
       "      <td>http://steamcommunity.com/id/doctr</td>\n",
       "      <td>[{'funny': '', 'posted': 'Posted October 14, 2...</td>\n",
       "    </tr>\n",
       "    <tr>\n",
       "      <th>4</th>\n",
       "      <td>maplemage</td>\n",
       "      <td>http://steamcommunity.com/id/maplemage</td>\n",
       "      <td>[{'funny': '3 people found this review funny',...</td>\n",
       "    </tr>\n",
       "    <tr>\n",
       "      <th>...</th>\n",
       "      <td>...</td>\n",
       "      <td>...</td>\n",
       "      <td>...</td>\n",
       "    </tr>\n",
       "    <tr>\n",
       "      <th>25794</th>\n",
       "      <td>76561198306599751</td>\n",
       "      <td>http://steamcommunity.com/profiles/76561198306...</td>\n",
       "      <td>[{'funny': '', 'posted': 'Posted May 31.', 'la...</td>\n",
       "    </tr>\n",
       "    <tr>\n",
       "      <th>25795</th>\n",
       "      <td>Ghoustik</td>\n",
       "      <td>http://steamcommunity.com/id/Ghoustik</td>\n",
       "      <td>[{'funny': '', 'posted': 'Posted June 17.', 'l...</td>\n",
       "    </tr>\n",
       "    <tr>\n",
       "      <th>25796</th>\n",
       "      <td>76561198310819422</td>\n",
       "      <td>http://steamcommunity.com/profiles/76561198310...</td>\n",
       "      <td>[{'funny': '1 person found this review funny',...</td>\n",
       "    </tr>\n",
       "    <tr>\n",
       "      <th>25797</th>\n",
       "      <td>76561198312638244</td>\n",
       "      <td>http://steamcommunity.com/profiles/76561198312...</td>\n",
       "      <td>[{'funny': '', 'posted': 'Posted July 21.', 'l...</td>\n",
       "    </tr>\n",
       "    <tr>\n",
       "      <th>25798</th>\n",
       "      <td>LydiaMorley</td>\n",
       "      <td>http://steamcommunity.com/id/LydiaMorley</td>\n",
       "      <td>[{'funny': '1 person found this review funny',...</td>\n",
       "    </tr>\n",
       "  </tbody>\n",
       "</table>\n",
       "<p>25799 rows × 3 columns</p>\n",
       "</div>"
      ],
      "text/plain": [
       "                 user_id                                           user_url  \\\n",
       "0      76561197970982479  http://steamcommunity.com/profiles/76561197970...   \n",
       "1                js41637               http://steamcommunity.com/id/js41637   \n",
       "2              evcentric             http://steamcommunity.com/id/evcentric   \n",
       "3                  doctr                 http://steamcommunity.com/id/doctr   \n",
       "4              maplemage             http://steamcommunity.com/id/maplemage   \n",
       "...                  ...                                                ...   \n",
       "25794  76561198306599751  http://steamcommunity.com/profiles/76561198306...   \n",
       "25795           Ghoustik              http://steamcommunity.com/id/Ghoustik   \n",
       "25796  76561198310819422  http://steamcommunity.com/profiles/76561198310...   \n",
       "25797  76561198312638244  http://steamcommunity.com/profiles/76561198312...   \n",
       "25798        LydiaMorley           http://steamcommunity.com/id/LydiaMorley   \n",
       "\n",
       "                                                 reviews  \n",
       "0      [{'funny': '', 'posted': 'Posted November 5, 2...  \n",
       "1      [{'funny': '', 'posted': 'Posted June 24, 2014...  \n",
       "2      [{'funny': '', 'posted': 'Posted February 3.',...  \n",
       "3      [{'funny': '', 'posted': 'Posted October 14, 2...  \n",
       "4      [{'funny': '3 people found this review funny',...  \n",
       "...                                                  ...  \n",
       "25794  [{'funny': '', 'posted': 'Posted May 31.', 'la...  \n",
       "25795  [{'funny': '', 'posted': 'Posted June 17.', 'l...  \n",
       "25796  [{'funny': '1 person found this review funny',...  \n",
       "25797  [{'funny': '', 'posted': 'Posted July 21.', 'l...  \n",
       "25798  [{'funny': '1 person found this review funny',...  \n",
       "\n",
       "[25799 rows x 3 columns]"
      ]
     },
     "execution_count": 3,
     "metadata": {},
     "output_type": "execute_result"
    }
   ],
   "source": [
    "# Create a DataFrame from variable\n",
    "df_user_reviews = pd.DataFrame(review_data)\n",
    "df_user_reviews"
   ]
  },
  {
   "attachments": {},
   "cell_type": "markdown",
   "metadata": {},
   "source": [
    "### Preparing the user reviews data"
   ]
  },
  {
   "attachments": {},
   "cell_type": "markdown",
   "metadata": {},
   "source": [
    "#### Checking Null values"
   ]
  },
  {
   "cell_type": "code",
   "execution_count": 4,
   "metadata": {},
   "outputs": [
    {
     "name": "stdout",
     "output_type": "stream",
     "text": [
      "<class 'pandas.core.frame.DataFrame'>\n",
      "RangeIndex: 25799 entries, 0 to 25798\n",
      "Data columns (total 3 columns):\n",
      " #   Column    Non-Null Count  Dtype \n",
      "---  ------    --------------  ----- \n",
      " 0   user_id   25799 non-null  object\n",
      " 1   user_url  25799 non-null  object\n",
      " 2   reviews   25799 non-null  object\n",
      "dtypes: object(3)\n",
      "memory usage: 604.8+ KB\n"
     ]
    }
   ],
   "source": [
    "df_user_reviews.info()"
   ]
  },
  {
   "attachments": {},
   "cell_type": "markdown",
   "metadata": {},
   "source": [
    "No null values in the dataset"
   ]
  },
  {
   "attachments": {},
   "cell_type": "markdown",
   "metadata": {},
   "source": [
    "#### Checking Duplicate values"
   ]
  },
  {
   "cell_type": "code",
   "execution_count": 5,
   "metadata": {},
   "outputs": [
    {
     "name": "stdout",
     "output_type": "stream",
     "text": [
      "                                      Duplicated Value  Occurrences\n",
      "0    http://steamcommunity.com/profiles/76561198051...            3\n",
      "2    http://steamcommunity.com/profiles/76561198045...            3\n",
      "3    http://steamcommunity.com/profiles/76561198100...            3\n",
      "4            http://steamcommunity.com/id/blablabla174            3\n",
      "1    http://steamcommunity.com/profiles/76561198027...            3\n",
      "..                                                 ...          ...\n",
      "104    http://steamcommunity.com/id/syntheticflyingfox            2\n",
      "103           http://steamcommunity.com/id/TandyTandon            2\n",
      "102  http://steamcommunity.com/id/wasntthereanumber...            2\n",
      "101               http://steamcommunity.com/id/norsktf            2\n",
      "308         http://steamcommunity.com/id/OfficialvnmZz            2\n",
      "\n",
      "[309 rows x 2 columns]\n"
     ]
    }
   ],
   "source": [
    "# Call the function to check for duplicates in the \"user_url\" column\n",
    "duplicates_user_url = validation.check_duplicates_summary(df_user_reviews, \"user_url\")\n",
    "\n",
    "# Print the summary\n",
    "print(duplicates_user_url)"
   ]
  },
  {
   "attachments": {},
   "cell_type": "markdown",
   "metadata": {},
   "source": [
    "Duplicate user_url values are removed, as they will affect future measurements"
   ]
  },
  {
   "attachments": {},
   "cell_type": "markdown",
   "metadata": {},
   "source": [
    "#### Removing Duplicate values"
   ]
  },
  {
   "cell_type": "code",
   "execution_count": 6,
   "metadata": {},
   "outputs": [
    {
     "name": "stdout",
     "output_type": "stream",
     "text": [
      "Removed 314 duplicate rows based on 'user_url' column.\n"
     ]
    }
   ],
   "source": [
    "df_user_reviews_1 = validation.remove_duplicates(df_user_reviews, \"user_url\")"
   ]
  },
  {
   "cell_type": "code",
   "execution_count": 7,
   "metadata": {},
   "outputs": [
    {
     "name": "stdout",
     "output_type": "stream",
     "text": [
      "Empty DataFrame\n",
      "Columns: [Duplicated Value, Occurrences]\n",
      "Index: []\n"
     ]
    }
   ],
   "source": [
    "# Verifiying no duplicate values left\n",
    "\n",
    "# Call the function to check for duplicates in the \"user_id\" column\n",
    "duplicates_user_id = validation.check_duplicates_summary(df_user_reviews_1, \"user_id\")\n",
    "\n",
    "# Print the summary\n",
    "print(duplicates_user_id)\n"
   ]
  },
  {
   "attachments": {},
   "cell_type": "markdown",
   "metadata": {},
   "source": [
    "#### Checking None values"
   ]
  },
  {
   "cell_type": "code",
   "execution_count": 8,
   "metadata": {},
   "outputs": [
    {
     "name": "stdout",
     "output_type": "stream",
     "text": [
      "{'column_name': 'user_id', 'total_rows': 25485, 'num_none_values': 0, 'rows_below_threshold': None}\n"
     ]
    }
   ],
   "source": [
    "# Call the function to check for none values in the \"user_id\" column\n",
    "none_user_id = validation.check_none_values(df_user_reviews_1, \"user_id\")\n",
    "\n",
    "# Print the summary\n",
    "print(none_user_id)"
   ]
  },
  {
   "attachments": {},
   "cell_type": "markdown",
   "metadata": {},
   "source": [
    "#### Unnesting \"reviews\" data"
   ]
  },
  {
   "cell_type": "code",
   "execution_count": 9,
   "metadata": {},
   "outputs": [
    {
     "data": {
      "text/plain": [
       "[{'funny': '3 people found this review funny',\n",
       "  'posted': 'Posted April 15, 2014.',\n",
       "  'last_edited': '',\n",
       "  'item_id': '211420',\n",
       "  'helpful': '35 of 43 people (81%) found this review helpful',\n",
       "  'recommend': True,\n",
       "  'review': 'Git gud'},\n",
       " {'funny': '1 person found this review funny',\n",
       "  'posted': 'Posted December 23, 2013.',\n",
       "  'last_edited': '',\n",
       "  'item_id': '211820',\n",
       "  'helpful': '12 of 16 people (75%) found this review helpful',\n",
       "  'recommend': True,\n",
       "  'review': \"It's like Terraria, you play for 9 hours straight, get endgame armour then stop playing until the next update.\"},\n",
       " {'funny': '2 people found this review funny',\n",
       "  'posted': 'Posted March 14, 2014.',\n",
       "  'last_edited': '',\n",
       "  'item_id': '730',\n",
       "  'helpful': '5 of 5 people (100%) found this review helpful',\n",
       "  'recommend': True,\n",
       "  'review': 'Hold shift to win, Hold CTRL to lose.'},\n",
       " {'funny': '',\n",
       "  'posted': 'Posted July 11, 2013.',\n",
       "  'last_edited': '',\n",
       "  'item_id': '204300',\n",
       "  'helpful': 'No ratings yet',\n",
       "  'recommend': True,\n",
       "  'review': \"OH YES, THIS GAME IS THE BEST, THEY ADD STUFF LIKE NEW CHARACTERS, AND LIKE A NEW MAP ONCE A YEAR, IT'S SO AWESOME, OH YES, IT'S SO AWESOMENAUTS, YES, YES, I'M GOOD AT THIS, YES, YES, GOOD, I'M GOOD, YES, GOOD, YOU ARE BAD, IM GOOD, YES, TOO GOOD, YES, IM NOT BAD, YES, GOOD.\"}]"
      ]
     },
     "execution_count": 9,
     "metadata": {},
     "output_type": "execute_result"
    }
   ],
   "source": [
    "df_user_reviews_1[\"reviews\"][4]"
   ]
  },
  {
   "cell_type": "code",
   "execution_count": 10,
   "metadata": {},
   "outputs": [
    {
     "data": {
      "text/plain": [
       "{'column_name': 'reviews', 'data_type_counts': {\"<class 'list'>\": 25485}}"
      ]
     },
     "execution_count": 10,
     "metadata": {},
     "output_type": "execute_result"
    }
   ],
   "source": [
    "# Verifying the data types of \"reviews\" data\n",
    "reviews_data_type = validation.column_data_types_summary(df_user_reviews_1, \"reviews\")\n",
    "reviews_data_type"
   ]
  },
  {
   "attachments": {},
   "cell_type": "markdown",
   "metadata": {},
   "source": [
    "Knowing that all values of the columns are list, the function \"extract_values\" will extract each value, based on a key parameter, and store it on a new list in different columns"
   ]
  },
  {
   "cell_type": "code",
   "execution_count": 11,
   "metadata": {},
   "outputs": [],
   "source": [
    "# Asigning values to variables\n",
    "column_name = \"reviews\"\n",
    "keys = [\"funny\", \"posted\", \"last_edited\", \"item_id\", \"helpful\", \"recommend\", \"review\"]\n",
    "new_columns = [\"funny\", \"posted\", \"last_edited\", \"item_id\", \"helpful\", \"recommend\", \"review\"]"
   ]
  },
  {
   "cell_type": "code",
   "execution_count": 12,
   "metadata": {},
   "outputs": [
    {
     "data": {
      "text/html": [
       "<div>\n",
       "<style scoped>\n",
       "    .dataframe tbody tr th:only-of-type {\n",
       "        vertical-align: middle;\n",
       "    }\n",
       "\n",
       "    .dataframe tbody tr th {\n",
       "        vertical-align: top;\n",
       "    }\n",
       "\n",
       "    .dataframe thead th {\n",
       "        text-align: right;\n",
       "    }\n",
       "</style>\n",
       "<table border=\"1\" class=\"dataframe\">\n",
       "  <thead>\n",
       "    <tr style=\"text-align: right;\">\n",
       "      <th></th>\n",
       "      <th>user_id</th>\n",
       "      <th>user_url</th>\n",
       "      <th>reviews</th>\n",
       "      <th>funny</th>\n",
       "      <th>posted</th>\n",
       "      <th>last_edited</th>\n",
       "      <th>item_id</th>\n",
       "      <th>helpful</th>\n",
       "      <th>recommend</th>\n",
       "      <th>review</th>\n",
       "    </tr>\n",
       "  </thead>\n",
       "  <tbody>\n",
       "    <tr>\n",
       "      <th>0</th>\n",
       "      <td>76561197970982479</td>\n",
       "      <td>http://steamcommunity.com/profiles/76561197970...</td>\n",
       "      <td>[{'funny': '', 'posted': 'Posted November 5, 2...</td>\n",
       "      <td>[, , ]</td>\n",
       "      <td>[Posted November 5, 2011., Posted July 15, 201...</td>\n",
       "      <td>[, , ]</td>\n",
       "      <td>[1250, 22200, 43110]</td>\n",
       "      <td>[No ratings yet, No ratings yet, No ratings yet]</td>\n",
       "      <td>[True, True, True]</td>\n",
       "      <td>[Simple yet with great replayability. In my op...</td>\n",
       "    </tr>\n",
       "    <tr>\n",
       "      <th>1</th>\n",
       "      <td>js41637</td>\n",
       "      <td>http://steamcommunity.com/id/js41637</td>\n",
       "      <td>[{'funny': '', 'posted': 'Posted June 24, 2014...</td>\n",
       "      <td>[, , ]</td>\n",
       "      <td>[Posted June 24, 2014., Posted September 8, 20...</td>\n",
       "      <td>[, , ]</td>\n",
       "      <td>[251610, 227300, 239030]</td>\n",
       "      <td>[15 of 20 people (75%) found this review helpf...</td>\n",
       "      <td>[True, True, True]</td>\n",
       "      <td>[I know what you think when you see this title...</td>\n",
       "    </tr>\n",
       "    <tr>\n",
       "      <th>2</th>\n",
       "      <td>evcentric</td>\n",
       "      <td>http://steamcommunity.com/id/evcentric</td>\n",
       "      <td>[{'funny': '', 'posted': 'Posted February 3.',...</td>\n",
       "      <td>[, , , , , ]</td>\n",
       "      <td>[Posted February 3., Posted December 4, 2015.,...</td>\n",
       "      <td>[, Last edited December 5, 2015., , , , ]</td>\n",
       "      <td>[248820, 370360, 237930, 263360, 107200, 224500]</td>\n",
       "      <td>[No ratings yet, No ratings yet, No ratings ye...</td>\n",
       "      <td>[True, True, True, True, True, True]</td>\n",
       "      <td>[A suitably punishing roguelike platformer.  W...</td>\n",
       "    </tr>\n",
       "    <tr>\n",
       "      <th>3</th>\n",
       "      <td>doctr</td>\n",
       "      <td>http://steamcommunity.com/id/doctr</td>\n",
       "      <td>[{'funny': '', 'posted': 'Posted October 14, 2...</td>\n",
       "      <td>[, , , , , ]</td>\n",
       "      <td>[Posted October 14, 2013., Posted July 28, 201...</td>\n",
       "      <td>[, , , , , ]</td>\n",
       "      <td>[250320, 20920, 204100, 224600, 207610, 108710]</td>\n",
       "      <td>[2 of 2 people (100%) found this review helpfu...</td>\n",
       "      <td>[True, True, True, True, True, True]</td>\n",
       "      <td>[This game... is so fun. The fight sequences h...</td>\n",
       "    </tr>\n",
       "    <tr>\n",
       "      <th>4</th>\n",
       "      <td>maplemage</td>\n",
       "      <td>http://steamcommunity.com/id/maplemage</td>\n",
       "      <td>[{'funny': '3 people found this review funny',...</td>\n",
       "      <td>[3 people found this review funny, 1 person fo...</td>\n",
       "      <td>[Posted April 15, 2014., Posted December 23, 2...</td>\n",
       "      <td>[, , , ]</td>\n",
       "      <td>[211420, 211820, 730, 204300]</td>\n",
       "      <td>[35 of 43 people (81%) found this review helpf...</td>\n",
       "      <td>[True, True, True, True]</td>\n",
       "      <td>[Git gud, It's like Terraria, you play for 9 h...</td>\n",
       "    </tr>\n",
       "    <tr>\n",
       "      <th>...</th>\n",
       "      <td>...</td>\n",
       "      <td>...</td>\n",
       "      <td>...</td>\n",
       "      <td>...</td>\n",
       "      <td>...</td>\n",
       "      <td>...</td>\n",
       "      <td>...</td>\n",
       "      <td>...</td>\n",
       "      <td>...</td>\n",
       "      <td>...</td>\n",
       "    </tr>\n",
       "    <tr>\n",
       "      <th>25794</th>\n",
       "      <td>76561198306599751</td>\n",
       "      <td>http://steamcommunity.com/profiles/76561198306...</td>\n",
       "      <td>[{'funny': '', 'posted': 'Posted May 31.', 'la...</td>\n",
       "      <td>[]</td>\n",
       "      <td>[Posted May 31.]</td>\n",
       "      <td>[]</td>\n",
       "      <td>[261030]</td>\n",
       "      <td>[0 of 1 people (0%) found this review helpful]</td>\n",
       "      <td>[True]</td>\n",
       "      <td>[I cried in the end its so sadding ]'; I wish ...</td>\n",
       "    </tr>\n",
       "    <tr>\n",
       "      <th>25795</th>\n",
       "      <td>Ghoustik</td>\n",
       "      <td>http://steamcommunity.com/id/Ghoustik</td>\n",
       "      <td>[{'funny': '', 'posted': 'Posted June 17.', 'l...</td>\n",
       "      <td>[]</td>\n",
       "      <td>[Posted June 17.]</td>\n",
       "      <td>[]</td>\n",
       "      <td>[730]</td>\n",
       "      <td>[0 of 1 people (0%) found this review helpful]</td>\n",
       "      <td>[True]</td>\n",
       "      <td>[Gra naprawdƒô fajna.Ale jest kilka rzeczy do ...</td>\n",
       "    </tr>\n",
       "    <tr>\n",
       "      <th>25796</th>\n",
       "      <td>76561198310819422</td>\n",
       "      <td>http://steamcommunity.com/profiles/76561198310...</td>\n",
       "      <td>[{'funny': '1 person found this review funny',...</td>\n",
       "      <td>[1 person found this review funny]</td>\n",
       "      <td>[Posted June 23.]</td>\n",
       "      <td>[]</td>\n",
       "      <td>[570]</td>\n",
       "      <td>[1 of 1 people (100%) found this review helpful]</td>\n",
       "      <td>[True]</td>\n",
       "      <td>[Well Done]</td>\n",
       "    </tr>\n",
       "    <tr>\n",
       "      <th>25797</th>\n",
       "      <td>76561198312638244</td>\n",
       "      <td>http://steamcommunity.com/profiles/76561198312...</td>\n",
       "      <td>[{'funny': '', 'posted': 'Posted July 21.', 'l...</td>\n",
       "      <td>[, , , ]</td>\n",
       "      <td>[Posted July 21., Posted July 10., Posted July...</td>\n",
       "      <td>[, , , ]</td>\n",
       "      <td>[233270, 130, 70, 362890]</td>\n",
       "      <td>[No ratings yet, No ratings yet, No ratings ye...</td>\n",
       "      <td>[True, True, True, True]</td>\n",
       "      <td>[this is a very fun and nice 80s themed shoote...</td>\n",
       "    </tr>\n",
       "    <tr>\n",
       "      <th>25798</th>\n",
       "      <td>LydiaMorley</td>\n",
       "      <td>http://steamcommunity.com/id/LydiaMorley</td>\n",
       "      <td>[{'funny': '1 person found this review funny',...</td>\n",
       "      <td>[1 person found this review funny, , ]</td>\n",
       "      <td>[Posted July 3., Posted July 20., Posted July 2.]</td>\n",
       "      <td>[, , ]</td>\n",
       "      <td>[273110, 730, 440]</td>\n",
       "      <td>[1 of 2 people (50%) found this review helpful...</td>\n",
       "      <td>[True, True, True]</td>\n",
       "      <td>[had so much fun plaing this and collecting re...</td>\n",
       "    </tr>\n",
       "  </tbody>\n",
       "</table>\n",
       "<p>25485 rows × 10 columns</p>\n",
       "</div>"
      ],
      "text/plain": [
       "                 user_id                                           user_url  \\\n",
       "0      76561197970982479  http://steamcommunity.com/profiles/76561197970...   \n",
       "1                js41637               http://steamcommunity.com/id/js41637   \n",
       "2              evcentric             http://steamcommunity.com/id/evcentric   \n",
       "3                  doctr                 http://steamcommunity.com/id/doctr   \n",
       "4              maplemage             http://steamcommunity.com/id/maplemage   \n",
       "...                  ...                                                ...   \n",
       "25794  76561198306599751  http://steamcommunity.com/profiles/76561198306...   \n",
       "25795           Ghoustik              http://steamcommunity.com/id/Ghoustik   \n",
       "25796  76561198310819422  http://steamcommunity.com/profiles/76561198310...   \n",
       "25797  76561198312638244  http://steamcommunity.com/profiles/76561198312...   \n",
       "25798        LydiaMorley           http://steamcommunity.com/id/LydiaMorley   \n",
       "\n",
       "                                                 reviews  \\\n",
       "0      [{'funny': '', 'posted': 'Posted November 5, 2...   \n",
       "1      [{'funny': '', 'posted': 'Posted June 24, 2014...   \n",
       "2      [{'funny': '', 'posted': 'Posted February 3.',...   \n",
       "3      [{'funny': '', 'posted': 'Posted October 14, 2...   \n",
       "4      [{'funny': '3 people found this review funny',...   \n",
       "...                                                  ...   \n",
       "25794  [{'funny': '', 'posted': 'Posted May 31.', 'la...   \n",
       "25795  [{'funny': '', 'posted': 'Posted June 17.', 'l...   \n",
       "25796  [{'funny': '1 person found this review funny',...   \n",
       "25797  [{'funny': '', 'posted': 'Posted July 21.', 'l...   \n",
       "25798  [{'funny': '1 person found this review funny',...   \n",
       "\n",
       "                                                   funny  \\\n",
       "0                                                 [, , ]   \n",
       "1                                                 [, , ]   \n",
       "2                                           [, , , , , ]   \n",
       "3                                           [, , , , , ]   \n",
       "4      [3 people found this review funny, 1 person fo...   \n",
       "...                                                  ...   \n",
       "25794                                                 []   \n",
       "25795                                                 []   \n",
       "25796                 [1 person found this review funny]   \n",
       "25797                                           [, , , ]   \n",
       "25798             [1 person found this review funny, , ]   \n",
       "\n",
       "                                                  posted  \\\n",
       "0      [Posted November 5, 2011., Posted July 15, 201...   \n",
       "1      [Posted June 24, 2014., Posted September 8, 20...   \n",
       "2      [Posted February 3., Posted December 4, 2015.,...   \n",
       "3      [Posted October 14, 2013., Posted July 28, 201...   \n",
       "4      [Posted April 15, 2014., Posted December 23, 2...   \n",
       "...                                                  ...   \n",
       "25794                                   [Posted May 31.]   \n",
       "25795                                  [Posted June 17.]   \n",
       "25796                                  [Posted June 23.]   \n",
       "25797  [Posted July 21., Posted July 10., Posted July...   \n",
       "25798  [Posted July 3., Posted July 20., Posted July 2.]   \n",
       "\n",
       "                                     last_edited  \\\n",
       "0                                         [, , ]   \n",
       "1                                         [, , ]   \n",
       "2      [, Last edited December 5, 2015., , , , ]   \n",
       "3                                   [, , , , , ]   \n",
       "4                                       [, , , ]   \n",
       "...                                          ...   \n",
       "25794                                         []   \n",
       "25795                                         []   \n",
       "25796                                         []   \n",
       "25797                                   [, , , ]   \n",
       "25798                                     [, , ]   \n",
       "\n",
       "                                                item_id  \\\n",
       "0                                  [1250, 22200, 43110]   \n",
       "1                              [251610, 227300, 239030]   \n",
       "2      [248820, 370360, 237930, 263360, 107200, 224500]   \n",
       "3       [250320, 20920, 204100, 224600, 207610, 108710]   \n",
       "4                         [211420, 211820, 730, 204300]   \n",
       "...                                                 ...   \n",
       "25794                                          [261030]   \n",
       "25795                                             [730]   \n",
       "25796                                             [570]   \n",
       "25797                         [233270, 130, 70, 362890]   \n",
       "25798                                [273110, 730, 440]   \n",
       "\n",
       "                                                 helpful  \\\n",
       "0       [No ratings yet, No ratings yet, No ratings yet]   \n",
       "1      [15 of 20 people (75%) found this review helpf...   \n",
       "2      [No ratings yet, No ratings yet, No ratings ye...   \n",
       "3      [2 of 2 people (100%) found this review helpfu...   \n",
       "4      [35 of 43 people (81%) found this review helpf...   \n",
       "...                                                  ...   \n",
       "25794     [0 of 1 people (0%) found this review helpful]   \n",
       "25795     [0 of 1 people (0%) found this review helpful]   \n",
       "25796   [1 of 1 people (100%) found this review helpful]   \n",
       "25797  [No ratings yet, No ratings yet, No ratings ye...   \n",
       "25798  [1 of 2 people (50%) found this review helpful...   \n",
       "\n",
       "                                  recommend  \\\n",
       "0                        [True, True, True]   \n",
       "1                        [True, True, True]   \n",
       "2      [True, True, True, True, True, True]   \n",
       "3      [True, True, True, True, True, True]   \n",
       "4                  [True, True, True, True]   \n",
       "...                                     ...   \n",
       "25794                                [True]   \n",
       "25795                                [True]   \n",
       "25796                                [True]   \n",
       "25797              [True, True, True, True]   \n",
       "25798                    [True, True, True]   \n",
       "\n",
       "                                                  review  \n",
       "0      [Simple yet with great replayability. In my op...  \n",
       "1      [I know what you think when you see this title...  \n",
       "2      [A suitably punishing roguelike platformer.  W...  \n",
       "3      [This game... is so fun. The fight sequences h...  \n",
       "4      [Git gud, It's like Terraria, you play for 9 h...  \n",
       "...                                                  ...  \n",
       "25794  [I cried in the end its so sadding ]'; I wish ...  \n",
       "25795  [Gra naprawdƒô fajna.Ale jest kilka rzeczy do ...  \n",
       "25796                                        [Well Done]  \n",
       "25797  [this is a very fun and nice 80s themed shoote...  \n",
       "25798  [had so much fun plaing this and collecting re...  \n",
       "\n",
       "[25485 rows x 10 columns]"
      ]
     },
     "execution_count": 12,
     "metadata": {},
     "output_type": "execute_result"
    }
   ],
   "source": [
    "# Creating a copy of the dataframe\n",
    "df_user_reviews_2 = df_user_reviews_1.copy()\n",
    "\n",
    "# Ectracting nested values from reviews\n",
    "validation.extract_values(df_user_reviews_2, column_name, keys, new_columns)"
   ]
  },
  {
   "attachments": {},
   "cell_type": "markdown",
   "metadata": {},
   "source": [
    "#### Transforming to numeric type"
   ]
  },
  {
   "attachments": {},
   "cell_type": "markdown",
   "metadata": {},
   "source": [
    "This will facilitate the analysis in EDA and the creation of the API functions"
   ]
  },
  {
   "attachments": {},
   "cell_type": "markdown",
   "metadata": {},
   "source": [
    "##### Column \"item_id\""
   ]
  },
  {
   "cell_type": "code",
   "execution_count": 259,
   "metadata": {},
   "outputs": [
    {
     "data": {
      "text/plain": [
       "{'column_name': 'item_id', 'data_type_counts': {\"<class 'list'>\": 25485}}"
      ]
     },
     "execution_count": 259,
     "metadata": {},
     "output_type": "execute_result"
    }
   ],
   "source": [
    "# Verifying the type of each value of the \"\"item_id column\n",
    "item_id_type_summary = validation.column_data_types_summary(df_user_reviews_2, \"item_id\")\n",
    "item_id_type_summary"
   ]
  },
  {
   "cell_type": "code",
   "execution_count": 255,
   "metadata": {},
   "outputs": [
    {
     "name": "stdout",
     "output_type": "stream",
     "text": [
      "['1250', '22200', '43110']\n",
      "<class 'list'>\n",
      "1250\n",
      "<class 'str'>\n"
     ]
    }
   ],
   "source": [
    "# Verifying data type of values inside \"item_id\"\n",
    "print(df_user_reviews_2[\"item_id\"][0])\n",
    "print(type(df_user_reviews_2[\"item_id\"][0]))\n",
    "\n",
    "print(df_user_reviews_2[\"item_id\"][0][0])\n",
    "print(type(df_user_reviews_2[\"item_id\"][0][0]))"
   ]
  },
  {
   "cell_type": "code",
   "execution_count": 248,
   "metadata": {},
   "outputs": [
    {
     "data": {
      "text/plain": [
       "{'total_rows': 25485, 'column_name': 'item_id', 'report': {}}"
      ]
     },
     "execution_count": 248,
     "metadata": {},
     "output_type": "execute_result"
    }
   ],
   "source": [
    "# Creating a copy of the dataframe\n",
    "df_user_reviews_3 = df_user_reviews_2.copy()\n",
    "\n",
    "# Transforming to numeric type using \"convert_column_to_numeric\" function\n",
    "validation.convert_column_to_numeric(df_user_reviews_3, \"item_id\")"
   ]
  },
  {
   "cell_type": "code",
   "execution_count": 256,
   "metadata": {},
   "outputs": [
    {
     "name": "stdout",
     "output_type": "stream",
     "text": [
      "1250\n",
      "<class 'numpy.int64'>\n"
     ]
    }
   ],
   "source": [
    "# Verifying data type of values inside \"item_id\" lists\n",
    "print(df_user_reviews_3[\"item_id\"][0][0])\n",
    "print(type(df_user_reviews_3[\"item_id\"][0][0]))"
   ]
  },
  {
   "attachments": {},
   "cell_type": "markdown",
   "metadata": {},
   "source": [
    "#### Transforming to date type"
   ]
  },
  {
   "attachments": {},
   "cell_type": "markdown",
   "metadata": {},
   "source": [
    "This will facilitate the analysis in EDA and the creation of the API functions"
   ]
  },
  {
   "attachments": {},
   "cell_type": "markdown",
   "metadata": {},
   "source": [
    "##### Column \"posted\""
   ]
  },
  {
   "cell_type": "code",
   "execution_count": 260,
   "metadata": {},
   "outputs": [
    {
     "data": {
      "text/plain": [
       "{'column_name': 'posted', 'data_type_counts': {\"<class 'list'>\": 25485}}"
      ]
     },
     "execution_count": 260,
     "metadata": {},
     "output_type": "execute_result"
    }
   ],
   "source": [
    "# Verifying the type of each value of the \"\"item_id column\n",
    "posted_type_summary = validation.column_data_types_summary(df_user_reviews_3, \"posted\")\n",
    "posted_type_summary"
   ]
  },
  {
   "cell_type": "code",
   "execution_count": 265,
   "metadata": {},
   "outputs": [
    {
     "name": "stdout",
     "output_type": "stream",
     "text": [
      "['Posted November 5, 2011.', 'Posted July 15, 2011.', 'Posted April 21, 2011.']\n",
      "<class 'list'>\n",
      "Posted November 5, 2011.\n",
      "<class 'str'>\n"
     ]
    }
   ],
   "source": [
    "# Verifying data type of values inside \"posted\"\n",
    "print(df_user_reviews_3[\"posted\"][0])\n",
    "print(type(df_user_reviews_3[\"posted\"][0]))\n",
    "\n",
    "print(df_user_reviews_3[\"posted\"][0][0])\n",
    "print(type(df_user_reviews_3[\"posted\"][0][0]))"
   ]
  },
  {
   "cell_type": "code",
   "execution_count": 268,
   "metadata": {},
   "outputs": [
    {
     "data": {
      "text/plain": [
       "{'total_rows': 25485,\n",
       " 'column_name': 'posted',\n",
       " 'num_failed_conversions': 24,\n",
       " 'report': {348: {6: 'Posted February 29.'},\n",
       "  1548: {1: 'Posted February 29.'},\n",
       "  2715: {3: 'Posted February 29.'},\n",
       "  2928: {2: 'Posted February 29.'},\n",
       "  3891: {3: 'Posted February 29.'},\n",
       "  5129: {0: 'Posted February 29.'},\n",
       "  6132: {0: 'Posted February 29.'},\n",
       "  6200: {0: 'Posted February 29.'},\n",
       "  9280: {0: 'Posted February 29.'},\n",
       "  10652: {1: 'Posted February 29.'},\n",
       "  10692: {0: 'Posted February 29.'},\n",
       "  10833: {0: 'Posted February 29.'},\n",
       "  10851: {0: 'Posted February 29.'},\n",
       "  11617: {1: 'Posted February 29.'},\n",
       "  12169: {0: 'Posted February 29.'},\n",
       "  15186: {1: 'Posted February 29.'},\n",
       "  15835: {2: 'Posted February 29.'},\n",
       "  16397: {0: 'Posted February 29.'},\n",
       "  16429: {0: 'Posted February 29.'},\n",
       "  16730: {0: 'Posted February 29.'},\n",
       "  20752: {0: 'Posted February 29.', 1: 'Posted February 29.'},\n",
       "  22212: {0: 'Posted February 29.'},\n",
       "  24464: {4: 'Posted February 29.'},\n",
       "  24771: {0: 'Posted February 29.'}}}"
      ]
     },
     "execution_count": 268,
     "metadata": {},
     "output_type": "execute_result"
    }
   ],
   "source": [
    "# Creating a copy of the dataframe\n",
    "df_user_reviews_4 = df_user_reviews_3.copy()\n",
    "\n",
    "# Setting the original datetime patterns\n",
    "# The \"Posted %B %d.\" patter of the datetime values of the datframe will automatically take the year 1900,\n",
    "# this will help to avoid removing date from the dataframe and for further analysis.\n",
    "original_date_list = [\"Posted %B %d, %Y.\", \"Posted %B %d.\"]\n",
    "\n",
    "# Transforming to datetime type using \"convert_column_to_dates\" function\n",
    "validation.convert_column_to_dates(df_user_reviews_4, \"posted\", original_date_list)"
   ]
  },
  {
   "cell_type": "code",
   "execution_count": 270,
   "metadata": {},
   "outputs": [
    {
     "name": "stdout",
     "output_type": "stream",
     "text": [
      "2014-02-12\n",
      "<class 'str'>\n"
     ]
    }
   ],
   "source": [
    "# Verifying data type of values inside \"item_id\" lists\n",
    "print(df_user_reviews_4[\"posted\"][1600][0])\n",
    "print(type(df_user_reviews_4[\"posted\"][1600][0]))"
   ]
  },
  {
   "attachments": {},
   "cell_type": "markdown",
   "metadata": {},
   "source": [
    "### Creating file"
   ]
  },
  {
   "attachments": {},
   "cell_type": "markdown",
   "metadata": {},
   "source": [
    "A csv file is created to be used in EDA"
   ]
  },
  {
   "cell_type": "code",
   "execution_count": 13,
   "metadata": {},
   "outputs": [
    {
     "data": {
      "text/plain": [
       "Index(['user_id', 'user_url', 'reviews', 'funny', 'posted', 'last_edited',\n",
       "       'item_id', 'helpful', 'recommend', 'review'],\n",
       "      dtype='object')"
      ]
     },
     "execution_count": 13,
     "metadata": {},
     "output_type": "execute_result"
    }
   ],
   "source": [
    "df_user_reviews_2.columns"
   ]
  },
  {
   "cell_type": "code",
   "execution_count": 14,
   "metadata": {},
   "outputs": [],
   "source": [
    "# Necessary data\n",
    "# all columns except \"reviews\" for the nested data\n",
    "\n",
    "necessary_columns = [\"user_id\", \"user_url\", \"item_id\", \"posted\", \"last_edited\", \"helpful\", \"recommend\", \"funny\", \"review\"]\n",
    "\n",
    "# Create a new DataFrame with only the selected columns\n",
    "user_reviews_dataframe = df_user_reviews_2[necessary_columns]\n",
    "\n",
    "# Save the selected DataFrame to a CSV file\n",
    "user_reviews_dataframe.to_csv('../eda/datasets/user_reviews.csv', index=False)"
   ]
  },
  {
   "attachments": {},
   "cell_type": "markdown",
   "metadata": {},
   "source": [
    "## User Items"
   ]
  },
  {
   "attachments": {},
   "cell_type": "markdown",
   "metadata": {},
   "source": [
    "### Creating a DataFrame"
   ]
  },
  {
   "attachments": {},
   "cell_type": "markdown",
   "metadata": {},
   "source": [
    "Creating a DataFrame from the australian_users_items JSON file"
   ]
  },
  {
   "cell_type": "code",
   "execution_count": 15,
   "metadata": {},
   "outputs": [],
   "source": [
    "# Open JSON file and load data in variable\n",
    "items_data = []\n",
    "with open(r\"./raw_data/australian_users_items.json\", encoding=\"MacRoman\") as file:\n",
    "    for line in file.readlines():\n",
    "        items_data.append(ast.literal_eval(line))"
   ]
  },
  {
   "cell_type": "code",
   "execution_count": 16,
   "metadata": {},
   "outputs": [
    {
     "data": {
      "text/html": [
       "<div>\n",
       "<style scoped>\n",
       "    .dataframe tbody tr th:only-of-type {\n",
       "        vertical-align: middle;\n",
       "    }\n",
       "\n",
       "    .dataframe tbody tr th {\n",
       "        vertical-align: top;\n",
       "    }\n",
       "\n",
       "    .dataframe thead th {\n",
       "        text-align: right;\n",
       "    }\n",
       "</style>\n",
       "<table border=\"1\" class=\"dataframe\">\n",
       "  <thead>\n",
       "    <tr style=\"text-align: right;\">\n",
       "      <th></th>\n",
       "      <th>user_id</th>\n",
       "      <th>items_count</th>\n",
       "      <th>steam_id</th>\n",
       "      <th>user_url</th>\n",
       "      <th>items</th>\n",
       "    </tr>\n",
       "  </thead>\n",
       "  <tbody>\n",
       "    <tr>\n",
       "      <th>0</th>\n",
       "      <td>76561197970982479</td>\n",
       "      <td>277</td>\n",
       "      <td>76561197970982479</td>\n",
       "      <td>http://steamcommunity.com/profiles/76561197970...</td>\n",
       "      <td>[{'item_id': '10', 'item_name': 'Counter-Strik...</td>\n",
       "    </tr>\n",
       "    <tr>\n",
       "      <th>1</th>\n",
       "      <td>js41637</td>\n",
       "      <td>888</td>\n",
       "      <td>76561198035864385</td>\n",
       "      <td>http://steamcommunity.com/id/js41637</td>\n",
       "      <td>[{'item_id': '10', 'item_name': 'Counter-Strik...</td>\n",
       "    </tr>\n",
       "    <tr>\n",
       "      <th>2</th>\n",
       "      <td>evcentric</td>\n",
       "      <td>137</td>\n",
       "      <td>76561198007712555</td>\n",
       "      <td>http://steamcommunity.com/id/evcentric</td>\n",
       "      <td>[{'item_id': '1200', 'item_name': 'Red Orchest...</td>\n",
       "    </tr>\n",
       "    <tr>\n",
       "      <th>3</th>\n",
       "      <td>Riot-Punch</td>\n",
       "      <td>328</td>\n",
       "      <td>76561197963445855</td>\n",
       "      <td>http://steamcommunity.com/id/Riot-Punch</td>\n",
       "      <td>[{'item_id': '10', 'item_name': 'Counter-Strik...</td>\n",
       "    </tr>\n",
       "    <tr>\n",
       "      <th>4</th>\n",
       "      <td>doctr</td>\n",
       "      <td>541</td>\n",
       "      <td>76561198002099482</td>\n",
       "      <td>http://steamcommunity.com/id/doctr</td>\n",
       "      <td>[{'item_id': '300', 'item_name': 'Day of Defea...</td>\n",
       "    </tr>\n",
       "    <tr>\n",
       "      <th>...</th>\n",
       "      <td>...</td>\n",
       "      <td>...</td>\n",
       "      <td>...</td>\n",
       "      <td>...</td>\n",
       "      <td>...</td>\n",
       "    </tr>\n",
       "    <tr>\n",
       "      <th>88305</th>\n",
       "      <td>76561198323066619</td>\n",
       "      <td>22</td>\n",
       "      <td>76561198323066619</td>\n",
       "      <td>http://steamcommunity.com/profiles/76561198323...</td>\n",
       "      <td>[{'item_id': '413850', 'item_name': 'CS:GO Pla...</td>\n",
       "    </tr>\n",
       "    <tr>\n",
       "      <th>88306</th>\n",
       "      <td>76561198326700687</td>\n",
       "      <td>177</td>\n",
       "      <td>76561198326700687</td>\n",
       "      <td>http://steamcommunity.com/profiles/76561198326...</td>\n",
       "      <td>[{'item_id': '11020', 'item_name': 'TrackMania...</td>\n",
       "    </tr>\n",
       "    <tr>\n",
       "      <th>88307</th>\n",
       "      <td>XxLaughingJackClown77xX</td>\n",
       "      <td>0</td>\n",
       "      <td>76561198328759259</td>\n",
       "      <td>http://steamcommunity.com/id/XxLaughingJackClo...</td>\n",
       "      <td>[]</td>\n",
       "    </tr>\n",
       "    <tr>\n",
       "      <th>88308</th>\n",
       "      <td>76561198329548331</td>\n",
       "      <td>7</td>\n",
       "      <td>76561198329548331</td>\n",
       "      <td>http://steamcommunity.com/profiles/76561198329...</td>\n",
       "      <td>[{'item_id': '304930', 'item_name': 'Unturned'...</td>\n",
       "    </tr>\n",
       "    <tr>\n",
       "      <th>88309</th>\n",
       "      <td>edward_tremethick</td>\n",
       "      <td>0</td>\n",
       "      <td>76561198331598578</td>\n",
       "      <td>http://steamcommunity.com/id/edward_tremethick</td>\n",
       "      <td>[]</td>\n",
       "    </tr>\n",
       "  </tbody>\n",
       "</table>\n",
       "<p>88310 rows × 5 columns</p>\n",
       "</div>"
      ],
      "text/plain": [
       "                       user_id  items_count           steam_id  \\\n",
       "0            76561197970982479          277  76561197970982479   \n",
       "1                      js41637          888  76561198035864385   \n",
       "2                    evcentric          137  76561198007712555   \n",
       "3                   Riot-Punch          328  76561197963445855   \n",
       "4                        doctr          541  76561198002099482   \n",
       "...                        ...          ...                ...   \n",
       "88305        76561198323066619           22  76561198323066619   \n",
       "88306        76561198326700687          177  76561198326700687   \n",
       "88307  XxLaughingJackClown77xX            0  76561198328759259   \n",
       "88308        76561198329548331            7  76561198329548331   \n",
       "88309        edward_tremethick            0  76561198331598578   \n",
       "\n",
       "                                                user_url  \\\n",
       "0      http://steamcommunity.com/profiles/76561197970...   \n",
       "1                   http://steamcommunity.com/id/js41637   \n",
       "2                 http://steamcommunity.com/id/evcentric   \n",
       "3                http://steamcommunity.com/id/Riot-Punch   \n",
       "4                     http://steamcommunity.com/id/doctr   \n",
       "...                                                  ...   \n",
       "88305  http://steamcommunity.com/profiles/76561198323...   \n",
       "88306  http://steamcommunity.com/profiles/76561198326...   \n",
       "88307  http://steamcommunity.com/id/XxLaughingJackClo...   \n",
       "88308  http://steamcommunity.com/profiles/76561198329...   \n",
       "88309     http://steamcommunity.com/id/edward_tremethick   \n",
       "\n",
       "                                                   items  \n",
       "0      [{'item_id': '10', 'item_name': 'Counter-Strik...  \n",
       "1      [{'item_id': '10', 'item_name': 'Counter-Strik...  \n",
       "2      [{'item_id': '1200', 'item_name': 'Red Orchest...  \n",
       "3      [{'item_id': '10', 'item_name': 'Counter-Strik...  \n",
       "4      [{'item_id': '300', 'item_name': 'Day of Defea...  \n",
       "...                                                  ...  \n",
       "88305  [{'item_id': '413850', 'item_name': 'CS:GO Pla...  \n",
       "88306  [{'item_id': '11020', 'item_name': 'TrackMania...  \n",
       "88307                                                 []  \n",
       "88308  [{'item_id': '304930', 'item_name': 'Unturned'...  \n",
       "88309                                                 []  \n",
       "\n",
       "[88310 rows x 5 columns]"
      ]
     },
     "execution_count": 16,
     "metadata": {},
     "output_type": "execute_result"
    }
   ],
   "source": [
    "# Create a DataFrame from variable\n",
    "df_user_items = pd.DataFrame(items_data)\n",
    "df_user_items"
   ]
  },
  {
   "attachments": {},
   "cell_type": "markdown",
   "metadata": {},
   "source": [
    "### Preparing the users items data"
   ]
  },
  {
   "attachments": {},
   "cell_type": "markdown",
   "metadata": {},
   "source": [
    "#### Checking Null values"
   ]
  },
  {
   "cell_type": "code",
   "execution_count": 17,
   "metadata": {},
   "outputs": [
    {
     "name": "stdout",
     "output_type": "stream",
     "text": [
      "<class 'pandas.core.frame.DataFrame'>\n",
      "RangeIndex: 88310 entries, 0 to 88309\n",
      "Data columns (total 5 columns):\n",
      " #   Column       Non-Null Count  Dtype \n",
      "---  ------       --------------  ----- \n",
      " 0   user_id      88310 non-null  object\n",
      " 1   items_count  88310 non-null  int64 \n",
      " 2   steam_id     88310 non-null  object\n",
      " 3   user_url     88310 non-null  object\n",
      " 4   items        88310 non-null  object\n",
      "dtypes: int64(1), object(4)\n",
      "memory usage: 3.4+ MB\n"
     ]
    }
   ],
   "source": [
    "df_user_items.info()"
   ]
  },
  {
   "attachments": {},
   "cell_type": "markdown",
   "metadata": {},
   "source": [
    "No Null values found"
   ]
  },
  {
   "attachments": {},
   "cell_type": "markdown",
   "metadata": {},
   "source": [
    "#### Checking Duplicate values"
   ]
  },
  {
   "cell_type": "code",
   "execution_count": 18,
   "metadata": {},
   "outputs": [
    {
     "name": "stdout",
     "output_type": "stream",
     "text": [
      "      Duplicated Value  Occurrences\n",
      "0    76561198094973305            3\n",
      "6    76561198085989695            3\n",
      "1    76561198072861800            3\n",
      "9    76561198051777058            3\n",
      "8    76561198081666970            3\n",
      "..                 ...          ...\n",
      "231  76561198026742195            2\n",
      "232  76561198035336388            2\n",
      "233  76561198071790027            2\n",
      "234  76561198073621277            2\n",
      "673  76561198086134170            2\n",
      "\n",
      "[674 rows x 2 columns]\n"
     ]
    }
   ],
   "source": [
    "# Call the function to check for duplicates in the \"user_url\" column\n",
    "duplicates_steam_id = validation.check_duplicates_summary(df_user_items, \"steam_id\")\n",
    "\n",
    "# Print the summary\n",
    "print(duplicates_steam_id)"
   ]
  },
  {
   "attachments": {},
   "cell_type": "markdown",
   "metadata": {},
   "source": [
    "Duplicate steam_id values are removed, as they will affect future measurements"
   ]
  },
  {
   "attachments": {},
   "cell_type": "markdown",
   "metadata": {},
   "source": [
    "#### Removing Duplicate values"
   ]
  },
  {
   "cell_type": "code",
   "execution_count": 19,
   "metadata": {},
   "outputs": [
    {
     "name": "stdout",
     "output_type": "stream",
     "text": [
      "Removed 685 duplicate rows based on 'steam_id' column.\n"
     ]
    }
   ],
   "source": [
    "df_user_items_1 = validation.remove_duplicates(df_user_items, \"steam_id\")"
   ]
  },
  {
   "cell_type": "code",
   "execution_count": 20,
   "metadata": {},
   "outputs": [
    {
     "name": "stdout",
     "output_type": "stream",
     "text": [
      "Empty DataFrame\n",
      "Columns: [Duplicated Value, Occurrences]\n",
      "Index: []\n"
     ]
    }
   ],
   "source": [
    "# Verifiying no duplicate values left\n",
    "\n",
    "# Call the function to check for duplicates in the \"steam_id\" column\n",
    "duplicates_steam_id = validation.check_duplicates_summary(df_user_items_1, \"steam_id\")\n",
    "\n",
    "# Print the summary\n",
    "print(duplicates_steam_id)"
   ]
  },
  {
   "attachments": {},
   "cell_type": "markdown",
   "metadata": {},
   "source": [
    "#### Checking None values"
   ]
  },
  {
   "cell_type": "code",
   "execution_count": 21,
   "metadata": {},
   "outputs": [
    {
     "name": "stdout",
     "output_type": "stream",
     "text": [
      "{'column_name': 'steam_id', 'total_rows': 87625, 'num_none_values': 0, 'rows_below_threshold': None}\n"
     ]
    }
   ],
   "source": [
    "# Call the function to check for none values in the \"steam_id\" column\n",
    "none_steam_id = validation.check_none_values(df_user_items_1, \"steam_id\")\n",
    "\n",
    "# Print the summary\n",
    "print(none_steam_id)"
   ]
  },
  {
   "attachments": {},
   "cell_type": "markdown",
   "metadata": {},
   "source": [
    "No None values found"
   ]
  },
  {
   "attachments": {},
   "cell_type": "markdown",
   "metadata": {},
   "source": [
    "#### Checking data type of \"items count\""
   ]
  },
  {
   "cell_type": "code",
   "execution_count": 45,
   "metadata": {},
   "outputs": [
    {
     "data": {
      "text/plain": [
       "{'column_name': 'items_count', 'data_type_counts': {\"<class 'int'>\": 87625}}"
      ]
     },
     "execution_count": 45,
     "metadata": {},
     "output_type": "execute_result"
    }
   ],
   "source": [
    "# Call the function to check data type of values in the \"items_count\" column\n",
    "user_items_count_summary = validation.column_data_types_summary(df_user_items_1, \"items_count\")\n",
    "user_items_count_summary"
   ]
  },
  {
   "attachments": {},
   "cell_type": "markdown",
   "metadata": {},
   "source": [
    "#### Unesting \"items\" data"
   ]
  },
  {
   "cell_type": "code",
   "execution_count": 41,
   "metadata": {},
   "outputs": [
    {
     "name": "stdout",
     "output_type": "stream",
     "text": [
      "<class 'pandas.core.frame.DataFrame'>\n",
      "Index: 87625 entries, 0 to 88309\n",
      "Data columns (total 5 columns):\n",
      " #   Column       Non-Null Count  Dtype \n",
      "---  ------       --------------  ----- \n",
      " 0   user_id      87625 non-null  object\n",
      " 1   items_count  87625 non-null  int64 \n",
      " 2   steam_id     87625 non-null  object\n",
      " 3   user_url     87625 non-null  object\n",
      " 4   items        87625 non-null  object\n",
      "dtypes: int64(1), object(4)\n",
      "memory usage: 4.0+ MB\n"
     ]
    }
   ],
   "source": [
    "df_user_items_1.info()"
   ]
  },
  {
   "cell_type": "code",
   "execution_count": 46,
   "metadata": {},
   "outputs": [
    {
     "data": {
      "text/plain": [
       "{'column_name': 'items', 'data_type_counts': {\"<class 'list'>\": 87625}}"
      ]
     },
     "execution_count": 46,
     "metadata": {},
     "output_type": "execute_result"
    }
   ],
   "source": [
    "# Verifying the data types of \"items\" column\n",
    "items_data_type = validation.column_data_types_summary(df_user_items_1, \"items\")\n",
    "items_data_type"
   ]
  },
  {
   "cell_type": "code",
   "execution_count": 60,
   "metadata": {},
   "outputs": [],
   "source": [
    "# Asigning values to variables\n",
    "items_column_name = \"items\"\n",
    "items_keys = [\"item_id\", \"item_name\", \"playtime_forever\", \"playtime_2weeks\"]\n",
    "items_new_columns = [\"item_id\", \"item_name\", \"playtime_forever\", \"playtime_2weeks\"]"
   ]
  },
  {
   "cell_type": "code",
   "execution_count": 61,
   "metadata": {},
   "outputs": [
    {
     "data": {
      "text/html": [
       "<div>\n",
       "<style scoped>\n",
       "    .dataframe tbody tr th:only-of-type {\n",
       "        vertical-align: middle;\n",
       "    }\n",
       "\n",
       "    .dataframe tbody tr th {\n",
       "        vertical-align: top;\n",
       "    }\n",
       "\n",
       "    .dataframe thead th {\n",
       "        text-align: right;\n",
       "    }\n",
       "</style>\n",
       "<table border=\"1\" class=\"dataframe\">\n",
       "  <thead>\n",
       "    <tr style=\"text-align: right;\">\n",
       "      <th></th>\n",
       "      <th>user_id</th>\n",
       "      <th>items_count</th>\n",
       "      <th>steam_id</th>\n",
       "      <th>user_url</th>\n",
       "      <th>items</th>\n",
       "      <th>item_id</th>\n",
       "      <th>item_name</th>\n",
       "      <th>playtime_forever</th>\n",
       "      <th>playtime_2weeks</th>\n",
       "    </tr>\n",
       "  </thead>\n",
       "  <tbody>\n",
       "    <tr>\n",
       "      <th>0</th>\n",
       "      <td>76561197970982479</td>\n",
       "      <td>277</td>\n",
       "      <td>76561197970982479</td>\n",
       "      <td>http://steamcommunity.com/profiles/76561197970...</td>\n",
       "      <td>[{'item_id': '10', 'item_name': 'Counter-Strik...</td>\n",
       "      <td>[10, 20, 30, 40, 50, 60, 70, 130, 300, 240, 38...</td>\n",
       "      <td>[Counter-Strike, Team Fortress Classic, Day of...</td>\n",
       "      <td>[6, 0, 7, 0, 0, 0, 0, 0, 4733, 1853, 333, 75, ...</td>\n",
       "      <td>[0, 0, 0, 0, 0, 0, 0, 0, 0, 0, 0, 0, 0, 0, 0, ...</td>\n",
       "    </tr>\n",
       "    <tr>\n",
       "      <th>1</th>\n",
       "      <td>js41637</td>\n",
       "      <td>888</td>\n",
       "      <td>76561198035864385</td>\n",
       "      <td>http://steamcommunity.com/id/js41637</td>\n",
       "      <td>[{'item_id': '10', 'item_name': 'Counter-Strik...</td>\n",
       "      <td>[10, 80, 100, 300, 30, 40, 60, 240, 280, 360, ...</td>\n",
       "      <td>[Counter-Strike, Counter-Strike: Condition Zer...</td>\n",
       "      <td>[0, 0, 0, 220, 0, 0, 0, 62, 0, 0, 0, 0, 0, 0, ...</td>\n",
       "      <td>[0, 0, 0, 0, 0, 0, 0, 0, 0, 0, 0, 0, 0, 0, 0, ...</td>\n",
       "    </tr>\n",
       "    <tr>\n",
       "      <th>2</th>\n",
       "      <td>evcentric</td>\n",
       "      <td>137</td>\n",
       "      <td>76561198007712555</td>\n",
       "      <td>http://steamcommunity.com/id/evcentric</td>\n",
       "      <td>[{'item_id': '1200', 'item_name': 'Red Orchest...</td>\n",
       "      <td>[1200, 1230, 1280, 1520, 220, 320, 340, 360, 3...</td>\n",
       "      <td>[Red Orchestra: Ostfront 41-45, Mare Nostrum, ...</td>\n",
       "      <td>[923, 0, 0, 158, 1323, 0, 90, 0, 234, 113, 507...</td>\n",
       "      <td>[0, 0, 0, 0, 0, 0, 0, 0, 0, 0, 0, 0, 0, 0, 0, ...</td>\n",
       "    </tr>\n",
       "    <tr>\n",
       "      <th>3</th>\n",
       "      <td>Riot-Punch</td>\n",
       "      <td>328</td>\n",
       "      <td>76561197963445855</td>\n",
       "      <td>http://steamcommunity.com/id/Riot-Punch</td>\n",
       "      <td>[{'item_id': '10', 'item_name': 'Counter-Strik...</td>\n",
       "      <td>[10, 20, 30, 40, 50, 60, 70, 130, 80, 100, 300...</td>\n",
       "      <td>[Counter-Strike, Team Fortress Classic, Day of...</td>\n",
       "      <td>[0, 0, 0, 0, 0, 0, 0, 0, 0, 0, 67, 2304, 0, 0,...</td>\n",
       "      <td>[0, 0, 0, 0, 0, 0, 0, 0, 0, 0, 0, 0, 0, 0, 0, ...</td>\n",
       "    </tr>\n",
       "    <tr>\n",
       "      <th>4</th>\n",
       "      <td>doctr</td>\n",
       "      <td>541</td>\n",
       "      <td>76561198002099482</td>\n",
       "      <td>http://steamcommunity.com/id/doctr</td>\n",
       "      <td>[{'item_id': '300', 'item_name': 'Day of Defea...</td>\n",
       "      <td>[300, 20, 50, 70, 130, 10, 30, 40, 60, 80, 100...</td>\n",
       "      <td>[Day of Defeat: Source, Team Fortress Classic,...</td>\n",
       "      <td>[1131, 89, 178, 108, 313, 93, 16, 4, 0, 13, 47...</td>\n",
       "      <td>[0, 0, 0, 0, 0, 0, 0, 0, 0, 0, 0, 0, 0, 0, 0, ...</td>\n",
       "    </tr>\n",
       "    <tr>\n",
       "      <th>...</th>\n",
       "      <td>...</td>\n",
       "      <td>...</td>\n",
       "      <td>...</td>\n",
       "      <td>...</td>\n",
       "      <td>...</td>\n",
       "      <td>...</td>\n",
       "      <td>...</td>\n",
       "      <td>...</td>\n",
       "      <td>...</td>\n",
       "    </tr>\n",
       "    <tr>\n",
       "      <th>88305</th>\n",
       "      <td>76561198323066619</td>\n",
       "      <td>22</td>\n",
       "      <td>76561198323066619</td>\n",
       "      <td>http://steamcommunity.com/profiles/76561198323...</td>\n",
       "      <td>[{'item_id': '413850', 'item_name': 'CS:GO Pla...</td>\n",
       "      <td>[413850, 413851, 413852, 413853, 413854, 41385...</td>\n",
       "      <td>[CS:GO Player Profiles, CS:GO Player Profiles:...</td>\n",
       "      <td>[0, 0, 0, 0, 0, 0, 0, 0, 0, 0, 0, 0, 0, 0, 0, ...</td>\n",
       "      <td>[0, 0, 0, 0, 0, 0, 0, 0, 0, 0, 0, 0, 0, 0, 0, ...</td>\n",
       "    </tr>\n",
       "    <tr>\n",
       "      <th>88306</th>\n",
       "      <td>76561198326700687</td>\n",
       "      <td>177</td>\n",
       "      <td>76561198326700687</td>\n",
       "      <td>http://steamcommunity.com/profiles/76561198326...</td>\n",
       "      <td>[{'item_id': '11020', 'item_name': 'TrackMania...</td>\n",
       "      <td>[11020, 6370, 13140, 51100, 107900, 113400, 20...</td>\n",
       "      <td>[TrackMania Nations Forever, Bloodline Champio...</td>\n",
       "      <td>[0, 0, 0, 0, 0, 0, 0, 0, 0, 0, 0, 0, 0, 0, 0, ...</td>\n",
       "      <td>[0, 0, 0, 0, 0, 0, 0, 0, 0, 0, 0, 0, 0, 0, 0, ...</td>\n",
       "    </tr>\n",
       "    <tr>\n",
       "      <th>88307</th>\n",
       "      <td>XxLaughingJackClown77xX</td>\n",
       "      <td>0</td>\n",
       "      <td>76561198328759259</td>\n",
       "      <td>http://steamcommunity.com/id/XxLaughingJackClo...</td>\n",
       "      <td>[]</td>\n",
       "      <td>[]</td>\n",
       "      <td>[]</td>\n",
       "      <td>[]</td>\n",
       "      <td>[]</td>\n",
       "    </tr>\n",
       "    <tr>\n",
       "      <th>88308</th>\n",
       "      <td>76561198329548331</td>\n",
       "      <td>7</td>\n",
       "      <td>76561198329548331</td>\n",
       "      <td>http://steamcommunity.com/profiles/76561198329...</td>\n",
       "      <td>[{'item_id': '304930', 'item_name': 'Unturned'...</td>\n",
       "      <td>[304930, 227940, 346330, 373330, 388490, 52157...</td>\n",
       "      <td>[Unturned, Heroes &amp; Generals, BrainBread 2, Al...</td>\n",
       "      <td>[677, 43, 0, 0, 3, 4, 3]</td>\n",
       "      <td>[677, 43, 0, 0, 3, 4, 3]</td>\n",
       "    </tr>\n",
       "    <tr>\n",
       "      <th>88309</th>\n",
       "      <td>edward_tremethick</td>\n",
       "      <td>0</td>\n",
       "      <td>76561198331598578</td>\n",
       "      <td>http://steamcommunity.com/id/edward_tremethick</td>\n",
       "      <td>[]</td>\n",
       "      <td>[]</td>\n",
       "      <td>[]</td>\n",
       "      <td>[]</td>\n",
       "      <td>[]</td>\n",
       "    </tr>\n",
       "  </tbody>\n",
       "</table>\n",
       "<p>87625 rows × 9 columns</p>\n",
       "</div>"
      ],
      "text/plain": [
       "                       user_id  items_count           steam_id  \\\n",
       "0            76561197970982479          277  76561197970982479   \n",
       "1                      js41637          888  76561198035864385   \n",
       "2                    evcentric          137  76561198007712555   \n",
       "3                   Riot-Punch          328  76561197963445855   \n",
       "4                        doctr          541  76561198002099482   \n",
       "...                        ...          ...                ...   \n",
       "88305        76561198323066619           22  76561198323066619   \n",
       "88306        76561198326700687          177  76561198326700687   \n",
       "88307  XxLaughingJackClown77xX            0  76561198328759259   \n",
       "88308        76561198329548331            7  76561198329548331   \n",
       "88309        edward_tremethick            0  76561198331598578   \n",
       "\n",
       "                                                user_url  \\\n",
       "0      http://steamcommunity.com/profiles/76561197970...   \n",
       "1                   http://steamcommunity.com/id/js41637   \n",
       "2                 http://steamcommunity.com/id/evcentric   \n",
       "3                http://steamcommunity.com/id/Riot-Punch   \n",
       "4                     http://steamcommunity.com/id/doctr   \n",
       "...                                                  ...   \n",
       "88305  http://steamcommunity.com/profiles/76561198323...   \n",
       "88306  http://steamcommunity.com/profiles/76561198326...   \n",
       "88307  http://steamcommunity.com/id/XxLaughingJackClo...   \n",
       "88308  http://steamcommunity.com/profiles/76561198329...   \n",
       "88309     http://steamcommunity.com/id/edward_tremethick   \n",
       "\n",
       "                                                   items  \\\n",
       "0      [{'item_id': '10', 'item_name': 'Counter-Strik...   \n",
       "1      [{'item_id': '10', 'item_name': 'Counter-Strik...   \n",
       "2      [{'item_id': '1200', 'item_name': 'Red Orchest...   \n",
       "3      [{'item_id': '10', 'item_name': 'Counter-Strik...   \n",
       "4      [{'item_id': '300', 'item_name': 'Day of Defea...   \n",
       "...                                                  ...   \n",
       "88305  [{'item_id': '413850', 'item_name': 'CS:GO Pla...   \n",
       "88306  [{'item_id': '11020', 'item_name': 'TrackMania...   \n",
       "88307                                                 []   \n",
       "88308  [{'item_id': '304930', 'item_name': 'Unturned'...   \n",
       "88309                                                 []   \n",
       "\n",
       "                                                 item_id  \\\n",
       "0      [10, 20, 30, 40, 50, 60, 70, 130, 300, 240, 38...   \n",
       "1      [10, 80, 100, 300, 30, 40, 60, 240, 280, 360, ...   \n",
       "2      [1200, 1230, 1280, 1520, 220, 320, 340, 360, 3...   \n",
       "3      [10, 20, 30, 40, 50, 60, 70, 130, 80, 100, 300...   \n",
       "4      [300, 20, 50, 70, 130, 10, 30, 40, 60, 80, 100...   \n",
       "...                                                  ...   \n",
       "88305  [413850, 413851, 413852, 413853, 413854, 41385...   \n",
       "88306  [11020, 6370, 13140, 51100, 107900, 113400, 20...   \n",
       "88307                                                 []   \n",
       "88308  [304930, 227940, 346330, 373330, 388490, 52157...   \n",
       "88309                                                 []   \n",
       "\n",
       "                                               item_name  \\\n",
       "0      [Counter-Strike, Team Fortress Classic, Day of...   \n",
       "1      [Counter-Strike, Counter-Strike: Condition Zer...   \n",
       "2      [Red Orchestra: Ostfront 41-45, Mare Nostrum, ...   \n",
       "3      [Counter-Strike, Team Fortress Classic, Day of...   \n",
       "4      [Day of Defeat: Source, Team Fortress Classic,...   \n",
       "...                                                  ...   \n",
       "88305  [CS:GO Player Profiles, CS:GO Player Profiles:...   \n",
       "88306  [TrackMania Nations Forever, Bloodline Champio...   \n",
       "88307                                                 []   \n",
       "88308  [Unturned, Heroes & Generals, BrainBread 2, Al...   \n",
       "88309                                                 []   \n",
       "\n",
       "                                        playtime_forever  \\\n",
       "0      [6, 0, 7, 0, 0, 0, 0, 0, 4733, 1853, 333, 75, ...   \n",
       "1      [0, 0, 0, 220, 0, 0, 0, 62, 0, 0, 0, 0, 0, 0, ...   \n",
       "2      [923, 0, 0, 158, 1323, 0, 90, 0, 234, 113, 507...   \n",
       "3      [0, 0, 0, 0, 0, 0, 0, 0, 0, 0, 67, 2304, 0, 0,...   \n",
       "4      [1131, 89, 178, 108, 313, 93, 16, 4, 0, 13, 47...   \n",
       "...                                                  ...   \n",
       "88305  [0, 0, 0, 0, 0, 0, 0, 0, 0, 0, 0, 0, 0, 0, 0, ...   \n",
       "88306  [0, 0, 0, 0, 0, 0, 0, 0, 0, 0, 0, 0, 0, 0, 0, ...   \n",
       "88307                                                 []   \n",
       "88308                           [677, 43, 0, 0, 3, 4, 3]   \n",
       "88309                                                 []   \n",
       "\n",
       "                                         playtime_2weeks  \n",
       "0      [0, 0, 0, 0, 0, 0, 0, 0, 0, 0, 0, 0, 0, 0, 0, ...  \n",
       "1      [0, 0, 0, 0, 0, 0, 0, 0, 0, 0, 0, 0, 0, 0, 0, ...  \n",
       "2      [0, 0, 0, 0, 0, 0, 0, 0, 0, 0, 0, 0, 0, 0, 0, ...  \n",
       "3      [0, 0, 0, 0, 0, 0, 0, 0, 0, 0, 0, 0, 0, 0, 0, ...  \n",
       "4      [0, 0, 0, 0, 0, 0, 0, 0, 0, 0, 0, 0, 0, 0, 0, ...  \n",
       "...                                                  ...  \n",
       "88305  [0, 0, 0, 0, 0, 0, 0, 0, 0, 0, 0, 0, 0, 0, 0, ...  \n",
       "88306  [0, 0, 0, 0, 0, 0, 0, 0, 0, 0, 0, 0, 0, 0, 0, ...  \n",
       "88307                                                 []  \n",
       "88308                           [677, 43, 0, 0, 3, 4, 3]  \n",
       "88309                                                 []  \n",
       "\n",
       "[87625 rows x 9 columns]"
      ]
     },
     "execution_count": 61,
     "metadata": {},
     "output_type": "execute_result"
    }
   ],
   "source": [
    "# Creating a copy of the dataframe\n",
    "df_user_items_2 = df_user_items_1.copy()\n",
    "\n",
    "# Ectracting nested values from items\n",
    "validation.extract_values(df_user_items_2, items_column_name, items_keys, items_new_columns)"
   ]
  },
  {
   "cell_type": "code",
   "execution_count": null,
   "metadata": {},
   "outputs": [],
   "source": [
    "df_user_items_2[\"item_id\"][0]"
   ]
  },
  {
   "attachments": {},
   "cell_type": "markdown",
   "metadata": {},
   "source": [
    "### Creating file"
   ]
  },
  {
   "attachments": {},
   "cell_type": "markdown",
   "metadata": {},
   "source": [
    "Creating a csv file to be used in EDA"
   ]
  },
  {
   "cell_type": "code",
   "execution_count": 75,
   "metadata": {},
   "outputs": [
    {
     "data": {
      "text/plain": [
       "Index(['user_id', 'items_count', 'steam_id', 'user_url', 'items', 'item_id',\n",
       "       'item_name', 'playtime_forever', 'playtime_2weeks'],\n",
       "      dtype='object')"
      ]
     },
     "execution_count": 75,
     "metadata": {},
     "output_type": "execute_result"
    }
   ],
   "source": [
    "df_user_items_2.columns"
   ]
  },
  {
   "cell_type": "code",
   "execution_count": 76,
   "metadata": {},
   "outputs": [],
   "source": [
    "# Necessary data\n",
    "# all columns except \"items\" for the nested data\n",
    "\n",
    "items_necessary_columns = [\"user_id\", \"steam_id\", \"user_url\", \"items_count\", \"item_id\", \"item_name\", \"playtime_forever\", \"playtime_2weeks\"]\n",
    "\n",
    "# Create a new DataFrame with only the selected columns\n",
    "user_items_dataframe = df_user_items_2[items_necessary_columns]\n",
    "\n",
    "# Save the selected DataFrame to a CSV file\n",
    "user_items_dataframe.to_csv('../eda/datasets/user_items.csv', index=False)"
   ]
  },
  {
   "attachments": {},
   "cell_type": "markdown",
   "metadata": {},
   "source": [
    "## Steam Games"
   ]
  },
  {
   "attachments": {},
   "cell_type": "markdown",
   "metadata": {},
   "source": [
    "### Creating a DataFrame"
   ]
  },
  {
   "attachments": {},
   "cell_type": "markdown",
   "metadata": {},
   "source": [
    "Creating a DataFrame from the output_steam_games JSON file"
   ]
  },
  {
   "cell_type": "code",
   "execution_count": 22,
   "metadata": {},
   "outputs": [],
   "source": [
    "# Open JSON file and load data in variable\n",
    "games_data = []\n",
    "with open(\"./raw_data/output_steam_games.json\", encoding=\"MacRoman\") as file:\n",
    "    for line in file:\n",
    "        games_data.append(json.loads(line))"
   ]
  },
  {
   "cell_type": "code",
   "execution_count": 23,
   "metadata": {},
   "outputs": [
    {
     "data": {
      "text/html": [
       "<div>\n",
       "<style scoped>\n",
       "    .dataframe tbody tr th:only-of-type {\n",
       "        vertical-align: middle;\n",
       "    }\n",
       "\n",
       "    .dataframe tbody tr th {\n",
       "        vertical-align: top;\n",
       "    }\n",
       "\n",
       "    .dataframe thead th {\n",
       "        text-align: right;\n",
       "    }\n",
       "</style>\n",
       "<table border=\"1\" class=\"dataframe\">\n",
       "  <thead>\n",
       "    <tr style=\"text-align: right;\">\n",
       "      <th></th>\n",
       "      <th>publisher</th>\n",
       "      <th>genres</th>\n",
       "      <th>app_name</th>\n",
       "      <th>title</th>\n",
       "      <th>url</th>\n",
       "      <th>release_date</th>\n",
       "      <th>tags</th>\n",
       "      <th>reviews_url</th>\n",
       "      <th>specs</th>\n",
       "      <th>price</th>\n",
       "      <th>early_access</th>\n",
       "      <th>id</th>\n",
       "      <th>developer</th>\n",
       "    </tr>\n",
       "  </thead>\n",
       "  <tbody>\n",
       "    <tr>\n",
       "      <th>0</th>\n",
       "      <td>NaN</td>\n",
       "      <td>NaN</td>\n",
       "      <td>NaN</td>\n",
       "      <td>NaN</td>\n",
       "      <td>NaN</td>\n",
       "      <td>NaN</td>\n",
       "      <td>NaN</td>\n",
       "      <td>NaN</td>\n",
       "      <td>NaN</td>\n",
       "      <td>NaN</td>\n",
       "      <td>NaN</td>\n",
       "      <td>NaN</td>\n",
       "      <td>NaN</td>\n",
       "    </tr>\n",
       "    <tr>\n",
       "      <th>1</th>\n",
       "      <td>NaN</td>\n",
       "      <td>NaN</td>\n",
       "      <td>NaN</td>\n",
       "      <td>NaN</td>\n",
       "      <td>NaN</td>\n",
       "      <td>NaN</td>\n",
       "      <td>NaN</td>\n",
       "      <td>NaN</td>\n",
       "      <td>NaN</td>\n",
       "      <td>NaN</td>\n",
       "      <td>NaN</td>\n",
       "      <td>NaN</td>\n",
       "      <td>NaN</td>\n",
       "    </tr>\n",
       "    <tr>\n",
       "      <th>2</th>\n",
       "      <td>NaN</td>\n",
       "      <td>NaN</td>\n",
       "      <td>NaN</td>\n",
       "      <td>NaN</td>\n",
       "      <td>NaN</td>\n",
       "      <td>NaN</td>\n",
       "      <td>NaN</td>\n",
       "      <td>NaN</td>\n",
       "      <td>NaN</td>\n",
       "      <td>NaN</td>\n",
       "      <td>NaN</td>\n",
       "      <td>NaN</td>\n",
       "      <td>NaN</td>\n",
       "    </tr>\n",
       "    <tr>\n",
       "      <th>3</th>\n",
       "      <td>NaN</td>\n",
       "      <td>NaN</td>\n",
       "      <td>NaN</td>\n",
       "      <td>NaN</td>\n",
       "      <td>NaN</td>\n",
       "      <td>NaN</td>\n",
       "      <td>NaN</td>\n",
       "      <td>NaN</td>\n",
       "      <td>NaN</td>\n",
       "      <td>NaN</td>\n",
       "      <td>NaN</td>\n",
       "      <td>NaN</td>\n",
       "      <td>NaN</td>\n",
       "    </tr>\n",
       "    <tr>\n",
       "      <th>4</th>\n",
       "      <td>NaN</td>\n",
       "      <td>NaN</td>\n",
       "      <td>NaN</td>\n",
       "      <td>NaN</td>\n",
       "      <td>NaN</td>\n",
       "      <td>NaN</td>\n",
       "      <td>NaN</td>\n",
       "      <td>NaN</td>\n",
       "      <td>NaN</td>\n",
       "      <td>NaN</td>\n",
       "      <td>NaN</td>\n",
       "      <td>NaN</td>\n",
       "      <td>NaN</td>\n",
       "    </tr>\n",
       "    <tr>\n",
       "      <th>...</th>\n",
       "      <td>...</td>\n",
       "      <td>...</td>\n",
       "      <td>...</td>\n",
       "      <td>...</td>\n",
       "      <td>...</td>\n",
       "      <td>...</td>\n",
       "      <td>...</td>\n",
       "      <td>...</td>\n",
       "      <td>...</td>\n",
       "      <td>...</td>\n",
       "      <td>...</td>\n",
       "      <td>...</td>\n",
       "      <td>...</td>\n",
       "    </tr>\n",
       "    <tr>\n",
       "      <th>120440</th>\n",
       "      <td>Ghost_RUS Games</td>\n",
       "      <td>[Casual, Indie, Simulation, Strategy]</td>\n",
       "      <td>Colony On Mars</td>\n",
       "      <td>Colony On Mars</td>\n",
       "      <td>http://store.steampowered.com/app/773640/Colon...</td>\n",
       "      <td>2018-01-04</td>\n",
       "      <td>[Strategy, Indie, Casual, Simulation]</td>\n",
       "      <td>http://steamcommunity.com/app/773640/reviews/?...</td>\n",
       "      <td>[Single-player, Steam Achievements]</td>\n",
       "      <td>1.99</td>\n",
       "      <td>False</td>\n",
       "      <td>773640</td>\n",
       "      <td>Nikita \"Ghost_RUS\"</td>\n",
       "    </tr>\n",
       "    <tr>\n",
       "      <th>120441</th>\n",
       "      <td>Sacada</td>\n",
       "      <td>[Casual, Indie, Strategy]</td>\n",
       "      <td>LOGistICAL: South Africa</td>\n",
       "      <td>LOGistICAL: South Africa</td>\n",
       "      <td>http://store.steampowered.com/app/733530/LOGis...</td>\n",
       "      <td>2018-01-04</td>\n",
       "      <td>[Strategy, Indie, Casual]</td>\n",
       "      <td>http://steamcommunity.com/app/733530/reviews/?...</td>\n",
       "      <td>[Single-player, Steam Achievements, Steam Clou...</td>\n",
       "      <td>4.99</td>\n",
       "      <td>False</td>\n",
       "      <td>733530</td>\n",
       "      <td>Sacada</td>\n",
       "    </tr>\n",
       "    <tr>\n",
       "      <th>120442</th>\n",
       "      <td>Laush Studio</td>\n",
       "      <td>[Indie, Racing, Simulation]</td>\n",
       "      <td>Russian Roads</td>\n",
       "      <td>Russian Roads</td>\n",
       "      <td>http://store.steampowered.com/app/610660/Russi...</td>\n",
       "      <td>2018-01-04</td>\n",
       "      <td>[Indie, Simulation, Racing]</td>\n",
       "      <td>http://steamcommunity.com/app/610660/reviews/?...</td>\n",
       "      <td>[Single-player, Steam Achievements, Steam Trad...</td>\n",
       "      <td>1.99</td>\n",
       "      <td>False</td>\n",
       "      <td>610660</td>\n",
       "      <td>Laush Dmitriy Sergeevich</td>\n",
       "    </tr>\n",
       "    <tr>\n",
       "      <th>120443</th>\n",
       "      <td>SIXNAILS</td>\n",
       "      <td>[Casual, Indie]</td>\n",
       "      <td>EXIT 2 - Directions</td>\n",
       "      <td>EXIT 2 - Directions</td>\n",
       "      <td>http://store.steampowered.com/app/658870/EXIT_...</td>\n",
       "      <td>2017-09-02</td>\n",
       "      <td>[Indie, Casual, Puzzle, Singleplayer, Atmosphe...</td>\n",
       "      <td>http://steamcommunity.com/app/658870/reviews/?...</td>\n",
       "      <td>[Single-player, Steam Achievements, Steam Cloud]</td>\n",
       "      <td>4.99</td>\n",
       "      <td>False</td>\n",
       "      <td>658870</td>\n",
       "      <td>xropi,stev3ns</td>\n",
       "    </tr>\n",
       "    <tr>\n",
       "      <th>120444</th>\n",
       "      <td>NaN</td>\n",
       "      <td>NaN</td>\n",
       "      <td>Maze Run VR</td>\n",
       "      <td>NaN</td>\n",
       "      <td>http://store.steampowered.com/app/681550/Maze_...</td>\n",
       "      <td>NaN</td>\n",
       "      <td>[Early Access, Adventure, Indie, Action, Simul...</td>\n",
       "      <td>http://steamcommunity.com/app/681550/reviews/?...</td>\n",
       "      <td>[Single-player, Stats, Steam Leaderboards, HTC...</td>\n",
       "      <td>4.99</td>\n",
       "      <td>True</td>\n",
       "      <td>681550</td>\n",
       "      <td>NaN</td>\n",
       "    </tr>\n",
       "  </tbody>\n",
       "</table>\n",
       "<p>120445 rows × 13 columns</p>\n",
       "</div>"
      ],
      "text/plain": [
       "              publisher                                 genres  \\\n",
       "0                   NaN                                    NaN   \n",
       "1                   NaN                                    NaN   \n",
       "2                   NaN                                    NaN   \n",
       "3                   NaN                                    NaN   \n",
       "4                   NaN                                    NaN   \n",
       "...                 ...                                    ...   \n",
       "120440  Ghost_RUS Games  [Casual, Indie, Simulation, Strategy]   \n",
       "120441           Sacada              [Casual, Indie, Strategy]   \n",
       "120442     Laush Studio            [Indie, Racing, Simulation]   \n",
       "120443         SIXNAILS                        [Casual, Indie]   \n",
       "120444              NaN                                    NaN   \n",
       "\n",
       "                        app_name                     title  \\\n",
       "0                            NaN                       NaN   \n",
       "1                            NaN                       NaN   \n",
       "2                            NaN                       NaN   \n",
       "3                            NaN                       NaN   \n",
       "4                            NaN                       NaN   \n",
       "...                          ...                       ...   \n",
       "120440            Colony On Mars            Colony On Mars   \n",
       "120441  LOGistICAL: South Africa  LOGistICAL: South Africa   \n",
       "120442             Russian Roads             Russian Roads   \n",
       "120443       EXIT 2 - Directions       EXIT 2 - Directions   \n",
       "120444               Maze Run VR                       NaN   \n",
       "\n",
       "                                                      url release_date  \\\n",
       "0                                                     NaN          NaN   \n",
       "1                                                     NaN          NaN   \n",
       "2                                                     NaN          NaN   \n",
       "3                                                     NaN          NaN   \n",
       "4                                                     NaN          NaN   \n",
       "...                                                   ...          ...   \n",
       "120440  http://store.steampowered.com/app/773640/Colon...   2018-01-04   \n",
       "120441  http://store.steampowered.com/app/733530/LOGis...   2018-01-04   \n",
       "120442  http://store.steampowered.com/app/610660/Russi...   2018-01-04   \n",
       "120443  http://store.steampowered.com/app/658870/EXIT_...   2017-09-02   \n",
       "120444  http://store.steampowered.com/app/681550/Maze_...          NaN   \n",
       "\n",
       "                                                     tags  \\\n",
       "0                                                     NaN   \n",
       "1                                                     NaN   \n",
       "2                                                     NaN   \n",
       "3                                                     NaN   \n",
       "4                                                     NaN   \n",
       "...                                                   ...   \n",
       "120440              [Strategy, Indie, Casual, Simulation]   \n",
       "120441                          [Strategy, Indie, Casual]   \n",
       "120442                        [Indie, Simulation, Racing]   \n",
       "120443  [Indie, Casual, Puzzle, Singleplayer, Atmosphe...   \n",
       "120444  [Early Access, Adventure, Indie, Action, Simul...   \n",
       "\n",
       "                                              reviews_url  \\\n",
       "0                                                     NaN   \n",
       "1                                                     NaN   \n",
       "2                                                     NaN   \n",
       "3                                                     NaN   \n",
       "4                                                     NaN   \n",
       "...                                                   ...   \n",
       "120440  http://steamcommunity.com/app/773640/reviews/?...   \n",
       "120441  http://steamcommunity.com/app/733530/reviews/?...   \n",
       "120442  http://steamcommunity.com/app/610660/reviews/?...   \n",
       "120443  http://steamcommunity.com/app/658870/reviews/?...   \n",
       "120444  http://steamcommunity.com/app/681550/reviews/?...   \n",
       "\n",
       "                                                    specs price early_access  \\\n",
       "0                                                     NaN   NaN          NaN   \n",
       "1                                                     NaN   NaN          NaN   \n",
       "2                                                     NaN   NaN          NaN   \n",
       "3                                                     NaN   NaN          NaN   \n",
       "4                                                     NaN   NaN          NaN   \n",
       "...                                                   ...   ...          ...   \n",
       "120440                [Single-player, Steam Achievements]  1.99        False   \n",
       "120441  [Single-player, Steam Achievements, Steam Clou...  4.99        False   \n",
       "120442  [Single-player, Steam Achievements, Steam Trad...  1.99        False   \n",
       "120443   [Single-player, Steam Achievements, Steam Cloud]  4.99        False   \n",
       "120444  [Single-player, Stats, Steam Leaderboards, HTC...  4.99         True   \n",
       "\n",
       "            id                 developer  \n",
       "0          NaN                       NaN  \n",
       "1          NaN                       NaN  \n",
       "2          NaN                       NaN  \n",
       "3          NaN                       NaN  \n",
       "4          NaN                       NaN  \n",
       "...        ...                       ...  \n",
       "120440  773640        Nikita \"Ghost_RUS\"  \n",
       "120441  733530                    Sacada  \n",
       "120442  610660  Laush Dmitriy Sergeevich  \n",
       "120443  658870             xropi,stev3ns  \n",
       "120444  681550                       NaN  \n",
       "\n",
       "[120445 rows x 13 columns]"
      ]
     },
     "execution_count": 23,
     "metadata": {},
     "output_type": "execute_result"
    }
   ],
   "source": [
    "# Create a DataFrame from variable\n",
    "df_games_data = pd.DataFrame(games_data)\n",
    "df_games_data"
   ]
  },
  {
   "attachments": {},
   "cell_type": "markdown",
   "metadata": {},
   "source": [
    "### Preparing the steam games data"
   ]
  },
  {
   "attachments": {},
   "cell_type": "markdown",
   "metadata": {},
   "source": [
    "#### Checking Duplicate values"
   ]
  },
  {
   "cell_type": "code",
   "execution_count": 24,
   "metadata": {},
   "outputs": [
    {
     "name": "stdout",
     "output_type": "stream",
     "text": [
      "  Duplicated Value  Occurrences\n",
      "0           612880            2\n"
     ]
    }
   ],
   "source": [
    "# Call the function to check for duplicates in the \"id\" column\n",
    "duplicates_games_id = validation.check_duplicates_summary(df_games_data, \"id\")\n",
    "\n",
    "# Print the summary\n",
    "print(duplicates_games_id)"
   ]
  },
  {
   "attachments": {},
   "cell_type": "markdown",
   "metadata": {},
   "source": [
    "Duplicate id values are removed, as they will affect future measurements"
   ]
  },
  {
   "attachments": {},
   "cell_type": "markdown",
   "metadata": {},
   "source": [
    "#### Removing Duplicate values"
   ]
  },
  {
   "cell_type": "code",
   "execution_count": 25,
   "metadata": {},
   "outputs": [
    {
     "name": "stdout",
     "output_type": "stream",
     "text": [
      "Removed 88312 duplicate rows based on 'id' column.\n"
     ]
    }
   ],
   "source": [
    "df_games_data_1 = validation.remove_duplicates(df_games_data, \"id\")"
   ]
  },
  {
   "cell_type": "code",
   "execution_count": 26,
   "metadata": {},
   "outputs": [
    {
     "name": "stdout",
     "output_type": "stream",
     "text": [
      "Empty DataFrame\n",
      "Columns: [Duplicated Value, Occurrences]\n",
      "Index: []\n"
     ]
    }
   ],
   "source": [
    "# Verifiying no duplicate values left\n",
    "\n",
    "# Call the function to check for duplicates in the \"id\" column\n",
    "duplicates_games_id = validation.check_duplicates_summary(df_games_data_1, \"id\")\n",
    "\n",
    "# Print the summary\n",
    "print(duplicates_games_id)"
   ]
  },
  {
   "cell_type": "code",
   "execution_count": 27,
   "metadata": {},
   "outputs": [
    {
     "name": "stdout",
     "output_type": "stream",
     "text": [
      "<class 'pandas.core.frame.DataFrame'>\n",
      "Index: 32133 entries, 0 to 120444\n",
      "Data columns (total 13 columns):\n",
      " #   Column        Non-Null Count  Dtype \n",
      "---  ------        --------------  ----- \n",
      " 0   publisher     24081 non-null  object\n",
      " 1   genres        28850 non-null  object\n",
      " 2   app_name      32131 non-null  object\n",
      " 3   title         30083 non-null  object\n",
      " 4   url           32132 non-null  object\n",
      " 5   release_date  30066 non-null  object\n",
      " 6   tags          31970 non-null  object\n",
      " 7   reviews_url   32132 non-null  object\n",
      " 8   specs         31463 non-null  object\n",
      " 9   price         30755 non-null  object\n",
      " 10  early_access  32132 non-null  object\n",
      " 11  id            32132 non-null  object\n",
      " 12  developer     28834 non-null  object\n",
      "dtypes: object(13)\n",
      "memory usage: 3.4+ MB\n"
     ]
    }
   ],
   "source": [
    "df_games_data_1.info()"
   ]
  },
  {
   "attachments": {},
   "cell_type": "markdown",
   "metadata": {},
   "source": [
    "#### Checking None values"
   ]
  },
  {
   "cell_type": "code",
   "execution_count": 28,
   "metadata": {},
   "outputs": [
    {
     "name": "stdout",
     "output_type": "stream",
     "text": [
      "{'column_name': 'id', 'total_rows': 32133, 'num_none_values': 1, 'rows_below_threshold': 2062}\n"
     ]
    }
   ],
   "source": [
    "# Call the function to check for none values in the \"id\" column\n",
    "# the function receives additional parameter to check if the dataframe has mutiple \n",
    "# columns with None values\n",
    "none_games_id = validation.check_none_values(df_games_data_1, \"id\", True, 4)\n",
    "\n",
    "# Print the summary\n",
    "print(none_games_id)"
   ]
  },
  {
   "attachments": {},
   "cell_type": "markdown",
   "metadata": {},
   "source": [
    "#### Removing None values"
   ]
  },
  {
   "attachments": {},
   "cell_type": "markdown",
   "metadata": {},
   "source": [
    "Rows that have None value in the \"price\" and \"id\" column are removed, because these values are important when you want to present the price in the API"
   ]
  },
  {
   "cell_type": "code",
   "execution_count": 29,
   "metadata": {},
   "outputs": [],
   "source": [
    "# Call the function to remove none values in the \"id\" column\n",
    "df_games_data_2 = validation.remove_none_values(df_games_data_1, \"id\")\n",
    "\n",
    "# Call the function to remove none values in the \"price\" column\n",
    "df_games_data_2 = validation.remove_none_values(df_games_data_1, \"price\")"
   ]
  },
  {
   "cell_type": "code",
   "execution_count": 30,
   "metadata": {},
   "outputs": [
    {
     "name": "stdout",
     "output_type": "stream",
     "text": [
      "<class 'pandas.core.frame.DataFrame'>\n",
      "Index: 30755 entries, 88310 to 120444\n",
      "Data columns (total 13 columns):\n",
      " #   Column        Non-Null Count  Dtype \n",
      "---  ------        --------------  ----- \n",
      " 0   publisher     22982 non-null  object\n",
      " 1   genres        27620 non-null  object\n",
      " 2   app_name      30755 non-null  object\n",
      " 3   title         28823 non-null  object\n",
      " 4   url           30755 non-null  object\n",
      " 5   release_date  28819 non-null  object\n",
      " 6   tags          30625 non-null  object\n",
      " 7   reviews_url   30755 non-null  object\n",
      " 8   specs         30100 non-null  object\n",
      " 9   price         30755 non-null  object\n",
      " 10  early_access  30755 non-null  object\n",
      " 11  id            30755 non-null  object\n",
      " 12  developer     27599 non-null  object\n",
      "dtypes: object(13)\n",
      "memory usage: 3.3+ MB\n"
     ]
    }
   ],
   "source": [
    "df_games_data_2.info()"
   ]
  },
  {
   "attachments": {},
   "cell_type": "markdown",
   "metadata": {},
   "source": [
    "#### Transforming to numeric type"
   ]
  },
  {
   "attachments": {},
   "cell_type": "markdown",
   "metadata": {},
   "source": [
    "To have better performance in the API"
   ]
  },
  {
   "attachments": {},
   "cell_type": "markdown",
   "metadata": {},
   "source": [
    "##### \"id\" column"
   ]
  },
  {
   "cell_type": "code",
   "execution_count": 31,
   "metadata": {},
   "outputs": [
    {
     "data": {
      "text/plain": [
       "{'column_name': 'id', 'data_type_counts': {\"<class 'str'>\": 30755}}"
      ]
     },
     "execution_count": 31,
     "metadata": {},
     "output_type": "execute_result"
    }
   ],
   "source": [
    "# Call the function to summarize the data types of the \"id\" values\n",
    "id_summary = validation.column_data_types_summary(df_games_data_2, \"id\")\n",
    "id_summary"
   ]
  },
  {
   "cell_type": "code",
   "execution_count": 32,
   "metadata": {},
   "outputs": [],
   "source": [
    "# Making a copy of the dataframe\n",
    "df_games_data_3 = df_games_data_2.copy()"
   ]
  },
  {
   "cell_type": "code",
   "execution_count": 33,
   "metadata": {},
   "outputs": [
    {
     "data": {
      "text/plain": [
       "{'total_values': 30755,\n",
       " 'numeric_count': 30755,\n",
       " 'non_numeric_count': 0,\n",
       " 'stored_info': []}"
      ]
     },
     "execution_count": 33,
     "metadata": {},
     "output_type": "execute_result"
    }
   ],
   "source": [
    "# Calling the function to transform \"id\" values into numeric type\n",
    "id_transformation = validation.transform_to_numeric(df_games_data_3, \"id\")\n",
    "id_transformation"
   ]
  },
  {
   "attachments": {},
   "cell_type": "markdown",
   "metadata": {},
   "source": [
    "##### \"price\" column"
   ]
  },
  {
   "cell_type": "code",
   "execution_count": 34,
   "metadata": {},
   "outputs": [
    {
     "data": {
      "text/plain": [
       "{'column_name': 'price',\n",
       " 'data_type_counts': {\"<class 'float'>\": 28845, \"<class 'str'>\": 1910}}"
      ]
     },
     "execution_count": 34,
     "metadata": {},
     "output_type": "execute_result"
    }
   ],
   "source": [
    "# Call the function to summarize the data types of the \"price\" values\n",
    "price_summary = validation.column_data_types_summary(df_games_data_3, \"price\")\n",
    "price_summary"
   ]
  },
  {
   "cell_type": "code",
   "execution_count": 35,
   "metadata": {},
   "outputs": [
    {
     "data": {
      "text/plain": [
       "{'total_values': 30755,\n",
       " 'numeric_count': 30734,\n",
       " 'non_numeric_count': 21,\n",
       " 'stored_info': [{'index': 89230, 'value': 'Free Demo'},\n",
       "  {'index': 89231, 'value': 'Free Demo'},\n",
       "  {'index': 89279, 'value': 'Play for Free!'},\n",
       "  {'index': 89291, 'value': 'Play for Free!'},\n",
       "  {'index': 90715, 'value': 'Install Now'},\n",
       "  {'index': 91181, 'value': 'Play WARMACHINE: Tactics Demo'},\n",
       "  {'index': 91624, 'value': 'Free Mod'},\n",
       "  {'index': 92142, 'value': 'Install Theme'},\n",
       "  {'index': 92228, 'value': 'Third-party'},\n",
       "  {'index': 93899, 'value': 'Free HITMAN™ Holiday Pack'},\n",
       "  {'index': 102257, 'value': 'Free Mod'},\n",
       "  {'index': 111044, 'value': 'Play the Demo'},\n",
       "  {'index': 113310, 'value': 'Starting at $499.00'},\n",
       "  {'index': 113311, 'value': 'Starting at $449.00'},\n",
       "  {'index': 115214, 'value': 'Free to Try'},\n",
       "  {'index': 116624, 'value': 'Free Mod'},\n",
       "  {'index': 116625, 'value': 'Free Mod'},\n",
       "  {'index': 117676, 'value': 'Free Movie'},\n",
       "  {'index': 118690, 'value': 'Free to Use'},\n",
       "  {'index': 119220, 'value': 'Free Demo'},\n",
       "  {'index': 120148, 'value': 'Third-party'}]}"
      ]
     },
     "execution_count": 35,
     "metadata": {},
     "output_type": "execute_result"
    }
   ],
   "source": [
    "# Calling the function to transform \"price\" values into numeric type\n",
    "price_transformation = validation.transform_to_numeric(df_games_data_3, \"price\")\n",
    "price_transformation"
   ]
  },
  {
   "attachments": {},
   "cell_type": "markdown",
   "metadata": {},
   "source": [
    "Manually converting the rest of the free game values"
   ]
  },
  {
   "cell_type": "code",
   "execution_count": 36,
   "metadata": {},
   "outputs": [],
   "source": [
    "idx_free_games = [89230, 89231, 89279, 89291, 90715, 91181, 91624, 92142, 92228, 93899, 102257, 111044, 115214, 116624, 116625, 117676, 118690, 119220, 120148]\n",
    "\n",
    "for idx in idx_free_games:\n",
    "    df_games_data_3[\"price\"][idx] = 0"
   ]
  },
  {
   "attachments": {},
   "cell_type": "markdown",
   "metadata": {},
   "source": [
    "Manually converting non free game values"
   ]
  },
  {
   "cell_type": "code",
   "execution_count": 37,
   "metadata": {},
   "outputs": [
    {
     "data": {
      "text/plain": [
       "{'total_values': 30755,\n",
       " 'numeric_count': 30753,\n",
       " 'non_numeric_count': 2,\n",
       " 'stored_info': [{'index': 113310, 'value': 'Starting at $499.00'},\n",
       "  {'index': 113311, 'value': 'Starting at $449.00'}]}"
      ]
     },
     "execution_count": 37,
     "metadata": {},
     "output_type": "execute_result"
    }
   ],
   "source": [
    "# Calling the function to see summary of data values\n",
    "price_transformation = validation.transform_to_numeric(df_games_data_3, \"price\")\n",
    "price_transformation"
   ]
  },
  {
   "cell_type": "code",
   "execution_count": 38,
   "metadata": {},
   "outputs": [],
   "source": [
    "idx_games = [113310, 113311]\n",
    "for idx in idx_games:\n",
    "    df_games_data_3[\"price\"][idx] = 499"
   ]
  },
  {
   "cell_type": "code",
   "execution_count": 39,
   "metadata": {},
   "outputs": [
    {
     "name": "stdout",
     "output_type": "stream",
     "text": [
      "<class 'pandas.core.frame.DataFrame'>\n",
      "Index: 30755 entries, 88310 to 120444\n",
      "Data columns (total 13 columns):\n",
      " #   Column        Non-Null Count  Dtype \n",
      "---  ------        --------------  ----- \n",
      " 0   publisher     22982 non-null  object\n",
      " 1   genres        27620 non-null  object\n",
      " 2   app_name      30755 non-null  object\n",
      " 3   title         28823 non-null  object\n",
      " 4   url           30755 non-null  object\n",
      " 5   release_date  28819 non-null  object\n",
      " 6   tags          30625 non-null  object\n",
      " 7   reviews_url   30755 non-null  object\n",
      " 8   specs         30100 non-null  object\n",
      " 9   price         30755 non-null  object\n",
      " 10  early_access  30755 non-null  object\n",
      " 11  id            30755 non-null  object\n",
      " 12  developer     27599 non-null  object\n",
      "dtypes: object(13)\n",
      "memory usage: 4.3+ MB\n"
     ]
    }
   ],
   "source": [
    "df_games_data_3.info()"
   ]
  }
 ],
 "metadata": {
  "kernelspec": {
   "display_name": "env-game-recommend-sys",
   "language": "python",
   "name": "python3"
  },
  "language_info": {
   "codemirror_mode": {
    "name": "ipython",
    "version": 3
   },
   "file_extension": ".py",
   "mimetype": "text/x-python",
   "name": "python",
   "nbconvert_exporter": "python",
   "pygments_lexer": "ipython3",
   "version": "3.10.10"
  },
  "orig_nbformat": 4
 },
 "nbformat": 4,
 "nbformat_minor": 2
}
