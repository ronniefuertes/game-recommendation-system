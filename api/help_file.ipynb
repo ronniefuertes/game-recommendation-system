{
 "cells": [
  {
   "attachments": {},
   "cell_type": "markdown",
   "metadata": {},
   "source": [
    "# Files"
   ]
  },
  {
   "cell_type": "code",
   "execution_count": 16,
   "metadata": {},
   "outputs": [],
   "source": [
    "import pandas as pd\n",
    "import ast"
   ]
  },
  {
   "cell_type": "code",
   "execution_count": 2,
   "metadata": {},
   "outputs": [],
   "source": [
    "path_1u = \"datasets/user_data_1.csv\"\n",
    "path_1g = \"datasets/games_data_1.csv\"\n",
    "path_2u = \"datasets/user_data_2.csv\""
   ]
  },
  {
   "cell_type": "code",
   "execution_count": 18,
   "metadata": {},
   "outputs": [],
   "source": [
    "def safe_literal_eval(s):\n",
    "    \"\"\"\n",
    "    Safely evaluates a string containing a Python literal using ast.literal_eval.\n",
    "\n",
    "    Parameters:\n",
    "    - s: A string to be evaluated.\n",
    "\n",
    "    Returns:\n",
    "    - The evaluated Python literal if it's valid.\n",
    "    - pass if the string is not a valid literal or if it contains NaN.\n",
    "    \"\"\"\n",
    "    try:\n",
    "        # Attempt to evaluate the string as a Python literal using ast.literal_eval\n",
    "        return ast.literal_eval(s)\n",
    "    except (ValueError, SyntaxError):\n",
    "        # Handle exceptions (e.g., if the string is not a valid literal)\n",
    "        return s  # Return the original value if it's not a valid literal"
   ]
  },
  {
   "attachments": {},
   "cell_type": "markdown",
   "metadata": {},
   "source": [
    "# Money spent"
   ]
  },
  {
   "cell_type": "code",
   "execution_count": 7,
   "metadata": {},
   "outputs": [],
   "source": [
    "# Calling dataframes from files\n",
    "users_dataframe = pd.read_csv(path_1u)\n",
    "games_dataframe = pd.read_csv(path_1g)"
   ]
  },
  {
   "cell_type": "code",
   "execution_count": 8,
   "metadata": {},
   "outputs": [
    {
     "name": "stdout",
     "output_type": "stream",
     "text": [
      "<class 'pandas.core.frame.DataFrame'>\n",
      "RangeIndex: 87629 entries, 0 to 87628\n",
      "Data columns (total 4 columns):\n",
      " #   Column       Non-Null Count  Dtype  \n",
      "---  ------       --------------  -----  \n",
      " 0   user_id      87629 non-null  object \n",
      " 1   items_count  87629 non-null  float64\n",
      " 2   item_id      87629 non-null  object \n",
      " 3   recommend    25485 non-null  object \n",
      "dtypes: float64(1), object(3)\n",
      "memory usage: 2.7+ MB\n"
     ]
    }
   ],
   "source": [
    "users_dataframe.info()"
   ]
  },
  {
   "cell_type": "code",
   "execution_count": 9,
   "metadata": {},
   "outputs": [],
   "source": [
    "# Converting to its corresponding data types\n",
    "#users_dataframe['item_id'] = users_dataframe['item_id'].apply(safe_literal_eval)\n",
    "games_dataframe = games_dataframe.applymap(safe_literal_eval)"
   ]
  },
  {
   "cell_type": "code",
   "execution_count": 29,
   "metadata": {},
   "outputs": [
    {
     "name": "stdout",
     "output_type": "stream",
     "text": [
      "76561198061207064\n"
     ]
    }
   ],
   "source": [
    "print(users_dataframe['user_id'][5000])"
   ]
  },
  {
   "cell_type": "code",
   "execution_count": 39,
   "metadata": {},
   "outputs": [
    {
     "name": "stdout",
     "output_type": "stream",
     "text": [
      "[4000, 220, 320, 340, 360, 380, 400, 420, 2820, 32470, 105600, 34830, 72850, 50300, 34330, 51100, 99900, 109600, 113420, 212200, 218230, 236390, 243870, 209870, 248570, 216150, 223750, 246280, 253710, 263540, 244770, 244850, 107410, 214950, 266430, 221100, 271590, 273110, 274920, 301520, 304030, 304050, 304930, 311310, 291480, 312990, 268420, 227940, 313980, 317470, 205790, 323370, 10, 80, 100, 240, 730, 282070, 333950, 349110, 344860, 346010, 346110, 407530, 35450, 351640, 400250, 310380, 440090, 319630, 48700]\n",
      "<class 'list'>\n",
      "[True, True]\n",
      "<class 'list'>\n",
      "71.0\n",
      "<class 'numpy.float64'>\n"
     ]
    }
   ],
   "source": [
    "# Filter the DataFrame for the specific user ID\n",
    "user_data = users_dataframe.loc[users_dataframe['user_id'] == str(\"76561198061207064\")]\n",
    "\n",
    "# Check if any rows match the user ID\n",
    "if not user_data.empty:\n",
    "    # Extract values with error handling for NaN\n",
    "    id_item = user_data['item_id'].values[0] if not user_data['item_id'].isna().any() else 0\n",
    "    id_item = safe_literal_eval(id_item)\n",
    "    id_recommend = user_data['recommend'].values[0] if not user_data['recommend'].isna().any() else 0\n",
    "    id_recommend = safe_literal_eval(id_recommend)\n",
    "    id_items_count = user_data['items_count'].values[0] if not user_data['items_count'].isna().any() else 0\n",
    "else:\n",
    "    # Handle the case where no matching rows were found for the user ID\n",
    "    id_item = 0\n",
    "    id_recommend = 0\n",
    "    id_items_count = 0\n",
    "\n",
    "print(id_item)\n",
    "print(type(id_item))\n",
    "print(id_recommend)\n",
    "print(type(id_recommend))\n",
    "print(id_items_count)\n",
    "print(type(id_items_count))\n"
   ]
  },
  {
   "cell_type": "code",
   "execution_count": 37,
   "metadata": {},
   "outputs": [],
   "source": [
    "# Function to calculate the total price for a single \"id_item\" and return a report\n",
    "def money_spent(user_id):\n",
    "\n",
    "    # Calling dataframes from files\n",
    "    users_dataframe = pd.read_csv(path_1u)\n",
    "    games_dataframe = pd.read_csv(path_1g)\n",
    "\n",
    "    # Filter the DataFrame for the specific user ID\n",
    "    user_data = users_dataframe.loc[users_dataframe['user_id'] == str(user_id)]\n",
    "\n",
    "    # Check if any rows match the user ID\n",
    "    if not user_data.empty:\n",
    "        # Extract values with error handling for NaN\n",
    "        id_item = user_data['item_id'].values[0] if not user_data['item_id'].isna().any() else 0\n",
    "        id_item = safe_literal_eval(id_item)\n",
    "        id_recommend = user_data['recommend'].values[0] if not user_data['recommend'].isna().any() else 0\n",
    "        id_recommend = safe_literal_eval(id_recommend)\n",
    "        id_items_count = user_data['items_count'].values[0] if not user_data['items_count'].isna().any() else 0\n",
    "    else:\n",
    "        # Handle the case where no matching rows were found for the user ID\n",
    "        id_item = 0\n",
    "        id_recommend = 0\n",
    "        id_items_count = 0\n",
    "    \n",
    "    # Calculating total money spent\n",
    "    total_price = 0\n",
    "\n",
    "    if type(id_item) == list and len(id_item) != 0:\n",
    "        for id_value in id_item:\n",
    "            matching_rows = games_dataframe[games_dataframe['id'] == id_value]\n",
    "            if not matching_rows.empty:\n",
    "                total_price += matching_rows['price'].sum()\n",
    "\n",
    "    # Calculating percentage\n",
    "    num_rcmnd = 0\n",
    "\n",
    "    if type(id_recommend) == list and len(id_recommend) != 0:\n",
    "        for id_rcmnd in id_recommend:\n",
    "            if id_rcmnd:\n",
    "                num_rcmnd += 1\n",
    "\n",
    "    if id_items_count != 0:\n",
    "        percentage = 100*(num_rcmnd / id_items_count)\n",
    "    else:\n",
    "        percentage = 0\n",
    "\n",
    "    # rounding values\n",
    "    total_price = round(total_price, 2)\n",
    "    percentage = round(percentage, 2)\n",
    "\n",
    "    return total_price, percentage"
   ]
  },
  {
   "cell_type": "code",
   "execution_count": 41,
   "metadata": {},
   "outputs": [
    {
     "name": "stdout",
     "output_type": "stream",
     "text": [
      "(661.63, 2.82)\n",
      "<class 'tuple'>\n"
     ]
    }
   ],
   "source": [
    "a = money_spent(\"76561198061207064\")\n",
    "print(a)\n",
    "print(type(a))"
   ]
  },
  {
   "cell_type": "code",
   "execution_count": 156,
   "metadata": {},
   "outputs": [
    {
     "data": {
      "text/plain": [
       "542"
      ]
     },
     "execution_count": 156,
     "metadata": {},
     "output_type": "execute_result"
    }
   ],
   "source": [
    "len(a)"
   ]
  },
  {
   "attachments": {},
   "cell_type": "markdown",
   "metadata": {},
   "source": [
    "# Dates - recommendations"
   ]
  },
  {
   "cell_type": "code",
   "execution_count": 167,
   "metadata": {},
   "outputs": [],
   "source": [
    "# Calling dataframes from files\n",
    "dataframe1 = pd.read_csv(path_2u)"
   ]
  },
  {
   "cell_type": "code",
   "execution_count": 168,
   "metadata": {},
   "outputs": [
    {
     "name": "stdout",
     "output_type": "stream",
     "text": [
      "<class 'pandas.core.frame.DataFrame'>\n",
      "RangeIndex: 25485 entries, 0 to 25484\n",
      "Data columns (total 3 columns):\n",
      " #   Column     Non-Null Count  Dtype \n",
      "---  ------     --------------  ----- \n",
      " 0   user_id    25485 non-null  object\n",
      " 1   posted     25485 non-null  object\n",
      " 2   recommend  25485 non-null  object\n",
      "dtypes: object(3)\n",
      "memory usage: 597.4+ KB\n"
     ]
    }
   ],
   "source": [
    "dataframe1.info()"
   ]
  },
  {
   "cell_type": "code",
   "execution_count": 171,
   "metadata": {},
   "outputs": [],
   "source": [
    "from datetime import datetime"
   ]
  },
  {
   "cell_type": "code",
   "execution_count": 238,
   "metadata": {},
   "outputs": [],
   "source": [
    "def valid_date_string(date_str):\n",
    "    try:\n",
    "        # Attempt to parse the date string\n",
    "        datetime.strptime(date_str, \"%Y-%m-%d\")\n",
    "        return True  # It's a valid date in the \"yyyy-mm-dd\" format\n",
    "    except ValueError:\n",
    "        return False  # It's not a valid date in the expected format"
   ]
  },
  {
   "cell_type": "code",
   "execution_count": 239,
   "metadata": {},
   "outputs": [],
   "source": [
    "def date_in_range(dates_list, start_date, end_date):\n",
    "    # Initialize a list to store the valid dates\n",
    "    idx_valid_dates = []\n",
    "    v_in_list = False\n",
    "\n",
    "    if len(dates_list) != 0:\n",
    "        for indx_date, date_str in enumerate(dates_list):\n",
    "            # Validating date type of date_str\n",
    "            valid_date = valid_date_string(date_str)\n",
    "            \n",
    "            # Validating if date is in rage\n",
    "            if valid_date:\n",
    "                # Convert the date string to a datetime object\n",
    "                date_obj = datetime.strptime(date_str, \"%Y-%m-%d\")\n",
    "                if start_date <= date_obj <= end_date:\n",
    "                    idx_valid_dates.append(indx_date)\n",
    "                    v_in_list = True\n",
    "\n",
    "    return v_in_list, idx_valid_dates"
   ]
  },
  {
   "cell_type": "code",
   "execution_count": 179,
   "metadata": {},
   "outputs": [],
   "source": [
    "dataframe2 = dataframe1.head(5).copy()"
   ]
  },
  {
   "cell_type": "code",
   "execution_count": 240,
   "metadata": {},
   "outputs": [],
   "source": [
    "def num_user_review(dates: str) -> int:\n",
    "    \"\"\"Check for the number of user that made a review and the percentage of recommendations.\"\"\"\n",
    "\n",
    "    # Calling dataframes from file\n",
    "    recommendations_df = pd.read_csv(path_2u)\n",
    "    \n",
    "    # Converting into their respective data types\n",
    "    recommendations_df = recommendations_df.applymap(safe_literal_eval)\n",
    "\n",
    "    # Split the date range into start and end dates\n",
    "    start_date, end_date = dates.split()\n",
    "\n",
    "    try:\n",
    "        # Convert start_date and end_date to datetime objects\n",
    "        start_date = datetime.strptime(start_date, \"%Y-%m-%d\")\n",
    "        end_date = datetime.strptime(end_date, \"%Y-%m-%d\")\n",
    "    except ValueError:\n",
    "        raise ValueError(\"Invalid date format in date_range. Use 'yyyy-mm-dd' format.\")\n",
    "    \n",
    "    # Initialize counters\n",
    "    count = 0\n",
    "    positive = 0\n",
    "    negative = 0\n",
    "\n",
    "    # Iterating over rows of dataframe\n",
    "    for idx_row, row in recommendations_df.iterrows():\n",
    "        dates_result = date_in_range(row['posted'], start_date, end_date)\n",
    "        list_verf = dates_result[0]\n",
    "        idx_dates = dates_result[1]\n",
    "        \n",
    "        # Calculating number of users\n",
    "        if v_in_list:\n",
    "            count += 1\n",
    "        \n",
    "        # Calculating recommendations\n",
    "        for idx in idx_valid_dates:\n",
    "            if idx < len(row[\"recommend\"]):\n",
    "                if row[\"recommend\"][idx]:\n",
    "                    positive += 1\n",
    "                else:\n",
    "                    negative += 1\n",
    "    \n",
    "    # Calculating percentage based on total recommendations made within range of dates\n",
    "    if positive != 0 and negative != 0:\n",
    "        total_recommendations = positive + negative\n",
    "        percentage = (positive / total_recommendations) * 100\n",
    "    else: \n",
    "        percentage = 0\n",
    "\n",
    "    return count, round(percentage, 2)"
   ]
  },
  {
   "cell_type": "code",
   "execution_count": 242,
   "metadata": {},
   "outputs": [],
   "source": [
    "date_range = \"2011-01-01 2014-12-31\""
   ]
  },
  {
   "cell_type": "code",
   "execution_count": null,
   "metadata": {},
   "outputs": [],
   "source": [
    "num_user_review(date_range)"
   ]
  },
  {
   "attachments": {},
   "cell_type": "markdown",
   "metadata": {},
   "source": [
    "# Genres ranking"
   ]
  },
  {
   "cell_type": "code",
   "execution_count": 276,
   "metadata": {},
   "outputs": [],
   "source": [
    "import pandas as pd\n",
    "\n",
    "# Sample data for users_dataframe and games_dataframe\n",
    "users_data = {\n",
    "    'item_id': [[1, 2, 4], [2, 3], [3, 4, 5]],\n",
    "    'playtime_forever': [[100, 200, 150], [300, 250], [50, 100, 75]]\n",
    "}\n",
    "\n",
    "games_data = {\n",
    "    'id': [1, 2, 3],\n",
    "    'genres': [['Action', 'Adventure'], ['Adventure', 'RPG'], ['Action', 'Co-op', 'Multiplayer']]\n",
    "}\n",
    "\n",
    "users_dataframe = pd.DataFrame(users_data)\n",
    "games_dataframe = pd.DataFrame(games_data)"
   ]
  },
  {
   "cell_type": "code",
   "execution_count": 277,
   "metadata": {},
   "outputs": [
    {
     "data": {
      "text/html": [
       "<div>\n",
       "<style scoped>\n",
       "    .dataframe tbody tr th:only-of-type {\n",
       "        vertical-align: middle;\n",
       "    }\n",
       "\n",
       "    .dataframe tbody tr th {\n",
       "        vertical-align: top;\n",
       "    }\n",
       "\n",
       "    .dataframe thead th {\n",
       "        text-align: right;\n",
       "    }\n",
       "</style>\n",
       "<table border=\"1\" class=\"dataframe\">\n",
       "  <thead>\n",
       "    <tr style=\"text-align: right;\">\n",
       "      <th></th>\n",
       "      <th>item_id</th>\n",
       "      <th>playtime_forever</th>\n",
       "    </tr>\n",
       "  </thead>\n",
       "  <tbody>\n",
       "    <tr>\n",
       "      <th>0</th>\n",
       "      <td>[1, 2, 4]</td>\n",
       "      <td>[100, 200, 150]</td>\n",
       "    </tr>\n",
       "    <tr>\n",
       "      <th>1</th>\n",
       "      <td>[2, 3]</td>\n",
       "      <td>[300, 250]</td>\n",
       "    </tr>\n",
       "    <tr>\n",
       "      <th>2</th>\n",
       "      <td>[3, 4, 5]</td>\n",
       "      <td>[50, 100, 75]</td>\n",
       "    </tr>\n",
       "  </tbody>\n",
       "</table>\n",
       "</div>"
      ],
      "text/plain": [
       "     item_id playtime_forever\n",
       "0  [1, 2, 4]  [100, 200, 150]\n",
       "1     [2, 3]       [300, 250]\n",
       "2  [3, 4, 5]    [50, 100, 75]"
      ]
     },
     "execution_count": 277,
     "metadata": {},
     "output_type": "execute_result"
    }
   ],
   "source": [
    "users_dataframe"
   ]
  },
  {
   "cell_type": "code",
   "execution_count": 270,
   "metadata": {},
   "outputs": [
    {
     "data": {
      "text/html": [
       "<div>\n",
       "<style scoped>\n",
       "    .dataframe tbody tr th:only-of-type {\n",
       "        vertical-align: middle;\n",
       "    }\n",
       "\n",
       "    .dataframe tbody tr th {\n",
       "        vertical-align: top;\n",
       "    }\n",
       "\n",
       "    .dataframe thead th {\n",
       "        text-align: right;\n",
       "    }\n",
       "</style>\n",
       "<table border=\"1\" class=\"dataframe\">\n",
       "  <thead>\n",
       "    <tr style=\"text-align: right;\">\n",
       "      <th></th>\n",
       "      <th>id</th>\n",
       "      <th>genres</th>\n",
       "    </tr>\n",
       "  </thead>\n",
       "  <tbody>\n",
       "    <tr>\n",
       "      <th>0</th>\n",
       "      <td>1</td>\n",
       "      <td>[Action, Adventure]</td>\n",
       "    </tr>\n",
       "    <tr>\n",
       "      <th>1</th>\n",
       "      <td>2</td>\n",
       "      <td>[Adventure, RPG]</td>\n",
       "    </tr>\n",
       "    <tr>\n",
       "      <th>2</th>\n",
       "      <td>3</td>\n",
       "      <td>[Action]</td>\n",
       "    </tr>\n",
       "  </tbody>\n",
       "</table>\n",
       "</div>"
      ],
      "text/plain": [
       "   id               genres\n",
       "0   1  [Action, Adventure]\n",
       "1   2     [Adventure, RPG]\n",
       "2   3             [Action]"
      ]
     },
     "execution_count": 270,
     "metadata": {},
     "output_type": "execute_result"
    }
   ],
   "source": [
    "games_dataframe"
   ]
  },
  {
   "cell_type": "code",
   "execution_count": 272,
   "metadata": {},
   "outputs": [
    {
     "data": {
      "text/html": [
       "<div>\n",
       "<style scoped>\n",
       "    .dataframe tbody tr th:only-of-type {\n",
       "        vertical-align: middle;\n",
       "    }\n",
       "\n",
       "    .dataframe tbody tr th {\n",
       "        vertical-align: top;\n",
       "    }\n",
       "\n",
       "    .dataframe thead th {\n",
       "        text-align: right;\n",
       "    }\n",
       "</style>\n",
       "<table border=\"1\" class=\"dataframe\">\n",
       "  <thead>\n",
       "    <tr style=\"text-align: right;\">\n",
       "      <th></th>\n",
       "      <th>item_id</th>\n",
       "      <th>playtime_forever</th>\n",
       "    </tr>\n",
       "  </thead>\n",
       "  <tbody>\n",
       "    <tr>\n",
       "      <th>0</th>\n",
       "      <td>1</td>\n",
       "      <td>[100, 200, 150]</td>\n",
       "    </tr>\n",
       "    <tr>\n",
       "      <th>0</th>\n",
       "      <td>2</td>\n",
       "      <td>[100, 200, 150]</td>\n",
       "    </tr>\n",
       "    <tr>\n",
       "      <th>1</th>\n",
       "      <td>2</td>\n",
       "      <td>[300, 250]</td>\n",
       "    </tr>\n",
       "    <tr>\n",
       "      <th>2</th>\n",
       "      <td>3</td>\n",
       "      <td>[50, 100, 75]</td>\n",
       "    </tr>\n",
       "    <tr>\n",
       "      <th>2</th>\n",
       "      <td>4</td>\n",
       "      <td>[50, 100, 75]</td>\n",
       "    </tr>\n",
       "  </tbody>\n",
       "</table>\n",
       "</div>"
      ],
      "text/plain": [
       "  item_id playtime_forever\n",
       "0       1  [100, 200, 150]\n",
       "0       2  [100, 200, 150]\n",
       "1       2       [300, 250]\n",
       "2       3    [50, 100, 75]\n",
       "2       4    [50, 100, 75]"
      ]
     },
     "execution_count": 272,
     "metadata": {},
     "output_type": "execute_result"
    }
   ],
   "source": [
    "merged_df_1 = users_dataframe.explode('item_id')\n",
    "merged_df_1"
   ]
  },
  {
   "cell_type": "code",
   "execution_count": 274,
   "metadata": {},
   "outputs": [],
   "source": [
    "# Step 1: Merge users_dataframe and games_dataframe\n",
    "merged_df = merged_df_1.explode('playtime_forever').merge(games_dataframe, left_on='item_id', right_on='id', how='left')"
   ]
  },
  {
   "cell_type": "code",
   "execution_count": 246,
   "metadata": {},
   "outputs": [
    {
     "data": {
      "text/html": [
       "<div>\n",
       "<style scoped>\n",
       "    .dataframe tbody tr th:only-of-type {\n",
       "        vertical-align: middle;\n",
       "    }\n",
       "\n",
       "    .dataframe tbody tr th {\n",
       "        vertical-align: top;\n",
       "    }\n",
       "\n",
       "    .dataframe thead th {\n",
       "        text-align: right;\n",
       "    }\n",
       "</style>\n",
       "<table border=\"1\" class=\"dataframe\">\n",
       "  <thead>\n",
       "    <tr style=\"text-align: right;\">\n",
       "      <th></th>\n",
       "      <th>item_id</th>\n",
       "      <th>playtime_forever</th>\n",
       "      <th>id</th>\n",
       "      <th>genres</th>\n",
       "    </tr>\n",
       "  </thead>\n",
       "  <tbody>\n",
       "    <tr>\n",
       "      <th>0</th>\n",
       "      <td>1</td>\n",
       "      <td>100</td>\n",
       "      <td>1</td>\n",
       "      <td>[Action, Adventure]</td>\n",
       "    </tr>\n",
       "    <tr>\n",
       "      <th>1</th>\n",
       "      <td>1</td>\n",
       "      <td>200</td>\n",
       "      <td>1</td>\n",
       "      <td>[Action, Adventure]</td>\n",
       "    </tr>\n",
       "    <tr>\n",
       "      <th>2</th>\n",
       "      <td>1</td>\n",
       "      <td>150</td>\n",
       "      <td>1</td>\n",
       "      <td>[Action, Adventure]</td>\n",
       "    </tr>\n",
       "    <tr>\n",
       "      <th>3</th>\n",
       "      <td>2</td>\n",
       "      <td>300</td>\n",
       "      <td>2</td>\n",
       "      <td>[Adventure, RPG]</td>\n",
       "    </tr>\n",
       "    <tr>\n",
       "      <th>4</th>\n",
       "      <td>2</td>\n",
       "      <td>250</td>\n",
       "      <td>2</td>\n",
       "      <td>[Adventure, RPG]</td>\n",
       "    </tr>\n",
       "    <tr>\n",
       "      <th>5</th>\n",
       "      <td>3</td>\n",
       "      <td>50</td>\n",
       "      <td>3</td>\n",
       "      <td>[Action]</td>\n",
       "    </tr>\n",
       "    <tr>\n",
       "      <th>6</th>\n",
       "      <td>3</td>\n",
       "      <td>100</td>\n",
       "      <td>3</td>\n",
       "      <td>[Action]</td>\n",
       "    </tr>\n",
       "    <tr>\n",
       "      <th>7</th>\n",
       "      <td>3</td>\n",
       "      <td>75</td>\n",
       "      <td>3</td>\n",
       "      <td>[Action]</td>\n",
       "    </tr>\n",
       "  </tbody>\n",
       "</table>\n",
       "</div>"
      ],
      "text/plain": [
       "   item_id playtime_forever  id               genres\n",
       "0        1              100   1  [Action, Adventure]\n",
       "1        1              200   1  [Action, Adventure]\n",
       "2        1              150   1  [Action, Adventure]\n",
       "3        2              300   2     [Adventure, RPG]\n",
       "4        2              250   2     [Adventure, RPG]\n",
       "5        3               50   3             [Action]\n",
       "6        3              100   3             [Action]\n",
       "7        3               75   3             [Action]"
      ]
     },
     "execution_count": 246,
     "metadata": {},
     "output_type": "execute_result"
    }
   ],
   "source": [
    "merged_df"
   ]
  },
  {
   "cell_type": "code",
   "execution_count": 249,
   "metadata": {},
   "outputs": [],
   "source": [
    "# Step 2: Explode the list of genres\n",
    "merged_df = merged_df.explode('genres')"
   ]
  },
  {
   "cell_type": "code",
   "execution_count": 250,
   "metadata": {},
   "outputs": [
    {
     "data": {
      "text/html": [
       "<div>\n",
       "<style scoped>\n",
       "    .dataframe tbody tr th:only-of-type {\n",
       "        vertical-align: middle;\n",
       "    }\n",
       "\n",
       "    .dataframe tbody tr th {\n",
       "        vertical-align: top;\n",
       "    }\n",
       "\n",
       "    .dataframe thead th {\n",
       "        text-align: right;\n",
       "    }\n",
       "</style>\n",
       "<table border=\"1\" class=\"dataframe\">\n",
       "  <thead>\n",
       "    <tr style=\"text-align: right;\">\n",
       "      <th></th>\n",
       "      <th>item_id</th>\n",
       "      <th>playtime_forever</th>\n",
       "      <th>id</th>\n",
       "      <th>genres</th>\n",
       "    </tr>\n",
       "  </thead>\n",
       "  <tbody>\n",
       "    <tr>\n",
       "      <th>0</th>\n",
       "      <td>1</td>\n",
       "      <td>100</td>\n",
       "      <td>1</td>\n",
       "      <td>Action</td>\n",
       "    </tr>\n",
       "    <tr>\n",
       "      <th>0</th>\n",
       "      <td>1</td>\n",
       "      <td>100</td>\n",
       "      <td>1</td>\n",
       "      <td>Adventure</td>\n",
       "    </tr>\n",
       "    <tr>\n",
       "      <th>1</th>\n",
       "      <td>1</td>\n",
       "      <td>200</td>\n",
       "      <td>1</td>\n",
       "      <td>Action</td>\n",
       "    </tr>\n",
       "    <tr>\n",
       "      <th>1</th>\n",
       "      <td>1</td>\n",
       "      <td>200</td>\n",
       "      <td>1</td>\n",
       "      <td>Adventure</td>\n",
       "    </tr>\n",
       "    <tr>\n",
       "      <th>2</th>\n",
       "      <td>1</td>\n",
       "      <td>150</td>\n",
       "      <td>1</td>\n",
       "      <td>Action</td>\n",
       "    </tr>\n",
       "    <tr>\n",
       "      <th>2</th>\n",
       "      <td>1</td>\n",
       "      <td>150</td>\n",
       "      <td>1</td>\n",
       "      <td>Adventure</td>\n",
       "    </tr>\n",
       "    <tr>\n",
       "      <th>3</th>\n",
       "      <td>2</td>\n",
       "      <td>300</td>\n",
       "      <td>2</td>\n",
       "      <td>Adventure</td>\n",
       "    </tr>\n",
       "    <tr>\n",
       "      <th>3</th>\n",
       "      <td>2</td>\n",
       "      <td>300</td>\n",
       "      <td>2</td>\n",
       "      <td>RPG</td>\n",
       "    </tr>\n",
       "    <tr>\n",
       "      <th>4</th>\n",
       "      <td>2</td>\n",
       "      <td>250</td>\n",
       "      <td>2</td>\n",
       "      <td>Adventure</td>\n",
       "    </tr>\n",
       "    <tr>\n",
       "      <th>4</th>\n",
       "      <td>2</td>\n",
       "      <td>250</td>\n",
       "      <td>2</td>\n",
       "      <td>RPG</td>\n",
       "    </tr>\n",
       "    <tr>\n",
       "      <th>5</th>\n",
       "      <td>3</td>\n",
       "      <td>50</td>\n",
       "      <td>3</td>\n",
       "      <td>Action</td>\n",
       "    </tr>\n",
       "    <tr>\n",
       "      <th>6</th>\n",
       "      <td>3</td>\n",
       "      <td>100</td>\n",
       "      <td>3</td>\n",
       "      <td>Action</td>\n",
       "    </tr>\n",
       "    <tr>\n",
       "      <th>7</th>\n",
       "      <td>3</td>\n",
       "      <td>75</td>\n",
       "      <td>3</td>\n",
       "      <td>Action</td>\n",
       "    </tr>\n",
       "  </tbody>\n",
       "</table>\n",
       "</div>"
      ],
      "text/plain": [
       "   item_id playtime_forever  id     genres\n",
       "0        1              100   1     Action\n",
       "0        1              100   1  Adventure\n",
       "1        1              200   1     Action\n",
       "1        1              200   1  Adventure\n",
       "2        1              150   1     Action\n",
       "2        1              150   1  Adventure\n",
       "3        2              300   2  Adventure\n",
       "3        2              300   2        RPG\n",
       "4        2              250   2  Adventure\n",
       "4        2              250   2        RPG\n",
       "5        3               50   3     Action\n",
       "6        3              100   3     Action\n",
       "7        3               75   3     Action"
      ]
     },
     "execution_count": 250,
     "metadata": {},
     "output_type": "execute_result"
    }
   ],
   "source": [
    "merged_df"
   ]
  },
  {
   "cell_type": "code",
   "execution_count": 251,
   "metadata": {},
   "outputs": [],
   "source": [
    "# Step 3: Group by genre and calculate total time spent\n",
    "genre_ranking = merged_df.groupby('genres')['playtime_forever'].sum().reset_index()"
   ]
  },
  {
   "cell_type": "code",
   "execution_count": 252,
   "metadata": {},
   "outputs": [
    {
     "data": {
      "text/html": [
       "<div>\n",
       "<style scoped>\n",
       "    .dataframe tbody tr th:only-of-type {\n",
       "        vertical-align: middle;\n",
       "    }\n",
       "\n",
       "    .dataframe tbody tr th {\n",
       "        vertical-align: top;\n",
       "    }\n",
       "\n",
       "    .dataframe thead th {\n",
       "        text-align: right;\n",
       "    }\n",
       "</style>\n",
       "<table border=\"1\" class=\"dataframe\">\n",
       "  <thead>\n",
       "    <tr style=\"text-align: right;\">\n",
       "      <th></th>\n",
       "      <th>genres</th>\n",
       "      <th>playtime_forever</th>\n",
       "    </tr>\n",
       "  </thead>\n",
       "  <tbody>\n",
       "    <tr>\n",
       "      <th>0</th>\n",
       "      <td>Action</td>\n",
       "      <td>675</td>\n",
       "    </tr>\n",
       "    <tr>\n",
       "      <th>1</th>\n",
       "      <td>Adventure</td>\n",
       "      <td>1000</td>\n",
       "    </tr>\n",
       "    <tr>\n",
       "      <th>2</th>\n",
       "      <td>RPG</td>\n",
       "      <td>550</td>\n",
       "    </tr>\n",
       "  </tbody>\n",
       "</table>\n",
       "</div>"
      ],
      "text/plain": [
       "      genres playtime_forever\n",
       "0     Action              675\n",
       "1  Adventure             1000\n",
       "2        RPG              550"
      ]
     },
     "execution_count": 252,
     "metadata": {},
     "output_type": "execute_result"
    }
   ],
   "source": [
    "genre_ranking"
   ]
  },
  {
   "cell_type": "code",
   "execution_count": 253,
   "metadata": {},
   "outputs": [],
   "source": [
    "# Step 4: Create the final DataFrame for genre ranking\n",
    "genre_ranking = genre_ranking.rename(columns={'genres': 'genre', 'playtime_forever': 'time_spent'})"
   ]
  },
  {
   "cell_type": "code",
   "execution_count": 254,
   "metadata": {},
   "outputs": [
    {
     "data": {
      "text/html": [
       "<div>\n",
       "<style scoped>\n",
       "    .dataframe tbody tr th:only-of-type {\n",
       "        vertical-align: middle;\n",
       "    }\n",
       "\n",
       "    .dataframe tbody tr th {\n",
       "        vertical-align: top;\n",
       "    }\n",
       "\n",
       "    .dataframe thead th {\n",
       "        text-align: right;\n",
       "    }\n",
       "</style>\n",
       "<table border=\"1\" class=\"dataframe\">\n",
       "  <thead>\n",
       "    <tr style=\"text-align: right;\">\n",
       "      <th></th>\n",
       "      <th>genre</th>\n",
       "      <th>time_spent</th>\n",
       "    </tr>\n",
       "  </thead>\n",
       "  <tbody>\n",
       "    <tr>\n",
       "      <th>0</th>\n",
       "      <td>Action</td>\n",
       "      <td>675</td>\n",
       "    </tr>\n",
       "    <tr>\n",
       "      <th>1</th>\n",
       "      <td>Adventure</td>\n",
       "      <td>1000</td>\n",
       "    </tr>\n",
       "    <tr>\n",
       "      <th>2</th>\n",
       "      <td>RPG</td>\n",
       "      <td>550</td>\n",
       "    </tr>\n",
       "  </tbody>\n",
       "</table>\n",
       "</div>"
      ],
      "text/plain": [
       "       genre time_spent\n",
       "0     Action        675\n",
       "1  Adventure       1000\n",
       "2        RPG        550"
      ]
     },
     "execution_count": 254,
     "metadata": {},
     "output_type": "execute_result"
    }
   ],
   "source": [
    "genre_ranking"
   ]
  },
  {
   "cell_type": "code",
   "execution_count": 256,
   "metadata": {},
   "outputs": [],
   "source": [
    "# Sort the genre ranking DataFrame by total time spent\n",
    "genre_ranking = genre_ranking.sort_values(by='time_spent', ascending=False)"
   ]
  },
  {
   "cell_type": "code",
   "execution_count": 257,
   "metadata": {},
   "outputs": [
    {
     "data": {
      "text/html": [
       "<div>\n",
       "<style scoped>\n",
       "    .dataframe tbody tr th:only-of-type {\n",
       "        vertical-align: middle;\n",
       "    }\n",
       "\n",
       "    .dataframe tbody tr th {\n",
       "        vertical-align: top;\n",
       "    }\n",
       "\n",
       "    .dataframe thead th {\n",
       "        text-align: right;\n",
       "    }\n",
       "</style>\n",
       "<table border=\"1\" class=\"dataframe\">\n",
       "  <thead>\n",
       "    <tr style=\"text-align: right;\">\n",
       "      <th></th>\n",
       "      <th>genre</th>\n",
       "      <th>time_spent</th>\n",
       "    </tr>\n",
       "  </thead>\n",
       "  <tbody>\n",
       "    <tr>\n",
       "      <th>1</th>\n",
       "      <td>Adventure</td>\n",
       "      <td>1000</td>\n",
       "    </tr>\n",
       "    <tr>\n",
       "      <th>0</th>\n",
       "      <td>Action</td>\n",
       "      <td>675</td>\n",
       "    </tr>\n",
       "    <tr>\n",
       "      <th>2</th>\n",
       "      <td>RPG</td>\n",
       "      <td>550</td>\n",
       "    </tr>\n",
       "  </tbody>\n",
       "</table>\n",
       "</div>"
      ],
      "text/plain": [
       "       genre time_spent\n",
       "1  Adventure       1000\n",
       "0     Action        675\n",
       "2        RPG        550"
      ]
     },
     "execution_count": 257,
     "metadata": {},
     "output_type": "execute_result"
    }
   ],
   "source": [
    "genre_ranking"
   ]
  },
  {
   "cell_type": "code",
   "execution_count": 258,
   "metadata": {},
   "outputs": [],
   "source": [
    "# Reset the index\n",
    "genre_ranking = genre_ranking.reset_index(drop=True)"
   ]
  },
  {
   "cell_type": "code",
   "execution_count": 259,
   "metadata": {},
   "outputs": [
    {
     "data": {
      "text/html": [
       "<div>\n",
       "<style scoped>\n",
       "    .dataframe tbody tr th:only-of-type {\n",
       "        vertical-align: middle;\n",
       "    }\n",
       "\n",
       "    .dataframe tbody tr th {\n",
       "        vertical-align: top;\n",
       "    }\n",
       "\n",
       "    .dataframe thead th {\n",
       "        text-align: right;\n",
       "    }\n",
       "</style>\n",
       "<table border=\"1\" class=\"dataframe\">\n",
       "  <thead>\n",
       "    <tr style=\"text-align: right;\">\n",
       "      <th></th>\n",
       "      <th>genre</th>\n",
       "      <th>time_spent</th>\n",
       "    </tr>\n",
       "  </thead>\n",
       "  <tbody>\n",
       "    <tr>\n",
       "      <th>0</th>\n",
       "      <td>Adventure</td>\n",
       "      <td>1000</td>\n",
       "    </tr>\n",
       "    <tr>\n",
       "      <th>1</th>\n",
       "      <td>Action</td>\n",
       "      <td>675</td>\n",
       "    </tr>\n",
       "    <tr>\n",
       "      <th>2</th>\n",
       "      <td>RPG</td>\n",
       "      <td>550</td>\n",
       "    </tr>\n",
       "  </tbody>\n",
       "</table>\n",
       "</div>"
      ],
      "text/plain": [
       "       genre time_spent\n",
       "0  Adventure       1000\n",
       "1     Action        675\n",
       "2        RPG        550"
      ]
     },
     "execution_count": 259,
     "metadata": {},
     "output_type": "execute_result"
    }
   ],
   "source": [
    "genre_ranking"
   ]
  },
  {
   "cell_type": "code",
   "execution_count": null,
   "metadata": {},
   "outputs": [],
   "source": []
  },
  {
   "cell_type": "code",
   "execution_count": null,
   "metadata": {},
   "outputs": [],
   "source": []
  },
  {
   "cell_type": "code",
   "execution_count": 6,
   "metadata": {},
   "outputs": [
    {
     "data": {
      "text/html": [
       "<div>\n",
       "<style scoped>\n",
       "    .dataframe tbody tr th:only-of-type {\n",
       "        vertical-align: middle;\n",
       "    }\n",
       "\n",
       "    .dataframe tbody tr th {\n",
       "        vertical-align: top;\n",
       "    }\n",
       "\n",
       "    .dataframe thead th {\n",
       "        text-align: right;\n",
       "    }\n",
       "</style>\n",
       "<table border=\"1\" class=\"dataframe\">\n",
       "  <thead>\n",
       "    <tr style=\"text-align: right;\">\n",
       "      <th></th>\n",
       "      <th>genre</th>\n",
       "      <th>user_info</th>\n",
       "    </tr>\n",
       "  </thead>\n",
       "  <tbody>\n",
       "    <tr>\n",
       "      <th>0</th>\n",
       "      <td>Action</td>\n",
       "      <td>[{'user_id': '76561198011705037', 'time_spent'...</td>\n",
       "    </tr>\n",
       "    <tr>\n",
       "      <th>1</th>\n",
       "      <td>Adventure</td>\n",
       "      <td>[{'user_id': 102, 'time_spent': 200, 'user_url...</td>\n",
       "    </tr>\n",
       "    <tr>\n",
       "      <th>2</th>\n",
       "      <td>RPG</td>\n",
       "      <td>[{'user_id': 105, 'time_spent': 250, 'user_url...</td>\n",
       "    </tr>\n",
       "  </tbody>\n",
       "</table>\n",
       "</div>"
      ],
      "text/plain": [
       "       genre                                          user_info\n",
       "0     Action  [{'user_id': '76561198011705037', 'time_spent'...\n",
       "1  Adventure  [{'user_id': 102, 'time_spent': 200, 'user_url...\n",
       "2        RPG  [{'user_id': 105, 'time_spent': 250, 'user_url..."
      ]
     },
     "execution_count": 6,
     "metadata": {},
     "output_type": "execute_result"
    }
   ],
   "source": [
    "import pandas as pd\n",
    "\n",
    "data = {'genre': ['Action', 'Adventure', 'RPG'],\n",
    "        'user_info': [\n",
    "            [{'user_id': '76561198011705037', 'time_spent': 366, 'user_url': \"nan\"},\n",
    " {'user_id': '76561198073356393', 'time_spent': 161, 'user_url': \"nan\"},\n",
    " {'user_id': 'Omega67679',\n",
    "  'time_spent': 0,\n",
    "  'user_url': 'http://steamcommunity.com/id/Omega67679'},\n",
    " {'user_id': '76561198047202602', 'time_spent': 473, 'user_url': \"nan\"},\n",
    " {'user_id': 'screwlabs', 'time_spent': 1666, 'user_url': \"nan\"},\n",
    " {'user_id': 'ToastedFiggin',\n",
    "  'time_spent': 87,\n",
    "  'user_url': 'http://steamcommunity.com/id/ToastedFiggin'},\n",
    " {'user_id': '76561198060739596', 'time_spent': 37, 'user_url': \"nan\"},\n",
    " {'user_id': '76561198065984534',\n",
    "  'time_spent': 1439,\n",
    "  'user_url': 'http://steamcommunity.com/profiles/76561198065984534'},\n",
    " {'user_id': 'Qualitybutthole',\n",
    "  'time_spent': 1324,\n",
    "  'user_url': 'http://steamcommunity.com/id/Qualitybutthole'},\n",
    " {'user_id': 'Nathstar', 'time_spent': 474, 'user_url': \"nan\"},\n",
    " {'user_id': 'drazsyker',\n",
    "  'time_spent': 0,\n",
    "  'user_url': 'http://steamcommunity.com/id/drazsyker'},\n",
    " {'user_id': '76561198027728967', 'time_spent': 0, 'user_url': \"nan\"},\n",
    " {'user_id': 'wandlustn', 'time_spent': 758, 'user_url': \"nan\"},\n",
    " {'user_id': 'allaboutthatchuckbass', 'time_spent': 1856, 'user_url': \"nan\"}],\n",
    "            [{'user_id': 102, 'time_spent': 200, 'user_url': 'url2'}, {'user_id': 104, 'time_spent': 300, 'user_url': 'url4'}],\n",
    "            [{'user_id': 105, 'time_spent': 250, 'user_url': 'url5'}]\n",
    "        ]}\n",
    "\n",
    "df = pd.DataFrame(data)\n",
    "df"
   ]
  },
  {
   "cell_type": "code",
   "execution_count": 10,
   "metadata": {},
   "outputs": [],
   "source": [
    "path_4 = r\"S:\\Courses\\Data Science\\0. Henry\\M7 - Labs - Project MLOps _ steam\\game-recommendation-system\\api\\datasets\\user_data_4.csv\""
   ]
  },
  {
   "cell_type": "code",
   "execution_count": 11,
   "metadata": {},
   "outputs": [],
   "source": [
    "# Calling dataframes from files\n",
    "file_4 = pd.read_csv(path_4)"
   ]
  },
  {
   "cell_type": "code",
   "execution_count": 97,
   "metadata": {},
   "outputs": [],
   "source": [
    "def top_users_in_genre(genre: str) -> list:\n",
    "    \"\"\"Check for the top 5 users with the most time spended in a given genre.\"\"\"\n",
    "    # Load data from a CSV file into a DataFrame (adjust path_2u to your file path)\n",
    "    genre_users_df = pd.read_csv(path_4)\n",
    "\n",
    "    # Check if the specified genre exists in the DataFrame\n",
    "    if genre not in genre_users_df['genre'].values:\n",
    "        return f\"Genre '{genre}' not found in the DataFrame.\"\n",
    "    \n",
    "    # Filter the DataFrame by the specified genre\n",
    "    genre_filter_df = genre_users_df[genre_users_df['genre'] == genre]\n",
    "\n",
    "    genre_filter_df_1 = genre_filter_df.copy()\n",
    "    # Replace 'nan' with None\n",
    "    genre_filter_df_1['users_info'] = genre_filter_df_1['users_info'].str.replace('nan', 'None')\n",
    "\n",
    "    # Convert the string to a list of dictionaries using ast.literal_eval\n",
    "    genre_filter_df_1['users_info'] = genre_filter_df_1['users_info'].apply(lambda x: ast.literal_eval(x) if x is not None else [])\n",
    "\n",
    "    # Sort the list of users by time_spent in descending order\n",
    "    sorted_users = sorted(genre_filter_df_1['users_info'][0], key=lambda x: x['time_spent'], reverse=True)\n",
    "    \n",
    "    # Get the top 5 users\n",
    "    top_users = sorted_users[:5]\n",
    "    \n",
    "    return top_users"
   ]
  },
  {
   "cell_type": "code",
   "execution_count": null,
   "metadata": {},
   "outputs": [],
   "source": []
  },
  {
   "cell_type": "code",
   "execution_count": 95,
   "metadata": {},
   "outputs": [],
   "source": [
    "def top_users_by_genre(genre: str) -> list:\n",
    "    \"\"\"Check for the top 5 users with the most time spended in a given genre.\"\"\"\n",
    "    # Load data from a CSV file into a DataFrame (adjust path_2u to your file path)\n",
    "    genre_users_df = pd.read_csv(path_4)\n",
    "\n",
    "    genre_users_df['genre'] = genre_users_df['genre'].apply(safe_literal_eval)\n",
    "    \n",
    "    # Check if the specified genre exists in the DataFrame\n",
    "    if str(genre) not in genre_users_df['genre'].values:\n",
    "        return f\"Genre '{genre}' not found in the DataFrame.\"\n",
    "    \n",
    "    # Filter the DataFrame by the specified genre\n",
    "    genre_filter_df = genre_users_df[genre_users_df['genre'] == str(genre)]\n",
    "\n",
    "    genre_filter_list = genre_filter_df[\"users_info\"][0]\n",
    "\n",
    "    # Replace 'nan' with None\n",
    "    genre_filter_list = genre_filter_list.replace('nan', 'None')\n",
    "\n",
    "    # Convert the string to a list of dictionaries using ast.literal_eval\n",
    "    genre_filter_list_eval = safe_literal_eval(genre_filter_list)\n",
    "\n",
    "    # Sort the list of users by time_spent in descending order\n",
    "    sorted_users = sorted(genre_filter_list_eval, key=lambda x: x['time_spent'], reverse=True)\n",
    "    \n",
    "    # Get the top 5 users\n",
    "    top_users = sorted_users[:5]\n",
    "    \n",
    "    return top_users"
   ]
  },
  {
   "cell_type": "code",
   "execution_count": null,
   "metadata": {},
   "outputs": [],
   "source": []
  },
  {
   "cell_type": "code",
   "execution_count": 99,
   "metadata": {},
   "outputs": [],
   "source": [
    "# Example usage:\n",
    "genre = 'Action'\n",
    "top_action_users = top_users_by_genre(genre)"
   ]
  },
  {
   "cell_type": "code",
   "execution_count": 100,
   "metadata": {},
   "outputs": [
    {
     "data": {
      "text/plain": [
       "[{'user_id': '76561198013535175',\n",
       "  'time_spent': 187287,\n",
       "  'user_url': 'http://steamcommunity.com/profiles/76561198013535175'},\n",
       " {'user_id': '76561198053666288', 'time_spent': 140609, 'user_url': None},\n",
       " {'user_id': 'lalup',\n",
       "  'time_spent': 117496,\n",
       "  'user_url': 'http://steamcommunity.com/id/lalup'},\n",
       " {'user_id': 'Adrian_31',\n",
       "  'time_spent': 112132,\n",
       "  'user_url': 'http://steamcommunity.com/id/Adrian_31'},\n",
       " {'user_id': '76561198018025756', 'time_spent': 111010, 'user_url': None}]"
      ]
     },
     "execution_count": 100,
     "metadata": {},
     "output_type": "execute_result"
    }
   ],
   "source": [
    "top_action_users"
   ]
  }
 ],
 "metadata": {
  "kernelspec": {
   "display_name": "env-game-recommend-sys",
   "language": "python",
   "name": "python3"
  },
  "language_info": {
   "codemirror_mode": {
    "name": "ipython",
    "version": 3
   },
   "file_extension": ".py",
   "mimetype": "text/x-python",
   "name": "python",
   "nbconvert_exporter": "python",
   "pygments_lexer": "ipython3",
   "version": "3.10.10"
  },
  "orig_nbformat": 4
 },
 "nbformat": 4,
 "nbformat_minor": 2
}
