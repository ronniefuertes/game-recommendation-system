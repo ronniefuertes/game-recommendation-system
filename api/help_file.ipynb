{
 "cells": [
  {
   "attachments": {},
   "cell_type": "markdown",
   "metadata": {},
   "source": [
    "# Files"
   ]
  },
  {
   "cell_type": "code",
   "execution_count": 1,
   "metadata": {},
   "outputs": [],
   "source": [
    "import pandas as pd\n",
    "import ast"
   ]
  },
  {
   "cell_type": "code",
   "execution_count": 2,
   "metadata": {},
   "outputs": [],
   "source": [
    "path_1u = \"datasets/user_data_1.csv\"\n",
    "path_1g = \"datasets/games_data_1.csv\"\n",
    "path_2u = \"datasets/user_data_2.csv\""
   ]
  },
  {
   "cell_type": "code",
   "execution_count": 3,
   "metadata": {},
   "outputs": [],
   "source": [
    "def safe_literal_eval(s):\n",
    "    \"\"\"\n",
    "    Safely evaluates a string containing a Python literal using ast.literal_eval.\n",
    "\n",
    "    Parameters:\n",
    "    - s: A string to be evaluated.\n",
    "\n",
    "    Returns:\n",
    "    - The evaluated Python literal if it's valid.\n",
    "    - pass if the string is not a valid literal or if it contains NaN.\n",
    "    \"\"\"\n",
    "    try:\n",
    "        # Attempt to evaluate the string as a Python literal using ast.literal_eval\n",
    "        return ast.literal_eval(s)\n",
    "    except (ValueError, SyntaxError):\n",
    "        # Handle exceptions (e.g., if the string is not a valid literal)\n",
    "        return s  # Return the original value if it's not a valid literal"
   ]
  },
  {
   "attachments": {},
   "cell_type": "markdown",
   "metadata": {},
   "source": [
    "# Money spent"
   ]
  },
  {
   "cell_type": "code",
   "execution_count": 7,
   "metadata": {},
   "outputs": [],
   "source": [
    "# Calling dataframes from files\n",
    "users_dataframe = pd.read_csv(path_1u)\n",
    "games_dataframe = pd.read_csv(path_1g)"
   ]
  },
  {
   "cell_type": "code",
   "execution_count": 8,
   "metadata": {},
   "outputs": [
    {
     "name": "stdout",
     "output_type": "stream",
     "text": [
      "<class 'pandas.core.frame.DataFrame'>\n",
      "RangeIndex: 87629 entries, 0 to 87628\n",
      "Data columns (total 4 columns):\n",
      " #   Column       Non-Null Count  Dtype  \n",
      "---  ------       --------------  -----  \n",
      " 0   user_id      87629 non-null  object \n",
      " 1   items_count  87629 non-null  float64\n",
      " 2   item_id      87629 non-null  object \n",
      " 3   recommend    25485 non-null  object \n",
      "dtypes: float64(1), object(3)\n",
      "memory usage: 2.7+ MB\n"
     ]
    }
   ],
   "source": [
    "users_dataframe.info()"
   ]
  },
  {
   "cell_type": "code",
   "execution_count": 9,
   "metadata": {},
   "outputs": [],
   "source": [
    "# Converting to its corresponding data types\n",
    "#users_dataframe['item_id'] = users_dataframe['item_id'].apply(safe_literal_eval)\n",
    "games_dataframe = games_dataframe.applymap(safe_literal_eval)"
   ]
  },
  {
   "cell_type": "code",
   "execution_count": 29,
   "metadata": {},
   "outputs": [
    {
     "name": "stdout",
     "output_type": "stream",
     "text": [
      "76561198061207064\n"
     ]
    }
   ],
   "source": [
    "print(users_dataframe['user_id'][5000])"
   ]
  },
  {
   "cell_type": "code",
   "execution_count": 39,
   "metadata": {},
   "outputs": [
    {
     "name": "stdout",
     "output_type": "stream",
     "text": [
      "[4000, 220, 320, 340, 360, 380, 400, 420, 2820, 32470, 105600, 34830, 72850, 50300, 34330, 51100, 99900, 109600, 113420, 212200, 218230, 236390, 243870, 209870, 248570, 216150, 223750, 246280, 253710, 263540, 244770, 244850, 107410, 214950, 266430, 221100, 271590, 273110, 274920, 301520, 304030, 304050, 304930, 311310, 291480, 312990, 268420, 227940, 313980, 317470, 205790, 323370, 10, 80, 100, 240, 730, 282070, 333950, 349110, 344860, 346010, 346110, 407530, 35450, 351640, 400250, 310380, 440090, 319630, 48700]\n",
      "<class 'list'>\n",
      "[True, True]\n",
      "<class 'list'>\n",
      "71.0\n",
      "<class 'numpy.float64'>\n"
     ]
    }
   ],
   "source": [
    "# Filter the DataFrame for the specific user ID\n",
    "user_data = users_dataframe.loc[users_dataframe['user_id'] == str(\"76561198061207064\")]\n",
    "\n",
    "# Check if any rows match the user ID\n",
    "if not user_data.empty:\n",
    "    # Extract values with error handling for NaN\n",
    "    id_item = user_data['item_id'].values[0] if not user_data['item_id'].isna().any() else 0\n",
    "    id_item = safe_literal_eval(id_item)\n",
    "    id_recommend = user_data['recommend'].values[0] if not user_data['recommend'].isna().any() else 0\n",
    "    id_recommend = safe_literal_eval(id_recommend)\n",
    "    id_items_count = user_data['items_count'].values[0] if not user_data['items_count'].isna().any() else 0\n",
    "else:\n",
    "    # Handle the case where no matching rows were found for the user ID\n",
    "    id_item = 0\n",
    "    id_recommend = 0\n",
    "    id_items_count = 0\n",
    "\n",
    "print(id_item)\n",
    "print(type(id_item))\n",
    "print(id_recommend)\n",
    "print(type(id_recommend))\n",
    "print(id_items_count)\n",
    "print(type(id_items_count))\n"
   ]
  },
  {
   "cell_type": "code",
   "execution_count": 37,
   "metadata": {},
   "outputs": [],
   "source": [
    "# Function to calculate the total price for a single \"id_item\" and return a report\n",
    "def money_spent(user_id):\n",
    "\n",
    "    # Calling dataframes from files\n",
    "    users_dataframe = pd.read_csv(path_1u)\n",
    "    games_dataframe = pd.read_csv(path_1g)\n",
    "\n",
    "    # Filter the DataFrame for the specific user ID\n",
    "    user_data = users_dataframe.loc[users_dataframe['user_id'] == str(user_id)]\n",
    "\n",
    "    # Check if any rows match the user ID\n",
    "    if not user_data.empty:\n",
    "        # Extract values with error handling for NaN\n",
    "        id_item = user_data['item_id'].values[0] if not user_data['item_id'].isna().any() else 0\n",
    "        id_item = safe_literal_eval(id_item)\n",
    "        id_recommend = user_data['recommend'].values[0] if not user_data['recommend'].isna().any() else 0\n",
    "        id_recommend = safe_literal_eval(id_recommend)\n",
    "        id_items_count = user_data['items_count'].values[0] if not user_data['items_count'].isna().any() else 0\n",
    "    else:\n",
    "        # Handle the case where no matching rows were found for the user ID\n",
    "        id_item = 0\n",
    "        id_recommend = 0\n",
    "        id_items_count = 0\n",
    "    \n",
    "    # Calculating total money spent\n",
    "    total_price = 0\n",
    "\n",
    "    if type(id_item) == list and len(id_item) != 0:\n",
    "        for id_value in id_item:\n",
    "            matching_rows = games_dataframe[games_dataframe['id'] == id_value]\n",
    "            if not matching_rows.empty:\n",
    "                total_price += matching_rows['price'].sum()\n",
    "\n",
    "    # Calculating percentage\n",
    "    num_rcmnd = 0\n",
    "\n",
    "    if type(id_recommend) == list and len(id_recommend) != 0:\n",
    "        for id_rcmnd in id_recommend:\n",
    "            if id_rcmnd:\n",
    "                num_rcmnd += 1\n",
    "\n",
    "    if id_items_count != 0:\n",
    "        percentage = 100*(num_rcmnd / id_items_count)\n",
    "    else:\n",
    "        percentage = 0\n",
    "\n",
    "    # rounding values\n",
    "    total_price = round(total_price, 2)\n",
    "    percentage = round(percentage, 2)\n",
    "\n",
    "    return total_price, percentage"
   ]
  },
  {
   "cell_type": "code",
   "execution_count": 41,
   "metadata": {},
   "outputs": [
    {
     "name": "stdout",
     "output_type": "stream",
     "text": [
      "(661.63, 2.82)\n",
      "<class 'tuple'>\n"
     ]
    }
   ],
   "source": [
    "a = money_spent(\"76561198061207064\")\n",
    "print(a)\n",
    "print(type(a))"
   ]
  },
  {
   "cell_type": "code",
   "execution_count": 156,
   "metadata": {},
   "outputs": [
    {
     "data": {
      "text/plain": [
       "542"
      ]
     },
     "execution_count": 156,
     "metadata": {},
     "output_type": "execute_result"
    }
   ],
   "source": [
    "len(a)"
   ]
  },
  {
   "attachments": {},
   "cell_type": "markdown",
   "metadata": {},
   "source": [
    "# Dates - recommendations"
   ]
  },
  {
   "cell_type": "code",
   "execution_count": 167,
   "metadata": {},
   "outputs": [],
   "source": [
    "# Calling dataframes from files\n",
    "dataframe1 = pd.read_csv(path_2u)"
   ]
  },
  {
   "cell_type": "code",
   "execution_count": 168,
   "metadata": {},
   "outputs": [
    {
     "name": "stdout",
     "output_type": "stream",
     "text": [
      "<class 'pandas.core.frame.DataFrame'>\n",
      "RangeIndex: 25485 entries, 0 to 25484\n",
      "Data columns (total 3 columns):\n",
      " #   Column     Non-Null Count  Dtype \n",
      "---  ------     --------------  ----- \n",
      " 0   user_id    25485 non-null  object\n",
      " 1   posted     25485 non-null  object\n",
      " 2   recommend  25485 non-null  object\n",
      "dtypes: object(3)\n",
      "memory usage: 597.4+ KB\n"
     ]
    }
   ],
   "source": [
    "dataframe1.info()"
   ]
  },
  {
   "cell_type": "code",
   "execution_count": 171,
   "metadata": {},
   "outputs": [],
   "source": [
    "from datetime import datetime"
   ]
  },
  {
   "cell_type": "code",
   "execution_count": 238,
   "metadata": {},
   "outputs": [],
   "source": [
    "def valid_date_string(date_str):\n",
    "    try:\n",
    "        # Attempt to parse the date string\n",
    "        datetime.strptime(date_str, \"%Y-%m-%d\")\n",
    "        return True  # It's a valid date in the \"yyyy-mm-dd\" format\n",
    "    except ValueError:\n",
    "        return False  # It's not a valid date in the expected format"
   ]
  },
  {
   "cell_type": "code",
   "execution_count": 239,
   "metadata": {},
   "outputs": [],
   "source": [
    "def date_in_range(dates_list, start_date, end_date):\n",
    "    # Initialize a list to store the valid dates\n",
    "    idx_valid_dates = []\n",
    "    v_in_list = False\n",
    "\n",
    "    if len(dates_list) != 0:\n",
    "        for indx_date, date_str in enumerate(dates_list):\n",
    "            # Validating date type of date_str\n",
    "            valid_date = valid_date_string(date_str)\n",
    "            \n",
    "            # Validating if date is in rage\n",
    "            if valid_date:\n",
    "                # Convert the date string to a datetime object\n",
    "                date_obj = datetime.strptime(date_str, \"%Y-%m-%d\")\n",
    "                if start_date <= date_obj <= end_date:\n",
    "                    idx_valid_dates.append(indx_date)\n",
    "                    v_in_list = True\n",
    "\n",
    "    return v_in_list, idx_valid_dates"
   ]
  },
  {
   "cell_type": "code",
   "execution_count": 179,
   "metadata": {},
   "outputs": [],
   "source": [
    "dataframe2 = dataframe1.head(5).copy()"
   ]
  },
  {
   "cell_type": "code",
   "execution_count": 240,
   "metadata": {},
   "outputs": [],
   "source": [
    "def num_user_review(dates: str) -> int:\n",
    "    \"\"\"Check for the number of user that made a review and the percentage of recommendations.\"\"\"\n",
    "\n",
    "    # Calling dataframes from file\n",
    "    recommendations_df = pd.read_csv(path_2u)\n",
    "    \n",
    "    # Converting into their respective data types\n",
    "    recommendations_df = recommendations_df.applymap(safe_literal_eval)\n",
    "\n",
    "    # Split the date range into start and end dates\n",
    "    start_date, end_date = dates.split()\n",
    "\n",
    "    try:\n",
    "        # Convert start_date and end_date to datetime objects\n",
    "        start_date = datetime.strptime(start_date, \"%Y-%m-%d\")\n",
    "        end_date = datetime.strptime(end_date, \"%Y-%m-%d\")\n",
    "    except ValueError:\n",
    "        raise ValueError(\"Invalid date format in date_range. Use 'yyyy-mm-dd' format.\")\n",
    "    \n",
    "    # Initialize counters\n",
    "    count = 0\n",
    "    positive = 0\n",
    "    negative = 0\n",
    "\n",
    "    # Iterating over rows of dataframe\n",
    "    for idx_row, row in recommendations_df.iterrows():\n",
    "        dates_result = date_in_range(row['posted'], start_date, end_date)\n",
    "        list_verf = dates_result[0]\n",
    "        idx_dates = dates_result[1]\n",
    "        \n",
    "        # Calculating number of users\n",
    "        if v_in_list:\n",
    "            count += 1\n",
    "        \n",
    "        # Calculating recommendations\n",
    "        for idx in idx_valid_dates:\n",
    "            if idx < len(row[\"recommend\"]):\n",
    "                if row[\"recommend\"][idx]:\n",
    "                    positive += 1\n",
    "                else:\n",
    "                    negative += 1\n",
    "    \n",
    "    # Calculating percentage based on total recommendations made within range of dates\n",
    "    if positive != 0 and negative != 0:\n",
    "        total_recommendations = positive + negative\n",
    "        percentage = (positive / total_recommendations) * 100\n",
    "    else: \n",
    "        percentage = 0\n",
    "\n",
    "    return count, round(percentage, 2)"
   ]
  },
  {
   "cell_type": "code",
   "execution_count": 229,
   "metadata": {},
   "outputs": [],
   "source": [
    "date_range = \"2011-01-01 2014-12-31\""
   ]
  },
  {
   "cell_type": "code",
   "execution_count": 241,
   "metadata": {},
   "outputs": [
    {
     "ename": "ZeroDivisionError",
     "evalue": "division by zero",
     "output_type": "error",
     "traceback": [
      "\u001b[1;31m---------------------------------------------------------------------------\u001b[0m",
      "\u001b[1;31mZeroDivisionError\u001b[0m                         Traceback (most recent call last)",
      "Cell \u001b[1;32mIn[241], line 1\u001b[0m\n\u001b[1;32m----> 1\u001b[0m num_user_review(date_range)\n",
      "Cell \u001b[1;32mIn[240], line 45\u001b[0m, in \u001b[0;36mnum_user_review\u001b[1;34m(dates)\u001b[0m\n\u001b[0;32m     43\u001b[0m \u001b[39m# Calculating percentage based on total recommendations made within range of dates\u001b[39;00m\n\u001b[0;32m     44\u001b[0m total_recommendations \u001b[39m=\u001b[39m positive \u001b[39m+\u001b[39m negative\n\u001b[1;32m---> 45\u001b[0m percentage \u001b[39m=\u001b[39m (positive \u001b[39m/\u001b[39;49m total_recommendations) \u001b[39m*\u001b[39m \u001b[39m100\u001b[39m\n\u001b[0;32m     47\u001b[0m \u001b[39mreturn\u001b[39;00m count, \u001b[39mround\u001b[39m(percentage, \u001b[39m2\u001b[39m)\n",
      "\u001b[1;31mZeroDivisionError\u001b[0m: division by zero"
     ]
    }
   ],
   "source": [
    "num_user_review(date_range)"
   ]
  }
 ],
 "metadata": {
  "kernelspec": {
   "display_name": "env-game-recommend-sys",
   "language": "python",
   "name": "python3"
  },
  "language_info": {
   "codemirror_mode": {
    "name": "ipython",
    "version": 3
   },
   "file_extension": ".py",
   "mimetype": "text/x-python",
   "name": "python",
   "nbconvert_exporter": "python",
   "pygments_lexer": "ipython3",
   "version": "3.10.10"
  },
  "orig_nbformat": 4
 },
 "nbformat": 4,
 "nbformat_minor": 2
}
