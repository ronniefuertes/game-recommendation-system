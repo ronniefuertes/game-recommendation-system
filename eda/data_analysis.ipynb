{
 "cells": [
  {
   "cell_type": "code",
   "execution_count": 83,
   "metadata": {},
   "outputs": [
    {
     "data": {
      "text/plain": [
       "<module 'data_analysis_utils' from 's:\\\\Courses\\\\Data Science\\\\0. Henry\\\\M7 - Labs - Project MLOps _ steam\\\\game-recommendation-system\\\\eda\\\\data_analysis_utils.py'>"
      ]
     },
     "execution_count": 83,
     "metadata": {},
     "output_type": "execute_result"
    }
   ],
   "source": [
    "# Importing requiered libraries\n",
    "import ast\n",
    "import pandas as pd\n",
    "import gzip\n",
    "# import matplotlib.pyplot as plt\n",
    "import importlib\n",
    "import data_analysis_utils\n",
    "\n",
    "# Reload the functions module\n",
    "importlib.reload(data_analysis_utils)"
   ]
  },
  {
   "attachments": {},
   "cell_type": "markdown",
   "metadata": {},
   "source": [
    "# User Reviews"
   ]
  },
  {
   "attachments": {},
   "cell_type": "markdown",
   "metadata": {},
   "source": [
    "## Importing file"
   ]
  },
  {
   "cell_type": "code",
   "execution_count": 84,
   "metadata": {},
   "outputs": [],
   "source": [
    "# Importing user_reviews.csv file\n",
    "user_reviews_path = \"datasets/user_reviews.csv\"\n",
    "\n",
    "# Setting low_memory=False - To read the entire file so it determines the data types accurately. \n",
    "# Note: It can increase memory usage for larger datasets\n",
    "user_reviews_1 = pd.read_csv(user_reviews_path, low_memory=False)"
   ]
  },
  {
   "attachments": {},
   "cell_type": "markdown",
   "metadata": {},
   "source": [
    "## Data Preparation & Transformation"
   ]
  },
  {
   "attachments": {},
   "cell_type": "markdown",
   "metadata": {},
   "source": [
    "The current data "
   ]
  },
  {
   "cell_type": "code",
   "execution_count": 85,
   "metadata": {},
   "outputs": [
    {
     "name": "stdout",
     "output_type": "stream",
     "text": [
      "<class 'pandas.core.frame.DataFrame'>\n",
      "RangeIndex: 25485 entries, 0 to 25484\n",
      "Data columns (total 9 columns):\n",
      " #   Column       Non-Null Count  Dtype \n",
      "---  ------       --------------  ----- \n",
      " 0   user_id      25485 non-null  object\n",
      " 1   user_url     25485 non-null  object\n",
      " 2   item_id      25485 non-null  object\n",
      " 3   posted       25485 non-null  object\n",
      " 4   last_edited  25485 non-null  object\n",
      " 5   helpful      25485 non-null  object\n",
      " 6   recommend    25485 non-null  object\n",
      " 7   funny        25485 non-null  object\n",
      " 8   review       25485 non-null  object\n",
      "dtypes: object(9)\n",
      "memory usage: 1.8+ MB\n"
     ]
    }
   ],
   "source": [
    "user_reviews_1.info()"
   ]
  },
  {
   "cell_type": "code",
   "execution_count": 86,
   "metadata": {},
   "outputs": [],
   "source": [
    "# converting values to it's corresponding data types\n",
    "user_reviews_2 = user_reviews_1.copy()\n",
    "user_reviews_2['item_id'] = user_reviews_2['item_id'].apply(ast.literal_eval)\n",
    "user_reviews_2['posted'] = user_reviews_2['posted'].apply(ast.literal_eval)\n",
    "user_reviews_2['last_edited'] = user_reviews_2['last_edited'].apply(ast.literal_eval)\n",
    "user_reviews_2['recommend'] = user_reviews_2['recommend'].apply(ast.literal_eval)\n",
    "user_reviews_2['review'] = user_reviews_2['review'].apply(ast.literal_eval)"
   ]
  },
  {
   "attachments": {},
   "cell_type": "markdown",
   "metadata": {},
   "source": [
    "Sometimes user names can be the same between user.<br>\n",
    "Just to verify that the current user IDs are unique, and no user names.<br>\n",
    "The user IDs will be compared with user_url, duw to user_url is unique for each user."
   ]
  },
  {
   "cell_type": "code",
   "execution_count": 87,
   "metadata": {},
   "outputs": [],
   "source": [
    "# Iteration of the rows and compare them, if user IDs don't match it will print the index and the value\n",
    "for index, row in user_reviews_2.iterrows():\n",
    "    id_value = row[\"user_id\"]\n",
    "    url_value = row[\"user_url\"]\n",
    "    \n",
    "    id_len = len(id_value)\n",
    "    url_id = url_value[-id_len:]\n",
    "    if id_value != url_id:\n",
    "        print(index, id_value)"
   ]
  },
  {
   "attachments": {},
   "cell_type": "markdown",
   "metadata": {},
   "source": [
    "### Column \"posted\""
   ]
  },
  {
   "attachments": {},
   "cell_type": "markdown",
   "metadata": {},
   "source": [
    "During data preparation, some dates couldn't be converted to \"yyyy-mm-dd\", those dates will be compared with the values from \"last_edited\" column."
   ]
  },
  {
   "cell_type": "code",
   "execution_count": 88,
   "metadata": {},
   "outputs": [
    {
     "data": {
      "text/plain": [
       "{'column_name': 'posted', 'data_type_counts': {\"<class 'list'>\": 25485}}"
      ]
     },
     "execution_count": 88,
     "metadata": {},
     "output_type": "execute_result"
    }
   ],
   "source": [
    "# Verifying data type of the column\n",
    "posted_data_type = data_analysis_utils.column_data_types_summary(user_reviews_2, \"posted\")\n",
    "posted_data_type"
   ]
  },
  {
   "cell_type": "code",
   "execution_count": 89,
   "metadata": {},
   "outputs": [
    {
     "data": {
      "text/plain": [
       "{'column_name': 'last_edited', 'data_type_counts': {\"<class 'list'>\": 25485}}"
      ]
     },
     "execution_count": 89,
     "metadata": {},
     "output_type": "execute_result"
    }
   ],
   "source": [
    "# Verifying data type of the column\n",
    "posted_data_type = data_analysis_utils.column_data_types_summary(user_reviews_2, \"last_edited\")\n",
    "posted_data_type"
   ]
  },
  {
   "cell_type": "code",
   "execution_count": 90,
   "metadata": {},
   "outputs": [
    {
     "data": {
      "text/plain": [
       "{'total_rows': 25485,\n",
       " 'column_name': 'posted',\n",
       " 'num_failed_conversions': 24,\n",
       " 'report': {348: {6: 'Posted February 29.'},\n",
       "  1544: {1: 'Posted February 29.'},\n",
       "  2696: {3: 'Posted February 29.'},\n",
       "  2905: {2: 'Posted February 29.'},\n",
       "  3852: {3: 'Posted February 29.'},\n",
       "  5061: {0: 'Posted February 29.'},\n",
       "  6037: {0: 'Posted February 29.'},\n",
       "  6104: {0: 'Posted February 29.'},\n",
       "  9111: {0: 'Posted February 29.'},\n",
       "  10454: {1: 'Posted February 29.'},\n",
       "  10493: {0: 'Posted February 29.'},\n",
       "  10633: {0: 'Posted February 29.'},\n",
       "  10651: {0: 'Posted February 29.'},\n",
       "  11404: {1: 'Posted February 29.'},\n",
       "  11945: {0: 'Posted February 29.'},\n",
       "  14914: {1: 'Posted February 29.'},\n",
       "  15554: {2: 'Posted February 29.'},\n",
       "  16112: {0: 'Posted February 29.'},\n",
       "  16143: {0: 'Posted February 29.'},\n",
       "  16439: {0: 'Posted February 29.'},\n",
       "  20438: {0: 'Posted February 29.', 1: 'Posted February 29.'},\n",
       "  21898: {0: 'Posted February 29.'},\n",
       "  24150: {4: 'Posted February 29.'},\n",
       "  24457: {0: 'Posted February 29.'}}}"
      ]
     },
     "execution_count": 90,
     "metadata": {},
     "output_type": "execute_result"
    }
   ],
   "source": [
    "# Creating a copy of the dataframe\n",
    "user_reviews_3 = user_reviews_2.copy()\n",
    "\n",
    "# The \"Posted %B %d.\" patter of the datetime values of the datframe will automatically take the year 1900,\n",
    "# this will help to avoid removing date from the dataframe\n",
    "\n",
    "# Setting the original datetime patterns\n",
    "original_date_list = [\"Posted %B %d, %Y.\", \"Posted %B %d.\", \"%Y-%m-%d\"]\n",
    "\n",
    "# Transforming to datetime type using \"convert_column_to_dates\" function\n",
    "data_analysis_utils.convert_column_to_dates(user_reviews_3, \"posted\", original_date_list)"
   ]
  },
  {
   "cell_type": "code",
   "execution_count": 91,
   "metadata": {},
   "outputs": [
    {
     "name": "stdout",
     "output_type": "stream",
     "text": [
      "['1900-05-20', '1900-07-14', '1900-03-07', 'Posted February 29.', '1900-02-10', '1900-02-09', '1900-02-08']\n",
      "['', '', '', '', '', '', '']\n",
      "[True, True, True, True, True, True, True]\n"
     ]
    }
   ],
   "source": [
    "print(user_reviews_3['posted'][2696])\n",
    "print(user_reviews_3['last_edited'][2696])\n",
    "print(user_reviews_3['recommend'][2696])"
   ]
  },
  {
   "attachments": {},
   "cell_type": "markdown",
   "metadata": {},
   "source": [
    "## EDA"
   ]
  },
  {
   "attachments": {},
   "cell_type": "markdown",
   "metadata": {},
   "source": [
    "### Summary Statistics"
   ]
  },
  {
   "attachments": {},
   "cell_type": "markdown",
   "metadata": {},
   "source": [
    "### Data Visualization"
   ]
  },
  {
   "attachments": {},
   "cell_type": "markdown",
   "metadata": {},
   "source": [
    "### Correlation Analysis"
   ]
  },
  {
   "attachments": {},
   "cell_type": "markdown",
   "metadata": {},
   "source": [
    "### Feature Relationships"
   ]
  },
  {
   "attachments": {},
   "cell_type": "markdown",
   "metadata": {},
   "source": [
    "### Outlier Detection"
   ]
  },
  {
   "attachments": {},
   "cell_type": "markdown",
   "metadata": {},
   "source": [
    "### Text Analysis"
   ]
  },
  {
   "attachments": {},
   "cell_type": "markdown",
   "metadata": {},
   "source": [
    "### Documentation and Reporting"
   ]
  },
  {
   "attachments": {},
   "cell_type": "markdown",
   "metadata": {},
   "source": [
    "Sentiment analysis of review"
   ]
  },
  {
   "attachments": {},
   "cell_type": "markdown",
   "metadata": {},
   "source": []
  },
  {
   "attachments": {},
   "cell_type": "markdown",
   "metadata": {},
   "source": []
  },
  {
   "attachments": {},
   "cell_type": "markdown",
   "metadata": {},
   "source": [
    "# User Items"
   ]
  },
  {
   "attachments": {},
   "cell_type": "markdown",
   "metadata": {},
   "source": [
    "## Importing file"
   ]
  },
  {
   "cell_type": "code",
   "execution_count": 92,
   "metadata": {},
   "outputs": [],
   "source": [
    "# Importing user_items.csv file\n",
    "user_items_path = \"datasets/user_items.csv\"\n",
    "\n",
    "# Setting low_memory=False - To read the entire file so it determines the data types accurately. \n",
    "# Note: It can increase memory usage for larger datasets\n",
    "user_items_1 = pd.read_csv(user_items_path, low_memory=False)"
   ]
  },
  {
   "attachments": {},
   "cell_type": "markdown",
   "metadata": {},
   "source": [
    "## Data Preparation & Transformation"
   ]
  },
  {
   "attachments": {},
   "cell_type": "markdown",
   "metadata": {},
   "source": []
  },
  {
   "cell_type": "code",
   "execution_count": 93,
   "metadata": {},
   "outputs": [
    {
     "name": "stdout",
     "output_type": "stream",
     "text": [
      "<class 'pandas.core.frame.DataFrame'>\n",
      "RangeIndex: 87625 entries, 0 to 87624\n",
      "Data columns (total 8 columns):\n",
      " #   Column            Non-Null Count  Dtype \n",
      "---  ------            --------------  ----- \n",
      " 0   user_id           87625 non-null  object\n",
      " 1   steam_id          87625 non-null  int64 \n",
      " 2   user_url          87625 non-null  object\n",
      " 3   items_count       87625 non-null  int64 \n",
      " 4   item_id           87625 non-null  object\n",
      " 5   item_name         87625 non-null  object\n",
      " 6   playtime_forever  87625 non-null  object\n",
      " 7   playtime_2weeks   87625 non-null  object\n",
      "dtypes: int64(2), object(6)\n",
      "memory usage: 5.3+ MB\n"
     ]
    }
   ],
   "source": [
    "user_items_1.info()"
   ]
  },
  {
   "cell_type": "code",
   "execution_count": 94,
   "metadata": {},
   "outputs": [],
   "source": [
    "# converting values to it's corresponding data types\n",
    "user_items_2 = user_items_1.copy()\n",
    "user_items_2['item_id'] = user_items_2['item_id'].apply(ast.literal_eval)\n",
    "user_items_2['item_name'] = user_items_2['item_name'].apply(ast.literal_eval)\n",
    "user_items_2['playtime_forever'] = user_items_2['playtime_forever'].apply(ast.literal_eval)"
   ]
  },
  {
   "attachments": {},
   "cell_type": "markdown",
   "metadata": {},
   "source": [
    "Sometimes user names can be the same between user.<br>\n",
    "Just to verify that the current user IDs are unique, and no user names.<br>\n",
    "The user IDs will be compared with user_url, duw to user_url is unique for each user."
   ]
  },
  {
   "cell_type": "code",
   "execution_count": 95,
   "metadata": {},
   "outputs": [],
   "source": [
    "# Iteration of the rows and compare them, if user IDs don't match it will print the index and the value\n",
    "for index, row in user_items_2.iterrows():\n",
    "    id_value = row[\"user_id\"]\n",
    "    url_value = row[\"user_url\"]\n",
    "    \n",
    "    id_len = len(id_value)\n",
    "    url_id = url_value[-id_len:]\n",
    "    if id_value != url_id:\n",
    "        print(index, id_value)"
   ]
  },
  {
   "attachments": {},
   "cell_type": "markdown",
   "metadata": {},
   "source": [
    "## EDA"
   ]
  },
  {
   "attachments": {},
   "cell_type": "markdown",
   "metadata": {},
   "source": [
    "### Summary Statistics"
   ]
  },
  {
   "attachments": {},
   "cell_type": "markdown",
   "metadata": {},
   "source": [
    "### Data Visualization"
   ]
  },
  {
   "attachments": {},
   "cell_type": "markdown",
   "metadata": {},
   "source": [
    "### Correlation Analysis"
   ]
  },
  {
   "attachments": {},
   "cell_type": "markdown",
   "metadata": {},
   "source": [
    "### Feature Relationships"
   ]
  },
  {
   "attachments": {},
   "cell_type": "markdown",
   "metadata": {},
   "source": [
    "### Outlier Detection"
   ]
  },
  {
   "attachments": {},
   "cell_type": "markdown",
   "metadata": {},
   "source": [
    "### Text Analysis"
   ]
  },
  {
   "attachments": {},
   "cell_type": "markdown",
   "metadata": {},
   "source": [
    "### Documentation and Reporting"
   ]
  },
  {
   "attachments": {},
   "cell_type": "markdown",
   "metadata": {},
   "source": [
    "Sentiment analysis of review"
   ]
  },
  {
   "cell_type": "code",
   "execution_count": null,
   "metadata": {},
   "outputs": [],
   "source": []
  },
  {
   "attachments": {},
   "cell_type": "markdown",
   "metadata": {},
   "source": [
    "# Steam Games"
   ]
  },
  {
   "attachments": {},
   "cell_type": "markdown",
   "metadata": {},
   "source": [
    "## Importing file"
   ]
  },
  {
   "cell_type": "code",
   "execution_count": 96,
   "metadata": {},
   "outputs": [],
   "source": [
    "# Importing steam_games.csv file\n",
    "steam_games_path = \"datasets/steam_games.csv\"\n",
    "\n",
    "# Setting low_memory=False - To read the entire file so it determines the data types accurately. \n",
    "# Note: It can increase memory usage for larger datasets\n",
    "steam_games_1 = pd.read_csv(steam_games_path, low_memory=False)"
   ]
  },
  {
   "attachments": {},
   "cell_type": "markdown",
   "metadata": {},
   "source": [
    "## Data Preparation & Transformation"
   ]
  },
  {
   "cell_type": "code",
   "execution_count": 97,
   "metadata": {},
   "outputs": [
    {
     "name": "stdout",
     "output_type": "stream",
     "text": [
      "<class 'pandas.core.frame.DataFrame'>\n",
      "RangeIndex: 32134 entries, 0 to 32133\n",
      "Data columns (total 13 columns):\n",
      " #   Column        Non-Null Count  Dtype  \n",
      "---  ------        --------------  -----  \n",
      " 0   publisher     24063 non-null  object \n",
      " 1   genres        28851 non-null  object \n",
      " 2   app_name      32132 non-null  object \n",
      " 3   title         30084 non-null  object \n",
      " 4   url           32134 non-null  object \n",
      " 5   release_date  30067 non-null  object \n",
      " 6   tags          31971 non-null  object \n",
      " 7   reviews_url   32132 non-null  object \n",
      " 8   specs         31464 non-null  object \n",
      " 9   price         30757 non-null  float64\n",
      " 10  early_access  32134 non-null  bool   \n",
      " 11  id            32132 non-null  float64\n",
      " 12  developer     28835 non-null  object \n",
      "dtypes: bool(1), float64(2), object(10)\n",
      "memory usage: 3.0+ MB\n"
     ]
    }
   ],
   "source": [
    "steam_games_1.info()"
   ]
  },
  {
   "cell_type": "code",
   "execution_count": 98,
   "metadata": {},
   "outputs": [],
   "source": [
    "steam_games_2 = steam_games_1.copy()\n",
    "\n",
    "# Converting values to their repective data types\n",
    "# \"specs\" and \"genres\" have nan values.\n",
    "\n",
    "# Apply safe_literal_eval to the columns\n",
    "steam_games_2['genres'] = steam_games_2['genres'].apply(data_analysis_utils.safe_literal_eval)\n",
    "steam_games_2['specs'] = steam_games_2['specs'].apply(data_analysis_utils.safe_literal_eval)"
   ]
  },
  {
   "attachments": {},
   "cell_type": "markdown",
   "metadata": {},
   "source": [
    "Games ID have 2 missing values, verifying these values with corresponding game url.<br>"
   ]
  },
  {
   "cell_type": "code",
   "execution_count": 99,
   "metadata": {},
   "outputs": [
    {
     "name": "stdout",
     "output_type": "stream",
     "text": [
      "74 n\n",
      "30960 n\n"
     ]
    }
   ],
   "source": [
    "# Iteration of the rows and compare them, if user IDs don't match it will print the index and the value\n",
    "for index, row in steam_games_2.iterrows():\n",
    "    id_value = str(row[\"id\"])[:-2]\n",
    "    url_value = row[\"url\"]\n",
    "    \n",
    "    id_len = len(id_value)\n",
    "    url_id = url_value[34:34+id_len]\n",
    "    if id_value != url_id:\n",
    "        print(index, id_value)"
   ]
  },
  {
   "attachments": {},
   "cell_type": "markdown",
   "metadata": {},
   "source": [
    "If possible, inserting the ids extracted from the url."
   ]
  },
  {
   "cell_type": "code",
   "execution_count": 100,
   "metadata": {},
   "outputs": [
    {
     "data": {
      "text/plain": [
       "'http://store.steampowered.com/app/200260'"
      ]
     },
     "execution_count": 100,
     "metadata": {},
     "output_type": "execute_result"
    }
   ],
   "source": [
    "# 1st id value\n",
    "steam_games_2[\"url\"][30960]"
   ]
  },
  {
   "cell_type": "code",
   "execution_count": 101,
   "metadata": {},
   "outputs": [
    {
     "data": {
      "text/plain": [
       "Index([1068], dtype='int64')"
      ]
     },
     "execution_count": 101,
     "metadata": {},
     "output_type": "execute_result"
    }
   ],
   "source": [
    "# Search for the value in the 'id' column and get the indices\n",
    "indices = steam_games_2[steam_games_2[\"id\"] == 200260].index\n",
    "indices"
   ]
  },
  {
   "attachments": {},
   "cell_type": "markdown",
   "metadata": {},
   "source": [
    "The ID already exist"
   ]
  },
  {
   "cell_type": "code",
   "execution_count": 102,
   "metadata": {},
   "outputs": [
    {
     "data": {
      "text/plain": [
       "Index([], dtype='int64')"
      ]
     },
     "execution_count": 102,
     "metadata": {},
     "output_type": "execute_result"
    }
   ],
   "source": [
    "# Deleting corresponding duplicate value\n",
    "steam_games_2 = steam_games_2.drop(30960)\n",
    "\n",
    "# Verifying previous action\n",
    "indices = steam_games_2[steam_games_2[\"id\"] == 30960].index\n",
    "indices"
   ]
  },
  {
   "cell_type": "code",
   "execution_count": 103,
   "metadata": {},
   "outputs": [
    {
     "data": {
      "text/plain": [
       "'http://store.steampowered.com/'"
      ]
     },
     "execution_count": 103,
     "metadata": {},
     "output_type": "execute_result"
    }
   ],
   "source": [
    "# 2nd value\n",
    "steam_games_2[\"url\"][74]"
   ]
  },
  {
   "cell_type": "code",
   "execution_count": 104,
   "metadata": {},
   "outputs": [
    {
     "name": "stdout",
     "output_type": "stream",
     "text": [
      "publisher                                  NaN\n",
      "genres                                     NaN\n",
      "app_name                                   NaN\n",
      "title                                      NaN\n",
      "url             http://store.steampowered.com/\n",
      "release_date                               NaN\n",
      "tags                                       NaN\n",
      "reviews_url                                NaN\n",
      "specs                                      NaN\n",
      "price                                    19.99\n",
      "early_access                             False\n",
      "id                                         NaN\n",
      "developer                                  NaN\n",
      "Name: 74, dtype: object\n"
     ]
    }
   ],
   "source": [
    "# Extract the row using .iloc and print it\n",
    "value_data = steam_games_2.iloc[74]\n",
    "print(value_data)"
   ]
  },
  {
   "attachments": {},
   "cell_type": "markdown",
   "metadata": {},
   "source": [
    "A lot of information is missing, the value isn't relevant, the value is deleted."
   ]
  },
  {
   "cell_type": "code",
   "execution_count": 105,
   "metadata": {},
   "outputs": [
    {
     "data": {
      "text/plain": [
       "Index([], dtype='int64')"
      ]
     },
     "execution_count": 105,
     "metadata": {},
     "output_type": "execute_result"
    }
   ],
   "source": [
    "# Deleting corresponding value\n",
    "steam_games_2 = steam_games_2.drop(74)\n",
    "\n",
    "# Verifying previous action\n",
    "indices = steam_games_2[steam_games_2[\"id\"] == 74].index\n",
    "indices"
   ]
  },
  {
   "attachments": {},
   "cell_type": "markdown",
   "metadata": {},
   "source": [
    "## EDA"
   ]
  },
  {
   "attachments": {},
   "cell_type": "markdown",
   "metadata": {},
   "source": [
    "### Summary Statistics"
   ]
  },
  {
   "attachments": {},
   "cell_type": "markdown",
   "metadata": {},
   "source": [
    "### Data Visualization"
   ]
  },
  {
   "attachments": {},
   "cell_type": "markdown",
   "metadata": {},
   "source": [
    "### Correlation Analysis"
   ]
  },
  {
   "attachments": {},
   "cell_type": "markdown",
   "metadata": {},
   "source": [
    "### Feature Relationships"
   ]
  },
  {
   "attachments": {},
   "cell_type": "markdown",
   "metadata": {},
   "source": [
    "### Outlier Detection"
   ]
  },
  {
   "attachments": {},
   "cell_type": "markdown",
   "metadata": {},
   "source": [
    "### Text Analysis"
   ]
  },
  {
   "attachments": {},
   "cell_type": "markdown",
   "metadata": {},
   "source": [
    "### Documentation and Reporting"
   ]
  },
  {
   "attachments": {},
   "cell_type": "markdown",
   "metadata": {},
   "source": [
    "Sentiment analysis of review"
   ]
  },
  {
   "cell_type": "code",
   "execution_count": null,
   "metadata": {},
   "outputs": [],
   "source": []
  },
  {
   "cell_type": "code",
   "execution_count": null,
   "metadata": {},
   "outputs": [],
   "source": []
  },
  {
   "attachments": {},
   "cell_type": "markdown",
   "metadata": {},
   "source": [
    "# Creating files"
   ]
  },
  {
   "attachments": {},
   "cell_type": "markdown",
   "metadata": {},
   "source": [
    "## API Function 1 \"userdata\""
   ]
  },
  {
   "attachments": {},
   "cell_type": "markdown",
   "metadata": {},
   "source": [
    "Return amount of money spent by the user, the recommendation percentage based on reviews."
   ]
  },
  {
   "attachments": {},
   "cell_type": "markdown",
   "metadata": {},
   "source": [
    "### Creating dataframes"
   ]
  },
  {
   "attachments": {},
   "cell_type": "markdown",
   "metadata": {},
   "source": [
    "Creating new dataframes with only the necessary columns"
   ]
  },
  {
   "cell_type": "code",
   "execution_count": 106,
   "metadata": {},
   "outputs": [
    {
     "name": "stdout",
     "output_type": "stream",
     "text": [
      "Index(['user_id', 'user_url', 'item_id', 'posted', 'last_edited', 'helpful',\n",
      "       'recommend', 'funny', 'review'],\n",
      "      dtype='object')\n",
      "Index(['user_id', 'steam_id', 'user_url', 'items_count', 'item_id',\n",
      "       'item_name', 'playtime_forever', 'playtime_2weeks'],\n",
      "      dtype='object')\n",
      "Index(['publisher', 'genres', 'app_name', 'title', 'url', 'release_date',\n",
      "       'tags', 'reviews_url', 'specs', 'price', 'early_access', 'id',\n",
      "       'developer'],\n",
      "      dtype='object')\n"
     ]
    }
   ],
   "source": [
    "print(user_reviews_3.columns)\n",
    "print(user_items_2.columns)\n",
    "print(steam_games_2.columns)"
   ]
  },
  {
   "cell_type": "code",
   "execution_count": 107,
   "metadata": {},
   "outputs": [],
   "source": [
    "# Necessary data:\n",
    "\n",
    "# user_reviews = user_id, user_url, recommend\n",
    "# user_items = user_url, items_count, item_id\n",
    "# steam_games = id, price\n",
    "\n",
    "user_reviews_columns = [\"user_id\", \"item_id\", \"recommend\"]\n",
    "user_items_columns = [\"user_id\", \"items_count\", \"item_id\"]\n",
    "steam_games_columns = [\"id\", \"price\"]\n",
    "\n",
    "# Create new DataFrames with only the selected columns\n",
    "user_reviews_dataframe_1 = user_reviews_2[user_reviews_columns]\n",
    "user_items_dataframe_1 = user_items_2[user_items_columns]\n",
    "steam_games_dataframe_1 = steam_games_2[steam_games_columns]"
   ]
  },
  {
   "attachments": {},
   "cell_type": "markdown",
   "metadata": {},
   "source": [
    "### Merging dataframes"
   ]
  },
  {
   "attachments": {},
   "cell_type": "markdown",
   "metadata": {},
   "source": [
    "#### Columns \"recommend\" and \"item_id\""
   ]
  },
  {
   "attachments": {},
   "cell_type": "markdown",
   "metadata": {},
   "source": [
    "The user_items dataframe have more data than user_reviews.<br>\n",
    "Identifying missing user_id values from user_reviews in user_items."
   ]
  },
  {
   "cell_type": "code",
   "execution_count": 108,
   "metadata": {},
   "outputs": [
    {
     "name": "stdout",
     "output_type": "stream",
     "text": [
      "Missing User IDs:\n",
      "1979                  Revan_Aldrei\n",
      "4044                   BestCyanide\n",
      "8675           RuslaNLoveStefochka\n",
      "15513    profiles76561198094860288\n",
      "Name: user_id, dtype: object\n"
     ]
    }
   ],
   "source": [
    "# Identify missing user_id values\n",
    "missing_user_ids = user_reviews_dataframe_1[~user_reviews_dataframe_1[\"user_id\"].isin(user_items_dataframe_1[\"user_id\"])]\n",
    "\n",
    "# Create a summary of missing user_id values\n",
    "missing_user_id_summary = missing_user_ids[\"user_id\"]\n",
    "\n",
    "# Display the missing user_id summary\n",
    "print(\"Missing User IDs:\")\n",
    "print(missing_user_id_summary)"
   ]
  },
  {
   "attachments": {},
   "cell_type": "markdown",
   "metadata": {},
   "source": [
    "When merging dataframes, this values must be also considered."
   ]
  },
  {
   "attachments": {},
   "cell_type": "markdown",
   "metadata": {},
   "source": [
    "##### Renaming the \"item_id\" column from user_reviews to \"item_id_rcmnd\""
   ]
  },
  {
   "attachments": {},
   "cell_type": "markdown",
   "metadata": {},
   "source": [
    "To avoid conflicts between \"item_id\" columns from both dataframes, due to both columns represent different content.<br>\n",
    "- \"item_id\" from user_reviews, represents the ids of the games reviewed.\n",
    "- \"itme_id\" from user_items, represents the ids of all the games owned by the user.\n"
   ]
  },
  {
   "cell_type": "code",
   "execution_count": 109,
   "metadata": {},
   "outputs": [
    {
     "name": "stdout",
     "output_type": "stream",
     "text": [
      "10\n",
      "215280\n"
     ]
    }
   ],
   "source": [
    "# Proof of difference between values\n",
    "print(user_items_dataframe_1[\"item_id\"][10000][0])\n",
    "print(user_reviews_dataframe_1[\"item_id\"][10000][0])"
   ]
  },
  {
   "cell_type": "code",
   "execution_count": 110,
   "metadata": {},
   "outputs": [
    {
     "name": "stderr",
     "output_type": "stream",
     "text": [
      "C:\\Users\\Ronnie\\AppData\\Local\\Temp\\ipykernel_11972\\3527484091.py:2: SettingWithCopyWarning: \n",
      "A value is trying to be set on a copy of a slice from a DataFrame\n",
      "\n",
      "See the caveats in the documentation: https://pandas.pydata.org/pandas-docs/stable/user_guide/indexing.html#returning-a-view-versus-a-copy\n",
      "  user_reviews_dataframe_1.rename(columns={\"item_id\": \"item_id_rcmnd\"}, inplace=True)\n"
     ]
    }
   ],
   "source": [
    "# Rename the column \n",
    "user_reviews_dataframe_1.rename(columns={\"item_id\": \"item_id_rcmnd\"}, inplace=True)"
   ]
  },
  {
   "cell_type": "code",
   "execution_count": 111,
   "metadata": {},
   "outputs": [
    {
     "data": {
      "text/html": [
       "<div>\n",
       "<style scoped>\n",
       "    .dataframe tbody tr th:only-of-type {\n",
       "        vertical-align: middle;\n",
       "    }\n",
       "\n",
       "    .dataframe tbody tr th {\n",
       "        vertical-align: top;\n",
       "    }\n",
       "\n",
       "    .dataframe thead th {\n",
       "        text-align: right;\n",
       "    }\n",
       "</style>\n",
       "<table border=\"1\" class=\"dataframe\">\n",
       "  <thead>\n",
       "    <tr style=\"text-align: right;\">\n",
       "      <th></th>\n",
       "      <th>user_id</th>\n",
       "      <th>item_id_rcmnd</th>\n",
       "      <th>recommend</th>\n",
       "    </tr>\n",
       "  </thead>\n",
       "  <tbody>\n",
       "    <tr>\n",
       "      <th>0</th>\n",
       "      <td>76561197970982479</td>\n",
       "      <td>[1250, 22200, 43110]</td>\n",
       "      <td>[True, True, True]</td>\n",
       "    </tr>\n",
       "    <tr>\n",
       "      <th>1</th>\n",
       "      <td>js41637</td>\n",
       "      <td>[251610, 227300, 239030]</td>\n",
       "      <td>[True, True, True]</td>\n",
       "    </tr>\n",
       "    <tr>\n",
       "      <th>2</th>\n",
       "      <td>evcentric</td>\n",
       "      <td>[248820, 370360, 237930, 263360, 107200, 224500]</td>\n",
       "      <td>[True, True, True, True, True, True]</td>\n",
       "    </tr>\n",
       "    <tr>\n",
       "      <th>3</th>\n",
       "      <td>doctr</td>\n",
       "      <td>[250320, 20920, 204100, 224600, 207610, 108710]</td>\n",
       "      <td>[True, True, True, True, True, True]</td>\n",
       "    </tr>\n",
       "    <tr>\n",
       "      <th>4</th>\n",
       "      <td>maplemage</td>\n",
       "      <td>[211420, 211820, 730, 204300]</td>\n",
       "      <td>[True, True, True, True]</td>\n",
       "    </tr>\n",
       "    <tr>\n",
       "      <th>...</th>\n",
       "      <td>...</td>\n",
       "      <td>...</td>\n",
       "      <td>...</td>\n",
       "    </tr>\n",
       "    <tr>\n",
       "      <th>25480</th>\n",
       "      <td>76561198306599751</td>\n",
       "      <td>[261030]</td>\n",
       "      <td>[True]</td>\n",
       "    </tr>\n",
       "    <tr>\n",
       "      <th>25481</th>\n",
       "      <td>Ghoustik</td>\n",
       "      <td>[730]</td>\n",
       "      <td>[True]</td>\n",
       "    </tr>\n",
       "    <tr>\n",
       "      <th>25482</th>\n",
       "      <td>76561198310819422</td>\n",
       "      <td>[570]</td>\n",
       "      <td>[True]</td>\n",
       "    </tr>\n",
       "    <tr>\n",
       "      <th>25483</th>\n",
       "      <td>76561198312638244</td>\n",
       "      <td>[233270, 130, 70, 362890]</td>\n",
       "      <td>[True, True, True, True]</td>\n",
       "    </tr>\n",
       "    <tr>\n",
       "      <th>25484</th>\n",
       "      <td>LydiaMorley</td>\n",
       "      <td>[273110, 730, 440]</td>\n",
       "      <td>[True, True, True]</td>\n",
       "    </tr>\n",
       "  </tbody>\n",
       "</table>\n",
       "<p>25485 rows × 3 columns</p>\n",
       "</div>"
      ],
      "text/plain": [
       "                 user_id                                     item_id_rcmnd  \\\n",
       "0      76561197970982479                              [1250, 22200, 43110]   \n",
       "1                js41637                          [251610, 227300, 239030]   \n",
       "2              evcentric  [248820, 370360, 237930, 263360, 107200, 224500]   \n",
       "3                  doctr   [250320, 20920, 204100, 224600, 207610, 108710]   \n",
       "4              maplemage                     [211420, 211820, 730, 204300]   \n",
       "...                  ...                                               ...   \n",
       "25480  76561198306599751                                          [261030]   \n",
       "25481           Ghoustik                                             [730]   \n",
       "25482  76561198310819422                                             [570]   \n",
       "25483  76561198312638244                         [233270, 130, 70, 362890]   \n",
       "25484        LydiaMorley                                [273110, 730, 440]   \n",
       "\n",
       "                                  recommend  \n",
       "0                        [True, True, True]  \n",
       "1                        [True, True, True]  \n",
       "2      [True, True, True, True, True, True]  \n",
       "3      [True, True, True, True, True, True]  \n",
       "4                  [True, True, True, True]  \n",
       "...                                     ...  \n",
       "25480                                [True]  \n",
       "25481                                [True]  \n",
       "25482                                [True]  \n",
       "25483              [True, True, True, True]  \n",
       "25484                    [True, True, True]  \n",
       "\n",
       "[25485 rows x 3 columns]"
      ]
     },
     "execution_count": 111,
     "metadata": {},
     "output_type": "execute_result"
    }
   ],
   "source": [
    "user_reviews_dataframe_1"
   ]
  },
  {
   "cell_type": "code",
   "execution_count": 112,
   "metadata": {},
   "outputs": [
    {
     "name": "stdout",
     "output_type": "stream",
     "text": [
      "<class 'pandas.core.frame.DataFrame'>\n",
      "RangeIndex: 87625 entries, 0 to 87624\n",
      "Data columns (total 3 columns):\n",
      " #   Column       Non-Null Count  Dtype \n",
      "---  ------       --------------  ----- \n",
      " 0   user_id      87625 non-null  object\n",
      " 1   items_count  87625 non-null  int64 \n",
      " 2   item_id      87625 non-null  object\n",
      "dtypes: int64(1), object(2)\n",
      "memory usage: 2.0+ MB\n"
     ]
    }
   ],
   "source": [
    "user_items_dataframe_1.info()"
   ]
  },
  {
   "attachments": {},
   "cell_type": "markdown",
   "metadata": {},
   "source": [
    "##### Merging \"user_reviews\" and \"user_items\" dataframes"
   ]
  },
  {
   "cell_type": "code",
   "execution_count": 113,
   "metadata": {},
   "outputs": [
    {
     "name": "stdout",
     "output_type": "stream",
     "text": [
      "<class 'pandas.core.frame.DataFrame'>\n",
      "RangeIndex: 87629 entries, 0 to 87628\n",
      "Data columns (total 5 columns):\n",
      " #   Column         Non-Null Count  Dtype  \n",
      "---  ------         --------------  -----  \n",
      " 0   user_id        87629 non-null  object \n",
      " 1   items_count    87625 non-null  float64\n",
      " 2   item_id        87625 non-null  object \n",
      " 3   item_id_rcmnd  25485 non-null  object \n",
      " 4   recommend      25485 non-null  object \n",
      "dtypes: float64(1), object(4)\n",
      "memory usage: 3.3+ MB\n"
     ]
    }
   ],
   "source": [
    "# Merge the two DataFrames using an outer join\n",
    "users_dataframe_1 = pd.merge(user_items_dataframe_1, user_reviews_dataframe_1, on=\"user_id\", how=\"outer\")\n",
    "users_dataframe_1.info()"
   ]
  },
  {
   "attachments": {},
   "cell_type": "markdown",
   "metadata": {},
   "source": [
    "Verifying all columns have its corresponding values."
   ]
  },
  {
   "cell_type": "code",
   "execution_count": 114,
   "metadata": {},
   "outputs": [
    {
     "data": {
      "text/plain": [
       "{'column_name': 'item_id',\n",
       " 'data_type_counts': {\"<class 'list'>\": 87625, \"<class 'float'>\": 4}}"
      ]
     },
     "execution_count": 114,
     "metadata": {},
     "output_type": "execute_result"
    }
   ],
   "source": [
    "# Verifying data types of the \"item_id\" column\n",
    "item_id_summary = data_analysis_utils.column_data_types_summary(users_dataframe_1, \"item_id\")\n",
    "item_id_summary"
   ]
  },
  {
   "cell_type": "code",
   "execution_count": 115,
   "metadata": {},
   "outputs": [
    {
     "name": "stdout",
     "output_type": "stream",
     "text": [
      "index: 87625, user_id: Revan_Aldrei, items_count: nan, item_id_rcmnd: [233720, 55230, 22380, 313371, 215280, 33100, 250600, 214560]\n",
      "index: 87626, user_id: BestCyanide, items_count: nan, item_id_rcmnd: [730]\n",
      "index: 87627, user_id: RuslaNLoveStefochka, items_count: nan, item_id_rcmnd: [730]\n",
      "index: 87628, user_id: profiles76561198094860288, items_count: nan, item_id_rcmnd: [245550, 206420, 304930, 730, 570]\n"
     ]
    }
   ],
   "source": [
    "# Iterating over the column to know indices of float values\n",
    "for index, row in users_dataframe_1.iterrows():\n",
    "    value = row[\"item_id\"]\n",
    "    user_id = row[\"user_id\"]\n",
    "    items_count = row[\"items_count\"]\n",
    "    item_id_rcmnd = row[\"item_id_rcmnd\"]\n",
    "    \n",
    "    if type(value) == float:\n",
    "        print(f\"index: {index}, user_id: {user_id}, items_count: {items_count}, item_id_rcmnd: {item_id_rcmnd}\")"
   ]
  },
  {
   "attachments": {},
   "cell_type": "markdown",
   "metadata": {},
   "source": [
    "Manually inserting corresponding values to \"items_count\" and \"item_id\""
   ]
  },
  {
   "cell_type": "code",
   "execution_count": 116,
   "metadata": {},
   "outputs": [],
   "source": [
    "# Iterating through rows to insert corresponding values\n",
    "idx_list = [87625, 87626, 87627, 87628]\n",
    "\n",
    "for idx in idx_list:\n",
    "    id_list = users_dataframe_1[\"item_id_rcmnd\"][idx]\n",
    "    list_len = len(id_list)\n",
    "\n",
    "    users_dataframe_1.loc[idx, \"items_count\"] = list_len\n",
    "    # Converting to str type to avoid conflicts\n",
    "    users_dataframe_1.loc[idx, \"item_id\"] = str(id_list)"
   ]
  },
  {
   "cell_type": "code",
   "execution_count": 117,
   "metadata": {},
   "outputs": [],
   "source": [
    "# Applying literal eval to transform to list type, and numeric type\n",
    "users_dataframe_1['item_id'] = users_dataframe_1['item_id'].apply(data_analysis_utils.safe_literal_eval)\n",
    "users_dataframe_1['items_count'] = users_dataframe_1['items_count'].apply(data_analysis_utils.safe_literal_eval)"
   ]
  },
  {
   "attachments": {},
   "cell_type": "markdown",
   "metadata": {},
   "source": [
    "##### Merging values from both lists \"item_id\" and \"item_id_rcmnd\""
   ]
  },
  {
   "attachments": {},
   "cell_type": "markdown",
   "metadata": {},
   "source": [
    "The values from \"item_id\" will be the complete list of games owned by the user "
   ]
  },
  {
   "cell_type": "code",
   "execution_count": 118,
   "metadata": {},
   "outputs": [],
   "source": [
    "# Calling the function to merge values from lists\n",
    "data_analysis_utils.merge_values(users_dataframe_1, \"item_id\", \"item_id_rcmnd\")"
   ]
  },
  {
   "attachments": {},
   "cell_type": "markdown",
   "metadata": {},
   "source": [
    "##### Correcting values of \"items_count\""
   ]
  },
  {
   "cell_type": "code",
   "execution_count": 119,
   "metadata": {},
   "outputs": [],
   "source": [
    "# Iterating through the rows of the dataframe to carrect values\n",
    "for index, row in users_dataframe_1.iterrows():\n",
    "    count = row[\"items_count\"]\n",
    "    id_list = row[\"item_id\"]\n",
    "\n",
    "    list_len = len(id_list)\n",
    "    \n",
    "    if count != list_len:\n",
    "        users_dataframe_1.at[index, \"items_count\"] = list_len\n",
    "        "
   ]
  },
  {
   "attachments": {},
   "cell_type": "markdown",
   "metadata": {},
   "source": [
    "### Generating file"
   ]
  },
  {
   "cell_type": "code",
   "execution_count": 120,
   "metadata": {},
   "outputs": [],
   "source": [
    "# Necessary data\n",
    "necessary_columns = [\"user_id\", \"items_count\", \"item_id\", \"recommend\"]\n",
    "\n",
    "# Saving the dataframe to a csv format file\n",
    "# The file will be stored in api inside a the datasets folder \n",
    "users_dataframe_1[necessary_columns].to_csv('../api/datasets/user_data_1.csv', index=False)\n",
    "steam_games_dataframe_1.to_csv('../api/datasets/games_data_1.csv', index=False)"
   ]
  },
  {
   "attachments": {},
   "cell_type": "markdown",
   "metadata": {},
   "source": [
    "compressing files"
   ]
  },
  {
   "cell_type": "code",
   "execution_count": 121,
   "metadata": {},
   "outputs": [],
   "source": [
    "# # Compress the CSV file using gzip and save it to a compressed file\n",
    "# with open('../api/datasets/user_data_1.csv', 'rb') as input_file:\n",
    "#     with gzip.open('../api/datasets/user_data_1.csv.gz', 'wb') as compressed_file:\n",
    "#         compressed_file.writelines(input_file)\n",
    "\n",
    "# print(\"user_data_1 has been compressed and saved to 'user_data_1.csv.gz'.\")"
   ]
  },
  {
   "cell_type": "code",
   "execution_count": 122,
   "metadata": {},
   "outputs": [],
   "source": [
    "# # Compress the CSV file using gzip and save it to a compressed file\n",
    "# with open('../api/datasets/games_data_1.csv', 'rb') as input_file:\n",
    "#     with gzip.open('../api/datasets/games_data_1.csv.gz', 'wb') as compressed_file:\n",
    "#         compressed_file.writelines(input_file)\n",
    "\n",
    "# print(\"games_data_1 has been compressed and saved to 'games_data_1.csv.gz'.\")"
   ]
  },
  {
   "attachments": {},
   "cell_type": "markdown",
   "metadata": {},
   "source": [
    "## API Function 2 \"countreviews\""
   ]
  },
  {
   "attachments": {},
   "cell_type": "markdown",
   "metadata": {},
   "source": [
    "Returns the number of users who made reviews between the given dates and their recommendation percentage based on reviews"
   ]
  },
  {
   "attachments": {},
   "cell_type": "markdown",
   "metadata": {},
   "source": [
    "### Creating dataframes"
   ]
  },
  {
   "attachments": {},
   "cell_type": "markdown",
   "metadata": {},
   "source": [
    "Creating new dataframes with only the necessary columns"
   ]
  },
  {
   "cell_type": "code",
   "execution_count": 123,
   "metadata": {},
   "outputs": [
    {
     "name": "stdout",
     "output_type": "stream",
     "text": [
      "Index(['user_id', 'user_url', 'item_id', 'posted', 'last_edited', 'helpful',\n",
      "       'recommend', 'funny', 'review'],\n",
      "      dtype='object')\n"
     ]
    }
   ],
   "source": [
    "print(user_reviews_3.columns)"
   ]
  },
  {
   "cell_type": "code",
   "execution_count": 124,
   "metadata": {},
   "outputs": [],
   "source": [
    "# Necessary data:\n",
    "\n",
    "# user_reviews = user_id, posted, recommend\n",
    "user_reviews_columns = [\"posted\", \"recommend\"]\n",
    "\n",
    "# Create new DataFrames with only the selected columns\n",
    "user_reviews_dataframe_2 = user_reviews_3[user_reviews_columns]"
   ]
  },
  {
   "attachments": {},
   "cell_type": "markdown",
   "metadata": {},
   "source": [
    "### Generating file"
   ]
  },
  {
   "cell_type": "code",
   "execution_count": 125,
   "metadata": {},
   "outputs": [],
   "source": [
    "# Saving the dataframe to a csv format file\n",
    "# The file will be stored in api inside a the datasets folder \n",
    "user_reviews_dataframe_2.to_csv('../api/datasets/user_data_2.csv', index=False)"
   ]
  },
  {
   "attachments": {},
   "cell_type": "markdown",
   "metadata": {},
   "source": [
    "## API Function 3 \"genre\""
   ]
  },
  {
   "attachments": {},
   "cell_type": "markdown",
   "metadata": {},
   "source": [
    "## API Function 4 \"userforgenre\""
   ]
  },
  {
   "attachments": {},
   "cell_type": "markdown",
   "metadata": {},
   "source": [
    "## API Function 5 \"developer\""
   ]
  },
  {
   "attachments": {},
   "cell_type": "markdown",
   "metadata": {},
   "source": [
    "## API Function 6 \"sentiment_analysis\""
   ]
  },
  {
   "attachments": {},
   "cell_type": "markdown",
   "metadata": {},
   "source": [
    "## API Function 7 ML \"game_recommendation\""
   ]
  },
  {
   "cell_type": "code",
   "execution_count": null,
   "metadata": {},
   "outputs": [],
   "source": []
  },
  {
   "cell_type": "code",
   "execution_count": null,
   "metadata": {},
   "outputs": [],
   "source": []
  },
  {
   "cell_type": "code",
   "execution_count": null,
   "metadata": {},
   "outputs": [],
   "source": []
  }
 ],
 "metadata": {
  "kernelspec": {
   "display_name": "env-game-recommend-sys",
   "language": "python",
   "name": "python3"
  },
  "language_info": {
   "codemirror_mode": {
    "name": "ipython",
    "version": 3
   },
   "file_extension": ".py",
   "mimetype": "text/x-python",
   "name": "python",
   "nbconvert_exporter": "python",
   "pygments_lexer": "ipython3",
   "version": "3.10.10"
  },
  "orig_nbformat": 4
 },
 "nbformat": 4,
 "nbformat_minor": 2
}
