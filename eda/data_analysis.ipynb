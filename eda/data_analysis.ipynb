{
 "cells": [
  {
   "cell_type": "code",
   "execution_count": 126,
   "metadata": {},
   "outputs": [
    {
     "data": {
      "text/plain": [
       "<module 'data_analysis_utils' from 's:\\\\Courses\\\\Data Science\\\\0. Henry\\\\M7 - Labs - Project MLOps _ steam\\\\game-recommendation-system\\\\eda\\\\data_analysis_utils.py'>"
      ]
     },
     "execution_count": 126,
     "metadata": {},
     "output_type": "execute_result"
    }
   ],
   "source": [
    "# Importing requiered libraries\n",
    "import ast\n",
    "import pandas as pd\n",
    "import gzip\n",
    "# import matplotlib.pyplot as plt\n",
    "import importlib\n",
    "import data_analysis_utils\n",
    "\n",
    "# Reload the functions module\n",
    "importlib.reload(data_analysis_utils)"
   ]
  },
  {
   "attachments": {},
   "cell_type": "markdown",
   "metadata": {},
   "source": [
    "# User Reviews"
   ]
  },
  {
   "attachments": {},
   "cell_type": "markdown",
   "metadata": {},
   "source": [
    "## Importing file"
   ]
  },
  {
   "cell_type": "code",
   "execution_count": 127,
   "metadata": {},
   "outputs": [],
   "source": [
    "# Importing user_reviews.csv file\n",
    "user_reviews_path = \"datasets/user_reviews.csv\"\n",
    "\n",
    "# Setting low_memory=False - To read the entire file so it determines the data types accurately. \n",
    "# Note: It can increase memory usage for larger datasets\n",
    "user_reviews_1 = pd.read_csv(user_reviews_path, low_memory=False)"
   ]
  },
  {
   "attachments": {},
   "cell_type": "markdown",
   "metadata": {},
   "source": [
    "## Data Preparation & Transformation"
   ]
  },
  {
   "attachments": {},
   "cell_type": "markdown",
   "metadata": {},
   "source": [
    "The current data "
   ]
  },
  {
   "cell_type": "code",
   "execution_count": 128,
   "metadata": {},
   "outputs": [
    {
     "name": "stdout",
     "output_type": "stream",
     "text": [
      "<class 'pandas.core.frame.DataFrame'>\n",
      "RangeIndex: 25485 entries, 0 to 25484\n",
      "Data columns (total 9 columns):\n",
      " #   Column       Non-Null Count  Dtype \n",
      "---  ------       --------------  ----- \n",
      " 0   user_id      25485 non-null  object\n",
      " 1   user_url     25485 non-null  object\n",
      " 2   item_id      25485 non-null  object\n",
      " 3   posted       25485 non-null  object\n",
      " 4   last_edited  25485 non-null  object\n",
      " 5   helpful      25485 non-null  object\n",
      " 6   recommend    25485 non-null  object\n",
      " 7   funny        25485 non-null  object\n",
      " 8   review       25485 non-null  object\n",
      "dtypes: object(9)\n",
      "memory usage: 1.8+ MB\n"
     ]
    }
   ],
   "source": [
    "user_reviews_1.info()"
   ]
  },
  {
   "cell_type": "code",
   "execution_count": 129,
   "metadata": {},
   "outputs": [],
   "source": [
    "# converting values to it's corresponding data types\n",
    "user_reviews_2 = user_reviews_1.copy()\n",
    "user_reviews_2['item_id'] = user_reviews_2['item_id'].apply(ast.literal_eval)\n",
    "user_reviews_2['posted'] = user_reviews_2['posted'].apply(ast.literal_eval)\n",
    "user_reviews_2['last_edited'] = user_reviews_2['last_edited'].apply(ast.literal_eval)\n",
    "user_reviews_2['recommend'] = user_reviews_2['recommend'].apply(ast.literal_eval)\n",
    "user_reviews_2['review'] = user_reviews_2['review'].apply(ast.literal_eval)"
   ]
  },
  {
   "attachments": {},
   "cell_type": "markdown",
   "metadata": {},
   "source": [
    "Sometimes user names can be the same between user.<br>\n",
    "Just to verify that the current user IDs are unique, and no user names.<br>\n",
    "The user IDs will be compared with user_url, duw to user_url is unique for each user."
   ]
  },
  {
   "cell_type": "code",
   "execution_count": 130,
   "metadata": {},
   "outputs": [],
   "source": [
    "# Iteration of the rows and compare them, if user IDs don't match it will print the index and the value\n",
    "for index, row in user_reviews_2.iterrows():\n",
    "    id_value = row[\"user_id\"]\n",
    "    url_value = row[\"user_url\"]\n",
    "    \n",
    "    id_len = len(id_value)\n",
    "    url_id = url_value[-id_len:]\n",
    "    if id_value != url_id:\n",
    "        print(index, id_value)"
   ]
  },
  {
   "attachments": {},
   "cell_type": "markdown",
   "metadata": {},
   "source": [
    "### Column \"posted\""
   ]
  },
  {
   "attachments": {},
   "cell_type": "markdown",
   "metadata": {},
   "source": [
    "During data preparation, some dates couldn't be converted to \"yyyy-mm-dd\", those dates will be compared with the values from \"last_edited\" column."
   ]
  },
  {
   "cell_type": "code",
   "execution_count": 131,
   "metadata": {},
   "outputs": [
    {
     "data": {
      "text/plain": [
       "{'column_name': 'posted', 'data_type_counts': {\"<class 'list'>\": 25485}}"
      ]
     },
     "execution_count": 131,
     "metadata": {},
     "output_type": "execute_result"
    }
   ],
   "source": [
    "# Verifying data type of the column\n",
    "posted_data_type = data_analysis_utils.column_data_types_summary(user_reviews_2, \"posted\")\n",
    "posted_data_type"
   ]
  },
  {
   "cell_type": "code",
   "execution_count": 132,
   "metadata": {},
   "outputs": [
    {
     "data": {
      "text/plain": [
       "{'column_name': 'last_edited', 'data_type_counts': {\"<class 'list'>\": 25485}}"
      ]
     },
     "execution_count": 132,
     "metadata": {},
     "output_type": "execute_result"
    }
   ],
   "source": [
    "# Verifying data type of the column\n",
    "posted_data_type = data_analysis_utils.column_data_types_summary(user_reviews_2, \"last_edited\")\n",
    "posted_data_type"
   ]
  },
  {
   "cell_type": "code",
   "execution_count": 133,
   "metadata": {},
   "outputs": [
    {
     "data": {
      "text/plain": [
       "{'total_rows': 25485,\n",
       " 'column_name': 'posted',\n",
       " 'num_failed_conversions': 24,\n",
       " 'report': {348: {6: 'Posted February 29.'},\n",
       "  1544: {1: 'Posted February 29.'},\n",
       "  2696: {3: 'Posted February 29.'},\n",
       "  2905: {2: 'Posted February 29.'},\n",
       "  3852: {3: 'Posted February 29.'},\n",
       "  5061: {0: 'Posted February 29.'},\n",
       "  6037: {0: 'Posted February 29.'},\n",
       "  6104: {0: 'Posted February 29.'},\n",
       "  9111: {0: 'Posted February 29.'},\n",
       "  10454: {1: 'Posted February 29.'},\n",
       "  10493: {0: 'Posted February 29.'},\n",
       "  10633: {0: 'Posted February 29.'},\n",
       "  10651: {0: 'Posted February 29.'},\n",
       "  11404: {1: 'Posted February 29.'},\n",
       "  11945: {0: 'Posted February 29.'},\n",
       "  14914: {1: 'Posted February 29.'},\n",
       "  15554: {2: 'Posted February 29.'},\n",
       "  16112: {0: 'Posted February 29.'},\n",
       "  16143: {0: 'Posted February 29.'},\n",
       "  16439: {0: 'Posted February 29.'},\n",
       "  20438: {0: 'Posted February 29.', 1: 'Posted February 29.'},\n",
       "  21898: {0: 'Posted February 29.'},\n",
       "  24150: {4: 'Posted February 29.'},\n",
       "  24457: {0: 'Posted February 29.'}}}"
      ]
     },
     "execution_count": 133,
     "metadata": {},
     "output_type": "execute_result"
    }
   ],
   "source": [
    "# Creating a copy of the dataframe\n",
    "user_reviews_3 = user_reviews_2.copy()\n",
    "\n",
    "# The \"Posted %B %d.\" patter of the datetime values of the datframe will automatically take the year 1900,\n",
    "# this will help to avoid removing date from the dataframe\n",
    "\n",
    "# Setting the original datetime patterns\n",
    "original_date_list = [\"Posted %B %d, %Y.\", \"Posted %B %d.\", \"%Y-%m-%d\"]\n",
    "\n",
    "# Transforming to datetime type using \"convert_column_to_dates\" function\n",
    "data_analysis_utils.convert_column_to_dates(user_reviews_3, \"posted\", original_date_list)"
   ]
  },
  {
   "cell_type": "code",
   "execution_count": 134,
   "metadata": {},
   "outputs": [
    {
     "name": "stdout",
     "output_type": "stream",
     "text": [
      "['1900-05-20', '1900-07-14', '1900-03-07', 'Posted February 29.', '1900-02-10', '1900-02-09', '1900-02-08']\n",
      "['', '', '', '', '', '', '']\n",
      "[True, True, True, True, True, True, True]\n"
     ]
    }
   ],
   "source": [
    "print(user_reviews_3['posted'][2696])\n",
    "print(user_reviews_3['last_edited'][2696])\n",
    "print(user_reviews_3['recommend'][2696])"
   ]
  },
  {
   "attachments": {},
   "cell_type": "markdown",
   "metadata": {},
   "source": [
    "## EDA"
   ]
  },
  {
   "attachments": {},
   "cell_type": "markdown",
   "metadata": {},
   "source": [
    "### Summary Statistics"
   ]
  },
  {
   "attachments": {},
   "cell_type": "markdown",
   "metadata": {},
   "source": [
    "### Data Visualization"
   ]
  },
  {
   "attachments": {},
   "cell_type": "markdown",
   "metadata": {},
   "source": [
    "### Correlation Analysis"
   ]
  },
  {
   "attachments": {},
   "cell_type": "markdown",
   "metadata": {},
   "source": [
    "### Feature Relationships"
   ]
  },
  {
   "attachments": {},
   "cell_type": "markdown",
   "metadata": {},
   "source": [
    "### Outlier Detection"
   ]
  },
  {
   "attachments": {},
   "cell_type": "markdown",
   "metadata": {},
   "source": [
    "### Text Analysis"
   ]
  },
  {
   "attachments": {},
   "cell_type": "markdown",
   "metadata": {},
   "source": [
    "### Documentation and Reporting"
   ]
  },
  {
   "attachments": {},
   "cell_type": "markdown",
   "metadata": {},
   "source": [
    "Sentiment analysis of review"
   ]
  },
  {
   "attachments": {},
   "cell_type": "markdown",
   "metadata": {},
   "source": []
  },
  {
   "attachments": {},
   "cell_type": "markdown",
   "metadata": {},
   "source": []
  },
  {
   "attachments": {},
   "cell_type": "markdown",
   "metadata": {},
   "source": [
    "# User Items"
   ]
  },
  {
   "attachments": {},
   "cell_type": "markdown",
   "metadata": {},
   "source": [
    "## Importing file"
   ]
  },
  {
   "cell_type": "code",
   "execution_count": 135,
   "metadata": {},
   "outputs": [],
   "source": [
    "# Importing user_items.csv file\n",
    "user_items_path = \"datasets/user_items.csv\"\n",
    "\n",
    "# Setting low_memory=False - To read the entire file so it determines the data types accurately. \n",
    "# Note: It can increase memory usage for larger datasets\n",
    "user_items_1 = pd.read_csv(user_items_path, low_memory=False)"
   ]
  },
  {
   "attachments": {},
   "cell_type": "markdown",
   "metadata": {},
   "source": [
    "## Data Preparation & Transformation"
   ]
  },
  {
   "attachments": {},
   "cell_type": "markdown",
   "metadata": {},
   "source": []
  },
  {
   "cell_type": "code",
   "execution_count": 136,
   "metadata": {},
   "outputs": [
    {
     "name": "stdout",
     "output_type": "stream",
     "text": [
      "<class 'pandas.core.frame.DataFrame'>\n",
      "RangeIndex: 87625 entries, 0 to 87624\n",
      "Data columns (total 8 columns):\n",
      " #   Column            Non-Null Count  Dtype \n",
      "---  ------            --------------  ----- \n",
      " 0   user_id           87625 non-null  object\n",
      " 1   steam_id          87625 non-null  int64 \n",
      " 2   user_url          87625 non-null  object\n",
      " 3   items_count       87625 non-null  int64 \n",
      " 4   item_id           87625 non-null  object\n",
      " 5   item_name         87625 non-null  object\n",
      " 6   playtime_forever  87625 non-null  object\n",
      " 7   playtime_2weeks   87625 non-null  object\n",
      "dtypes: int64(2), object(6)\n",
      "memory usage: 5.3+ MB\n"
     ]
    }
   ],
   "source": [
    "user_items_1.info()"
   ]
  },
  {
   "cell_type": "code",
   "execution_count": 137,
   "metadata": {},
   "outputs": [],
   "source": [
    "# converting values to it's corresponding data types\n",
    "user_items_2 = user_items_1.copy()\n",
    "user_items_2['item_id'] = user_items_2['item_id'].apply(ast.literal_eval)\n",
    "user_items_2['item_name'] = user_items_2['item_name'].apply(ast.literal_eval)\n",
    "user_items_2['playtime_forever'] = user_items_2['playtime_forever'].apply(ast.literal_eval)"
   ]
  },
  {
   "attachments": {},
   "cell_type": "markdown",
   "metadata": {},
   "source": [
    "Sometimes user names can be the same between user.<br>\n",
    "Just to verify that the current user IDs are unique, and no user names.<br>\n",
    "The user IDs will be compared with user_url, duw to user_url is unique for each user."
   ]
  },
  {
   "cell_type": "code",
   "execution_count": 138,
   "metadata": {},
   "outputs": [],
   "source": [
    "# Iteration of the rows and compare them, if user IDs don't match it will print the index and the value\n",
    "for index, row in user_items_2.iterrows():\n",
    "    id_value = row[\"user_id\"]\n",
    "    url_value = row[\"user_url\"]\n",
    "    \n",
    "    id_len = len(id_value)\n",
    "    url_id = url_value[-id_len:]\n",
    "    if id_value != url_id:\n",
    "        print(index, id_value)"
   ]
  },
  {
   "cell_type": "code",
   "execution_count": 139,
   "metadata": {},
   "outputs": [
    {
     "name": "stdout",
     "output_type": "stream",
     "text": [
      "<class 'pandas.core.frame.DataFrame'>\n",
      "RangeIndex: 87625 entries, 0 to 87624\n",
      "Data columns (total 8 columns):\n",
      " #   Column            Non-Null Count  Dtype \n",
      "---  ------            --------------  ----- \n",
      " 0   user_id           87625 non-null  object\n",
      " 1   steam_id          87625 non-null  int64 \n",
      " 2   user_url          87625 non-null  object\n",
      " 3   items_count       87625 non-null  int64 \n",
      " 4   item_id           87625 non-null  object\n",
      " 5   item_name         87625 non-null  object\n",
      " 6   playtime_forever  87625 non-null  object\n",
      " 7   playtime_2weeks   87625 non-null  object\n",
      "dtypes: int64(2), object(6)\n",
      "memory usage: 5.3+ MB\n"
     ]
    }
   ],
   "source": [
    "user_items_2.info()"
   ]
  },
  {
   "cell_type": "code",
   "execution_count": 152,
   "metadata": {},
   "outputs": [
    {
     "data": {
      "text/plain": [
       "{'column_name': 'item_id', 'data_type_counts': {\"<class 'list'>\": 87625}}"
      ]
     },
     "execution_count": 152,
     "metadata": {},
     "output_type": "execute_result"
    }
   ],
   "source": [
    "data_analysis_utils.column_data_types_summary(user_items_2, \"item_id\")"
   ]
  },
  {
   "cell_type": "code",
   "execution_count": 149,
   "metadata": {},
   "outputs": [
    {
     "name": "stdout",
     "output_type": "stream",
     "text": [
      "[10, 20, 30, 40, 50, 60, 70, 130, 300, 240, 3830, 2630, 3900, 34440, 3920, 6400, 6910, 7670, 409710, 220, 320, 340, 360, 380, 400, 420, 9340, 228200, 11450, 7940, 4700, 12900, 13250, 16100, 15700, 15710, 17330, 17340, 22000, 500, 4560, 17460, 10500, 24740, 22200, 26800, 1250, 35420, 3590, 8880, 8890, 23120, 35700, 10140, 35010, 35140, 29180, 15520, 32370, 37700, 6020, 24860, 39530, 550, 223530, 8980, 41500, 20900, 10180, 10190, 17450, 3170, 25900, 31410, 24980, 8850, 409720, 46000, 33230, 20820, 47700, 24960, 43110, 8190, 49600, 31220, 31230, 31240, 31250, 31260, 21090, 21110, 21120, 49400, 33910, 33930, 219540, 17410, 205790, 50130, 62100, 31280, 57300, 21970, 8930, 41000, 41050, 41060, 227780, 18040, 22380, 42700, 42710, 62000, 40800, 9500, 18700, 31270, 58200, 70400, 41300, 41800, 42500, 49900, 55000, 34330, 63200, 99810, 620, 42910, 15500, 15540, 18500, 26500, 35460, 38700, 38720, 63700, 280, 20920, 105600, 98200, 4500, 4540, 4550, 9480, 15620, 20500, 20570, 50620, 55100, 55140, 56400, 475150, 96100, 35450, 236830, 72850, 107100, 57690, 91310, 113200, 65800, 9200, 41070, 48950, 92800, 104700, 203770, 203810, 110800, 207610, 98300, 50300, 204300, 1700, 205100, 211120, 730, 49520, 200260, 212680, 200710, 219150, 215510, 8870, 200510, 220240, 218680, 228280, 212070, 218230, 236390, 3483, 203160, 227080, 233450, 43160, 219740, 322330, 222730, 241600, 238930, 217140, 39140, 225080, 239030, 248820, 239350, 218620, 206420, 236850, 47790, 47830, 250320, 250900, 204450, 233270, 251990, 253980, 236450, 242050, 257350, 213670, 238010, 245470, 221910, 260230, 238430, 261030, 261570, 263980, 39150, 230230, 373420, 232790, 237990, 273620, 222880, 225840, 222900, 280220, 236430, 201810, 294860, 295690, 238460, 237930, 301480, 303390, 306660, 316790, 318430, 241930, 328080, 282070, 333930, 334120, 257510, 319630, 346010, 255710, 232090, 232150, 377160, 340170, 391540, 396660, 337000, 368230, 496300, 231430, 289130, 268500, 461640, 379720, 273350]\n",
      "<class 'list'>\n",
      "277\n",
      "[6, 0, 7, 0, 0, 0, 0, 0, 4733, 1853, 333, 75, 338, 0, 2, 286, 2685, 633, 0, 696, 0, 37, 0, 168, 173, 323, 692, 0, 0, 1185, 477, 115, 0, 0, 28, 0, 31, 0, 195, 513, 1061, 1613, 186, 0, 271, 445, 10006, 0, 4413, 0, 0, 53, 199, 25, 570, 0, 940, 110, 5, 782, 77, 437, 503, 1474, 0, 3061, 536, 139, 1886, 1784, 4431, 1021, 1389, 95, 5001, 1504, 0, 11, 1636, 46, 85, 5716, 834, 3083, 127, 71, 0, 0, 0, 0, 585, 146, 0, 32, 3, 3, 0, 0, 0, 707, 50, 206, 12, 64, 10345, 369, 76, 0, 0, 594, 43, 966, 2452, 25, 119, 6, 0, 0, 0, 537, 50, 149, 0, 23, 0, 1538, 573, 2, 887, 588, 0, 4, 126, 0, 0, 0, 0, 0, 0, 1343, 772, 9, 0, 3, 76, 0, 2085, 0, 69, 101, 51, 0, 678, 0, 9, 14194, 0, 2512, 640, 1815, 2078, 1494, 130, 653, 716, 72, 262, 44, 18, 86, 1204, 798, 110, 296, 0, 0, 1429, 1, 23532, 1303, 100, 500, 459, 0, 0, 2084, 3478, 182, 0, 905, 0, 51, 50, 0, 0, 81, 24, 712, 139, 0, 319, 73, 159, 199, 2896, 0, 194, 272, 458, 574, 0, 89, 230, 0, 500, 329, 241, 0, 135, 0, 154, 1377, 0, 121, 2176, 246, 157, 467, 77, 567, 39, 0, 15, 522, 0, 216, 19, 848, 3031, 26, 0, 941, 592, 599, 1735, 0, 407, 154, 0, 0, 1245, 42, 0, 889, 5, 3, 2782, 109, 0, 37, 464, 246, 6494, 0, 2001, 170, 395, 0, 1159, 83, 0, 0, 593, 1495, 0, 793, 58]\n",
      "<class 'list'>\n",
      "277\n"
     ]
    }
   ],
   "source": [
    "print(user_items_2[\"item_id\"][0])\n",
    "print(type(user_items_2[\"item_id\"][0]))\n",
    "print(len(user_items_2[\"item_id\"][0]))\n",
    "\n",
    "print(user_items_2[\"playtime_forever\"][0])\n",
    "print(type(user_items_2[\"playtime_forever\"][0]))\n",
    "print(len(user_items_2[\"playtime_forever\"][0]))"
   ]
  },
  {
   "attachments": {},
   "cell_type": "markdown",
   "metadata": {},
   "source": [
    "## EDA"
   ]
  },
  {
   "attachments": {},
   "cell_type": "markdown",
   "metadata": {},
   "source": [
    "### Summary Statistics"
   ]
  },
  {
   "attachments": {},
   "cell_type": "markdown",
   "metadata": {},
   "source": [
    "### Data Visualization"
   ]
  },
  {
   "attachments": {},
   "cell_type": "markdown",
   "metadata": {},
   "source": [
    "### Correlation Analysis"
   ]
  },
  {
   "attachments": {},
   "cell_type": "markdown",
   "metadata": {},
   "source": [
    "### Feature Relationships"
   ]
  },
  {
   "attachments": {},
   "cell_type": "markdown",
   "metadata": {},
   "source": [
    "### Outlier Detection"
   ]
  },
  {
   "attachments": {},
   "cell_type": "markdown",
   "metadata": {},
   "source": [
    "### Text Analysis"
   ]
  },
  {
   "attachments": {},
   "cell_type": "markdown",
   "metadata": {},
   "source": [
    "### Documentation and Reporting"
   ]
  },
  {
   "attachments": {},
   "cell_type": "markdown",
   "metadata": {},
   "source": [
    "Sentiment analysis of review"
   ]
  },
  {
   "cell_type": "code",
   "execution_count": null,
   "metadata": {},
   "outputs": [],
   "source": []
  },
  {
   "attachments": {},
   "cell_type": "markdown",
   "metadata": {},
   "source": [
    "# Steam Games"
   ]
  },
  {
   "attachments": {},
   "cell_type": "markdown",
   "metadata": {},
   "source": [
    "## Importing file"
   ]
  },
  {
   "cell_type": "code",
   "execution_count": 96,
   "metadata": {},
   "outputs": [],
   "source": [
    "# Importing steam_games.csv file\n",
    "steam_games_path = \"datasets/steam_games.csv\"\n",
    "\n",
    "# Setting low_memory=False - To read the entire file so it determines the data types accurately. \n",
    "# Note: It can increase memory usage for larger datasets\n",
    "steam_games_1 = pd.read_csv(steam_games_path, low_memory=False)"
   ]
  },
  {
   "attachments": {},
   "cell_type": "markdown",
   "metadata": {},
   "source": [
    "## Data Preparation & Transformation"
   ]
  },
  {
   "cell_type": "code",
   "execution_count": 97,
   "metadata": {},
   "outputs": [
    {
     "name": "stdout",
     "output_type": "stream",
     "text": [
      "<class 'pandas.core.frame.DataFrame'>\n",
      "RangeIndex: 32134 entries, 0 to 32133\n",
      "Data columns (total 13 columns):\n",
      " #   Column        Non-Null Count  Dtype  \n",
      "---  ------        --------------  -----  \n",
      " 0   publisher     24063 non-null  object \n",
      " 1   genres        28851 non-null  object \n",
      " 2   app_name      32132 non-null  object \n",
      " 3   title         30084 non-null  object \n",
      " 4   url           32134 non-null  object \n",
      " 5   release_date  30067 non-null  object \n",
      " 6   tags          31971 non-null  object \n",
      " 7   reviews_url   32132 non-null  object \n",
      " 8   specs         31464 non-null  object \n",
      " 9   price         30757 non-null  float64\n",
      " 10  early_access  32134 non-null  bool   \n",
      " 11  id            32132 non-null  float64\n",
      " 12  developer     28835 non-null  object \n",
      "dtypes: bool(1), float64(2), object(10)\n",
      "memory usage: 3.0+ MB\n"
     ]
    }
   ],
   "source": [
    "steam_games_1.info()"
   ]
  },
  {
   "cell_type": "code",
   "execution_count": 98,
   "metadata": {},
   "outputs": [],
   "source": [
    "steam_games_2 = steam_games_1.copy()\n",
    "\n",
    "# Converting values to their repective data types\n",
    "# \"specs\" and \"genres\" have nan values.\n",
    "\n",
    "# Apply safe_literal_eval to the columns\n",
    "steam_games_2['genres'] = steam_games_2['genres'].apply(data_analysis_utils.safe_literal_eval)\n",
    "steam_games_2['specs'] = steam_games_2['specs'].apply(data_analysis_utils.safe_literal_eval)"
   ]
  },
  {
   "attachments": {},
   "cell_type": "markdown",
   "metadata": {},
   "source": [
    "Games ID have 2 missing values, verifying these values with corresponding game url.<br>"
   ]
  },
  {
   "cell_type": "code",
   "execution_count": 99,
   "metadata": {},
   "outputs": [
    {
     "name": "stdout",
     "output_type": "stream",
     "text": [
      "74 n\n",
      "30960 n\n"
     ]
    }
   ],
   "source": [
    "# Iteration of the rows and compare them, if user IDs don't match it will print the index and the value\n",
    "for index, row in steam_games_2.iterrows():\n",
    "    id_value = str(row[\"id\"])[:-2]\n",
    "    url_value = row[\"url\"]\n",
    "    \n",
    "    id_len = len(id_value)\n",
    "    url_id = url_value[34:34+id_len]\n",
    "    if id_value != url_id:\n",
    "        print(index, id_value)"
   ]
  },
  {
   "attachments": {},
   "cell_type": "markdown",
   "metadata": {},
   "source": [
    "If possible, inserting the ids extracted from the url."
   ]
  },
  {
   "cell_type": "code",
   "execution_count": 100,
   "metadata": {},
   "outputs": [
    {
     "data": {
      "text/plain": [
       "'http://store.steampowered.com/app/200260'"
      ]
     },
     "execution_count": 100,
     "metadata": {},
     "output_type": "execute_result"
    }
   ],
   "source": [
    "# 1st id value\n",
    "steam_games_2[\"url\"][30960]"
   ]
  },
  {
   "cell_type": "code",
   "execution_count": 101,
   "metadata": {},
   "outputs": [
    {
     "data": {
      "text/plain": [
       "Index([1068], dtype='int64')"
      ]
     },
     "execution_count": 101,
     "metadata": {},
     "output_type": "execute_result"
    }
   ],
   "source": [
    "# Search for the value in the 'id' column and get the indices\n",
    "indices = steam_games_2[steam_games_2[\"id\"] == 200260].index\n",
    "indices"
   ]
  },
  {
   "attachments": {},
   "cell_type": "markdown",
   "metadata": {},
   "source": [
    "The ID already exist"
   ]
  },
  {
   "cell_type": "code",
   "execution_count": 102,
   "metadata": {},
   "outputs": [
    {
     "data": {
      "text/plain": [
       "Index([], dtype='int64')"
      ]
     },
     "execution_count": 102,
     "metadata": {},
     "output_type": "execute_result"
    }
   ],
   "source": [
    "# Deleting corresponding duplicate value\n",
    "steam_games_2 = steam_games_2.drop(30960)\n",
    "\n",
    "# Verifying previous action\n",
    "indices = steam_games_2[steam_games_2[\"id\"] == 30960].index\n",
    "indices"
   ]
  },
  {
   "cell_type": "code",
   "execution_count": 103,
   "metadata": {},
   "outputs": [
    {
     "data": {
      "text/plain": [
       "'http://store.steampowered.com/'"
      ]
     },
     "execution_count": 103,
     "metadata": {},
     "output_type": "execute_result"
    }
   ],
   "source": [
    "# 2nd value\n",
    "steam_games_2[\"url\"][74]"
   ]
  },
  {
   "cell_type": "code",
   "execution_count": 104,
   "metadata": {},
   "outputs": [
    {
     "name": "stdout",
     "output_type": "stream",
     "text": [
      "publisher                                  NaN\n",
      "genres                                     NaN\n",
      "app_name                                   NaN\n",
      "title                                      NaN\n",
      "url             http://store.steampowered.com/\n",
      "release_date                               NaN\n",
      "tags                                       NaN\n",
      "reviews_url                                NaN\n",
      "specs                                      NaN\n",
      "price                                    19.99\n",
      "early_access                             False\n",
      "id                                         NaN\n",
      "developer                                  NaN\n",
      "Name: 74, dtype: object\n"
     ]
    }
   ],
   "source": [
    "# Extract the row using .iloc and print it\n",
    "value_data = steam_games_2.iloc[74]\n",
    "print(value_data)"
   ]
  },
  {
   "attachments": {},
   "cell_type": "markdown",
   "metadata": {},
   "source": [
    "A lot of information is missing, the value isn't relevant, the value is deleted."
   ]
  },
  {
   "cell_type": "code",
   "execution_count": 153,
   "metadata": {},
   "outputs": [
    {
     "name": "stdout",
     "output_type": "stream",
     "text": [
      "<class 'pandas.core.frame.DataFrame'>\n",
      "Index: 32132 entries, 0 to 32133\n",
      "Data columns (total 13 columns):\n",
      " #   Column        Non-Null Count  Dtype  \n",
      "---  ------        --------------  -----  \n",
      " 0   publisher     24062 non-null  object \n",
      " 1   genres        28850 non-null  object \n",
      " 2   app_name      32131 non-null  object \n",
      " 3   title         30083 non-null  object \n",
      " 4   url           32132 non-null  object \n",
      " 5   release_date  30066 non-null  object \n",
      " 6   tags          31970 non-null  object \n",
      " 7   reviews_url   32132 non-null  object \n",
      " 8   specs         31463 non-null  object \n",
      " 9   price         30755 non-null  float64\n",
      " 10  early_access  32132 non-null  bool   \n",
      " 11  id            32132 non-null  float64\n",
      " 12  developer     28834 non-null  object \n",
      "dtypes: bool(1), float64(2), object(10)\n",
      "memory usage: 4.2+ MB\n"
     ]
    }
   ],
   "source": [
    "steam_games_2.info()"
   ]
  },
  {
   "cell_type": "code",
   "execution_count": 105,
   "metadata": {},
   "outputs": [
    {
     "data": {
      "text/plain": [
       "Index([], dtype='int64')"
      ]
     },
     "execution_count": 105,
     "metadata": {},
     "output_type": "execute_result"
    }
   ],
   "source": [
    "# Deleting corresponding value\n",
    "steam_games_2 = steam_games_2.drop(74)\n",
    "\n",
    "# Verifying previous action\n",
    "indices = steam_games_2[steam_games_2[\"id\"] == 74].index\n",
    "indices"
   ]
  },
  {
   "cell_type": "code",
   "execution_count": null,
   "metadata": {},
   "outputs": [],
   "source": [
    "data_analysis_utils.column_data_types_summary(user_items_2, \"item_id\")"
   ]
  },
  {
   "cell_type": "code",
   "execution_count": 144,
   "metadata": {},
   "outputs": [
    {
     "data": {
      "text/plain": [
       "['Action', 'Adventure', 'Free to Play', 'Massively Multiplayer', 'RPG']"
      ]
     },
     "execution_count": 144,
     "metadata": {},
     "output_type": "execute_result"
    }
   ],
   "source": [
    "steam_games_2[\"genres\"][1000]"
   ]
  },
  {
   "cell_type": "code",
   "execution_count": 146,
   "metadata": {},
   "outputs": [
    {
     "data": {
      "text/plain": [
       "['Multi-player', 'Co-op', 'Downloadable Content']"
      ]
     },
     "execution_count": 146,
     "metadata": {},
     "output_type": "execute_result"
    }
   ],
   "source": [
    "steam_games_2[\"specs\"][1000]"
   ]
  },
  {
   "attachments": {},
   "cell_type": "markdown",
   "metadata": {},
   "source": [
    "## EDA"
   ]
  },
  {
   "attachments": {},
   "cell_type": "markdown",
   "metadata": {},
   "source": [
    "### Summary Statistics"
   ]
  },
  {
   "attachments": {},
   "cell_type": "markdown",
   "metadata": {},
   "source": [
    "### Data Visualization"
   ]
  },
  {
   "attachments": {},
   "cell_type": "markdown",
   "metadata": {},
   "source": [
    "### Correlation Analysis"
   ]
  },
  {
   "attachments": {},
   "cell_type": "markdown",
   "metadata": {},
   "source": [
    "### Feature Relationships"
   ]
  },
  {
   "attachments": {},
   "cell_type": "markdown",
   "metadata": {},
   "source": [
    "### Outlier Detection"
   ]
  },
  {
   "attachments": {},
   "cell_type": "markdown",
   "metadata": {},
   "source": [
    "### Text Analysis"
   ]
  },
  {
   "attachments": {},
   "cell_type": "markdown",
   "metadata": {},
   "source": [
    "### Documentation and Reporting"
   ]
  },
  {
   "attachments": {},
   "cell_type": "markdown",
   "metadata": {},
   "source": [
    "Sentiment analysis of review"
   ]
  },
  {
   "cell_type": "code",
   "execution_count": null,
   "metadata": {},
   "outputs": [],
   "source": []
  },
  {
   "cell_type": "code",
   "execution_count": null,
   "metadata": {},
   "outputs": [],
   "source": []
  },
  {
   "attachments": {},
   "cell_type": "markdown",
   "metadata": {},
   "source": [
    "# Creating files"
   ]
  },
  {
   "attachments": {},
   "cell_type": "markdown",
   "metadata": {},
   "source": [
    "## API Function 1 \"userdata\""
   ]
  },
  {
   "attachments": {},
   "cell_type": "markdown",
   "metadata": {},
   "source": [
    "Return amount of money spent by the user, the recommendation percentage based on reviews."
   ]
  },
  {
   "attachments": {},
   "cell_type": "markdown",
   "metadata": {},
   "source": [
    "### Creating dataframes"
   ]
  },
  {
   "attachments": {},
   "cell_type": "markdown",
   "metadata": {},
   "source": [
    "Creating new dataframes with only the necessary columns"
   ]
  },
  {
   "cell_type": "code",
   "execution_count": 154,
   "metadata": {},
   "outputs": [
    {
     "name": "stdout",
     "output_type": "stream",
     "text": [
      "Index(['user_id', 'user_url', 'item_id', 'posted', 'last_edited', 'helpful',\n",
      "       'recommend', 'funny', 'review'],\n",
      "      dtype='object')\n",
      "Index(['user_id', 'steam_id', 'user_url', 'items_count', 'item_id',\n",
      "       'item_name', 'playtime_forever', 'playtime_2weeks'],\n",
      "      dtype='object')\n",
      "Index(['publisher', 'genres', 'app_name', 'title', 'url', 'release_date',\n",
      "       'tags', 'reviews_url', 'specs', 'price', 'early_access', 'id',\n",
      "       'developer'],\n",
      "      dtype='object')\n"
     ]
    }
   ],
   "source": [
    "print(user_reviews_3.columns)\n",
    "print(user_items_2.columns)\n",
    "print(steam_games_2.columns)"
   ]
  },
  {
   "cell_type": "code",
   "execution_count": 156,
   "metadata": {},
   "outputs": [],
   "source": [
    "# Necessary data:\n",
    "\n",
    "# user_reviews = user_id, user_url, recommend\n",
    "# user_items = user_url, items_count, item_id\n",
    "# steam_games = id, price\n",
    "\n",
    "user_reviews_columns = [\"user_id\", \"item_id\", \"recommend\"]\n",
    "user_items_columns = [\"user_id\", \"items_count\", \"item_id\", \"playtime_forever\"] # playtime_forever is added to be used in API function 3\n",
    "steam_games_columns = [\"id\", \"price\"]\n",
    "\n",
    "# Create new DataFrames with only the selected columns\n",
    "user_reviews_dataframe_1 = user_reviews_2[user_reviews_columns]\n",
    "user_items_dataframe_1 = user_items_2[user_items_columns]\n",
    "steam_games_dataframe_1 = steam_games_2[steam_games_columns]"
   ]
  },
  {
   "attachments": {},
   "cell_type": "markdown",
   "metadata": {},
   "source": [
    "### Merging dataframes"
   ]
  },
  {
   "attachments": {},
   "cell_type": "markdown",
   "metadata": {},
   "source": [
    "#### Columns \"recommend\" and \"item_id\""
   ]
  },
  {
   "attachments": {},
   "cell_type": "markdown",
   "metadata": {},
   "source": [
    "The user_items dataframe have more data than user_reviews.<br>\n",
    "Identifying missing user_id values from user_reviews in user_items."
   ]
  },
  {
   "cell_type": "code",
   "execution_count": 157,
   "metadata": {},
   "outputs": [
    {
     "name": "stdout",
     "output_type": "stream",
     "text": [
      "Missing User IDs:\n",
      "1979                  Revan_Aldrei\n",
      "4044                   BestCyanide\n",
      "8675           RuslaNLoveStefochka\n",
      "15513    profiles76561198094860288\n",
      "Name: user_id, dtype: object\n"
     ]
    }
   ],
   "source": [
    "# Identify missing user_id values\n",
    "missing_user_ids = user_reviews_dataframe_1[~user_reviews_dataframe_1[\"user_id\"].isin(user_items_dataframe_1[\"user_id\"])]\n",
    "\n",
    "# Create a summary of missing user_id values\n",
    "missing_user_id_summary = missing_user_ids[\"user_id\"]\n",
    "\n",
    "# Display the missing user_id summary\n",
    "print(\"Missing User IDs:\")\n",
    "print(missing_user_id_summary)"
   ]
  },
  {
   "attachments": {},
   "cell_type": "markdown",
   "metadata": {},
   "source": [
    "When merging dataframes, this values must be also considered."
   ]
  },
  {
   "attachments": {},
   "cell_type": "markdown",
   "metadata": {},
   "source": [
    "##### Renaming the \"item_id\" column from user_reviews to \"item_id_rcmnd\""
   ]
  },
  {
   "attachments": {},
   "cell_type": "markdown",
   "metadata": {},
   "source": [
    "To avoid conflicts between \"item_id\" columns from both dataframes, due to both columns represent different content.<br>\n",
    "- \"item_id\" from user_reviews, represents the ids of the games reviewed.\n",
    "- \"itme_id\" from user_items, represents the ids of all the games owned by the user.\n"
   ]
  },
  {
   "cell_type": "code",
   "execution_count": 158,
   "metadata": {},
   "outputs": [
    {
     "name": "stdout",
     "output_type": "stream",
     "text": [
      "10\n",
      "215280\n"
     ]
    }
   ],
   "source": [
    "# Proof of difference between values\n",
    "print(user_items_dataframe_1[\"item_id\"][10000][0])\n",
    "print(user_reviews_dataframe_1[\"item_id\"][10000][0])"
   ]
  },
  {
   "cell_type": "code",
   "execution_count": 159,
   "metadata": {},
   "outputs": [
    {
     "name": "stderr",
     "output_type": "stream",
     "text": [
      "C:\\Users\\Ronnie\\AppData\\Local\\Temp\\ipykernel_11972\\3527484091.py:2: SettingWithCopyWarning: \n",
      "A value is trying to be set on a copy of a slice from a DataFrame\n",
      "\n",
      "See the caveats in the documentation: https://pandas.pydata.org/pandas-docs/stable/user_guide/indexing.html#returning-a-view-versus-a-copy\n",
      "  user_reviews_dataframe_1.rename(columns={\"item_id\": \"item_id_rcmnd\"}, inplace=True)\n"
     ]
    }
   ],
   "source": [
    "# Rename the column \n",
    "user_reviews_dataframe_1.rename(columns={\"item_id\": \"item_id_rcmnd\"}, inplace=True)"
   ]
  },
  {
   "cell_type": "code",
   "execution_count": 160,
   "metadata": {},
   "outputs": [
    {
     "data": {
      "text/html": [
       "<div>\n",
       "<style scoped>\n",
       "    .dataframe tbody tr th:only-of-type {\n",
       "        vertical-align: middle;\n",
       "    }\n",
       "\n",
       "    .dataframe tbody tr th {\n",
       "        vertical-align: top;\n",
       "    }\n",
       "\n",
       "    .dataframe thead th {\n",
       "        text-align: right;\n",
       "    }\n",
       "</style>\n",
       "<table border=\"1\" class=\"dataframe\">\n",
       "  <thead>\n",
       "    <tr style=\"text-align: right;\">\n",
       "      <th></th>\n",
       "      <th>user_id</th>\n",
       "      <th>item_id_rcmnd</th>\n",
       "      <th>recommend</th>\n",
       "    </tr>\n",
       "  </thead>\n",
       "  <tbody>\n",
       "    <tr>\n",
       "      <th>0</th>\n",
       "      <td>76561197970982479</td>\n",
       "      <td>[1250, 22200, 43110]</td>\n",
       "      <td>[True, True, True]</td>\n",
       "    </tr>\n",
       "    <tr>\n",
       "      <th>1</th>\n",
       "      <td>js41637</td>\n",
       "      <td>[251610, 227300, 239030]</td>\n",
       "      <td>[True, True, True]</td>\n",
       "    </tr>\n",
       "    <tr>\n",
       "      <th>2</th>\n",
       "      <td>evcentric</td>\n",
       "      <td>[248820, 370360, 237930, 263360, 107200, 224500]</td>\n",
       "      <td>[True, True, True, True, True, True]</td>\n",
       "    </tr>\n",
       "    <tr>\n",
       "      <th>3</th>\n",
       "      <td>doctr</td>\n",
       "      <td>[250320, 20920, 204100, 224600, 207610, 108710]</td>\n",
       "      <td>[True, True, True, True, True, True]</td>\n",
       "    </tr>\n",
       "    <tr>\n",
       "      <th>4</th>\n",
       "      <td>maplemage</td>\n",
       "      <td>[211420, 211820, 730, 204300]</td>\n",
       "      <td>[True, True, True, True]</td>\n",
       "    </tr>\n",
       "    <tr>\n",
       "      <th>...</th>\n",
       "      <td>...</td>\n",
       "      <td>...</td>\n",
       "      <td>...</td>\n",
       "    </tr>\n",
       "    <tr>\n",
       "      <th>25480</th>\n",
       "      <td>76561198306599751</td>\n",
       "      <td>[261030]</td>\n",
       "      <td>[True]</td>\n",
       "    </tr>\n",
       "    <tr>\n",
       "      <th>25481</th>\n",
       "      <td>Ghoustik</td>\n",
       "      <td>[730]</td>\n",
       "      <td>[True]</td>\n",
       "    </tr>\n",
       "    <tr>\n",
       "      <th>25482</th>\n",
       "      <td>76561198310819422</td>\n",
       "      <td>[570]</td>\n",
       "      <td>[True]</td>\n",
       "    </tr>\n",
       "    <tr>\n",
       "      <th>25483</th>\n",
       "      <td>76561198312638244</td>\n",
       "      <td>[233270, 130, 70, 362890]</td>\n",
       "      <td>[True, True, True, True]</td>\n",
       "    </tr>\n",
       "    <tr>\n",
       "      <th>25484</th>\n",
       "      <td>LydiaMorley</td>\n",
       "      <td>[273110, 730, 440]</td>\n",
       "      <td>[True, True, True]</td>\n",
       "    </tr>\n",
       "  </tbody>\n",
       "</table>\n",
       "<p>25485 rows × 3 columns</p>\n",
       "</div>"
      ],
      "text/plain": [
       "                 user_id                                     item_id_rcmnd  \\\n",
       "0      76561197970982479                              [1250, 22200, 43110]   \n",
       "1                js41637                          [251610, 227300, 239030]   \n",
       "2              evcentric  [248820, 370360, 237930, 263360, 107200, 224500]   \n",
       "3                  doctr   [250320, 20920, 204100, 224600, 207610, 108710]   \n",
       "4              maplemage                     [211420, 211820, 730, 204300]   \n",
       "...                  ...                                               ...   \n",
       "25480  76561198306599751                                          [261030]   \n",
       "25481           Ghoustik                                             [730]   \n",
       "25482  76561198310819422                                             [570]   \n",
       "25483  76561198312638244                         [233270, 130, 70, 362890]   \n",
       "25484        LydiaMorley                                [273110, 730, 440]   \n",
       "\n",
       "                                  recommend  \n",
       "0                        [True, True, True]  \n",
       "1                        [True, True, True]  \n",
       "2      [True, True, True, True, True, True]  \n",
       "3      [True, True, True, True, True, True]  \n",
       "4                  [True, True, True, True]  \n",
       "...                                     ...  \n",
       "25480                                [True]  \n",
       "25481                                [True]  \n",
       "25482                                [True]  \n",
       "25483              [True, True, True, True]  \n",
       "25484                    [True, True, True]  \n",
       "\n",
       "[25485 rows x 3 columns]"
      ]
     },
     "execution_count": 160,
     "metadata": {},
     "output_type": "execute_result"
    }
   ],
   "source": [
    "user_reviews_dataframe_1"
   ]
  },
  {
   "cell_type": "code",
   "execution_count": 161,
   "metadata": {},
   "outputs": [
    {
     "name": "stdout",
     "output_type": "stream",
     "text": [
      "<class 'pandas.core.frame.DataFrame'>\n",
      "RangeIndex: 87625 entries, 0 to 87624\n",
      "Data columns (total 4 columns):\n",
      " #   Column            Non-Null Count  Dtype \n",
      "---  ------            --------------  ----- \n",
      " 0   user_id           87625 non-null  object\n",
      " 1   items_count       87625 non-null  int64 \n",
      " 2   item_id           87625 non-null  object\n",
      " 3   playtime_forever  87625 non-null  object\n",
      "dtypes: int64(1), object(3)\n",
      "memory usage: 2.7+ MB\n"
     ]
    }
   ],
   "source": [
    "user_items_dataframe_1.info()"
   ]
  },
  {
   "attachments": {},
   "cell_type": "markdown",
   "metadata": {},
   "source": [
    "##### Merging \"user_reviews\" and \"user_items\" dataframes"
   ]
  },
  {
   "cell_type": "code",
   "execution_count": 162,
   "metadata": {},
   "outputs": [
    {
     "name": "stdout",
     "output_type": "stream",
     "text": [
      "<class 'pandas.core.frame.DataFrame'>\n",
      "RangeIndex: 87629 entries, 0 to 87628\n",
      "Data columns (total 6 columns):\n",
      " #   Column            Non-Null Count  Dtype  \n",
      "---  ------            --------------  -----  \n",
      " 0   user_id           87629 non-null  object \n",
      " 1   items_count       87625 non-null  float64\n",
      " 2   item_id           87625 non-null  object \n",
      " 3   playtime_forever  87625 non-null  object \n",
      " 4   item_id_rcmnd     25485 non-null  object \n",
      " 5   recommend         25485 non-null  object \n",
      "dtypes: float64(1), object(5)\n",
      "memory usage: 4.0+ MB\n"
     ]
    }
   ],
   "source": [
    "# Merge the two DataFrames using an outer join\n",
    "users_dataframe_1 = pd.merge(user_items_dataframe_1, user_reviews_dataframe_1, on=\"user_id\", how=\"outer\")\n",
    "users_dataframe_1.info()"
   ]
  },
  {
   "attachments": {},
   "cell_type": "markdown",
   "metadata": {},
   "source": [
    "Verifying all columns have its corresponding values."
   ]
  },
  {
   "cell_type": "code",
   "execution_count": 163,
   "metadata": {},
   "outputs": [
    {
     "data": {
      "text/plain": [
       "{'column_name': 'item_id',\n",
       " 'data_type_counts': {\"<class 'list'>\": 87625, \"<class 'float'>\": 4}}"
      ]
     },
     "execution_count": 163,
     "metadata": {},
     "output_type": "execute_result"
    }
   ],
   "source": [
    "# Verifying data types of the \"item_id\" column\n",
    "item_id_summary = data_analysis_utils.column_data_types_summary(users_dataframe_1, \"item_id\")\n",
    "item_id_summary"
   ]
  },
  {
   "cell_type": "code",
   "execution_count": 164,
   "metadata": {},
   "outputs": [
    {
     "name": "stdout",
     "output_type": "stream",
     "text": [
      "index: 87625, user_id: Revan_Aldrei, items_count: nan, item_id_rcmnd: [233720, 55230, 22380, 313371, 215280, 33100, 250600, 214560]\n",
      "index: 87626, user_id: BestCyanide, items_count: nan, item_id_rcmnd: [730]\n",
      "index: 87627, user_id: RuslaNLoveStefochka, items_count: nan, item_id_rcmnd: [730]\n",
      "index: 87628, user_id: profiles76561198094860288, items_count: nan, item_id_rcmnd: [245550, 206420, 304930, 730, 570]\n"
     ]
    }
   ],
   "source": [
    "# Iterating over the column to know indices of float values\n",
    "for index, row in users_dataframe_1.iterrows():\n",
    "    value = row[\"item_id\"]\n",
    "    user_id = row[\"user_id\"]\n",
    "    items_count = row[\"items_count\"]\n",
    "    item_id_rcmnd = row[\"item_id_rcmnd\"]\n",
    "    \n",
    "    if type(value) == float:\n",
    "        print(f\"index: {index}, user_id: {user_id}, items_count: {items_count}, item_id_rcmnd: {item_id_rcmnd}\")"
   ]
  },
  {
   "attachments": {},
   "cell_type": "markdown",
   "metadata": {},
   "source": [
    "Manually inserting corresponding values to \"items_count\" and \"item_id\""
   ]
  },
  {
   "cell_type": "code",
   "execution_count": 165,
   "metadata": {},
   "outputs": [],
   "source": [
    "# Iterating through rows to insert corresponding values\n",
    "idx_list = [87625, 87626, 87627, 87628]\n",
    "\n",
    "for idx in idx_list:\n",
    "    id_list = users_dataframe_1[\"item_id_rcmnd\"][idx]\n",
    "    list_len = len(id_list)\n",
    "\n",
    "    users_dataframe_1.loc[idx, \"items_count\"] = list_len\n",
    "    # Converting to str type to avoid conflicts\n",
    "    users_dataframe_1.loc[idx, \"item_id\"] = str(id_list)"
   ]
  },
  {
   "cell_type": "code",
   "execution_count": 166,
   "metadata": {},
   "outputs": [],
   "source": [
    "# Applying literal eval to transform to list type, and numeric type\n",
    "users_dataframe_1['item_id'] = users_dataframe_1['item_id'].apply(data_analysis_utils.safe_literal_eval)\n",
    "users_dataframe_1['items_count'] = users_dataframe_1['items_count'].apply(data_analysis_utils.safe_literal_eval)"
   ]
  },
  {
   "attachments": {},
   "cell_type": "markdown",
   "metadata": {},
   "source": [
    "##### Merging values from both lists \"item_id\" and \"item_id_rcmnd\""
   ]
  },
  {
   "attachments": {},
   "cell_type": "markdown",
   "metadata": {},
   "source": [
    "The values from \"item_id\" will be the complete list of games owned by the user "
   ]
  },
  {
   "cell_type": "code",
   "execution_count": 167,
   "metadata": {},
   "outputs": [],
   "source": [
    "# Calling the function to merge values from lists\n",
    "data_analysis_utils.merge_values(users_dataframe_1, \"item_id\", \"item_id_rcmnd\")"
   ]
  },
  {
   "attachments": {},
   "cell_type": "markdown",
   "metadata": {},
   "source": [
    "##### Correcting values of \"items_count\""
   ]
  },
  {
   "cell_type": "code",
   "execution_count": 168,
   "metadata": {},
   "outputs": [],
   "source": [
    "# Iterating through the rows of the dataframe to carrect values\n",
    "for index, row in users_dataframe_1.iterrows():\n",
    "    count = row[\"items_count\"]\n",
    "    id_list = row[\"item_id\"]\n",
    "\n",
    "    list_len = len(id_list)\n",
    "    \n",
    "    if count != list_len:\n",
    "        users_dataframe_1.at[index, \"items_count\"] = list_len\n",
    "        "
   ]
  },
  {
   "attachments": {},
   "cell_type": "markdown",
   "metadata": {},
   "source": [
    "### Generating file"
   ]
  },
  {
   "cell_type": "code",
   "execution_count": 120,
   "metadata": {},
   "outputs": [],
   "source": [
    "# Necessary data\n",
    "necessary_columns = [\"user_id\", \"items_count\", \"item_id\", \"recommend\"]\n",
    "\n",
    "# Saving the dataframe to a csv format file\n",
    "# The file will be stored in api inside a the datasets folder \n",
    "users_dataframe_1[necessary_columns].to_csv('../api/datasets/user_data_1.csv', index=False)\n",
    "steam_games_dataframe_1.to_csv('../api/datasets/games_data_1.csv', index=False)"
   ]
  },
  {
   "attachments": {},
   "cell_type": "markdown",
   "metadata": {},
   "source": [
    "compressing files"
   ]
  },
  {
   "cell_type": "code",
   "execution_count": 121,
   "metadata": {},
   "outputs": [],
   "source": [
    "# # Compress the CSV file using gzip and save it to a compressed file\n",
    "# with open('../api/datasets/user_data_1.csv', 'rb') as input_file:\n",
    "#     with gzip.open('../api/datasets/user_data_1.csv.gz', 'wb') as compressed_file:\n",
    "#         compressed_file.writelines(input_file)\n",
    "\n",
    "# print(\"user_data_1 has been compressed and saved to 'user_data_1.csv.gz'.\")"
   ]
  },
  {
   "cell_type": "code",
   "execution_count": 122,
   "metadata": {},
   "outputs": [],
   "source": [
    "# # Compress the CSV file using gzip and save it to a compressed file\n",
    "# with open('../api/datasets/games_data_1.csv', 'rb') as input_file:\n",
    "#     with gzip.open('../api/datasets/games_data_1.csv.gz', 'wb') as compressed_file:\n",
    "#         compressed_file.writelines(input_file)\n",
    "\n",
    "# print(\"games_data_1 has been compressed and saved to 'games_data_1.csv.gz'.\")"
   ]
  },
  {
   "attachments": {},
   "cell_type": "markdown",
   "metadata": {},
   "source": [
    "## API Function 2 \"countreviews\""
   ]
  },
  {
   "attachments": {},
   "cell_type": "markdown",
   "metadata": {},
   "source": [
    "Returns the number of users who made reviews between the given dates and their recommendation percentage based on reviews"
   ]
  },
  {
   "attachments": {},
   "cell_type": "markdown",
   "metadata": {},
   "source": [
    "### Creating dataframes"
   ]
  },
  {
   "attachments": {},
   "cell_type": "markdown",
   "metadata": {},
   "source": [
    "Creating new dataframes with only the necessary columns"
   ]
  },
  {
   "cell_type": "code",
   "execution_count": 123,
   "metadata": {},
   "outputs": [
    {
     "name": "stdout",
     "output_type": "stream",
     "text": [
      "Index(['user_id', 'user_url', 'item_id', 'posted', 'last_edited', 'helpful',\n",
      "       'recommend', 'funny', 'review'],\n",
      "      dtype='object')\n"
     ]
    }
   ],
   "source": [
    "print(user_reviews_3.columns)"
   ]
  },
  {
   "cell_type": "code",
   "execution_count": 124,
   "metadata": {},
   "outputs": [],
   "source": [
    "# Necessary data:\n",
    "\n",
    "# user_reviews = user_id, posted, recommend\n",
    "user_reviews_columns = [\"posted\", \"recommend\"]\n",
    "\n",
    "# Create new DataFrames with only the selected columns\n",
    "user_reviews_dataframe_2 = user_reviews_3[user_reviews_columns]"
   ]
  },
  {
   "attachments": {},
   "cell_type": "markdown",
   "metadata": {},
   "source": [
    "### Generating file"
   ]
  },
  {
   "cell_type": "code",
   "execution_count": 125,
   "metadata": {},
   "outputs": [],
   "source": [
    "# Saving the dataframe to a csv format file\n",
    "# The file will be stored in api inside a the datasets folder \n",
    "user_reviews_dataframe_2.to_csv('../api/datasets/user_data_2.csv', index=False)"
   ]
  },
  {
   "attachments": {},
   "cell_type": "markdown",
   "metadata": {},
   "source": [
    "## API Function 3 \"genre\""
   ]
  },
  {
   "attachments": {},
   "cell_type": "markdown",
   "metadata": {},
   "source": [
    "Returns the position in which a genre is found over the ranking of the same analyzed under the PlayTimeForever column."
   ]
  },
  {
   "attachments": {},
   "cell_type": "markdown",
   "metadata": {},
   "source": [
    "### Creating dataframes"
   ]
  },
  {
   "attachments": {},
   "cell_type": "markdown",
   "metadata": {},
   "source": [
    "Creating new dataframes with only the necessary columns"
   ]
  },
  {
   "cell_type": "code",
   "execution_count": 180,
   "metadata": {},
   "outputs": [
    {
     "name": "stdout",
     "output_type": "stream",
     "text": [
      "Index(['user_id', 'items_count', 'item_id', 'playtime_forever',\n",
      "       'item_id_rcmnd', 'recommend'],\n",
      "      dtype='object')\n",
      "Index(['publisher', 'genres', 'app_name', 'title', 'url', 'release_date',\n",
      "       'tags', 'reviews_url', 'specs', 'price', 'early_access', 'id',\n",
      "       'developer'],\n",
      "      dtype='object')\n"
     ]
    }
   ],
   "source": [
    "# Calling the dataframe with complete information of users from the API function 1\n",
    "print(users_dataframe_1.columns)\n",
    "print(steam_games_2.columns)"
   ]
  },
  {
   "cell_type": "code",
   "execution_count": 181,
   "metadata": {},
   "outputs": [],
   "source": [
    "# Necessary data:\n",
    "users_columns = [\"item_id\", \"playtime_forever\"]\n",
    "steam_games_columns = [\"id\", \"genres\", \"tags\", \"specs\"]\n",
    "\n",
    "# Create new DataFrames with only the selected columns\n",
    "users_dataframe_3 = users_dataframe_1[users_columns]\n",
    "steam_games_dataframe_3 = steam_games_2[steam_games_columns]"
   ]
  },
  {
   "attachments": {},
   "cell_type": "markdown",
   "metadata": {},
   "source": [
    "#### Deleting null values"
   ]
  },
  {
   "cell_type": "code",
   "execution_count": 191,
   "metadata": {},
   "outputs": [
    {
     "name": "stdout",
     "output_type": "stream",
     "text": [
      "<class 'pandas.core.frame.DataFrame'>\n",
      "RangeIndex: 87629 entries, 0 to 87628\n",
      "Data columns (total 2 columns):\n",
      " #   Column            Non-Null Count  Dtype \n",
      "---  ------            --------------  ----- \n",
      " 0   item_id           87629 non-null  object\n",
      " 1   playtime_forever  87625 non-null  object\n",
      "dtypes: object(2)\n",
      "memory usage: 1.3+ MB\n"
     ]
    }
   ],
   "source": [
    "users_dataframe_3.info()"
   ]
  },
  {
   "attachments": {},
   "cell_type": "markdown",
   "metadata": {},
   "source": [
    "The \"playtime_forever\" column have 4 null values.<br>\n",
    "Apart from being few values, it also means that they do not add time to the genres, so it does not affect the elimination of them. "
   ]
  },
  {
   "cell_type": "code",
   "execution_count": 193,
   "metadata": {},
   "outputs": [
    {
     "data": {
      "text/html": [
       "<div>\n",
       "<style scoped>\n",
       "    .dataframe tbody tr th:only-of-type {\n",
       "        vertical-align: middle;\n",
       "    }\n",
       "\n",
       "    .dataframe tbody tr th {\n",
       "        vertical-align: top;\n",
       "    }\n",
       "\n",
       "    .dataframe thead th {\n",
       "        text-align: right;\n",
       "    }\n",
       "</style>\n",
       "<table border=\"1\" class=\"dataframe\">\n",
       "  <thead>\n",
       "    <tr style=\"text-align: right;\">\n",
       "      <th></th>\n",
       "      <th>item_id</th>\n",
       "      <th>playtime_forever</th>\n",
       "    </tr>\n",
       "  </thead>\n",
       "  <tbody>\n",
       "    <tr>\n",
       "      <th>87625</th>\n",
       "      <td>[233720, 55230, 22380, 313371, 215280, 33100, ...</td>\n",
       "      <td>NaN</td>\n",
       "    </tr>\n",
       "    <tr>\n",
       "      <th>87626</th>\n",
       "      <td>[730]</td>\n",
       "      <td>NaN</td>\n",
       "    </tr>\n",
       "    <tr>\n",
       "      <th>87627</th>\n",
       "      <td>[730]</td>\n",
       "      <td>NaN</td>\n",
       "    </tr>\n",
       "    <tr>\n",
       "      <th>87628</th>\n",
       "      <td>[245550, 206420, 304930, 730, 570]</td>\n",
       "      <td>NaN</td>\n",
       "    </tr>\n",
       "  </tbody>\n",
       "</table>\n",
       "</div>"
      ],
      "text/plain": [
       "                                                 item_id playtime_forever\n",
       "87625  [233720, 55230, 22380, 313371, 215280, 33100, ...              NaN\n",
       "87626                                              [730]              NaN\n",
       "87627                                              [730]              NaN\n",
       "87628                 [245550, 206420, 304930, 730, 570]              NaN"
      ]
     },
     "execution_count": 193,
     "metadata": {},
     "output_type": "execute_result"
    }
   ],
   "source": [
    "# Rows with null values in 'playtime_forever'\n",
    "null_rows = users_dataframe_3[users_dataframe_3['playtime_forever'].isnull()]\n",
    "null_rows"
   ]
  },
  {
   "cell_type": "code",
   "execution_count": 194,
   "metadata": {},
   "outputs": [
    {
     "name": "stderr",
     "output_type": "stream",
     "text": [
      "C:\\Users\\Ronnie\\AppData\\Local\\Temp\\ipykernel_11972\\350626787.py:2: SettingWithCopyWarning: \n",
      "A value is trying to be set on a copy of a slice from a DataFrame\n",
      "\n",
      "See the caveats in the documentation: https://pandas.pydata.org/pandas-docs/stable/user_guide/indexing.html#returning-a-view-versus-a-copy\n",
      "  users_dataframe_3.dropna(subset=['playtime_forever'], inplace=True)\n"
     ]
    }
   ],
   "source": [
    "# Delete rows with null values in 'playtime_forever'\n",
    "users_dataframe_3.dropna(subset=['playtime_forever'], inplace=True)"
   ]
  },
  {
   "cell_type": "code",
   "execution_count": 195,
   "metadata": {},
   "outputs": [
    {
     "name": "stdout",
     "output_type": "stream",
     "text": [
      "<class 'pandas.core.frame.DataFrame'>\n",
      "Index: 87625 entries, 0 to 87624\n",
      "Data columns (total 2 columns):\n",
      " #   Column            Non-Null Count  Dtype \n",
      "---  ------            --------------  ----- \n",
      " 0   item_id           87625 non-null  object\n",
      " 1   playtime_forever  87625 non-null  object\n",
      "dtypes: object(2)\n",
      "memory usage: 2.0+ MB\n"
     ]
    }
   ],
   "source": [
    "users_dataframe_3.info()"
   ]
  },
  {
   "attachments": {},
   "cell_type": "markdown",
   "metadata": {},
   "source": [
    "### Merging steam game columns"
   ]
  },
  {
   "cell_type": "code",
   "execution_count": 182,
   "metadata": {},
   "outputs": [
    {
     "name": "stdout",
     "output_type": "stream",
     "text": [
      "<class 'pandas.core.frame.DataFrame'>\n",
      "Index: 32132 entries, 0 to 32133\n",
      "Data columns (total 4 columns):\n",
      " #   Column  Non-Null Count  Dtype  \n",
      "---  ------  --------------  -----  \n",
      " 0   id      32132 non-null  float64\n",
      " 1   genres  28850 non-null  object \n",
      " 2   tags    31970 non-null  object \n",
      " 3   specs   31463 non-null  object \n",
      "dtypes: float64(1), object(3)\n",
      "memory usage: 2.2+ MB\n"
     ]
    }
   ],
   "source": [
    "steam_games_dataframe_3.info()"
   ]
  },
  {
   "attachments": {},
   "cell_type": "markdown",
   "metadata": {},
   "source": [
    "\"genre\" column have missing values.<br>\n",
    "\"tags\" and \"specs\" also have genre list values, this information must be merge.<br>\n",
    "The values from \"genres\" will be the complete list of genres of a game."
   ]
  },
  {
   "attachments": {},
   "cell_type": "markdown",
   "metadata": {},
   "source": [
    "#### \"genres\" and \"tags\""
   ]
  },
  {
   "cell_type": "code",
   "execution_count": 183,
   "metadata": {},
   "outputs": [],
   "source": [
    "# Calling the function to merge values from lists\n",
    "data_analysis_utils.merge_values(steam_games_dataframe_3, \"genres\", \"tags\")"
   ]
  },
  {
   "attachments": {},
   "cell_type": "markdown",
   "metadata": {},
   "source": [
    "#### \"genres\" and \"specs\""
   ]
  },
  {
   "cell_type": "code",
   "execution_count": 184,
   "metadata": {},
   "outputs": [],
   "source": [
    "# Calling the function to merge values from lists\n",
    "data_analysis_utils.merge_values(steam_games_dataframe_3, \"genres\", \"specs\")"
   ]
  },
  {
   "cell_type": "code",
   "execution_count": 185,
   "metadata": {},
   "outputs": [
    {
     "name": "stdout",
     "output_type": "stream",
     "text": [
      "<class 'pandas.core.frame.DataFrame'>\n",
      "Index: 32132 entries, 0 to 32133\n",
      "Data columns (total 4 columns):\n",
      " #   Column  Non-Null Count  Dtype  \n",
      "---  ------  --------------  -----  \n",
      " 0   id      32132 non-null  float64\n",
      " 1   genres  32132 non-null  object \n",
      " 2   tags    31970 non-null  object \n",
      " 3   specs   31463 non-null  object \n",
      "dtypes: float64(1), object(3)\n",
      "memory usage: 2.2+ MB\n"
     ]
    }
   ],
   "source": [
    "steam_games_dataframe_3.info()"
   ]
  },
  {
   "attachments": {},
   "cell_type": "markdown",
   "metadata": {},
   "source": [
    "\"tags\" and \"specs\" are no longer necessary"
   ]
  },
  {
   "cell_type": "code",
   "execution_count": 186,
   "metadata": {},
   "outputs": [],
   "source": [
    "# Necessary data:\n",
    "steam_columns = [\"id\", \"genres\"]\n",
    "\n",
    "# Create new DataFrames with only the selected columns\n",
    "steam_games_dataframe_3 = steam_games_dataframe_3[steam_columns]"
   ]
  },
  {
   "attachments": {},
   "cell_type": "markdown",
   "metadata": {},
   "source": [
    "### Genre ranking dataframe"
   ]
  },
  {
   "attachments": {},
   "cell_type": "markdown",
   "metadata": {},
   "source": [
    "To avoid saturating the genre ranking function, a dataframe with the ranking of genres is created."
   ]
  },
  {
   "cell_type": "code",
   "execution_count": 201,
   "metadata": {},
   "outputs": [],
   "source": [
    "def correspond(dataframe, column_name_1, column_name_2):\n",
    "    key_val = {}\n",
    "    report = []\n",
    "    for idx_row, row in dataframe.iterrows():\n",
    "        id_list = row[column_name_1]\n",
    "        time_list = row[column_name_2]\n",
    "        \n",
    "        if len(id_list) == len(time_list):\n",
    "\n",
    "            for idx_id, id in enumerate(id_list):\n",
    "\n",
    "                if id in key_val:\n",
    "                    key_val[id] += time_list[idx_id]\n",
    "                else:\n",
    "                    key_val[id] = time_list[idx_id]\n",
    "\n",
    "        else:\n",
    "            report.append(idx_row)\n",
    "    \n",
    "    return key_val, report"
   ]
  },
  {
   "cell_type": "code",
   "execution_count": 202,
   "metadata": {},
   "outputs": [],
   "source": [
    "users_df_explode, users_report = correspond(users_dataframe_3, \"item_id\", \"playtime_forever\")"
   ]
  },
  {
   "cell_type": "code",
   "execution_count": 206,
   "metadata": {},
   "outputs": [
    {
     "name": "stdout",
     "output_type": "stream",
     "text": [
      "[4, 9, 11, 16, 18, 22, 24, 26, 36, 38, 45, 47, 66, 72, 78, 81, 84, 85, 90, 92, 96, 99, 102, 109, 112, 117, 121, 130, 131, 138, 139, 141, 149, 156, 161, 164, 167, 168, 171, 173, 175, 179, 182, 189, 194, 196, 197, 198, 199, 201, 207, 211, 213, 216, 222, 237, 240, 242, 243, 244, 245, 246, 253, 264, 265, 267, 278, 287, 289, 295, 296, 297, 298, 301, 314, 329, 331, 333, 335, 347, 352, 356, 357, 377, 382, 384, 390, 396, 404, 407, 417, 420, 422, 431, 435, 441, 444, 445, 446, 456, 463, 464, 469, 483, 485, 492, 494, 497, 502, 503, 528, 529, 530, 536, 545, 547, 555, 558, 573, 586, 591, 593, 597, 599, 607, 608, 613, 618, 636, 640, 641, 645, 647, 652, 655, 658, 661, 663, 679, 695, 703, 706, 708, 711, 723, 726, 732, 733, 742, 746, 749, 752, 755, 756, 760, 761, 762, 773, 784, 797, 799, 801, 810, 815, 816, 818, 834, 837, 844, 848, 850, 864, 874, 879, 882, 883, 907, 910, 911, 925, 935, 946, 958, 960, 963, 969, 975, 976, 978, 985, 990, 991, 995, 998, 1007, 1015, 1024, 1025, 1028, 1029, 1034, 1047, 1053, 1065, 1067, 1072, 1076, 1080, 1082, 1083, 1084, 1102, 1117, 1125, 1131, 1133, 1136, 1140, 1142, 1143, 1146, 1153, 1162, 1164, 1165, 1166, 1174, 1177, 1179, 1180, 1187, 1192, 1195, 1206, 1212, 1216, 1223, 1229, 1255, 1260, 1283, 1288, 1289, 1291, 1296, 1307, 1315, 1319, 1323, 1324, 1325, 1331, 1349, 1351, 1358, 1362, 1368, 1375, 1377, 1382, 1398, 1403, 1409, 1419, 1420, 1421, 1422, 1429, 1438, 1440, 1443, 1446, 1453, 1461, 1465, 1466, 1468, 1476, 1487, 1489, 1492, 1499, 1504, 1505, 1517, 1528, 1532, 1537, 1541, 1542, 1554, 1557, 1579, 1584, 1591, 1595, 1598, 1600, 1605, 1606, 1617, 1627, 1648, 1651, 1656, 1658, 1669, 1689, 1698, 1700, 1702, 1706, 1723, 1742, 1744, 1750, 1751, 1759, 1774, 1777, 1782, 1783, 1784, 1788, 1789, 1794, 1796, 1799, 1800, 1805, 1806, 1836, 1842, 1846, 1861, 1862, 1868, 1869, 1870, 1877, 1891, 1894, 1903, 1911, 1913, 1926, 1930, 1933, 1935, 1936, 1944, 1948, 1949, 1954, 1956, 1969, 2029, 2044, 2049, 2051, 2052, 2057, 2061, 2076, 2087, 2089, 2097, 2102, 2104, 2105, 2115, 2117, 2121, 2122, 2125, 2128, 2129, 2130, 2135, 2137, 2145, 2146, 2152, 2155, 2164, 2171, 2174, 2179, 2183, 2185, 2188, 2192, 2193, 2198, 2200, 2211, 2221, 2224, 2228, 2233, 2239, 2242, 2247, 2256, 2263, 2267, 2275, 2280, 2289, 2291, 2299, 2301, 2305, 2317, 2319, 2321, 2331, 2334, 2340, 2343, 2344, 2354, 2355, 2371, 2380, 2385, 2392, 2398, 2405, 2415, 2423, 2431, 2433, 2436, 2457, 2461, 2466, 2470, 2474, 2476, 2479, 2483, 2484, 2486, 2492, 2509, 2511, 2522, 2535, 2543, 2546, 2558, 2564, 2565, 2568, 2573, 2577, 2592, 2594, 2596, 2601, 2606, 2609, 2614, 2622, 2635, 2639, 2643, 2647, 2650, 2651, 2662, 2674, 2675, 2679, 2683, 2687, 2692, 2698, 2701, 2702, 2705, 2708, 2718, 2720, 2721, 2725, 2736, 2739, 2746, 2751, 2759, 2763, 2768, 2769, 2787, 2789, 2794, 2795, 2796, 2803, 2818, 2826, 2839, 2840, 2860, 2865, 2873, 2878, 2879, 2881, 2885, 2894, 2897, 2903, 2908, 2911, 2922, 2926, 2942, 2944, 2947, 2950, 2953, 2956, 2973, 2986, 2989, 2991, 2992, 2993, 2994, 2999, 3000, 3005, 3016, 3018, 3025, 3029, 3039, 3044, 3051, 3054, 3059, 3063, 3072, 3080, 3089, 3092, 3093, 3097, 3099, 3109, 3111, 3112, 3116, 3117, 3129, 3131, 3144, 3151, 3155, 3164, 3173, 3174, 3175, 3180, 3187, 3190, 3191, 3200, 3202, 3204, 3209, 3212, 3218, 3222, 3228, 3229, 3233, 3235, 3236, 3246, 3247, 3253, 3268, 3269, 3271, 3275, 3279, 3281, 3287, 3288, 3289, 3293, 3295, 3299, 3304, 3306, 3308, 3312, 3313, 3324, 3327, 3328, 3330, 3336, 3337, 3345, 3346, 3347, 3351, 3369, 3370, 3378, 3379, 3384, 3402, 3407, 3410, 3411, 3421, 3429, 3433, 3434, 3440, 3449, 3450, 3454, 3456, 3459, 3460, 3465, 3470, 3475, 3485, 3494, 3496, 3503, 3504, 3507, 3510, 3514, 3518, 3523, 3530, 3538, 3546, 3551, 3552, 3557, 3569, 3579, 3583, 3584, 3585, 3586, 3591, 3592, 3599, 3603, 3605, 3612, 3617, 3620, 3624, 3627, 3629, 3637, 3648, 3649, 3652, 3654, 3660, 3667, 3675, 3676, 3682, 3683, 3693, 3706, 3712, 3719, 3722, 3723, 3726, 3727, 3758, 3763, 3770, 3779, 3789, 3790, 3827, 3829, 3832, 3838, 3840, 3841, 3851, 3863, 3871, 3880, 3897, 3902, 3905, 3926, 3942, 3952, 3965, 3968, 3970, 3971, 3975, 3988, 3994, 3997, 4000, 4014, 4018, 4024, 4025, 4038, 4042, 4043, 4046, 4048, 4052, 4055, 4056, 4057, 4062, 4068, 4071, 4088, 4098, 4100, 4107, 4108, 4110, 4114, 4123, 4128, 4133, 4134, 4138, 4150, 4153, 4162, 4171, 4196, 4197, 4211, 4215, 4217, 4222, 4243, 4244, 4250, 4252, 4263, 4267, 4273, 4274, 4278, 4282, 4289, 4292, 4299, 4315, 4331, 4335, 4337, 4351, 4354, 4355, 4356, 4358, 4362, 4365, 4366, 4367, 4370, 4374, 4381, 4384, 4415, 4419, 4422, 4427, 4428, 4442, 4445, 4449, 4450, 4453, 4455, 4456, 4458, 4463, 4466, 4469, 4472, 4477, 4478, 4483, 4489, 4490, 4493, 4499, 4506, 4511, 4515, 4518, 4520, 4529, 4546, 4550, 4564, 4568, 4581, 4582, 4587, 4591, 4594, 4598, 4607, 4609, 4617, 4618, 4631, 4635, 4638, 4654, 4657, 4660, 4669, 4670, 4671, 4675, 4681, 4684, 4685, 4689, 4691, 4693, 4694, 4701, 4704, 4714, 4715, 4717, 4726, 4728, 4739, 4742, 4746, 4748, 4754, 4755, 4761, 4771, 4775, 4784, 4785, 4789, 4790, 4795, 4799, 4803, 4804, 4809, 4830, 4840, 4852, 4860, 4863, 4869, 4871, 4879, 4884, 4885, 4896, 4902, 4906, 4909, 4910, 4921, 4922, 4927, 4928, 4935, 4940, 4954, 4957, 4965, 4967, 4970, 4976, 4977, 5000, 5003, 5004, 5005, 5006, 5011, 5012, 5016, 5017, 5021, 5023, 5027, 5032, 5038, 5040, 5041, 5042, 5046, 5048, 5049, 5065, 5069, 5087, 5092, 5100, 5101, 5116, 5120, 5122, 5125, 5126, 5133, 5137, 5142, 5144, 5163, 5168, 5177, 5180, 5196, 5197, 5206, 5222, 5228, 5231, 5232, 5235, 5241, 5242, 5243, 5251, 5256, 5268, 5289, 5292, 5297, 5298, 5304, 5309, 5321, 5324, 5332, 5333, 5337, 5340, 5353, 5355, 5358, 5360, 5361, 5388, 5390, 5402, 5404, 5408, 5417, 5423, 5430, 5431, 5432, 5439, 5440, 5449, 5450, 5454, 5459, 5477, 5489, 5490, 5509, 5518, 5519, 5520, 5533, 5535, 5537, 5541, 5546, 5552, 5553, 5563, 5571, 5575, 5589, 5591, 5600, 5609, 5612, 5613, 5618, 5619, 5622, 5629, 5644, 5650, 5654, 5658, 5659, 5662, 5669, 5673, 5681, 5683, 5695, 5698, 5702, 5707, 5712, 5723, 5724, 5734, 5740, 5747, 5751, 5752, 5755, 5759, 5774, 5775, 5778, 5782, 5792, 5794, 5801, 5805, 5806, 5808, 5826, 5832, 5834, 5841, 5843, 5846, 5848, 5849, 5852, 5861, 5863, 5864, 5869, 5870, 5871, 5876, 5880, 5892, 5893, 5894, 5896, 5900, 5912, 5915, 5928, 5930, 5940, 5942, 5944, 5945, 5946, 5951, 5954, 5957, 5959, 5962, 5964, 5965, 5966, 5975, 5981, 5990, 5991, 5993, 6005, 6022, 6024, 6025, 6029, 6036, 6039, 6045, 6049, 6082, 6089, 6091, 6095, 6105, 6106, 6111, 6112, 6117, 6128, 6135, 6137, 6138, 6144, 6149, 6150, 6157, 6160, 6165, 6177, 6201, 6203, 6216, 6227, 6229, 6232, 6241, 6243, 6250, 6261, 6262, 6285, 6289, 6290, 6295, 6296, 6301, 6313, 6318, 6325, 6326, 6328, 6339, 6343, 6344, 6348, 6352, 6353, 6356, 6358, 6360, 6362, 6363, 6364, 6365, 6389, 6392, 6394, 6396, 6397, 6402, 6413, 6427, 6435, 6436, 6440, 6442, 6454, 6455, 6459, 6460, 6466, 6472, 6480, 6504, 6509, 6518, 6526, 6528, 6538, 6539, 6549, 6553, 6557, 6560, 6564, 6567, 6573, 6576, 6588, 6592, 6594, 6597, 6603, 6608, 6609, 6626, 6632, 6633, 6642, 6643, 6648, 6656, 6669, 6674, 6679, 6680, 6695, 6701, 6708, 6711, 6712, 6719, 6724, 6728, 6733, 6734, 6738, 6742, 6745, 6748, 6752, 6778, 6792, 6795, 6803, 6805, 6813, 6814, 6822, 6824, 6831, 6834, 6840, 6850, 6860, 6868, 6871, 6880, 6887, 6889, 6903, 6905, 6918, 6926, 6936, 6944, 6953, 6958, 6974, 7002, 7018, 7022, 7024, 7025, 7030, 7032, 7034, 7040, 7041, 7045, 7049, 7058, 7059, 7066, 7068, 7072, 7078, 7087, 7093, 7094, 7112, 7118, 7121, 7126, 7136, 7146, 7160, 7168, 7180, 7211, 7227, 7235, 7245, 7256, 7264, 7268, 7270, 7273, 7275, 7290, 7301, 7306, 7309, 7318, 7333, 7340, 7341, 7352, 7361, 7364, 7367, 7369, 7377, 7384, 7390, 7395, 7399, 7401, 7403, 7439, 7449, 7467, 7468, 7471, 7473, 7478, 7479, 7487, 7488, 7493, 7497, 7500, 7503, 7505, 7506, 7508, 7510, 7513, 7518, 7528, 7530, 7531, 7537, 7538, 7540, 7542, 7545, 7551, 7556, 7558, 7559, 7561, 7564, 7568, 7574, 7576, 7592, 7597, 7605, 7609, 7618, 7619, 7624, 7629, 7643, 7646, 7647, 7653, 7662, 7683, 7684, 7693, 7699, 7702, 7705, 7706, 7708, 7718, 7721, 7724, 7725, 7743, 7752, 7756, 7758, 7767, 7768, 7783, 7786, 7794, 7805, 7806, 7808, 7810, 7814, 7820, 7822, 7824, 7826, 7829, 7834, 7840, 7852, 7859, 7883, 7913, 7917, 7918, 7924, 7946, 7953, 7954, 7966, 7974, 7975, 7988, 7990, 7992, 7998, 8017, 8023, 8030, 8052, 8066, 8106, 8115, 8117, 8118, 8123, 8127, 8133, 8134, 8136, 8137, 8142, 8148, 8160, 8178, 8181, 8184, 8190, 8201, 8203, 8206, 8207, 8213, 8223, 8236, 8249, 8254, 8274, 8284, 8289, 8299, 8301, 8304, 8309, 8313, 8316, 8336, 8341, 8343, 8373, 8383, 8393, 8395, 8400, 8408, 8412, 8418, 8429, 8441, 8447, 8448, 8457, 8461, 8463, 8466, 8470, 8473, 8477, 8479, 8480, 8484, 8485, 8488, 8489, 8492, 8493, 8497, 8501, 8502, 8503, 8505, 8508, 8511, 8526, 8529, 8547, 8559, 8566, 8574, 8578, 8579, 8581, 8585, 8595, 8606, 8610, 8619, 8623, 8637, 8645, 8653, 8657, 8660, 8663, 8666, 8672, 8680, 8682, 8688, 8694, 8706, 8725, 8729, 8732, 8733, 8739, 8745, 8747, 8750, 8759, 8773, 8788, 8790, 8792, 8809, 8813, 8817, 8820, 8833, 8836, 8842, 8847, 8848, 8857, 8859, 8861, 8873, 8874, 8875, 8881, 8884, 8885, 8896, 8900, 8901, 8908, 8918, 8925, 8946, 8947, 8959, 8963, 8964, 8973, 8976, 8980, 8984, 8991, 9004, 9008, 9012, 9013, 9018, 9019, 9025, 9028, 9031, 9044, 9057, 9064, 9075, 9088, 9095, 9102, 9111, 9113, 9116, 9120, 9124, 9126, 9129, 9147, 9153, 9158, 9163, 9166, 9172, 9174, 9175, 9187, 9191, 9196, 9197, 9198, 9211, 9212, 9224, 9231, 9236, 9237, 9238, 9251, 9257, 9260, 9263, 9264, 9278, 9281, 9290, 9299, 9300, 9312, 9328, 9337, 9342, 9356, 9359, 9362, 9370, 9372, 9374, 9375, 9382, 9385, 9398, 9399, 9400, 9405, 9414, 9437, 9450, 9453, 9455, 9456, 9457, 9459, 9464, 9467, 9468, 9469, 9475, 9477, 9480, 9490, 9492, 9500, 9503, 9505, 9510, 9513, 9519, 9530, 9545, 9548, 9556, 9559, 9562, 9567, 9582, 9586, 9588, 9595, 9603, 9612, 9615, 9623, 9636, 9649, 9652, 9663, 9695, 9701, 9704, 9729, 9737, 9739, 9748, 9753, 9754, 9756, 9761, 9762, 9782, 9787, 9800, 9804, 9814, 9816, 9818, 9821, 9840, 9845, 9856, 9865, 9867, 9876, 9882, 9888, 9893, 9904, 9914, 9916, 9917, 9918, 9926, 9927, 9930, 9943, 9946, 9957, 9960, 9967, 9976, 9981, 9985, 9986, 9993, 10001, 10015, 10030, 10038, 10046, 10056, 10061, 10085, 10087, 10091, 10098, 10106, 10111, 10112, 10115, 10117, 10131, 10132, 10135, 10137, 10141, 10159, 10167, 10174, 10188, 10190, 10192, 10195, 10196, 10210, 10212, 10213, 10226, 10232, 10256, 10267, 10274, 10275, 10277, 10280, 10289, 10318, 10335, 10355, 10356, 10364, 10366, 10382, 10386, 10393, 10399, 10400, 10401, 10408, 10414, 10423, 10426, 10437, 10445, 10450, 10453, 10457, 10461, 10473, 10483, 10496, 10503, 10522, 10524, 10529, 10535, 10537, 10539, 10553, 10555, 10568, 10572, 10577, 10579, 10584, 10591, 10592, 10598, 10603, 10614, 10619, 10629, 10642, 10659, 10661, 10662, 10664, 10669, 10682, 10690, 10693, 10700, 10707, 10711, 10713, 10714, 10745, 10765, 10771, 10775, 10792, 10795, 10802, 10806, 10811, 10814, 10824, 10826, 10829, 10831, 10836, 10842, 10852, 10858, 10863, 10870, 10872, 10894, 10920, 10927, 10936, 10937, 10945, 10952, 10955, 10956, 10959, 10962, 10974, 10976, 10980, 10986, 10987, 10993, 10995, 10998, 11004, 11005, 11014, 11025, 11027, 11032, 11041, 11043, 11048, 11082, 11087, 11095, 11100, 11107, 11111, 11117, 11136, 11141, 11151, 11159, 11175, 11182, 11196, 11206, 11226, 11236, 11238, 11242, 11246, 11248, 11262, 11267, 11276, 11288, 11292, 11296, 11298, 11302, 11314, 11320, 11322, 11323, 11325, 11327, 11337, 11338, 11347, 11354, 11363, 11364, 11368, 11373, 11384, 11390, 11404, 11409, 11410, 11411, 11414, 11420, 11439, 11444, 11446, 11448, 11450, 11456, 11460, 11462, 11483, 11492, 11497, 11509, 11528, 11534, 11536, 11544, 11548, 11557, 11570, 11571, 11580, 11583, 11593, 11596, 11598, 11601, 11619, 11638, 11648, 11649, 11668, 11671, 11672, 11689, 11692, 11698, 11702, 11707, 11712, 11725, 11726, 11731, 11742, 11760, 11765, 11769, 11773, 11780, 11785, 11787, 11803, 11810, 11813, 11814, 11815, 11821, 11825, 11843, 11860, 11867, 11868, 11872, 11881, 11899, 11906, 11919, 11935, 11952, 11961, 11962, 11975, 11976, 11978, 11986, 11987, 11999, 12004, 12005, 12006, 12009, 12011, 12016, 12026, 12027, 12043, 12081, 12088, 12089, 12095, 12099, 12115, 12117, 12123, 12130, 12131, 12145, 12148, 12165, 12166, 12171, 12184, 12193, 12196, 12201, 12212, 12216, 12226, 12228, 12231, 12238, 12256, 12261, 12275, 12287, 12295, 12307, 12310, 12319, 12322, 12326, 12330, 12338, 12349, 12354, 12361, 12363, 12369, 12370, 12378, 12379, 12380, 12385, 12396, 12401, 12403, 12409, 12411, 12417, 12434, 12435, 12439, 12451, 12460, 12468, 12469, 12480, 12489, 12496, 12510, 12512, 12531, 12533, 12534, 12539, 12543, 12544, 12545, 12561, 12590, 12594, 12609, 12617, 12621, 12622, 12623, 12628, 12630, 12631, 12638, 12650, 12657, 12662, 12670, 12671, 12679, 12688, 12694, 12704, 12706, 12709, 12712, 12727, 12729, 12730, 12749, 12766, 12768, 12781, 12789, 12800, 12805, 12808, 12810, 12812, 12820, 12822, 12830, 12838, 12857, 12862, 12871, 12873, 12875, 12890, 12894, 12901, 12911, 12917, 12920, 12921, 12922, 12926, 12927, 12932, 12939, 12941, 12944, 12946, 12953, 12960, 12963, 12970, 12982, 12984, 12989, 12995, 13000, 13012, 13022, 13027, 13035, 13036, 13046, 13047, 13054, 13058, 13061, 13062, 13069, 13078, 13084, 13085, 13092, 13097, 13110, 13119, 13128, 13140, 13150, 13154, 13155, 13161, 13164, 13169, 13179, 13200, 13202, 13205, 13207, 13212, 13213, 13235, 13237, 13240, 13245, 13246, 13253, 13260, 13266, 13273, 13275, 13276, 13282, 13303, 13310, 13322, 13342, 13347, 13348, 13357, 13363, 13365, 13372, 13375, 13381, 13382, 13385, 13387, 13390, 13395, 13396, 13400, 13401, 13404, 13419, 13425, 13430, 13438, 13442, 13443, 13444, 13448, 13449, 13451, 13456, 13466, 13471, 13473, 13478, 13481, 13483, 13487, 13488, 13491, 13493, 13494, 13497, 13498, 13503, 13525, 13533, 13534, 13545, 13572, 13577, 13588, 13610, 13616, 13623, 13633, 13634, 13637, 13642, 13645, 13649, 13652, 13658, 13661, 13664, 13665, 13671, 13674, 13684, 13685, 13686, 13690, 13699, 13710, 13718, 13720, 13723, 13724, 13725, 13727, 13728, 13754, 13756, 13758, 13765, 13768, 13804, 13808, 13810, 13811, 13815, 13822, 13828, 13836, 13844, 13845, 13846, 13859, 13860, 13881, 13890, 13891, 13906, 13909, 13923, 13924, 13941, 13952, 13953, 13962, 13979, 13983, 14004, 14016, 14022, 14032, 14047, 14051, 14057, 14069, 14072, 14073, 14076, 14077, 14078, 14087, 14096, 14103, 14115, 14117, 14126, 14132, 14135, 14138, 14140, 14152, 14156, 14157, 14160, 14162, 14171, 14172, 14176, 14181, 14190, 14209, 14220, 14231, 14237, 14241, 14242, 14247, 14250, 14299, 14300, 14303, 14305, 14309, 14321, 14325, 14341, 14353, 14360, 14361, 14366, 14371, 14383, 14385, 14392, 14395, 14396, 14399, 14417, 14419, 14425, 14434, 14441, 14443, 14445, 14453, 14467, 14469, 14470, 14480, 14484, 14487, 14488, 14489, 14491, 14507, 14518, 14533, 14537, 14542, 14549, 14557, 14562, 14583, 14596, 14597, 14609, 14611, 14614, 14628, 14642, 14645, 14646, 14651, 14652, 14656, 14660, 14685, 14693, 14701, 14702, 14705, 14722, 14731, 14733, 14738, 14740, 14745, 14750, 14756, 14772, 14790, 14809, 14815, 14817, 14837, 14841, 14845, 14849, 14856, 14862, 14869, 14876, 14889, 14891, 14910, 14911, 14914, 14915, 14927, 14929, 14935, 14958, 14960, 14961, 14973, 14980, 14981, 14983, 14985, 14993, 14995, 15005, 15026, 15033, 15035, 15046, 15048, 15073, 15082, 15083, 15087, 15089, 15092, 15094, 15100, 15102, 15106, 15109, 15112, 15135, 15138, 15142, 15143, 15149, 15168, 15169, 15170, 15193, 15200, 15212, 15217, 15220, 15228, 15231, 15233, 15239, 15241, 15247, 15251, 15253, 15254, 15266, 15279, 15281, 15289, 15290, 15293, 15304, 15308, 15319, 15331, 15332, 15337, 15341, 15345, 15351, 15356, 15367, 15374, 15378, 15382, 15385, 15387, 15390, 15391, 15392, 15396, 15397, 15413, 15424, 15427, 15429, 15431, 15441, 15443, 15471, 15473, 15489, 15491, 15503, 15507, 15518, 15523, 15532, 15548, 15553, 15555, 15558, 15568, 15579, 15588, 15592, 15599, 15602, 15603, 15608, 15612, 15627, 15634, 15639, 15643, 15669, 15671, 15678, 15681, 15683, 15700, 15701, 15712, 15720, 15721, 15724, 15730, 15740, 15751, 15755, 15758, 15761, 15769, 15780, 15786, 15787, 15802, 15816, 15819, 15820, 15827, 15836, 15856, 15859, 15860, 15870, 15883, 15890, 15895, 15906, 15917, 15918, 15920, 15925, 15930, 15937, 15951, 15954, 15957, 15959, 15972, 15973, 15974, 15978, 15979, 15983, 15988, 16000, 16003, 16017, 16020, 16023, 16032, 16033, 16034, 16037, 16038, 16040, 16055, 16065, 16082, 16097, 16103, 16105, 16110, 16124, 16138, 16139, 16145, 16147, 16149, 16158, 16161, 16166, 16176, 16177, 16185, 16186, 16192, 16200, 16207, 16211, 16218, 16226, 16236, 16238, 16241, 16242, 16248, 16255, 16258, 16264, 16266, 16267, 16272, 16274, 16276, 16280, 16298, 16304, 16331, 16332, 16334, 16337, 16339, 16351, 16361, 16375, 16379, 16380, 16385, 16393, 16395, 16397, 16406, 16407, 16415, 16417, 16418, 16423, 16424, 16426, 16441, 16449, 16459, 16465, 16475, 16493, 16495, 16510, 16516, 16518, 16526, 16527, 16530, 16532, 16546, 16552, 16555, 16558, 16559, 16560, 16577, 16585, 16588, 16591, 16593, 16597, 16600, 16622, 16626, 16634, 16644, 16650, 16652, 16673, 16678, 16683, 16690, 16697, 16698, 16705, 16707, 16708, 16713, 16716, 16718, 16720, 16722, 16725, 16733, 16734, 16742, 16743, 16751, 16752, 16759, 16766, 16767, 16770, 16778, 16779, 16781, 16782, 16784, 16785, 16791, 16795, 16797, 16807, 16809, 16814, 16815, 16816, 16819, 16821, 16825, 16843, 16847, 16850, 16852, 16855, 16862, 16863, 16869, 16870, 16877, 16891, 16905, 16908, 16909, 16921, 16930, 16944, 16951, 16959, 16968, 16975, 16988, 16989, 16990, 16995, 17001, 17002, 17005, 17013, 17016, 17032, 17036, 17038, 17044, 17045, 17053, 17059, 17060, 17064, 17066, 17069, 17091, 17096, 17100, 17101, 17111, 17112, 17117, 17119, 17120, 17141, 17142, 17152, 17155, 17156, 17158, 17164, 17170, 17178, 17186, 17192, 17205, 17210, 17232, 17240, 17241, 17256, 17259, 17260, 17261, 17263, 17267, 17271, 17274, 17288, 17303, 17304, 17321, 17328, 17330, 17346, 17349, 17351, 17353, 17354, 17358, 17365, 17370, 17382, 17386, 17389, 17392, 17397, 17400, 17402, 17417, 17418, 17429, 17435, 17455, 17466, 17467, 17472, 17474, 17480, 17485, 17486, 17491, 17497, 17509, 17513, 17514, 17515, 17516, 17527, 17533, 17558, 17563, 17577, 17591, 17593, 17594, 17599, 17601, 17608, 17611, 17623, 17626, 17635, 17639, 17640, 17642, 17644, 17653, 17663, 17664, 17681, 17686, 17698, 17701, 17707, 17713, 17717, 17734, 17743, 17744, 17747, 17753, 17764, 17767, 17776, 17781, 17795, 17796, 17797, 17800, 17808, 17810, 17811, 17814, 17816, 17820, 17824, 17828, 17830, 17831, 17835, 17845, 17858, 17870, 17874, 17890, 17891, 17896, 17906, 17911, 17913, 17920, 17921, 17925, 17928, 17931, 17946, 17971, 17974, 17984, 17986, 17990, 17991, 17996, 18004, 18007, 18018, 18023, 18026, 18040, 18047, 18048, 18053, 18054, 18082, 18087, 18088, 18089, 18091, 18093, 18094, 18097, 18112, 18120, 18127, 18129, 18131, 18138, 18149, 18153, 18157, 18160, 18167, 18170, 18173, 18178, 18189, 18200, 18202, 18203, 18204, 18211, 18215, 18219, 18236, 18244, 18249, 18254, 18259, 18263, 18271, 18277, 18279, 18288, 18290, 18293, 18324, 18329, 18340, 18344, 18347, 18348, 18353, 18354, 18355, 18358, 18369, 18374, 18382, 18389, 18391, 18393, 18396, 18409, 18427, 18428, 18431, 18432, 18441, 18442, 18447, 18448, 18456, 18463, 18469, 18472, 18488, 18494, 18502, 18509, 18521, 18529, 18533, 18540, 18541, 18558, 18563, 18564, 18566, 18571, 18572, 18573, 18579, 18591, 18594, 18599, 18605, 18607, 18616, 18625, 18638, 18640, 18648, 18652, 18656, 18664, 18676, 18677, 18684, 18689, 18696, 18701, 18704, 18706, 18716, 18720, 18723, 18728, 18731, 18734, 18735, 18736, 18739, 18744, 18745, 18746, 18758, 18760, 18765, 18781, 18782, 18789, 18794, 18797, 18798, 18800, 18805, 18810, 18817, 18819, 18820, 18823, 18828, 18832, 18834, 18840, 18852, 18859, 18867, 18871, 18880, 18895, 18897, 18902, 18905, 18908, 18912, 18913, 18914, 18926, 18935, 18938, 18939, 18942, 18951, 18966, 18972, 18978, 18982, 18984, 18985, 18987, 18993, 18998, 18999, 19000, 19001, 19013, 19031, 19041, 19042, 19043, 19044, 19048, 19051, 19055, 19056, 19057, 19060, 19067, 19070, 19079, 19080, 19082, 19086, 19087, 19088, 19091, 19093, 19097, 19104, 19110, 19113, 19114, 19127, 19132, 19141, 19144, 19150, 19168, 19173, 19180, 19189, 19193, 19196, 19211, 19212, 19223, 19226, 19232, 19233, 19240, 19245, 19248, 19255, 19261, 19264, 19268, 19271, 19276, 19277, 19281, 19286, 19287, 19294, 19306, 19322, 19331, 19332, 19338, 19340, 19341, 19343, 19349, 19351, 19353, 19365, 19369, 19373, 19378, 19388, 19391, 19393, 19395, 19408, 19416, 19418, 19421, 19422, 19423, 19431, 19432, 19437, 19443, 19444, 19446, 19449, 19450, 19456, 19460, 19464, 19465, 19474, 19475, 19479, 19487, 19496, 19500, 19502, 19508, 19520, 19523, 19527, 19530, 19532, 19533, 19538, 19540, 19545, 19547, 19552, 19555, 19559, 19561, 19565, 19566, 19569, 19582, 19583, 19584, 19597, 19600, 19601, 19602, 19604, 19613, 19618, 19627, 19628, 19633, 19638, 19640, 19646, 19651, 19662, 19663, 19665, 19666, 19679, 19682, 19685, 19688, 19694, 19710, 19712, 19722, 19726, 19728, 19736, 19737, 19739, 19758, 19763, 19769, 19770, 19772, 19776, 19783, 19787, 19788, 19789, 19791, 19801, 19814, 19817, 19823, 19824, 19834, 19839, 19840, 19849, 19857, 19861, 19865, 19876, 19881, 19889, 19892, 19897, 19901, 19911, 19917, 19920, 19925, 19926, 19927, 19930, 19933, 19936, 19943, 19956, 19958, 19960, 19962, 19963, 19964, 19966, 19967, 19973, 19981, 19983, 20008, 20009, 20018, 20021, 20037, 20048, 20051, 20057, 20058, 20061, 20063, 20067, 20068, 20085, 20088, 20096, 20097, 20102, 20115, 20127, 20132, 20133, 20140, 20149, 20160, 20180, 20184, 20187, 20201, 20213, 20214, 20218, 20221, 20228, 20235, 20239, 20242, 20243, 20246, 20247, 20259, 20262, 20276, 20282, 20287, 20289, 20296, 20297, 20308, 20309, 20312, 20317, 20318, 20325, 20326, 20330, 20337, 20341, 20344, 20359, 20364, 20373, 20395, 20400, 20407, 20411, 20422, 20429, 20440, 20463, 20467, 20470, 20474, 20488, 20491, 20496, 20502, 20503, 20514, 20520, 20523, 20527, 20566, 20570, 20587, 20601, 20620, 20622, 20623, 20626, 20628, 20632, 20633, 20636, 20658, 20665, 20667, 20668, 20672, 20691, 20692, 20703, 20735, 20740, 20741, 20742, 20752, 20765, 20766, 20777, 20785, 20797, 20802, 20826, 20827, 20836, 20845, 20859, 20861, 20867, 20880, 20888, 20891, 20903, 20913, 20914, 20927, 20933, 20935, 20946, 20956, 20958, 20987, 20994, 20995, 20996, 20997, 21001, 21004, 21014, 21023, 21043, 21044, 21047, 21063, 21072, 21078, 21087, 21094, 21100, 21102, 21111, 21113, 21116, 21125, 21134, 21135, 21136, 21139, 21145, 21154, 21155, 21158, 21167, 21168, 21171, 21176, 21179, 21184, 21188, 21190, 21194, 21200, 21202, 21205, 21213, 21216, 21221, 21223, 21242, 21243, 21246, 21251, 21255, 21256, 21267, 21268, 21270, 21288, 21308, 21309, 21320, 21334, 21338, 21340, 21346, 21347, 21359, 21360, 21385, 21387, 21390, 21409, 21411, 21412, 21414, 21415, 21426, 21432, 21450, 21453, 21454, 21461, 21470, 21472, 21480, 21488, 21495, 21504, 21508, 21513, 21514, 21518, 21528, 21530, 21535, 21536, 21545, 21549, 21552, 21561, 21564, 21570, 21579, 21584, 21626, 21627, 21628, 21638, 21647, 21651, 21652, 21654, 21680, 21687, 21695, 21705, 21706, 21707, 21717, 21723, 21728, 21736, 21742, 21751, 21754, 21765, 21773, 21780, 21785, 21811, 21819, 21854, 21867, 21870, 21871, 21872, 21880, 21881, 21887, 21891, 21894, 21895, 21915, 21919, 21923, 21927, 21929, 21930, 21932, 21937, 21946, 21948, 21959, 21972, 21977, 21981, 21987, 21990, 22003, 22017, 22033, 22059, 22063, 22068, 22072, 22073, 22075, 22099, 22107, 22112, 22113, 22116, 22141, 22144, 22146, 22149, 22152, 22153, 22160, 22162, 22169, 22177, 22189, 22201, 22219, 22225, 22227, 22236, 22237, 22259, 22262, 22265, 22269, 22272, 22273, 22274, 22277, 22309, 22311, 22327, 22342, 22348, 22349, 22375, 22390, 22403, 22413, 22423, 22424, 22442, 22444, 22446, 22448, 22450, 22464, 22502, 22512, 22515, 22522, 22523, 22537, 22539, 22544, 22545, 22548, 22565, 22568, 22571, 22575, 22580, 22587, 22588, 22593, 22600, 22606, 22612, 22613, 22642, 22643, 22644, 22651, 22657, 22661, 22663, 22676, 22678, 22684, 22685, 22687, 22689, 22694, 22707, 22718, 22724, 22733, 22740, 22749, 22754, 22764, 22772, 22796, 22798, 22802, 22812, 22815, 22818, 22822, 22828, 22830, 22831, 22835, 22849, 22852, 22855, 22857, 22858, 22869, 22873, 22881, 22899, 22901, 22938, 22949, 22950, 22952, 22954, 22963, 22972, 22979, 22983, 22984, 22985, 22987, 22995, 23005, 23017, 23018, 23036, 23044, 23046, 23047, 23057, 23063, 23067, 23071, 23074, 23080, 23090, 23103, 23108, 23109, 23111, 23118, 23129, 23131, 23140, 23146, 23151, 23162, 23164, 23167, 23172, 23194, 23196, 23197, 23202, 23206, 23214, 23230, 23231, 23233, 23237, 23239, 23244, 23245, 23251, 23268, 23271, 23272, 23276, 23277, 23278, 23284, 23286, 23300, 23302, 23311, 23319, 23330, 23343, 23375, 23383, 23384, 23390, 23391, 23399, 23413, 23423, 23429, 23437, 23464, 23477, 23494, 23502, 23508, 23515, 23519, 23520, 23523, 23534, 23536, 23547, 23552, 23565, 23567, 23569, 23570, 23582, 23586, 23591, 23598, 23615, 23635, 23652, 23655, 23657, 23661, 23668, 23671, 23674, 23679, 23681, 23688, 23689, 23700, 23703, 23704, 23707, 23718, 23734, 23768, 23775, 23777, 23779, 23793, 23797, 23810, 23813, 23815, 23821, 23823, 23826, 23836, 23864, 23870, 23893, 23899, 23902, 23903, 23910, 23919, 23922, 23926, 23930, 23932, 23934, 23935, 23936, 23938, 23946, 23952, 23954, 23957, 23985, 23995, 24001, 24025, 24033, 24039, 24043, 24047, 24048, 24051, 24074, 24080, 24105, 24114, 24115, 24117, 24118, 24121, 24129, 24134, 24141, 24143, 24145, 24146, 24157, 24176, 24180, 24186, 24188, 24191, 24196, 24204, 24216, 24221, 24233, 24244, 24249, 24254, 24267, 24272, 24274, 24276, 24285, 24292, 24295, 24297, 24298, 24308, 24313, 24315, 24319, 24325, 24329, 24333, 24334, 24355, 24367, 24377, 24384, 24406, 24418, 24424, 24426, 24431, 24432, 24445, 24447, 24451, 24456, 24477, 24499, 24501, 24506, 24517, 24522, 24523, 24535, 24537, 24554, 24570, 24577, 24580, 24592, 24599, 24604, 24606, 24614, 24626, 24634, 24639, 24646, 24653, 24655, 24661, 24662, 24673, 24678, 24692, 24693, 24699, 24718, 24721, 24733, 24735, 24736, 24743, 24744, 24745, 24748, 24753, 24755, 24757, 24769, 24775, 24777, 24778, 24805, 24810, 24811, 24821, 24823, 24828, 24830, 24832, 24835, 24842, 24846, 24850, 24853, 24860, 24863, 24868, 24873, 24877, 24879, 24882, 24888, 24891, 24900, 24903, 24904, 24918, 24928, 24934, 24942, 24952, 24954, 24956, 24957, 24962, 24965, 24971, 24976, 24984, 24990, 24998, 25000, 25004, 25009, 25016, 25019, 25020, 25039, 25045, 25048, 25049, 25051, 25052, 25053, 25058, 25059, 25062, 25073, 25075, 25081, 25083, 25092, 25100, 25116, 25118, 25123, 25129, 25130, 25148, 25151, 25153, 25155, 25164, 25168, 25171, 25190, 25193, 25196, 25202, 25206, 25211, 25216, 25217, 25219, 25223, 25236, 25238, 25239, 25261, 25267, 25268, 25279, 25281, 25297, 25307, 25308, 25327, 25329, 25331, 25335, 25339, 25342, 25355, 25379, 25384, 25386, 25395, 25398, 25404, 25421, 25424, 25427, 25428, 25429, 25450, 25452, 25455, 25467, 25469, 25472, 25484, 25487, 25489, 25495, 25496, 25497, 25504, 25506, 25513, 25519, 25524, 25526, 25527, 25528, 25534, 25536, 25542, 25545, 25550, 25551, 25563, 25566, 25572, 25576, 25583, 25587, 25591, 25604, 25608, 25612, 25625, 25629, 25631, 25641, 25649, 25652, 25656, 25665, 25667, 25671, 25677, 25684, 25696, 25725, 25729, 25732, 25734, 25736, 25740, 25744, 25746, 25747, 25750, 25757, 25760, 25761, 25763, 25766, 25779, 25788, 25790, 25795, 25801, 25802, 25806, 25808, 25810, 25821, 25824, 25825, 25828, 25829, 25832, 25835, 25838, 25842, 25847, 25849, 25852, 25855, 25863, 25864, 25866, 25869, 25878, 25888, 25894, 25899, 25904, 25910, 25916, 25918, 25924, 25928, 25930, 25943, 25947, 25949, 25957, 25959, 25962, 25971, 25977, 25979, 25993, 26018, 26027, 26030, 26033, 26036, 26042, 26050, 26052, 26061, 26069, 26074, 26081, 26086, 26097, 26102, 26104, 26119, 26128, 26150, 26162, 26166, 26172, 26180, 26184, 26190, 26212, 26213, 26220, 26222, 26223, 26226, 26230, 26236, 26248, 26255, 26257, 26261, 26262, 26264, 26265, 26291, 26295, 26302, 26303, 26317, 26320, 26324, 26333, 26334, 26336, 26344, 26347, 26349, 26350, 26351, 26355, 26370, 26372, 26373, 26391, 26393, 26415, 26417, 26427, 26428, 26433, 26434, 26436, 26445, 26450, 26455, 26458, 26461, 26463, 26470, 26471, 26477, 26483, 26494, 26500, 26510, 26517, 26526, 26528, 26535, 26538, 26539, 26550, 26554, 26563, 26575, 26576, 26583, 26602, 26609, 26612, 26621, 26625, 26632, 26647, 26658, 26659, 26672, 26677, 26691, 26702, 26710, 26713, 26714, 26717, 26720, 26727, 26738, 26746, 26750, 26753, 26759, 26762, 26766, 26768, 26770, 26783, 26784, 26787, 26788, 26792, 26801, 26809, 26813, 26817, 26820, 26839, 26869, 26871, 26876, 26889, 26894, 26898, 26900, 26902, 26905, 26907, 26918, 26924, 26952, 26964, 26971, 26976, 26977, 26981, 26983, 26999, 27000, 27021, 27022, 27030, 27033, 27059, 27067, 27070, 27080, 27088, 27089, 27092, 27099, 27102, 27110, 27115, 27117, 27118, 27139, 27163, 27170, 27188, 27195, 27202, 27211, 27216, 27217, 27220, 27224, 27228, 27234, 27261, 27271, 27272, 27273, 27282, 27283, 27284, 27287, 27296, 27303, 27304, 27306, 27307, 27308, 27314, 27316, 27317, 27324, 27343, 27346, 27355, 27356, 27357, 27362, 27377, 27380, 27383, 27384, 27386, 27387, 27390, 27396, 27398, 27405, 27410, 27416, 27420, 27423, 27428, 27443, 27447, 27448, 27456, 27460, 27461, 27466, 27468, 27475, 27477, 27478, 27487, 27492, 27502, 27507, 27538, 27542, 27567, 27572, 27622, 27626, 27641, 27650, 27654, 27657, 27667, 27672, 27676, 27689, 27697, 27700, 27707, 27713, 27719, 27727, 27729, 27736, 27738, 27740, 27743, 27744, 27759, 27766, 27776, 27781, 27784, 27793, 27795, 27817, 27826, 27827, 27835, 27840, 27854, 27859, 27868, 27869, 27872, 27873, 27876, 27878, 27883, 27893, 27904, 27906, 27910, 27917, 27920, 27932, 27962, 27974, 27983, 27984, 27986, 27990, 27991, 27995, 28000, 28004, 28009, 28010, 28021, 28022, 28024, 28026, 28028, 28030, 28038, 28044, 28047, 28049, 28052, 28056, 28076, 28089, 28091, 28094, 28107, 28116, 28123, 28125, 28137, 28140, 28145, 28147, 28157, 28164, 28170, 28182, 28191, 28194, 28201, 28205, 28206, 28212, 28217, 28243, 28277, 28285, 28287, 28302, 28310, 28316, 28329, 28331, 28334, 28337, 28339, 28351, 28364, 28397, 28398, 28402, 28404, 28407, 28410, 28422, 28441, 28446, 28452, 28470, 28472, 28473, 28482, 28483, 28485, 28487, 28496, 28499, 28504, 28519, 28527, 28535, 28544, 28553, 28563, 28564, 28568, 28580, 28590, 28611, 28614, 28616, 28630, 28633, 28637, 28651, 28657, 28680, 28682, 28690, 28694, 28711, 28724, 28727, 28733, 28734, 28747, 28752, 28756, 28761, 28771, 28776, 28793, 28796, 28797, 28798, 28800, 28816, 28826, 28835, 28840, 28842, 28862, 28865, 28870, 28892, 28901, 28906, 28911, 28913, 28928, 28937, 28944, 28950, 28953, 28962, 28966, 28969, 28971, 28977, 28988, 28989, 28998, 29023, 29029, 29031, 29040, 29044, 29050, 29053, 29058, 29060, 29084, 29087, 29094, 29095, 29097, 29119, 29139, 29151, 29156, 29159, 29164, 29169, 29189, 29192, 29193, 29201, 29209, 29222, 29224, 29230, 29238, 29239, 29250, 29259, 29266, 29286, 29293, 29317, 29323, 29325, 29327, 29329, 29340, 29342, 29350, 29368, 29376, 29378, 29397, 29405, 29408, 29413, 29415, 29420, 29423, 29431, 29450, 29487, 29495, 29499, 29509, 29518, 29519, 29526, 29529, 29534, 29553, 29554, 29559, 29562, 29568, 29569, 29571, 29574, 29578, 29579, 29581, 29591, 29593, 29597, 29607, 29618, 29627, 29628, 29631, 29643, 29665, 29669, 29676, 29677, 29682, 29698, 29699, 29702, 29703, 29712, 29731, 29734, 29740, 29742, 29758, 29778, 29785, 29799, 29808, 29809, 29813, 29827, 29842, 29851, 29852, 29853, 29856, 29862, 29868, 29876, 29879, 29886, 29887, 29890, 29892, 29894, 29897, 29906, 29920, 29923, 29926, 29927, 29932, 29935, 29936, 29951, 29961, 29972, 29974, 29988, 29989, 29999, 30004, 30009, 30016, 30017, 30018, 30025, 30036, 30040, 30043, 30047, 30054, 30061, 30067, 30076, 30084, 30090, 30093, 30100, 30104, 30115, 30119, 30121, 30126, 30134, 30141, 30147, 30171, 30174, 30176, 30182, 30185, 30187, 30189, 30198, 30199, 30202, 30212, 30218, 30220, 30233, 30246, 30252, 30255, 30256, 30266, 30279, 30282, 30291, 30292, 30296, 30311, 30321, 30325, 30328, 30330, 30333, 30340, 30342, 30345, 30349, 30350, 30351, 30352, 30357, 30368, 30373, 30375, 30378, 30388, 30390, 30395, 30407, 30412, 30413, 30417, 30419, 30420, 30422, 30430, 30431, 30433, 30440, 30446, 30447, 30449, 30461, 30463, 30470, 30491, 30495, 30496, 30500, 30509, 30513, 30516, 30519, 30526, 30536, 30543, 30544, 30548, 30555, 30567, 30576, 30586, 30607, 30617, 30619, 30624, 30626, 30627, 30638, 30646, 30658, 30670, 30671, 30676, 30685, 30696, 30697, 30710, 30711, 30714, 30719, 30732, 30771, 30781, 30784, 30790, 30798, 30802, 30807, 30810, 30811, 30812, 30814, 30816, 30826, 30829, 30831, 30835, 30837, 30860, 30863, 30873, 30875, 30880, 30902, 30903, 30915, 30916, 30930, 30935, 30940, 30950, 30965, 30966, 30980, 30984, 30990, 31002, 31005, 31010, 31012, 31021, 31036, 31041, 31042, 31043, 31048, 31053, 31056, 31063, 31066, 31074, 31077, 31078, 31089, 31092, 31094, 31102, 31118, 31124, 31162, 31164, 31174, 31189, 31196, 31203, 31204, 31205, 31208, 31209, 31212, 31226, 31229, 31232, 31253, 31265, 31269, 31275, 31279, 31286, 31289, 31296, 31305, 31311, 31321, 31325, 31326, 31336, 31340, 31346, 31357, 31359, 31362, 31364, 31373, 31386, 31394, 31415, 31417, 31433, 31436, 31437, 31439, 31451, 31453, 31458, 31462, 31467, 31478, 31482, 31488, 31490, 31497, 31504, 31507, 31533, 31544, 31548, 31555, 31559, 31566, 31575, 31583, 31600, 31610, 31615, 31618, 31627, 31628, 31631, 31633, 31657, 31665, 31698, 31704, 31708, 31719, 31720, 31722, 31742, 31746, 31748, 31768, 31772, 31778, 31782, 31797, 31800, 31810, 31818, 31819, 31820, 31824, 31825, 31835, 31836, 31846, 31849, 31855, 31864, 31883, 31890, 31895, 31906, 31907, 31910, 31911, 31931, 31937, 31938, 31978, 31979, 31980, 31984, 31985, 31987, 31988, 31998, 32001, 32008, 32011, 32026, 32030, 32063, 32064, 32066, 32078, 32085, 32089, 32095, 32101, 32110, 32121, 32129, 32140, 32141, 32142, 32147, 32163, 32176, 32178, 32179, 32180, 32190, 32206, 32208, 32212, 32215, 32239, 32240, 32243, 32250, 32261, 32264, 32267, 32274, 32277, 32285, 32294, 32308, 32311, 32333, 32343, 32359, 32360, 32381, 32382, 32385, 32387, 32388, 32395, 32399, 32407, 32417, 32426, 32435, 32444, 32454, 32459, 32483, 32485, 32486, 32501, 32504, 32507, 32509, 32511, 32516, 32520, 32521, 32530, 32544, 32557, 32559, 32561, 32569, 32576, 32579, 32594, 32597, 32600, 32614, 32635, 32638, 32639, 32662, 32665, 32682, 32686, 32698, 32700, 32735, 32741, 32761, 32778, 32779, 32786, 32790, 32795, 32796, 32799, 32801, 32806, 32811, 32820, 32828, 32841, 32842, 32846, 32851, 32852, 32864, 32865, 32878, 32879, 32885, 32895, 32896, 32897, 32904, 32917, 32929, 32939, 32951, 32965, 32966, 32968, 32972, 32979, 32995, 32996, 33002, 33008, 33032, 33035, 33042, 33051, 33057, 33061, 33068, 33070, 33072, 33084, 33089, 33094, 33098, 33107, 33110, 33130, 33140, 33142, 33148, 33154, 33159, 33160, 33162, 33179, 33184, 33192, 33196, 33201, 33207, 33215, 33226, 33235, 33236, 33239, 33242, 33243, 33258, 33262, 33263, 33271, 33277, 33279, 33284, 33289, 33297, 33307, 33309, 33310, 33324, 33331, 33343, 33345, 33350, 33358, 33362, 33376, 33385, 33390, 33392, 33399, 33405, 33410, 33417, 33421, 33424, 33425, 33427, 33431, 33433, 33438, 33448, 33460, 33466, 33468, 33473, 33501, 33514, 33523, 33528, 33533, 33538, 33541, 33548, 33561, 33570, 33573, 33577, 33581, 33585, 33599, 33601, 33613, 33614, 33621, 33628, 33631, 33641, 33657, 33659, 33661, 33662, 33665, 33674, 33680, 33681, 33687, 33691, 33697, 33700, 33708, 33712, 33713, 33714, 33718, 33727, 33737, 33746, 33751, 33756, 33761, 33780, 33791, 33808, 33820, 33822, 33823, 33830, 33834, 33835, 33837, 33841, 33848, 33855, 33856, 33879, 33884, 33887, 33894, 33898, 33902, 33904, 33906, 33907, 33909, 33910, 33911, 33921, 33938, 33947, 33951, 33955, 33958, 33959, 33962, 33984, 33999, 34005, 34016, 34033, 34037, 34047, 34061, 34073, 34090, 34092, 34108, 34129, 34139, 34140, 34141, 34143, 34148, 34152, 34155, 34162, 34182, 34184, 34186, 34199, 34202, 34206, 34208, 34211, 34223, 34226, 34234, 34238, 34239, 34241, 34243, 34246, 34248, 34250, 34251, 34270, 34294, 34297, 34306, 34313, 34314, 34332, 34334, 34342, 34346, 34354, 34355, 34358, 34371, 34376, 34379, 34392, 34394, 34396, 34398, 34400, 34422, 34435, 34444, 34454, 34460, 34462, 34476, 34484, 34486, 34497, 34518, 34520, 34535, 34544, 34555, 34567, 34571, 34574, 34579, 34586, 34588, 34590, 34594, 34598, 34607, 34609, 34615, 34616, 34620, 34621, 34625, 34630, 34645, 34653, 34661, 34667, 34669, 34671, 34673, 34678, 34684, 34688, 34699, 34703, 34718, 34733, 34736, 34745, 34746, 34757, 34767, 34783, 34793, 34800, 34816, 34820, 34833, 34847, 34851, 34852, 34857, 34859, 34866, 34867, 34874, 34888, 34890, 34895, 34909, 34920, 34933, 34934, 34943, 34946, 34947, 34951, 34953, 34957, 34963, 34983, 34990, 34999, 35018, 35025, 35033, 35037, 35056, 35058, 35070, 35082, 35088, 35089, 35091, 35101, 35102, 35104, 35106, 35119, 35128, 35132, 35134, 35137, 35156, 35160, 35161, 35169, 35170, 35178, 35191, 35198, 35204, 35209, 35215, 35217, 35219, 35243, 35247, 35248, 35257, 35260, 35262, 35264, 35275, 35278, 35280, 35291, 35294, 35299, 35300, 35305, 35308, 35314, 35318, 35327, 35328, 35329, 35332, 35334, 35338, 35351, 35356, 35364, 35379, 35391, 35402, 35425, 35426, 35430, 35434, 35444, 35454, 35460, 35463, 35474, 35478, 35484, 35498, 35501, 35517, 35518, 35519, 35522, 35533, 35536, 35554, 35560, 35561, 35564, 35570, 35574, 35577, 35584, 35597, 35599, 35605, 35615, 35616, 35623, 35625, 35631, 35633, 35634, 35666, 35667, 35671, 35692, 35703, 35716, 35719, 35728, 35766, 35770, 35771, 35786, 35792, 35795, 35802, 35807, 35811, 35820, 35824, 35825, 35830, 35832, 35851, 35858, 35866, 35871, 35879, 35892, 35894, 35908, 35921, 35930, 35932, 35937, 35941, 35943, 35950, 35969, 35970, 35980, 35996, 35997, 35999, 36001, 36008, 36010, 36020, 36025, 36033, 36046, 36052, 36060, 36061, 36076, 36081, 36090, 36095, 36096, 36100, 36106, 36108, 36117, 36122, 36124, 36125, 36129, 36134, 36137, 36139, 36140, 36150, 36159, 36161, 36166, 36167, 36169, 36170, 36172, 36176, 36181, 36183, 36188, 36194, 36195, 36198, 36203, 36204, 36212, 36217, 36220, 36224, 36227, 36246, 36253, 36267, 36270, 36288, 36294, 36296, 36297, 36300, 36308, 36318, 36329, 36339, 36342, 36343, 36344, 36345, 36353, 36359, 36364, 36367, 36379, 36400, 36407, 36412, 36431, 36435, 36454, 36459, 36460, 36475, 36480, 36481, 36495, 36504, 36518, 36521, 36526, 36536, 36538, 36545, 36548, 36551, 36553, 36556, 36563, 36566, 36580, 36582, 36584, 36588, 36596, 36598, 36603, 36609, 36620, 36626, 36633, 36634, 36639, 36654, 36659, 36664, 36672, 36686, 36709, 36716, 36719, 36726, 36730, 36731, 36736, 36738, 36752, 36753, 36758, 36762, 36768, 36773, 36777, 36778, 36779, 36784, 36788, 36805, 36809, 36811, 36820, 36835, 36836, 36844, 36852, 36853, 36858, 36867, 36875, 36879, 36890, 36898, 36914, 36923, 36928, 36932, 36933, 36934, 36946, 36948, 36949, 36953, 36956, 36962, 36964, 36965, 36971, 36979, 37002, 37006, 37007, 37009, 37010, 37016, 37021, 37040, 37046, 37051, 37057, 37060, 37063, 37070, 37071, 37079, 37083, 37085, 37093, 37107, 37112, 37123, 37134, 37136, 37151, 37160, 37169, 37193, 37194, 37217, 37225, 37254, 37255, 37262, 37268, 37272, 37279, 37280, 37284, 37285, 37307, 37313, 37319, 37325, 37326, 37344, 37366, 37370, 37371, 37404, 37409, 37417, 37419, 37429, 37434, 37435, 37441, 37448, 37451, 37460, 37469, 37470, 37471, 37486, 37490, 37508, 37510, 37516, 37520, 37529, 37537, 37540, 37545, 37554, 37561, 37568, 37574, 37581, 37592, 37635, 37636, 37637, 37649, 37653, 37654, 37656, 37659, 37666, 37671, 37695, 37697, 37699, 37711, 37716, 37726, 37735, 37737, 37755, 37758, 37760, 37764, 37766, 37768, 37774, 37789, 37800, 37810, 37812, 37813, 37816, 37818, 37823, 37829, 37839, 37844, 37846, 37852, 37853, 37856, 37863, 37867, 37868, 37876, 37894, 37908, 37913, 37923, 37928, 37936, 37941, 37951, 37952, 37957, 37958, 37971, 37984, 37987, 37988, 37990, 37993, 37994, 38004, 38016, 38023, 38029, 38039, 38049, 38050, 38062, 38070, 38076, 38091, 38107, 38117, 38135, 38142, 38173, 38175, 38187, 38188, 38199, 38214, 38215, 38221, 38241, 38250, 38251, 38255, 38259, 38265, 38271, 38278, 38280, 38324, 38337, 38352, 38353, 38354, 38364, 38370, 38376, 38379, 38380, 38381, 38383, 38400, 38401, 38405, 38421, 38423, 38441, 38443, 38449, 38465, 38488, 38493, 38494, 38499, 38500, 38506, 38511, 38519, 38532, 38539, 38544, 38564, 38566, 38578, 38598, 38602, 38603, 38604, 38619, 38626, 38627, 38635, 38644, 38647, 38651, 38654, 38661, 38662, 38664, 38685, 38702, 38705, 38706, 38712, 38713, 38714, 38729, 38733, 38742, 38746, 38747, 38754, 38760, 38761, 38763, 38776, 38793, 38799, 38805, 38809, 38816, 38817, 38821, 38823, 38824, 38827, 38835, 38839, 38858, 38862, 38863, 38867, 38878, 38882, 38902, 38934, 38936, 38946, 38949, 38957, 38968, 38980, 38991, 38995, 39004, 39009, 39016, 39017, 39029, 39039, 39041, 39055, 39056, 39057, 39068, 39073, 39077, 39081, 39087, 39089, 39091, 39108, 39114, 39116, 39117, 39118, 39126, 39134, 39143, 39145, 39147, 39148, 39154, 39169, 39176, 39177, 39182, 39188, 39198, 39199, 39248, 39262, 39267, 39268, 39276, 39278, 39279, 39285, 39288, 39290, 39292, 39296, 39301, 39307, 39308, 39313, 39359, 39363, 39366, 39378, 39399, 39410, 39420, 39426, 39429, 39442, 39449, 39456, 39458, 39461, 39462, 39474, 39489, 39494, 39525, 39547, 39551, 39552, 39556, 39558, 39561, 39564, 39566, 39571, 39585, 39595, 39598, 39602, 39607, 39614, 39618, 39629, 39639, 39640, 39649, 39655, 39656, 39663, 39670, 39672, 39680, 39681, 39696, 39697, 39713, 39735, 39758, 39760, 39776, 39783, 39801, 39806, 39810, 39815, 39822, 39824, 39825, 39842, 39845, 39848, 39853, 39854, 39855, 39856, 39862, 39866, 39871, 39880, 39881, 39894, 39895, 39899, 39907, 39910, 39914, 39919, 39943, 39946, 39950, 39954, 39958, 39963, 39964, 39974, 39981, 39982, 39989, 39990, 39998, 40012, 40020, 40025, 40030, 40047, 40066, 40068, 40077, 40078, 40080, 40086, 40089, 40090, 40092, 40094, 40099, 40116, 40121, 40133, 40142, 40151, 40152, 40171, 40177, 40178, 40183, 40200, 40206, 40210, 40221, 40232, 40233, 40280, 40287, 40307, 40315, 40316, 40319, 40324, 40325, 40328, 40331, 40341, 40346, 40360, 40373, 40387, 40390, 40393, 40394, 40401, 40410, 40420, 40421, 40422, 40424, 40425, 40426, 40429, 40437, 40443, 40447, 40452, 40454, 40455, 40457, 40465, 40471, 40481, 40496, 40510, 40513, 40520, 40521, 40522, 40535, 40547, 40605, 40609, 40610, 40616, 40617, 40619, 40621, 40627, 40634, 40645, 40649, 40654, 40667, 40668, 40679, 40689, 40691, 40702, 40706, 40725, 40739, 40741, 40742, 40749, 40757, 40761, 40765, 40780, 40781, 40786, 40792, 40798, 40799, 40803, 40820, 40835, 40838, 40845, 40853, 40863, 40870, 40880, 40882, 40883, 40899, 40901, 40908, 40915, 40924, 40930, 40935, 40939, 40946, 40962, 40972, 40973, 40975, 40977, 40982, 40988, 40989, 40997, 40999, 41010, 41011, 41015, 41028, 41029, 41037, 41049, 41055, 41059, 41060, 41067, 41069, 41074, 41077, 41081, 41092, 41110, 41118, 41130, 41132, 41145, 41146, 41147, 41149, 41150, 41184, 41185, 41190, 41202, 41214, 41219, 41227, 41231, 41233, 41239, 41250, 41256, 41257, 41259, 41265, 41267, 41268, 41270, 41275, 41276, 41286, 41291, 41293, 41295, 41296, 41297, 41300, 41302, 41303, 41324, 41330, 41336, 41342, 41348, 41349, 41350, 41355, 41360, 41366, 41372, 41377, 41387, 41393, 41400, 41401, 41402, 41404, 41413, 41417, 41421, 41422, 41427, 41430, 41432, 41443, 41444, 41450, 41451, 41469, 41473, 41492, 41493, 41497, 41500, 41503, 41506, 41509, 41535, 41539, 41541, 41544, 41557, 41567, 41568, 41571, 41575, 41579, 41580, 41585, 41595, 41602, 41603, 41611, 41613, 41624, 41625, 41631, 41644, 41645, 41658, 41664, 41665, 41677, 41680, 41683, 41685, 41686, 41708, 41711, 41712, 41715, 41716, 41728, 41732, 41735, 41743, 41747, 41751, 41752, 41753, 41759, 41766, 41777, 41778, 41780, 41783, 41786, 41801, 41803, 41813, 41817, 41840, 41851, 41871, 41877, 41878, 41880, 41883, 41884, 41885, 41891, 41898, 41901, 41907, 41910, 41912, 41923, 41926, 41934, 41942, 41952, 41954, 41957, 41963, 41985, 41991, 41992, 41997, 41999, 42002, 42007, 42010, 42020, 42024, 42032, 42033, 42040, 42044, 42066, 42075, 42077, 42081, 42083, 42084, 42088, 42106, 42107, 42113, 42116, 42118, 42127, 42137, 42142, 42146, 42149, 42154, 42163, 42174, 42181, 42182, 42184, 42185, 42198, 42200, 42201, 42203, 42204, 42213, 42216, 42230, 42242, 42260, 42283, 42293, 42303, 42306, 42310, 42318, 42351, 42402, 42411, 42414, 42415, 42429, 42457, 42481, 42538, 42548, 42554, 42569, 42576, 42599, 42633, 42648, 42653, 42670, 42698, 42706, 42713, 42721, 42753, 42771, 42832, 42938, 42957, 42984, 43038, 43042, 43054, 43055, 43094, 43119, 43149, 43152, 43219, 43220, 43245, 43251, 43252, 43270, 43274, 43310, 43312, 43319, 43325, 43328, 43335, 43337, 43355, 43408, 43409, 43442, 43449, 43457, 43497, 43509, 43523, 43597, 43598, 43607, 43609, 43671, 43679, 43692, 43708, 43759, 43760, 43785, 43793, 43808, 43823, 43824, 43847, 43866, 43889, 43907, 43913, 43915, 43918, 43947, 43999, 44028, 44031, 44054, 44090, 44139, 44144, 44146, 44156, 44167, 44178, 44182, 44199, 44220, 44229, 44234, 44235, 44251, 44256, 44269, 44282, 44363, 44376, 44396, 44406, 44415, 44428, 44518, 44551, 44618, 44636, 44655, 44663, 44664, 44729, 44780, 44787, 44822, 44827, 44849, 44917, 44922, 44928, 44943, 45008, 45028, 45066, 45086, 45097, 45127, 45144, 45146, 45148, 45184, 45204, 45232, 45237, 45271, 45329, 45350, 45371, 45385, 45393, 45400, 45405, 45422, 45427, 45474, 45534, 45536, 45565, 45593, 45596, 45621, 45631, 45640, 45666, 45691, 45696, 45720, 45731, 45734, 45757, 45771, 45781, 45798, 45821, 45823, 45832, 45837, 45843, 45853, 45921, 45927, 45944, 45954, 45977, 45988, 46028, 46072, 46076, 46088, 46105, 46109, 46123, 46142, 46150, 46158, 46188, 46191, 46192, 46216, 46223, 46224, 46225, 46237, 46247, 46260, 46262, 46281, 46283, 46288, 46300, 46331, 46343, 46346, 46352, 46358, 46363, 46373, 46380, 46393, 46426, 46452, 46459, 46468, 46478, 46479, 46487, 46493, 46496, 46506, 46549, 46572, 46592, 46610, 46618, 46629, 46640, 46676, 46682, 46686, 46731, 46749, 46769, 46833, 46853, 46854, 46872, 46881, 46904, 46905, 46910, 46920, 46926, 46938, 46941, 46975, 46988, 46994, 47025, 47032, 47034, 47068, 47078, 47093, 47101, 47113, 47124, 47140, 47152, 47164, 47178, 47206, 47212, 47227, 47280, 47304, 47391, 47396, 47479, 47501, 47503, 47519, 47544, 47551, 47553, 47555, 47571, 47583, 47622, 47623, 47660, 47666, 47677, 47691, 47711, 47722, 47732, 47733, 47740, 47746, 47749, 47759, 47779, 47784, 47795, 47804, 47811, 47814, 47829, 47830, 47865, 47870, 47882, 47883, 47886, 47908, 47914, 47923, 47957, 47960, 47977, 47998, 48014, 48034, 48039, 48042, 48043, 48046, 48054, 48063, 48086, 48100, 48114, 48115, 48143, 48164, 48183, 48190, 48191, 48199, 48200, 48218, 48235, 48268, 48281, 48303, 48332, 48334, 48336, 48342, 48360, 48367, 48383, 48387, 48429, 48436, 48458, 48467, 48483, 48486, 48502, 48506, 48511, 48537, 48547, 48561, 48586, 48599, 48601, 48606, 48609, 48620, 48626, 48629, 48656, 48657, 48661, 48664, 48674, 48683, 48707, 48708, 48766, 48777, 48790, 48814, 48815, 48851, 48876, 48885, 48894, 48899, 48907, 48936, 48937, 48963, 48992, 49008, 49013, 49017, 49025, 49040, 49045, 49075, 49095, 49115, 49122, 49167, 49169, 49181, 49210, 49214, 49223, 49241, 49261, 49344, 49348, 49414, 49431, 49432, 49439, 49480, 49485, 49504, 49518, 49540, 49550, 49558, 49563, 49573, 49623, 49650, 49659, 49680, 49687, 49728, 49733, 49737, 49743, 49752, 49792, 49794, 49803, 49807, 49808, 49814, 49827, 49845, 49867, 49869, 49922, 49932, 49936, 49937, 49946, 49947, 49948, 49955, 49969, 49977, 49998, 50007, 50008, 50051, 50069, 50072, 50080, 50086, 50110, 50116, 50122, 50148, 50160, 50170, 50173, 50187, 50239, 50251, 50265, 50282, 50283, 50285, 50337, 50358, 50370, 50373, 50381, 50423, 50428, 50458, 50483, 50491, 50503, 50574, 50585, 50592, 50601, 50617, 50627, 50638, 50682, 50689, 50694, 50699, 50719, 50744, 50778, 50781, 50806, 50833, 50842, 50875, 50899, 50908, 50923, 50995, 51002, 51093, 51101, 51121, 51167, 51169, 51188, 51208, 51210, 51214, 51278, 51282, 51321, 51327, 51332, 51356, 51386, 51398, 51401, 51421, 51474, 51505, 51543, 51558, 51577, 51594, 51600, 51609, 51624, 51626, 51637, 51642, 51663, 51708, 51709, 51712, 51714, 51716, 51717, 51724, 51727, 51736, 51738, 51747, 51756, 51766, 51769, 51789, 51803, 51811, 51848, 51902, 51909, 51921, 51944, 51953, 51954, 51955, 51976, 52004, 52016, 52017, 52018, 52034, 52051, 52065, 52080, 52087, 52092, 52094, 52125, 52126, 52130, 52139, 52169, 52180, 52206, 52208, 52238, 52239, 52263, 52274, 52281, 52285, 52295, 52327, 52349, 52369, 52385, 52387, 52411, 52421, 52431, 52432, 52440, 52446, 52490, 52491, 52545, 52569, 52575, 52589, 52605, 52606, 52623, 52637, 52647, 52651, 52655, 52662, 52666, 52677, 52714, 52719, 52735, 52749, 52757, 52761, 52802, 52819, 52821, 52832, 52840, 52847, 52865, 52875, 52880, 52881, 52882, 52885, 52889, 52915, 52922, 52938, 52956, 52957, 52958, 52959, 52960, 53007, 53021, 53029, 53043, 53055, 53058, 53085, 53088, 53139, 53153, 53178, 53189, 53205, 53207, 53228, 53246, 53250, 53259, 53270, 53294, 53301, 53314, 53318, 53320, 53323, 53367, 53403, 53404, 53427, 53450, 53462, 53468, 53470, 53471, 53487, 53527, 53529, 53534, 53536, 53587, 53606, 53645, 53657, 53664, 53672, 53673, 53698, 53712, 53717, 53725, 53754, 53809, 53815, 53836, 53858, 53868, 53872, 53908, 53912, 53915, 53949, 53977, 53999, 54016, 54017, 54023, 54047, 54062, 54074, 54096, 54107, 54160, 54187, 54203, 54224, 54226, 54237, 54248, 54264, 54270, 54281, 54299, 54362, 54395, 54410, 54456, 54474, 54498, 54501, 54504, 54508, 54515, 54520, 54529, 54536, 54556, 54558, 54580, 54581, 54586, 54637, 54650, 54657, 54660, 54662, 54665, 54673, 54682, 54686, 54724, 54735, 54750, 54763, 54776, 54800, 54832, 54840, 54852, 54855, 54871, 54877, 54891, 54903, 54935, 54936, 54963, 54965, 54984, 55032, 55037, 55052, 55070, 55073, 55083, 55098, 55121, 55129, 55143, 55165, 55166, 55190, 55208, 55241, 55244, 55252, 55280, 55292, 55318, 55334, 55350, 55351, 55402, 55407, 55410, 55416, 55417, 55420, 55461, 55472, 55477, 55488, 55492, 55499, 55506, 55517, 55520, 55526, 55534, 55556, 55623, 55671, 55672, 55700, 55719, 55739, 55747, 55772, 55773, 55783, 55786, 55802, 55820, 55822, 55828, 55829, 55832, 55843, 55858, 55868, 55871, 55882, 55902, 55926, 55936, 55950, 55978, 55988, 56023, 56058, 56059, 56074, 56075, 56123, 56135, 56142, 56174, 56180, 56184, 56194, 56205, 56209, 56234, 56258, 56271, 56291, 56294, 56300, 56305, 56331, 56357, 56385, 56387, 56394, 56395, 56396, 56398, 56403, 56412, 56457, 56464, 56487, 56493, 56506, 56518, 56529, 56548, 56551, 56565, 56567, 56606, 56637, 56644, 56648, 56650, 56655, 56695, 56696, 56699, 56711, 56736, 56765, 56778, 56783, 56787, 56837, 56856, 56869, 56884, 56912, 56924, 56994, 57017, 57020, 57023, 57080, 57102, 57118, 57142, 57151, 57155, 57167, 57171, 57178, 57189, 57212, 57217, 57232, 57260, 57262, 57263, 57270, 57275, 57285, 57305, 57326, 57330, 57351, 57368, 57386, 57403, 57412, 57423, 57432, 57460, 57465, 57488, 57501, 57526, 57538, 57541, 57555, 57597, 57603, 57605, 57606, 57610, 57636, 57650, 57661, 57708, 57722, 57725, 57740, 57747, 57757, 57759, 57767, 57794, 57797, 57814, 57825, 57853, 57882, 57899, 57936, 57942, 57943, 57973, 57991, 57999, 58012, 58037, 58047, 58051, 58054, 58057, 58097, 58103, 58107, 58118, 58125, 58139, 58171, 58201, 58204, 58216, 58252, 58272, 58273, 58277, 58284, 58289, 58295, 58310, 58315, 58325, 58335, 58340, 58370, 58416, 58432, 58433, 58461, 58517, 58528, 58551, 58562, 58570, 58612, 58617, 58636, 58638, 58648, 58693, 58711, 58766, 58772, 58773, 58777, 58795, 58810, 58814, 58815, 58829, 58830, 58833, 58837, 58857, 58885, 58893, 58911, 58917, 58918, 58931, 58938, 58940, 58944, 58966, 58983, 58990, 59032, 59038, 59044, 59063, 59100, 59136, 59156, 59157, 59164, 59170, 59250, 59251, 59327, 59337, 59346, 59383, 59401, 59425, 59437, 59442, 59443, 59465, 59479, 59481, 59482, 59532, 59537, 59555, 59572, 59637, 59660, 59675, 59680, 59682, 59701, 59722, 59725, 59734, 59745, 59763, 59794, 59799, 59872, 59875, 59899, 59901, 59904, 59913, 59920, 59970, 59977, 60003, 60006, 60011, 60021, 60043, 60047, 60087, 60111, 60130, 60151, 60176, 60181, 60206, 60232, 60287, 60304, 60309, 60314, 60325, 60334, 60344, 60346, 60373, 60390, 60445, 60484, 60494, 60541, 60543, 60565, 60586, 60596, 60631, 60637, 60652, 60653, 60669, 60677, 60678, 60701, 60722, 60728, 60744, 60745, 60747, 60752, 60759, 60776, 60780, 60787, 60820, 60822, 60833, 60862, 60864, 60921, 60967, 60976, 60996, 61004, 61026, 61027, 61060, 61073, 61085, 61088, 61098, 61107, 61109, 61115, 61125, 61130, 61158, 61166, 61190, 61233, 61266, 61317, 61331, 61389, 61392, 61399, 61402, 61403, 61414, 61441, 61455, 61532, 61579, 61580, 61632, 61659, 61695, 61737, 61786, 61796, 61830, 61835, 61840, 61843, 61908, 61948, 61971, 61999, 62008, 62009, 62016, 62032, 62034, 62043, 62046, 62082, 62088, 62117, 62125, 62151, 62162, 62171, 62193, 62230, 62255, 62300, 62334, 62361, 62394, 62435, 62437, 62449, 62458, 62501, 62503, 62526, 62528, 62534, 62588, 62592, 62601, 62628, 62664, 62678, 62697, 62712, 62719, 62730, 62743, 62783, 62787, 62827, 62829, 62831, 62867, 62919, 62928, 62930, 62939, 62942, 62954, 62959, 62976, 62996, 63007, 63018, 63064, 63079, 63111, 63120, 63125, 63138, 63139, 63174, 63188, 63202, 63207, 63215, 63224, 63226, 63290, 63304, 63320, 63327, 63328, 63394, 63442, 63444, 63451, 63472, 63484, 63487, 63495, 63496, 63561, 63578, 63586, 63596, 63659, 63687, 63689, 63691, 63701, 63772, 63780, 63782, 63794, 63813, 63855, 63858, 63880, 63907, 63913, 63921, 63935, 63945, 63978, 64012, 64017, 64023, 64024, 64041, 64048, 64053, 64094, 64110, 64114, 64136, 64170, 64197, 64201, 64245, 64247, 64302, 64315, 64316, 64334, 64354, 64382, 64394, 64399, 64403, 64410, 64441, 64445, 64450, 64496, 64541, 64554, 64569, 64579, 64588, 64608, 64617, 64628, 64740, 64743, 64784, 64815, 64823, 64828, 64911, 64948, 65000, 65020, 65068, 65071, 65074, 65082, 65111, 65147, 65214, 65233, 65235, 65268, 65300, 65310, 65331, 65345, 65352, 65359, 65360, 65371, 65416, 65442, 65495, 65509, 65521, 65524, 65531, 65551, 65554, 65555, 65591, 65605, 65623, 65651, 65737, 65739, 65753, 65758, 65763, 65792, 65804, 65809, 65815, 65832, 65845, 65857, 65870, 65893, 65913, 65922, 65969, 65981, 65992, 65998, 66009, 66045, 66080, 66100, 66104, 66140, 66141, 66168, 66183, 66212, 66230, 66257, 66261, 66281, 66287, 66294, 66297, 66304, 66324, 66336, 66484, 66485, 66565, 66577, 66595, 66625, 66636, 66645, 66647, 66651, 66652, 66664, 66667, 66711, 66735, 66738, 66751, 66768, 66808, 66825, 66831, 66835, 66902, 66903, 66916, 66938, 66972, 66996, 67009, 67011, 67023, 67038, 67048, 67049, 67056, 67072, 67135, 67211, 67225, 67237, 67267, 67286, 67328, 67336, 67352, 67376, 67391, 67395, 67406, 67424, 67482, 67541, 67571, 67582, 67595, 67605, 67611, 67627, 67640, 67661, 67673, 67695, 67703, 67736, 67737, 67806, 67831, 67860, 67880, 67930, 67994, 67998, 68010, 68041, 68065, 68095, 68108, 68137, 68147, 68155, 68159, 68166, 68176, 68185, 68192, 68268, 68295, 68303, 68319, 68330, 68344, 68362, 68412, 68424, 68450, 68500, 68501, 68547, 68548, 68612, 68624, 68653, 68674, 68678, 68705, 68725, 68733, 68736, 68737, 68746, 68750, 68767, 68769, 68780, 68803, 68840, 68859, 68958, 68970, 69002, 69021, 69030, 69048, 69073, 69076, 69078, 69086, 69094, 69114, 69116, 69159, 69182, 69195, 69216, 69244, 69257, 69260, 69278, 69318, 69327, 69330, 69349, 69352, 69354, 69361, 69370, 69497, 69528, 69555, 69579, 69626, 69713, 69752, 69797, 69841, 69866, 69883, 69886, 69887, 69888, 69898, 69901, 69958, 69988, 70026, 70036, 70058, 70063, 70110, 70118, 70133, 70157, 70161, 70189, 70196, 70232, 70245, 70257, 70264, 70273, 70274, 70317, 70319, 70321, 70332, 70338, 70371, 70375, 70382, 70383, 70384, 70431, 70447, 70453, 70505, 70533, 70551, 70584, 70589, 70590, 70611, 70614, 70651, 70657, 70685, 70704, 70707, 70725, 70767, 70771, 70821, 70832, 70844, 70853, 70875, 70907, 70909, 70913, 70915, 70918, 70922, 70946, 70963, 70967, 70984, 71021, 71022, 71033, 71046, 71073, 71144, 71159, 71200, 71201, 71214, 71216, 71223, 71234, 71236, 71251, 71258, 71265, 71270, 71277, 71295, 71298, 71310, 71327, 71330, 71338, 71345, 71356, 71377, 71394, 71404, 71408, 71411, 71423, 71452, 71462, 71468, 71477, 71490, 71491, 71630, 71657, 71668, 71689, 71704, 71706, 71731, 71737, 71739, 71761, 71766, 71780, 71786, 71789, 71824, 71851, 71869, 71871, 71877, 71881, 71884, 71943, 71975, 72004, 72023, 72043, 72048, 72073, 72079, 72084, 72085, 72089, 72102, 72109, 72129, 72130, 72156, 72166, 72172, 72199, 72202, 72219, 72220, 72224, 72233, 72277, 72287, 72290, 72296, 72305, 72327, 72333, 72336, 72377, 72383, 72389, 72406, 72414, 72421, 72434, 72438, 72446, 72456, 72469, 72471, 72473, 72488, 72512, 72516, 72530, 72536, 72537, 72539, 72544, 72563, 72587, 72607, 72613, 72614, 72617, 72619, 72623, 72625, 72653, 72655, 72707, 72720, 72728, 72738, 72741, 72769, 72776, 72779, 72841, 72848, 72863, 72865, 72873, 72882, 72888, 72896, 72914, 72939, 72949, 72979, 73011, 73020, 73027, 73029, 73031, 73036, 73041, 73066, 73068, 73117, 73133, 73149, 73180, 73183, 73202, 73218, 73234, 73251, 73296, 73318, 73336, 73339, 73347, 73352, 73388, 73389, 73423, 73427, 73453, 73460, 73485, 73498, 73508, 73539, 73541, 73545, 73554, 73563, 73573, 73577, 73605, 73610, 73634, 73668, 73675, 73680, 73702, 73706, 73722, 73740, 73799, 73800, 73802, 73810, 73822, 73856, 73859, 73860, 73907, 73929, 73931, 73933, 73968, 73995, 74015, 74016, 74023, 74046, 74084, 74088, 74091, 74110, 74112, 74116, 74136, 74137, 74171, 74196, 74203, 74234, 74239, 74257, 74267, 74277, 74299, 74325, 74335, 74338, 74354, 74359, 74368, 74380, 74446, 74466, 74468, 74479, 74496, 74501, 74502, 74510, 74526, 74546, 74560, 74564, 74574, 74592, 74607, 74616, 74621, 74624, 74625, 74654, 74657, 74667, 74677, 74682, 74704, 74708, 74718, 74740, 74762, 74766, 74785, 74793, 74810, 74814, 74834, 74845, 74851, 74862, 74871, 74872, 74885, 74903, 74910, 74935, 74936, 74941, 74944, 74982, 74988, 74998, 75005, 75022, 75035, 75038, 75053, 75060, 75068, 75087, 75088, 75089, 75100, 75157, 75169, 75170, 75173, 75177, 75187, 75198, 75204, 75229, 75250, 75253, 75278, 75289, 75313, 75321, 75324, 75347, 75357, 75361, 75385, 75401, 75405, 75409, 75412, 75420, 75422, 75423, 75441, 75456, 75470, 75494, 75504, 75510, 75514, 75521, 75528, 75573, 75577, 75588, 75600, 75605, 75614, 75646, 75649, 75691, 75711, 75747, 75812, 75815, 75820, 75834, 75839, 75840, 75859, 75871, 75897, 75899, 75903, 75919, 75928, 75944, 75963, 75966, 75980, 75982, 75993, 75997, 75999, 76011, 76077, 76095, 76108, 76115, 76144, 76153, 76174, 76182, 76195, 76210, 76223, 76226, 76236, 76272, 76276, 76288, 76308, 76349, 76351, 76363, 76364, 76402, 76440, 76448, 76459, 76460, 76466, 76492, 76599, 76600, 76603, 76612, 76625, 76645, 76665, 76676, 76677, 76705, 76719, 76736, 76780, 76797, 76805, 76814, 76850, 76861, 76873, 76876, 76890, 76904, 76928, 76950, 76969, 76973, 77022, 77038, 77061, 77071, 77081, 77086, 77109, 77143, 77178, 77193, 77230, 77236, 77249, 77252, 77267, 77282, 77285, 77308, 77313, 77318, 77325, 77343, 77357, 77366, 77373, 77385, 77386, 77388, 77392, 77393, 77405, 77407, 77421, 77427, 77440, 77451, 77455, 77461, 77472, 77474, 77479, 77480, 77484, 77490, 77509, 77513, 77544, 77545, 77546, 77572, 77601, 77607, 77629, 77631, 77632, 77653, 77687, 77688, 77694, 77704, 77713, 77721, 77732, 77779, 77838, 77865, 77874, 77879, 77882, 77895, 77899, 77921, 77925, 77933, 77937, 77946, 77976, 77985, 77986, 77999, 78010, 78023, 78025, 78029, 78035, 78047, 78078, 78088, 78101, 78130, 78132, 78135, 78136, 78150, 78162, 78182, 78191, 78200, 78202, 78209, 78223, 78239, 78244, 78250, 78255, 78292, 78294, 78316, 78339, 78366, 78370, 78431, 78434, 78445, 78451, 78458, 78500, 78510, 78535, 78536, 78558, 78563, 78565, 78567, 78573, 78605, 78623, 78625, 78641, 78647, 78652, 78661, 78729, 78745, 78752, 78776, 78798, 78805, 78855, 78858, 78873, 78900, 78946, 78987, 79010, 79014, 79018, 79033, 79048, 79054, 79076, 79100, 79101, 79136, 79143, 79144, 79160, 79164, 79166, 79169, 79177, 79186, 79214, 79221, 79239, 79289, 79294, 79305, 79360, 79363, 79403, 79404, 79409, 79423, 79441, 79443, 79467, 79468, 79473, 79496, 79498, 79508, 79517, 79532, 79536, 79562, 79573, 79576, 79593, 79599, 79602, 79616, 79618, 79636, 79638, 79642, 79645, 79667, 79703, 79730, 79735, 79778, 79785, 79788, 79846, 79851, 79894, 79913, 79917, 79929, 79942, 79944, 79952, 79999, 80007, 80017, 80022, 80052, 80053, 80065, 80078, 80081, 80095, 80109, 80146, 80187, 80209, 80220, 80234, 80238, 80265, 80272, 80275, 80295, 80301, 80323, 80331, 80343, 80353, 80370, 80403, 80404, 80422, 80437, 80441, 80463, 80504, 80524, 80528, 80576, 80585, 80595, 80598, 80654, 80656, 80669, 80682, 80687, 80700, 80701, 80710, 80747, 80763, 80788, 80794, 80814, 80825, 80833, 80838, 80856, 80866, 80874, 80876, 80891, 80902, 80911, 80924, 80928, 80955, 80956, 80963, 80980, 80982, 81009, 81027, 81033, 81039, 81069, 81075, 81094, 81106, 81132, 81140, 81160, 81167, 81205, 81210, 81219, 81235, 81241, 81261, 81264, 81277, 81310, 81319, 81323, 81330, 81344, 81369, 81376, 81385, 81396, 81398, 81402, 81422, 81453, 81467, 81488, 81508, 81529, 81573, 81586, 81594, 81602, 81653, 81668, 81673, 81677, 81705, 81713, 81719, 81745, 81746, 81769, 81841, 81848, 81850, 81857, 81860, 81872, 81903, 81922, 81937, 81946, 81971, 81979, 82000, 82019, 82050, 82065, 82068, 82096, 82098, 82100, 82104, 82108, 82122, 82124, 82138, 82152, 82163, 82188, 82200, 82205, 82232, 82242, 82251, 82254, 82264, 82270, 82287, 82294, 82295, 82324, 82331, 82351, 82394, 82403, 82409, 82414, 82452, 82458, 82468, 82471, 82473, 82490, 82505, 82514, 82515, 82547, 82571, 82587, 82597, 82600, 82608, 82628, 82688, 82693, 82728, 82730, 82734, 82741, 82748, 82760, 82762, 82772, 82836, 82839, 82859, 82907, 82961, 82970, 82986, 82997, 82998, 83018, 83021, 83026, 83032, 83037, 83052, 83088, 83093, 83124, 83130, 83173, 83179, 83183, 83186, 83190, 83193, 83203, 83219, 83222, 83245, 83249, 83253, 83262, 83265, 83270, 83283, 83284, 83289, 83302, 83318, 83411, 83413, 83416, 83426, 83468, 83477, 83480, 83504, 83505, 83522, 83593, 83608, 83628, 83632, 83672, 83677, 83689, 83699, 83722, 83740, 83754, 83776, 83779, 83782, 83812, 83820, 83823, 83824, 83851, 83877, 83893, 83896, 83897, 83918, 83940, 83950, 83961, 83962, 83990, 84006, 84018, 84021, 84026, 84028, 84035, 84063, 84088, 84106, 84119, 84144, 84147, 84149, 84153, 84162, 84168, 84169, 84176, 84178, 84196, 84221, 84230, 84232, 84235, 84249, 84258, 84265, 84278, 84303, 84307, 84315, 84324, 84327, 84332, 84334, 84335, 84342, 84348, 84369, 84371, 84383, 84385, 84420, 84423, 84424, 84430, 84441, 84442, 84445, 84458, 84459, 84463, 84479, 84481, 84488, 84490, 84522, 84528, 84564, 84581, 84584, 84591, 84598, 84602, 84607, 84610, 84615, 84628, 84640, 84646, 84661, 84689, 84691, 84700, 84702, 84718, 84739, 84755, 84789, 84790, 84791, 84804, 84820, 84829, 84851, 84856, 84866, 84885, 84907, 84912, 84920, 84926, 84927, 84933, 84949, 84997, 85006, 85007, 85012, 85022, 85023, 85058, 85059, 85068, 85075, 85097, 85104, 85116, 85121, 85137, 85138, 85141, 85174, 85186, 85191, 85197, 85207, 85209, 85215, 85222, 85228, 85231, 85237, 85240, 85241, 85245, 85252, 85260, 85265, 85266, 85268, 85269, 85275, 85278, 85282, 85288, 85290, 85305, 85306, 85307, 85308, 85323, 85346, 85348, 85370, 85384, 85386, 85401, 85408, 85409, 85413, 85435, 85440, 85452, 85455, 85469, 85473, 85489, 85499, 85517, 85525, 85547, 85548, 85549, 85558, 85573, 85574, 85583, 85586, 85599, 85600, 85603, 85604, 85608, 85615, 85618, 85625, 85630, 85632, 85637, 85640, 85645, 85651, 85653, 85655, 85658, 85660, 85667, 85670, 85672, 85683, 85684, 85691, 85693, 85698, 85700, 85702, 85705, 85715, 85716, 85720, 85726, 85728, 85740, 85744, 85761, 85764, 85769, 85774, 85776, 85782, 85783, 85794, 85795, 85799, 85801, 85802, 85804, 85806, 85816, 85819, 85824, 85827, 85834, 85837, 85848, 85862, 85875, 85880, 85883, 85884, 85886, 85917, 85919, 85924, 85936, 85939, 85944, 85950, 85952, 85953, 85958, 85960, 85961, 85962, 85963, 85969, 85970, 85974, 85983, 85988, 85990, 85992, 85999, 86004, 86017, 86018, 86035, 86039, 86047, 86050, 86053, 86056, 86058, 86060, 86068, 86073, 86080, 86087, 86092, 86103, 86111, 86116, 86124, 86136, 86139, 86140, 86146, 86147, 86151, 86159, 86166, 86170, 86172, 86173, 86182, 86197, 86200, 86203, 86209, 86213, 86216, 86227, 86230, 86238, 86240, 86245, 86248, 86251, 86253, 86254, 86255, 86259, 86269, 86275, 86283, 86285, 86291, 86296, 86297, 86298, 86299, 86300, 86304, 86306, 86310, 86312, 86322, 86336, 86342, 86346, 86347, 86351, 86366, 86373, 86383, 86397, 86402, 86405, 86412, 86416, 86423, 86428, 86432, 86436, 86440, 86442, 86446, 86447, 86451, 86454, 86466, 86470, 86477, 86478, 86483, 86484, 86489, 86496, 86501, 86506, 86508, 86515, 86541, 86543, 86545, 86549, 86558, 86568, 86577, 86589, 86594, 86596, 86606, 86628, 86635, 86644, 86656, 86677, 86680, 86683, 86689, 86700, 86704, 86727, 86732, 86733, 86742, 86743, 86744, 86776, 86805, 86810, 86831, 86877, 86880, 86900, 86909, 86912, 86917, 86919, 86925, 86938, 86951, 86978, 86987, 87008, 87025, 87034, 87035, 87046, 87056, 87066, 87081, 87093, 87094, 87095, 87126, 87174, 87189, 87196, 87212, 87225, 87234, 87240, 87288, 87315, 87318, 87323, 87335, 87336, 87338, 87339, 87340, 87382, 87397, 87401, 87418, 87429, 87440, 87473, 87489, 87494, 87540, 87584, 87599, 87608]\n"
     ]
    }
   ],
   "source": [
    "print(users_report)"
   ]
  },
  {
   "cell_type": "code",
   "execution_count": 218,
   "metadata": {},
   "outputs": [
    {
     "name": "stdout",
     "output_type": "stream",
     "text": [
      "125\n",
      "[220, 340, 240, 4000, 400, 3020, 17460, 17410, 10150, 24840, 17450, 24960, 8190, 35140, 13560, 13570, 13580, 33220, 33910, 33930, 219540, 45740, 50620, 40800, 620, 20920, 105600, 67370, 22380, 110800, 209100, 204100, 50300, 211420, 17300, 17330, 17340, 108800, 202170, 730, 219150, 205100, 223470, 220240, 4570, 212070, 218230, 230410, 236390, 243870, 209870, 224580, 203160, 216250, 233270, 242760, 237110, 234080, 22320, 22330, 72850, 218620, 206420, 235600, 250320, 250760, 252490, 252950, 107410, 49520, 221910, 221100, 25000, 234190, 268850, 235460, 550, 223530, 7670, 8850, 8870, 409710, 409720, 214490, 222880, 285900, 287700, 233290, 201810, 295110, 362300, 433850, 439700, 298600, 286690, 287390, 301520, 304930, 241930, 238320, 327740, 330830, 330840, 274940, 333930, 219740, 322330, 236430, 344760, 346110, 407530, 307780, 366844, 292030, 374320, 377160, 391540, 394970, 234140, 247730, 311210, 244930, 379720, 273350, 399730]\n",
      "124\n",
      "[904, 20, 1745, 23441, 258, 37, 85, 1084, 273, 1, 47, 4026, 217, 408, 125, 0, 0, 241, 201, 185, 6, 74, 48, 376, 478, 426, 29, 183, 1614, 356, 48, 325, 176, 1553, 60, 0, 0, 0, 2315, 44040, 477, 2079, 289, 1341, 223, 0, 85, 476, 10, 0, 11, 138, 40, 39, 559, 907, 1016, 60, 121, 178, 3463, 2095, 198, 1465, 1750, 283, 6411, 5512, 29964, 393, 42, 386, 268, 1, 0, 259, 1510, 0, 11, 1, 687, 0, 0, 243, 2256, 15, 998, 262, 1606, 223, 0, 88, 0, 359, 225, 317, 0, 496, 1360, 144, 1, 0, 257, 25, 2154, 0, 180, 2649, 917, 612, 0, 272, 0, 1539, 5473, 921, 11, 78, 125, 13, 1663, 41, 96, 415]\n"
     ]
    }
   ],
   "source": [
    "print(len(users_dataframe_3[\"item_id\"][112]))\n",
    "print(users_dataframe_3[\"item_id\"][112])\n",
    "print(len(users_dataframe_3[\"playtime_forever\"][112]))\n",
    "print(users_dataframe_3[\"playtime_forever\"][112])"
   ]
  },
  {
   "cell_type": "code",
   "execution_count": 197,
   "metadata": {},
   "outputs": [
    {
     "ename": "ValueError",
     "evalue": "You are trying to merge on object and float64 columns. If you wish to proceed you should use pd.concat",
     "output_type": "error",
     "traceback": [
      "\u001b[1;31m---------------------------------------------------------------------------\u001b[0m",
      "\u001b[1;31mValueError\u001b[0m                                Traceback (most recent call last)",
      "Cell \u001b[1;32mIn[197], line 2\u001b[0m\n\u001b[0;32m      1\u001b[0m \u001b[39m# Merge users_dataframe_3 and steam_games_dataframe_3\u001b[39;00m\n\u001b[1;32m----> 2\u001b[0m merged_df \u001b[39m=\u001b[39m users_dataframe_3\u001b[39m.\u001b[39;49mexplode(\u001b[39m'\u001b[39;49m\u001b[39mplaytime_forever\u001b[39;49m\u001b[39m'\u001b[39;49m)\u001b[39m.\u001b[39;49mmerge(steam_games_dataframe_3, left_on\u001b[39m=\u001b[39;49m\u001b[39m'\u001b[39;49m\u001b[39mitem_id\u001b[39;49m\u001b[39m'\u001b[39;49m, right_on\u001b[39m=\u001b[39;49m\u001b[39m'\u001b[39;49m\u001b[39mid\u001b[39;49m\u001b[39m'\u001b[39;49m, how\u001b[39m=\u001b[39;49m\u001b[39m'\u001b[39;49m\u001b[39mleft\u001b[39;49m\u001b[39m'\u001b[39;49m)\n",
      "File \u001b[1;32ms:\\Courses\\Data Science\\0. Henry\\M7 - Labs - Project MLOps _ steam\\env-game-recommend-sys\\lib\\site-packages\\pandas\\core\\frame.py:9843\u001b[0m, in \u001b[0;36mDataFrame.merge\u001b[1;34m(self, right, how, on, left_on, right_on, left_index, right_index, sort, suffixes, copy, indicator, validate)\u001b[0m\n\u001b[0;32m   9824\u001b[0m \u001b[39m@Substitution\u001b[39m(\u001b[39m\"\u001b[39m\u001b[39m\"\u001b[39m)\n\u001b[0;32m   9825\u001b[0m \u001b[39m@Appender\u001b[39m(_merge_doc, indents\u001b[39m=\u001b[39m\u001b[39m2\u001b[39m)\n\u001b[0;32m   9826\u001b[0m \u001b[39mdef\u001b[39;00m \u001b[39mmerge\u001b[39m(\n\u001b[1;32m   (...)\u001b[0m\n\u001b[0;32m   9839\u001b[0m     validate: \u001b[39mstr\u001b[39m \u001b[39m|\u001b[39m \u001b[39mNone\u001b[39;00m \u001b[39m=\u001b[39m \u001b[39mNone\u001b[39;00m,\n\u001b[0;32m   9840\u001b[0m ) \u001b[39m-\u001b[39m\u001b[39m>\u001b[39m DataFrame:\n\u001b[0;32m   9841\u001b[0m     \u001b[39mfrom\u001b[39;00m \u001b[39mpandas\u001b[39;00m\u001b[39m.\u001b[39;00m\u001b[39mcore\u001b[39;00m\u001b[39m.\u001b[39;00m\u001b[39mreshape\u001b[39;00m\u001b[39m.\u001b[39;00m\u001b[39mmerge\u001b[39;00m \u001b[39mimport\u001b[39;00m merge\n\u001b[1;32m-> 9843\u001b[0m     \u001b[39mreturn\u001b[39;00m merge(\n\u001b[0;32m   9844\u001b[0m         \u001b[39mself\u001b[39;49m,\n\u001b[0;32m   9845\u001b[0m         right,\n\u001b[0;32m   9846\u001b[0m         how\u001b[39m=\u001b[39;49mhow,\n\u001b[0;32m   9847\u001b[0m         on\u001b[39m=\u001b[39;49mon,\n\u001b[0;32m   9848\u001b[0m         left_on\u001b[39m=\u001b[39;49mleft_on,\n\u001b[0;32m   9849\u001b[0m         right_on\u001b[39m=\u001b[39;49mright_on,\n\u001b[0;32m   9850\u001b[0m         left_index\u001b[39m=\u001b[39;49mleft_index,\n\u001b[0;32m   9851\u001b[0m         right_index\u001b[39m=\u001b[39;49mright_index,\n\u001b[0;32m   9852\u001b[0m         sort\u001b[39m=\u001b[39;49msort,\n\u001b[0;32m   9853\u001b[0m         suffixes\u001b[39m=\u001b[39;49msuffixes,\n\u001b[0;32m   9854\u001b[0m         copy\u001b[39m=\u001b[39;49mcopy,\n\u001b[0;32m   9855\u001b[0m         indicator\u001b[39m=\u001b[39;49mindicator,\n\u001b[0;32m   9856\u001b[0m         validate\u001b[39m=\u001b[39;49mvalidate,\n\u001b[0;32m   9857\u001b[0m     )\n",
      "File \u001b[1;32ms:\\Courses\\Data Science\\0. Henry\\M7 - Labs - Project MLOps _ steam\\env-game-recommend-sys\\lib\\site-packages\\pandas\\core\\reshape\\merge.py:148\u001b[0m, in \u001b[0;36mmerge\u001b[1;34m(left, right, how, on, left_on, right_on, left_index, right_index, sort, suffixes, copy, indicator, validate)\u001b[0m\n\u001b[0;32m    131\u001b[0m \u001b[39m@Substitution\u001b[39m(\u001b[39m\"\u001b[39m\u001b[39m\\n\u001b[39;00m\u001b[39mleft : DataFrame or named Series\u001b[39m\u001b[39m\"\u001b[39m)\n\u001b[0;32m    132\u001b[0m \u001b[39m@Appender\u001b[39m(_merge_doc, indents\u001b[39m=\u001b[39m\u001b[39m0\u001b[39m)\n\u001b[0;32m    133\u001b[0m \u001b[39mdef\u001b[39;00m \u001b[39mmerge\u001b[39m(\n\u001b[1;32m   (...)\u001b[0m\n\u001b[0;32m    146\u001b[0m     validate: \u001b[39mstr\u001b[39m \u001b[39m|\u001b[39m \u001b[39mNone\u001b[39;00m \u001b[39m=\u001b[39m \u001b[39mNone\u001b[39;00m,\n\u001b[0;32m    147\u001b[0m ) \u001b[39m-\u001b[39m\u001b[39m>\u001b[39m DataFrame:\n\u001b[1;32m--> 148\u001b[0m     op \u001b[39m=\u001b[39m _MergeOperation(\n\u001b[0;32m    149\u001b[0m         left,\n\u001b[0;32m    150\u001b[0m         right,\n\u001b[0;32m    151\u001b[0m         how\u001b[39m=\u001b[39;49mhow,\n\u001b[0;32m    152\u001b[0m         on\u001b[39m=\u001b[39;49mon,\n\u001b[0;32m    153\u001b[0m         left_on\u001b[39m=\u001b[39;49mleft_on,\n\u001b[0;32m    154\u001b[0m         right_on\u001b[39m=\u001b[39;49mright_on,\n\u001b[0;32m    155\u001b[0m         left_index\u001b[39m=\u001b[39;49mleft_index,\n\u001b[0;32m    156\u001b[0m         right_index\u001b[39m=\u001b[39;49mright_index,\n\u001b[0;32m    157\u001b[0m         sort\u001b[39m=\u001b[39;49msort,\n\u001b[0;32m    158\u001b[0m         suffixes\u001b[39m=\u001b[39;49msuffixes,\n\u001b[0;32m    159\u001b[0m         indicator\u001b[39m=\u001b[39;49mindicator,\n\u001b[0;32m    160\u001b[0m         validate\u001b[39m=\u001b[39;49mvalidate,\n\u001b[0;32m    161\u001b[0m     )\n\u001b[0;32m    162\u001b[0m     \u001b[39mreturn\u001b[39;00m op\u001b[39m.\u001b[39mget_result(copy\u001b[39m=\u001b[39mcopy)\n",
      "File \u001b[1;32ms:\\Courses\\Data Science\\0. Henry\\M7 - Labs - Project MLOps _ steam\\env-game-recommend-sys\\lib\\site-packages\\pandas\\core\\reshape\\merge.py:741\u001b[0m, in \u001b[0;36m_MergeOperation.__init__\u001b[1;34m(self, left, right, how, on, left_on, right_on, axis, left_index, right_index, sort, suffixes, indicator, validate)\u001b[0m\n\u001b[0;32m    733\u001b[0m (\n\u001b[0;32m    734\u001b[0m     \u001b[39mself\u001b[39m\u001b[39m.\u001b[39mleft_join_keys,\n\u001b[0;32m    735\u001b[0m     \u001b[39mself\u001b[39m\u001b[39m.\u001b[39mright_join_keys,\n\u001b[0;32m    736\u001b[0m     \u001b[39mself\u001b[39m\u001b[39m.\u001b[39mjoin_names,\n\u001b[0;32m    737\u001b[0m ) \u001b[39m=\u001b[39m \u001b[39mself\u001b[39m\u001b[39m.\u001b[39m_get_merge_keys()\n\u001b[0;32m    739\u001b[0m \u001b[39m# validate the merge keys dtypes. We may need to coerce\u001b[39;00m\n\u001b[0;32m    740\u001b[0m \u001b[39m# to avoid incompatible dtypes\u001b[39;00m\n\u001b[1;32m--> 741\u001b[0m \u001b[39mself\u001b[39;49m\u001b[39m.\u001b[39;49m_maybe_coerce_merge_keys()\n\u001b[0;32m    743\u001b[0m \u001b[39m# If argument passed to validate,\u001b[39;00m\n\u001b[0;32m    744\u001b[0m \u001b[39m# check if columns specified as unique\u001b[39;00m\n\u001b[0;32m    745\u001b[0m \u001b[39m# are in fact unique.\u001b[39;00m\n\u001b[0;32m    746\u001b[0m \u001b[39mif\u001b[39;00m validate \u001b[39mis\u001b[39;00m \u001b[39mnot\u001b[39;00m \u001b[39mNone\u001b[39;00m:\n",
      "File \u001b[1;32ms:\\Courses\\Data Science\\0. Henry\\M7 - Labs - Project MLOps _ steam\\env-game-recommend-sys\\lib\\site-packages\\pandas\\core\\reshape\\merge.py:1401\u001b[0m, in \u001b[0;36m_MergeOperation._maybe_coerce_merge_keys\u001b[1;34m(self)\u001b[0m\n\u001b[0;32m   1395\u001b[0m     \u001b[39m# unless we are merging non-string-like with string-like\u001b[39;00m\n\u001b[0;32m   1396\u001b[0m     \u001b[39melif\u001b[39;00m (\n\u001b[0;32m   1397\u001b[0m         inferred_left \u001b[39min\u001b[39;00m string_types \u001b[39mand\u001b[39;00m inferred_right \u001b[39mnot\u001b[39;00m \u001b[39min\u001b[39;00m string_types\n\u001b[0;32m   1398\u001b[0m     ) \u001b[39mor\u001b[39;00m (\n\u001b[0;32m   1399\u001b[0m         inferred_right \u001b[39min\u001b[39;00m string_types \u001b[39mand\u001b[39;00m inferred_left \u001b[39mnot\u001b[39;00m \u001b[39min\u001b[39;00m string_types\n\u001b[0;32m   1400\u001b[0m     ):\n\u001b[1;32m-> 1401\u001b[0m         \u001b[39mraise\u001b[39;00m \u001b[39mValueError\u001b[39;00m(msg)\n\u001b[0;32m   1403\u001b[0m \u001b[39m# datetimelikes must match exactly\u001b[39;00m\n\u001b[0;32m   1404\u001b[0m \u001b[39melif\u001b[39;00m needs_i8_conversion(lk\u001b[39m.\u001b[39mdtype) \u001b[39mand\u001b[39;00m \u001b[39mnot\u001b[39;00m needs_i8_conversion(rk\u001b[39m.\u001b[39mdtype):\n",
      "\u001b[1;31mValueError\u001b[0m: You are trying to merge on object and float64 columns. If you wish to proceed you should use pd.concat"
     ]
    }
   ],
   "source": [
    "# Merge users_dataframe_3 and steam_games_dataframe_3\n",
    "merged_df = users_dataframe_3.explode('playtime_forever').merge(steam_games_dataframe_3, left_on='item_id', right_on='id', how='left')"
   ]
  },
  {
   "attachments": {},
   "cell_type": "markdown",
   "metadata": {},
   "source": [
    "## API Function 4 \"userforgenre\""
   ]
  },
  {
   "attachments": {},
   "cell_type": "markdown",
   "metadata": {},
   "source": [
    "## API Function 5 \"developer\""
   ]
  },
  {
   "attachments": {},
   "cell_type": "markdown",
   "metadata": {},
   "source": [
    "## API Function 6 \"sentiment_analysis\""
   ]
  },
  {
   "attachments": {},
   "cell_type": "markdown",
   "metadata": {},
   "source": [
    "## API Function 7 ML \"game_recommendation\""
   ]
  },
  {
   "cell_type": "code",
   "execution_count": null,
   "metadata": {},
   "outputs": [],
   "source": []
  },
  {
   "cell_type": "code",
   "execution_count": null,
   "metadata": {},
   "outputs": [],
   "source": []
  },
  {
   "cell_type": "code",
   "execution_count": null,
   "metadata": {},
   "outputs": [],
   "source": []
  }
 ],
 "metadata": {
  "kernelspec": {
   "display_name": "env-game-recommend-sys",
   "language": "python",
   "name": "python3"
  },
  "language_info": {
   "codemirror_mode": {
    "name": "ipython",
    "version": 3
   },
   "file_extension": ".py",
   "mimetype": "text/x-python",
   "name": "python",
   "nbconvert_exporter": "python",
   "pygments_lexer": "ipython3",
   "version": "3.10.10"
  },
  "orig_nbformat": 4
 },
 "nbformat": 4,
 "nbformat_minor": 2
}
