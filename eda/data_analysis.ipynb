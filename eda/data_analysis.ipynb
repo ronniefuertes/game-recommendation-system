{
 "cells": [
  {
   "cell_type": "code",
   "execution_count": 94,
   "metadata": {},
   "outputs": [
    {
     "data": {
      "text/plain": [
       "<module 'data_analysis_utils' from 's:\\\\Courses\\\\Data Science\\\\0. Henry\\\\M7 - Labs - Project MLOps _ steam\\\\game-recommendation-system\\\\eda\\\\data_analysis_utils.py'>"
      ]
     },
     "execution_count": 94,
     "metadata": {},
     "output_type": "execute_result"
    }
   ],
   "source": [
    "# Importing requiered libraries\n",
    "import ast\n",
    "import pandas as pd\n",
    "# import matplotlib.pyplot as plt\n",
    "import importlib\n",
    "import data_analysis_utils\n",
    "\n",
    "# Reload the functions module\n",
    "importlib.reload(data_analysis_utils)"
   ]
  },
  {
   "attachments": {},
   "cell_type": "markdown",
   "metadata": {},
   "source": [
    "# User Reviews"
   ]
  },
  {
   "attachments": {},
   "cell_type": "markdown",
   "metadata": {},
   "source": [
    "## Importing file"
   ]
  },
  {
   "cell_type": "code",
   "execution_count": 3,
   "metadata": {},
   "outputs": [],
   "source": [
    "# Importing user_reviews.csv file\n",
    "user_reviews_path = \"datasets/user_reviews.csv\"\n",
    "\n",
    "# Setting low_memory=False - To read the entire file so it determines the data types accurately. \n",
    "# Note: It can increase memory usage for larger datasets\n",
    "user_reviews_1 = pd.read_csv(user_reviews_path, low_memory=False)"
   ]
  },
  {
   "attachments": {},
   "cell_type": "markdown",
   "metadata": {},
   "source": [
    "## Data Preparation & Transformation"
   ]
  },
  {
   "attachments": {},
   "cell_type": "markdown",
   "metadata": {},
   "source": [
    "The current data "
   ]
  },
  {
   "cell_type": "code",
   "execution_count": 4,
   "metadata": {},
   "outputs": [
    {
     "name": "stdout",
     "output_type": "stream",
     "text": [
      "<class 'pandas.core.frame.DataFrame'>\n",
      "RangeIndex: 25485 entries, 0 to 25484\n",
      "Data columns (total 9 columns):\n",
      " #   Column       Non-Null Count  Dtype \n",
      "---  ------       --------------  ----- \n",
      " 0   user_id      25485 non-null  object\n",
      " 1   user_url     25485 non-null  object\n",
      " 2   item_id      25485 non-null  object\n",
      " 3   posted       25485 non-null  object\n",
      " 4   last_edited  25485 non-null  object\n",
      " 5   helpful      25485 non-null  object\n",
      " 6   recommend    25485 non-null  object\n",
      " 7   funny        25485 non-null  object\n",
      " 8   review       25485 non-null  object\n",
      "dtypes: object(9)\n",
      "memory usage: 1.8+ MB\n"
     ]
    }
   ],
   "source": [
    "user_reviews_1.info()"
   ]
  },
  {
   "cell_type": "code",
   "execution_count": 5,
   "metadata": {},
   "outputs": [],
   "source": [
    "# converting values to it's corresponding data types\n",
    "user_reviews_2 = user_reviews_1.copy()\n",
    "user_reviews_2['item_id'] = user_reviews_2['item_id'].apply(ast.literal_eval)\n",
    "user_reviews_2['posted'] = user_reviews_2['posted'].apply(ast.literal_eval)\n",
    "user_reviews_2['last_edited'] = user_reviews_2['last_edited'].apply(ast.literal_eval)\n",
    "user_reviews_2['recommend'] = user_reviews_2['recommend'].apply(ast.literal_eval)\n",
    "user_reviews_2['review'] = user_reviews_2['review'].apply(ast.literal_eval)"
   ]
  },
  {
   "attachments": {},
   "cell_type": "markdown",
   "metadata": {},
   "source": [
    "Sometimes user names can be the same between user.<br>\n",
    "Just to verify that the current user IDs are unique, and no user names.<br>\n",
    "The user IDs will be compared with user_url, duw to user_url is unique for each user."
   ]
  },
  {
   "cell_type": "code",
   "execution_count": 6,
   "metadata": {},
   "outputs": [],
   "source": [
    "# Iteration of the rows and compare them, if user IDs don't match it will print the index and the value\n",
    "for index, row in user_reviews_2.iterrows():\n",
    "    id_value = row[\"user_id\"]\n",
    "    url_value = row[\"user_url\"]\n",
    "    \n",
    "    id_len = len(id_value)\n",
    "    url_id = url_value[-id_len:]\n",
    "    if id_value != url_id:\n",
    "        print(index, id_value)"
   ]
  },
  {
   "attachments": {},
   "cell_type": "markdown",
   "metadata": {},
   "source": [
    "### Column \"posted\""
   ]
  },
  {
   "attachments": {},
   "cell_type": "markdown",
   "metadata": {},
   "source": [
    "During data preparation, some dates couldn't be converted to \"yyyy-mm-dd\", those dates will be compared with the values from \"last_edited\" column."
   ]
  },
  {
   "cell_type": "code",
   "execution_count": 7,
   "metadata": {},
   "outputs": [
    {
     "data": {
      "text/plain": [
       "{'column_name': 'posted', 'data_type_counts': {\"<class 'list'>\": 25485}}"
      ]
     },
     "execution_count": 7,
     "metadata": {},
     "output_type": "execute_result"
    }
   ],
   "source": [
    "# Verifying data type of the column\n",
    "posted_data_type = data_analysis_utils.column_data_types_summary(user_reviews_2, \"posted\")\n",
    "posted_data_type"
   ]
  },
  {
   "cell_type": "code",
   "execution_count": 8,
   "metadata": {},
   "outputs": [
    {
     "data": {
      "text/plain": [
       "{'column_name': 'last_edited', 'data_type_counts': {\"<class 'list'>\": 25485}}"
      ]
     },
     "execution_count": 8,
     "metadata": {},
     "output_type": "execute_result"
    }
   ],
   "source": [
    "# Verifying data type of the column\n",
    "posted_data_type = data_analysis_utils.column_data_types_summary(user_reviews_2, \"last_edited\")\n",
    "posted_data_type"
   ]
  },
  {
   "cell_type": "code",
   "execution_count": 9,
   "metadata": {},
   "outputs": [
    {
     "data": {
      "text/plain": [
       "{'total_rows': 25485,\n",
       " 'column_name': 'posted',\n",
       " 'num_failed_conversions': 24,\n",
       " 'report': {348: {6: 'Posted February 29.'},\n",
       "  1544: {1: 'Posted February 29.'},\n",
       "  2696: {3: 'Posted February 29.'},\n",
       "  2905: {2: 'Posted February 29.'},\n",
       "  3852: {3: 'Posted February 29.'},\n",
       "  5061: {0: 'Posted February 29.'},\n",
       "  6037: {0: 'Posted February 29.'},\n",
       "  6104: {0: 'Posted February 29.'},\n",
       "  9111: {0: 'Posted February 29.'},\n",
       "  10454: {1: 'Posted February 29.'},\n",
       "  10493: {0: 'Posted February 29.'},\n",
       "  10633: {0: 'Posted February 29.'},\n",
       "  10651: {0: 'Posted February 29.'},\n",
       "  11404: {1: 'Posted February 29.'},\n",
       "  11945: {0: 'Posted February 29.'},\n",
       "  14914: {1: 'Posted February 29.'},\n",
       "  15554: {2: 'Posted February 29.'},\n",
       "  16112: {0: 'Posted February 29.'},\n",
       "  16143: {0: 'Posted February 29.'},\n",
       "  16439: {0: 'Posted February 29.'},\n",
       "  20438: {0: 'Posted February 29.', 1: 'Posted February 29.'},\n",
       "  21898: {0: 'Posted February 29.'},\n",
       "  24150: {4: 'Posted February 29.'},\n",
       "  24457: {0: 'Posted February 29.'}}}"
      ]
     },
     "execution_count": 9,
     "metadata": {},
     "output_type": "execute_result"
    }
   ],
   "source": [
    "# Creating a copy of the dataframe\n",
    "user_reviews_3 = user_reviews_2.copy()\n",
    "\n",
    "# The \"Posted %B %d.\" patter of the datetime values of the datframe will automatically take the year 1900,\n",
    "# this will help to avoid removing date from the dataframe\n",
    "\n",
    "# Setting the original datetime patterns\n",
    "original_date_list = [\"Posted %B %d, %Y.\", \"Posted %B %d.\", \"%Y-%m-%d\"]\n",
    "\n",
    "# Transforming to datetime type using \"convert_column_to_dates\" function\n",
    "data_analysis_utils.convert_column_to_dates(user_reviews_3, \"posted\", original_date_list)"
   ]
  },
  {
   "cell_type": "code",
   "execution_count": 10,
   "metadata": {},
   "outputs": [
    {
     "name": "stdout",
     "output_type": "stream",
     "text": [
      "['1900-05-20', '1900-07-14', '1900-03-07', 'Posted February 29.', '1900-02-10', '1900-02-09', '1900-02-08']\n",
      "['', '', '', '', '', '', '']\n",
      "[True, True, True, True, True, True, True]\n"
     ]
    }
   ],
   "source": [
    "print(user_reviews_3['posted'][2696])\n",
    "print(user_reviews_3['last_edited'][2696])\n",
    "print(user_reviews_3['recommend'][2696])"
   ]
  },
  {
   "attachments": {},
   "cell_type": "markdown",
   "metadata": {},
   "source": [
    "## EDA"
   ]
  },
  {
   "attachments": {},
   "cell_type": "markdown",
   "metadata": {},
   "source": [
    "### Summary Statistics"
   ]
  },
  {
   "attachments": {},
   "cell_type": "markdown",
   "metadata": {},
   "source": [
    "### Data Visualization"
   ]
  },
  {
   "attachments": {},
   "cell_type": "markdown",
   "metadata": {},
   "source": [
    "### Correlation Analysis"
   ]
  },
  {
   "attachments": {},
   "cell_type": "markdown",
   "metadata": {},
   "source": [
    "### Feature Relationships"
   ]
  },
  {
   "attachments": {},
   "cell_type": "markdown",
   "metadata": {},
   "source": [
    "### Outlier Detection"
   ]
  },
  {
   "attachments": {},
   "cell_type": "markdown",
   "metadata": {},
   "source": [
    "### Text Analysis"
   ]
  },
  {
   "attachments": {},
   "cell_type": "markdown",
   "metadata": {},
   "source": [
    "### Documentation and Reporting"
   ]
  },
  {
   "attachments": {},
   "cell_type": "markdown",
   "metadata": {},
   "source": [
    "Sentiment analysis of review"
   ]
  },
  {
   "attachments": {},
   "cell_type": "markdown",
   "metadata": {},
   "source": []
  },
  {
   "attachments": {},
   "cell_type": "markdown",
   "metadata": {},
   "source": []
  },
  {
   "attachments": {},
   "cell_type": "markdown",
   "metadata": {},
   "source": [
    "# User Items"
   ]
  },
  {
   "attachments": {},
   "cell_type": "markdown",
   "metadata": {},
   "source": [
    "## Importing file"
   ]
  },
  {
   "cell_type": "code",
   "execution_count": 11,
   "metadata": {},
   "outputs": [],
   "source": [
    "# Importing user_items.csv file\n",
    "user_items_path = \"datasets/user_items.csv\"\n",
    "\n",
    "# Setting low_memory=False - To read the entire file so it determines the data types accurately. \n",
    "# Note: It can increase memory usage for larger datasets\n",
    "user_items_1 = pd.read_csv(user_items_path, low_memory=False)"
   ]
  },
  {
   "attachments": {},
   "cell_type": "markdown",
   "metadata": {},
   "source": [
    "## Data Preparation & Transformation"
   ]
  },
  {
   "attachments": {},
   "cell_type": "markdown",
   "metadata": {},
   "source": []
  },
  {
   "cell_type": "code",
   "execution_count": 12,
   "metadata": {},
   "outputs": [
    {
     "name": "stdout",
     "output_type": "stream",
     "text": [
      "<class 'pandas.core.frame.DataFrame'>\n",
      "RangeIndex: 87625 entries, 0 to 87624\n",
      "Data columns (total 8 columns):\n",
      " #   Column            Non-Null Count  Dtype \n",
      "---  ------            --------------  ----- \n",
      " 0   user_id           87625 non-null  object\n",
      " 1   steam_id          87625 non-null  int64 \n",
      " 2   user_url          87625 non-null  object\n",
      " 3   items_count       87625 non-null  int64 \n",
      " 4   item_id           87625 non-null  object\n",
      " 5   item_name         87625 non-null  object\n",
      " 6   playtime_forever  87625 non-null  object\n",
      " 7   playtime_2weeks   87625 non-null  object\n",
      "dtypes: int64(2), object(6)\n",
      "memory usage: 5.3+ MB\n"
     ]
    }
   ],
   "source": [
    "user_items_1.info()"
   ]
  },
  {
   "cell_type": "code",
   "execution_count": 13,
   "metadata": {},
   "outputs": [],
   "source": [
    "# converting values to it's corresponding data types\n",
    "user_items_2 = user_items_1.copy()\n",
    "user_items_2['item_id'] = user_items_2['item_id'].apply(ast.literal_eval)\n",
    "user_items_2['item_name'] = user_items_2['item_name'].apply(ast.literal_eval)\n",
    "user_items_2['playtime_forever'] = user_items_2['playtime_forever'].apply(ast.literal_eval)"
   ]
  },
  {
   "attachments": {},
   "cell_type": "markdown",
   "metadata": {},
   "source": [
    "Sometimes user names can be the same between user.<br>\n",
    "Just to verify that the current user IDs are unique, and no user names.<br>\n",
    "The user IDs will be compared with user_url, duw to user_url is unique for each user."
   ]
  },
  {
   "cell_type": "code",
   "execution_count": 14,
   "metadata": {},
   "outputs": [],
   "source": [
    "# Iteration of the rows and compare them, if user IDs don't match it will print the index and the value\n",
    "for index, row in user_items_2.iterrows():\n",
    "    id_value = row[\"user_id\"]\n",
    "    url_value = row[\"user_url\"]\n",
    "    \n",
    "    id_len = len(id_value)\n",
    "    url_id = url_value[-id_len:]\n",
    "    if id_value != url_id:\n",
    "        print(index, id_value)"
   ]
  },
  {
   "cell_type": "code",
   "execution_count": 15,
   "metadata": {},
   "outputs": [
    {
     "name": "stdout",
     "output_type": "stream",
     "text": [
      "<class 'pandas.core.frame.DataFrame'>\n",
      "RangeIndex: 87625 entries, 0 to 87624\n",
      "Data columns (total 8 columns):\n",
      " #   Column            Non-Null Count  Dtype \n",
      "---  ------            --------------  ----- \n",
      " 0   user_id           87625 non-null  object\n",
      " 1   steam_id          87625 non-null  int64 \n",
      " 2   user_url          87625 non-null  object\n",
      " 3   items_count       87625 non-null  int64 \n",
      " 4   item_id           87625 non-null  object\n",
      " 5   item_name         87625 non-null  object\n",
      " 6   playtime_forever  87625 non-null  object\n",
      " 7   playtime_2weeks   87625 non-null  object\n",
      "dtypes: int64(2), object(6)\n",
      "memory usage: 5.3+ MB\n"
     ]
    }
   ],
   "source": [
    "user_items_2.info()"
   ]
  },
  {
   "cell_type": "code",
   "execution_count": 16,
   "metadata": {},
   "outputs": [
    {
     "data": {
      "text/plain": [
       "{'column_name': 'item_id', 'data_type_counts': {\"<class 'list'>\": 87625}}"
      ]
     },
     "execution_count": 16,
     "metadata": {},
     "output_type": "execute_result"
    }
   ],
   "source": [
    "data_analysis_utils.column_data_types_summary(user_items_2, \"item_id\")"
   ]
  },
  {
   "attachments": {},
   "cell_type": "markdown",
   "metadata": {},
   "source": [
    "## EDA"
   ]
  },
  {
   "attachments": {},
   "cell_type": "markdown",
   "metadata": {},
   "source": [
    "### Summary Statistics"
   ]
  },
  {
   "attachments": {},
   "cell_type": "markdown",
   "metadata": {},
   "source": [
    "### Data Visualization"
   ]
  },
  {
   "attachments": {},
   "cell_type": "markdown",
   "metadata": {},
   "source": [
    "### Correlation Analysis"
   ]
  },
  {
   "attachments": {},
   "cell_type": "markdown",
   "metadata": {},
   "source": [
    "### Feature Relationships"
   ]
  },
  {
   "attachments": {},
   "cell_type": "markdown",
   "metadata": {},
   "source": [
    "### Outlier Detection"
   ]
  },
  {
   "attachments": {},
   "cell_type": "markdown",
   "metadata": {},
   "source": [
    "### Text Analysis"
   ]
  },
  {
   "attachments": {},
   "cell_type": "markdown",
   "metadata": {},
   "source": [
    "### Documentation and Reporting"
   ]
  },
  {
   "attachments": {},
   "cell_type": "markdown",
   "metadata": {},
   "source": [
    "Sentiment analysis of review"
   ]
  },
  {
   "cell_type": "code",
   "execution_count": null,
   "metadata": {},
   "outputs": [],
   "source": []
  },
  {
   "attachments": {},
   "cell_type": "markdown",
   "metadata": {},
   "source": [
    "# Steam Games"
   ]
  },
  {
   "attachments": {},
   "cell_type": "markdown",
   "metadata": {},
   "source": [
    "## Importing file"
   ]
  },
  {
   "cell_type": "code",
   "execution_count": 17,
   "metadata": {},
   "outputs": [],
   "source": [
    "# Importing steam_games.csv file\n",
    "steam_games_path = \"datasets/steam_games.csv\"\n",
    "\n",
    "# Setting low_memory=False - To read the entire file so it determines the data types accurately. \n",
    "# Note: It can increase memory usage for larger datasets\n",
    "steam_games_1 = pd.read_csv(steam_games_path, low_memory=False)"
   ]
  },
  {
   "attachments": {},
   "cell_type": "markdown",
   "metadata": {},
   "source": [
    "## Data Preparation & Transformation"
   ]
  },
  {
   "cell_type": "code",
   "execution_count": 18,
   "metadata": {},
   "outputs": [
    {
     "name": "stdout",
     "output_type": "stream",
     "text": [
      "<class 'pandas.core.frame.DataFrame'>\n",
      "RangeIndex: 32134 entries, 0 to 32133\n",
      "Data columns (total 13 columns):\n",
      " #   Column        Non-Null Count  Dtype  \n",
      "---  ------        --------------  -----  \n",
      " 0   publisher     24063 non-null  object \n",
      " 1   genres        28851 non-null  object \n",
      " 2   app_name      32132 non-null  object \n",
      " 3   title         30084 non-null  object \n",
      " 4   url           32134 non-null  object \n",
      " 5   release_date  30067 non-null  object \n",
      " 6   tags          31971 non-null  object \n",
      " 7   reviews_url   32132 non-null  object \n",
      " 8   specs         31464 non-null  object \n",
      " 9   price         30757 non-null  float64\n",
      " 10  early_access  32134 non-null  bool   \n",
      " 11  id            32132 non-null  float64\n",
      " 12  developer     28835 non-null  object \n",
      "dtypes: bool(1), float64(2), object(10)\n",
      "memory usage: 3.0+ MB\n"
     ]
    }
   ],
   "source": [
    "steam_games_1.info()"
   ]
  },
  {
   "cell_type": "code",
   "execution_count": 19,
   "metadata": {},
   "outputs": [],
   "source": [
    "steam_games_2 = steam_games_1.copy()\n",
    "\n",
    "# Converting values to their repective data types\n",
    "# \"specs\" and \"genres\" have nan values.\n",
    "\n",
    "# Apply safe_literal_eval to the columns\n",
    "steam_games_2['genres'] = steam_games_2['genres'].apply(data_analysis_utils.safe_literal_eval)\n",
    "steam_games_2['specs'] = steam_games_2['specs'].apply(data_analysis_utils.safe_literal_eval)"
   ]
  },
  {
   "attachments": {},
   "cell_type": "markdown",
   "metadata": {},
   "source": [
    "Games ID have 2 missing values, verifying these values with corresponding game url.<br>"
   ]
  },
  {
   "cell_type": "code",
   "execution_count": 20,
   "metadata": {},
   "outputs": [
    {
     "name": "stdout",
     "output_type": "stream",
     "text": [
      "74 n\n",
      "30960 n\n"
     ]
    }
   ],
   "source": [
    "# Iteration of the rows and compare them, if user IDs don't match it will print the index and the value\n",
    "for index, row in steam_games_2.iterrows():\n",
    "    id_value = str(row[\"id\"])[:-2]\n",
    "    url_value = row[\"url\"]\n",
    "    \n",
    "    id_len = len(id_value)\n",
    "    url_id = url_value[34:34+id_len]\n",
    "    if id_value != url_id:\n",
    "        print(index, id_value)"
   ]
  },
  {
   "attachments": {},
   "cell_type": "markdown",
   "metadata": {},
   "source": [
    "If possible, inserting the ids extracted from the url."
   ]
  },
  {
   "cell_type": "code",
   "execution_count": 21,
   "metadata": {},
   "outputs": [
    {
     "data": {
      "text/plain": [
       "'http://store.steampowered.com/app/200260'"
      ]
     },
     "execution_count": 21,
     "metadata": {},
     "output_type": "execute_result"
    }
   ],
   "source": [
    "# 1st id value\n",
    "steam_games_2[\"url\"][30960]"
   ]
  },
  {
   "cell_type": "code",
   "execution_count": 22,
   "metadata": {},
   "outputs": [
    {
     "data": {
      "text/plain": [
       "Index([1068], dtype='int64')"
      ]
     },
     "execution_count": 22,
     "metadata": {},
     "output_type": "execute_result"
    }
   ],
   "source": [
    "# Search for the value in the 'id' column and get the indices\n",
    "indices = steam_games_2[steam_games_2[\"id\"] == 200260].index\n",
    "indices"
   ]
  },
  {
   "attachments": {},
   "cell_type": "markdown",
   "metadata": {},
   "source": [
    "The ID already exist"
   ]
  },
  {
   "cell_type": "code",
   "execution_count": 23,
   "metadata": {},
   "outputs": [
    {
     "data": {
      "text/plain": [
       "Index([], dtype='int64')"
      ]
     },
     "execution_count": 23,
     "metadata": {},
     "output_type": "execute_result"
    }
   ],
   "source": [
    "# Deleting corresponding duplicate value\n",
    "steam_games_2 = steam_games_2.drop(30960)\n",
    "\n",
    "# Verifying previous action\n",
    "indices = steam_games_2[steam_games_2[\"id\"] == 30960].index\n",
    "indices"
   ]
  },
  {
   "cell_type": "code",
   "execution_count": 24,
   "metadata": {},
   "outputs": [
    {
     "data": {
      "text/plain": [
       "'http://store.steampowered.com/'"
      ]
     },
     "execution_count": 24,
     "metadata": {},
     "output_type": "execute_result"
    }
   ],
   "source": [
    "# 2nd value\n",
    "steam_games_2[\"url\"][74]"
   ]
  },
  {
   "cell_type": "code",
   "execution_count": 25,
   "metadata": {},
   "outputs": [
    {
     "name": "stdout",
     "output_type": "stream",
     "text": [
      "publisher                                  NaN\n",
      "genres                                     NaN\n",
      "app_name                                   NaN\n",
      "title                                      NaN\n",
      "url             http://store.steampowered.com/\n",
      "release_date                               NaN\n",
      "tags                                       NaN\n",
      "reviews_url                                NaN\n",
      "specs                                      NaN\n",
      "price                                    19.99\n",
      "early_access                             False\n",
      "id                                         NaN\n",
      "developer                                  NaN\n",
      "Name: 74, dtype: object\n"
     ]
    }
   ],
   "source": [
    "# Extract the row using .iloc and print it\n",
    "value_data = steam_games_2.iloc[74]\n",
    "print(value_data)"
   ]
  },
  {
   "attachments": {},
   "cell_type": "markdown",
   "metadata": {},
   "source": [
    "A lot of information is missing, the value isn't relevant, the value is deleted."
   ]
  },
  {
   "cell_type": "code",
   "execution_count": 26,
   "metadata": {},
   "outputs": [
    {
     "name": "stdout",
     "output_type": "stream",
     "text": [
      "<class 'pandas.core.frame.DataFrame'>\n",
      "Index: 32133 entries, 0 to 32133\n",
      "Data columns (total 13 columns):\n",
      " #   Column        Non-Null Count  Dtype  \n",
      "---  ------        --------------  -----  \n",
      " 0   publisher     24062 non-null  object \n",
      " 1   genres        28850 non-null  object \n",
      " 2   app_name      32131 non-null  object \n",
      " 3   title         30083 non-null  object \n",
      " 4   url           32133 non-null  object \n",
      " 5   release_date  30066 non-null  object \n",
      " 6   tags          31970 non-null  object \n",
      " 7   reviews_url   32132 non-null  object \n",
      " 8   specs         31463 non-null  object \n",
      " 9   price         30756 non-null  float64\n",
      " 10  early_access  32133 non-null  bool   \n",
      " 11  id            32132 non-null  float64\n",
      " 12  developer     28834 non-null  object \n",
      "dtypes: bool(1), float64(2), object(10)\n",
      "memory usage: 4.2+ MB\n"
     ]
    }
   ],
   "source": [
    "steam_games_2.info()"
   ]
  },
  {
   "cell_type": "code",
   "execution_count": 27,
   "metadata": {},
   "outputs": [
    {
     "data": {
      "text/plain": [
       "Index([], dtype='int64')"
      ]
     },
     "execution_count": 27,
     "metadata": {},
     "output_type": "execute_result"
    }
   ],
   "source": [
    "# Deleting corresponding value\n",
    "steam_games_2 = steam_games_2.drop(74)\n",
    "\n",
    "# Verifying previous action\n",
    "indices = steam_games_2[steam_games_2[\"id\"] == 74].index\n",
    "indices"
   ]
  },
  {
   "cell_type": "code",
   "execution_count": 28,
   "metadata": {},
   "outputs": [
    {
     "data": {
      "text/plain": [
       "{'column_name': 'item_id', 'data_type_counts': {\"<class 'list'>\": 87625}}"
      ]
     },
     "execution_count": 28,
     "metadata": {},
     "output_type": "execute_result"
    }
   ],
   "source": [
    "data_analysis_utils.column_data_types_summary(user_items_2, \"item_id\")"
   ]
  },
  {
   "attachments": {},
   "cell_type": "markdown",
   "metadata": {},
   "source": [
    "## EDA"
   ]
  },
  {
   "attachments": {},
   "cell_type": "markdown",
   "metadata": {},
   "source": [
    "### Summary Statistics"
   ]
  },
  {
   "attachments": {},
   "cell_type": "markdown",
   "metadata": {},
   "source": [
    "### Data Visualization"
   ]
  },
  {
   "attachments": {},
   "cell_type": "markdown",
   "metadata": {},
   "source": [
    "### Correlation Analysis"
   ]
  },
  {
   "attachments": {},
   "cell_type": "markdown",
   "metadata": {},
   "source": [
    "### Feature Relationships"
   ]
  },
  {
   "attachments": {},
   "cell_type": "markdown",
   "metadata": {},
   "source": [
    "### Outlier Detection"
   ]
  },
  {
   "attachments": {},
   "cell_type": "markdown",
   "metadata": {},
   "source": [
    "### Text Analysis"
   ]
  },
  {
   "attachments": {},
   "cell_type": "markdown",
   "metadata": {},
   "source": [
    "### Documentation and Reporting"
   ]
  },
  {
   "attachments": {},
   "cell_type": "markdown",
   "metadata": {},
   "source": [
    "Sentiment analysis of review"
   ]
  },
  {
   "cell_type": "code",
   "execution_count": null,
   "metadata": {},
   "outputs": [],
   "source": []
  },
  {
   "cell_type": "code",
   "execution_count": null,
   "metadata": {},
   "outputs": [],
   "source": []
  },
  {
   "attachments": {},
   "cell_type": "markdown",
   "metadata": {},
   "source": [
    "# Creating files"
   ]
  },
  {
   "attachments": {},
   "cell_type": "markdown",
   "metadata": {},
   "source": [
    "## API Function 1 \"userdata\""
   ]
  },
  {
   "attachments": {},
   "cell_type": "markdown",
   "metadata": {},
   "source": [
    "Return amount of money spent by the user, the recommendation percentage based on reviews."
   ]
  },
  {
   "attachments": {},
   "cell_type": "markdown",
   "metadata": {},
   "source": [
    "### Creating dataframes"
   ]
  },
  {
   "attachments": {},
   "cell_type": "markdown",
   "metadata": {},
   "source": [
    "Creating new dataframes with only the necessary columns"
   ]
  },
  {
   "cell_type": "code",
   "execution_count": 30,
   "metadata": {},
   "outputs": [
    {
     "name": "stdout",
     "output_type": "stream",
     "text": [
      "Index(['user_id', 'user_url', 'item_id', 'posted', 'last_edited', 'helpful',\n",
      "       'recommend', 'funny', 'review'],\n",
      "      dtype='object')\n",
      "Index(['user_id', 'steam_id', 'user_url', 'items_count', 'item_id',\n",
      "       'item_name', 'playtime_forever', 'playtime_2weeks'],\n",
      "      dtype='object')\n",
      "Index(['publisher', 'genres', 'app_name', 'title', 'url', 'release_date',\n",
      "       'tags', 'reviews_url', 'specs', 'price', 'early_access', 'id',\n",
      "       'developer'],\n",
      "      dtype='object')\n"
     ]
    }
   ],
   "source": [
    "print(user_reviews_3.columns)\n",
    "print(user_items_2.columns)\n",
    "print(steam_games_2.columns)"
   ]
  },
  {
   "cell_type": "code",
   "execution_count": 32,
   "metadata": {},
   "outputs": [],
   "source": [
    "# Necessary data:\n",
    "\n",
    "# user_reviews = user_id, user_url, recommend\n",
    "# user_items = user_url, items_count, item_id\n",
    "# steam_games = id, price\n",
    "\n",
    "user_reviews_columns = [\"user_id\", \"item_id\", \"recommend\", \"user_url\"] # user_url and review are added to be used in API function 4 and 6\n",
    "user_items_columns = [\"user_id\", \"items_count\", \"item_id\", \"playtime_forever\"] # playtime_forever is added to be used in API function 3\n",
    "steam_games_columns = [\"id\", \"price\", \"developer\"] # developer is added to be used in API function 5\n",
    "\n",
    "# Create new DataFrames with only the selected columns\n",
    "user_reviews_dataframe_1 = user_reviews_2[user_reviews_columns]\n",
    "user_items_dataframe_1 = user_items_2[user_items_columns]\n",
    "steam_games_dataframe_1 = steam_games_2[steam_games_columns]"
   ]
  },
  {
   "attachments": {},
   "cell_type": "markdown",
   "metadata": {},
   "source": [
    "### Merging dataframes"
   ]
  },
  {
   "attachments": {},
   "cell_type": "markdown",
   "metadata": {},
   "source": [
    "The user_items dataframe have more data than user_reviews.<br>\n",
    "Identifying missing user_id values from user_reviews in user_items."
   ]
  },
  {
   "cell_type": "code",
   "execution_count": 33,
   "metadata": {},
   "outputs": [
    {
     "name": "stdout",
     "output_type": "stream",
     "text": [
      "Missing User IDs:\n",
      "1979                  Revan_Aldrei\n",
      "4044                   BestCyanide\n",
      "8675           RuslaNLoveStefochka\n",
      "15513    profiles76561198094860288\n",
      "Name: user_id, dtype: object\n"
     ]
    }
   ],
   "source": [
    "# Identify missing user_id values\n",
    "missing_user_ids = user_reviews_dataframe_1[~user_reviews_dataframe_1[\"user_id\"].isin(user_items_dataframe_1[\"user_id\"])]\n",
    "\n",
    "# Create a summary of missing user_id values\n",
    "missing_user_id_summary = missing_user_ids[\"user_id\"]\n",
    "\n",
    "# Display the missing user_id summary\n",
    "print(\"Missing User IDs:\")\n",
    "print(missing_user_id_summary)"
   ]
  },
  {
   "attachments": {},
   "cell_type": "markdown",
   "metadata": {},
   "source": [
    "When merging dataframes, this values must be also considered."
   ]
  },
  {
   "attachments": {},
   "cell_type": "markdown",
   "metadata": {},
   "source": [
    "##### Renaming the \"item_id\" column from user_reviews to \"item_id_rcmnd\""
   ]
  },
  {
   "attachments": {},
   "cell_type": "markdown",
   "metadata": {},
   "source": [
    "To avoid conflicts between \"item_id\" columns from both dataframes, due to both columns represent different content.<br>\n",
    "- \"item_id\" from user_reviews, represents the ids of the games reviewed.\n",
    "- \"itme_id\" from user_items, represents the ids of all the games owned by the user.\n"
   ]
  },
  {
   "cell_type": "code",
   "execution_count": 33,
   "metadata": {},
   "outputs": [
    {
     "name": "stdout",
     "output_type": "stream",
     "text": [
      "10\n",
      "215280\n"
     ]
    }
   ],
   "source": [
    "# Proof of difference between values\n",
    "print(user_items_dataframe_1[\"item_id\"][10000][0])\n",
    "print(user_reviews_dataframe_1[\"item_id\"][10000][0])"
   ]
  },
  {
   "cell_type": "code",
   "execution_count": 34,
   "metadata": {},
   "outputs": [
    {
     "name": "stderr",
     "output_type": "stream",
     "text": [
      "C:\\Users\\Ronnie\\AppData\\Local\\Temp\\ipykernel_12508\\3527484091.py:2: SettingWithCopyWarning: \n",
      "A value is trying to be set on a copy of a slice from a DataFrame\n",
      "\n",
      "See the caveats in the documentation: https://pandas.pydata.org/pandas-docs/stable/user_guide/indexing.html#returning-a-view-versus-a-copy\n",
      "  user_reviews_dataframe_1.rename(columns={\"item_id\": \"item_id_rcmnd\"}, inplace=True)\n"
     ]
    }
   ],
   "source": [
    "# Rename the column \n",
    "user_reviews_dataframe_1.rename(columns={\"item_id\": \"item_id_rcmnd\"}, inplace=True)"
   ]
  },
  {
   "cell_type": "code",
   "execution_count": 35,
   "metadata": {},
   "outputs": [
    {
     "data": {
      "text/html": [
       "<div>\n",
       "<style scoped>\n",
       "    .dataframe tbody tr th:only-of-type {\n",
       "        vertical-align: middle;\n",
       "    }\n",
       "\n",
       "    .dataframe tbody tr th {\n",
       "        vertical-align: top;\n",
       "    }\n",
       "\n",
       "    .dataframe thead th {\n",
       "        text-align: right;\n",
       "    }\n",
       "</style>\n",
       "<table border=\"1\" class=\"dataframe\">\n",
       "  <thead>\n",
       "    <tr style=\"text-align: right;\">\n",
       "      <th></th>\n",
       "      <th>user_id</th>\n",
       "      <th>item_id_rcmnd</th>\n",
       "      <th>recommend</th>\n",
       "      <th>user_url</th>\n",
       "    </tr>\n",
       "  </thead>\n",
       "  <tbody>\n",
       "    <tr>\n",
       "      <th>0</th>\n",
       "      <td>76561197970982479</td>\n",
       "      <td>[1250, 22200, 43110]</td>\n",
       "      <td>[True, True, True]</td>\n",
       "      <td>http://steamcommunity.com/profiles/76561197970...</td>\n",
       "    </tr>\n",
       "    <tr>\n",
       "      <th>1</th>\n",
       "      <td>js41637</td>\n",
       "      <td>[251610, 227300, 239030]</td>\n",
       "      <td>[True, True, True]</td>\n",
       "      <td>http://steamcommunity.com/id/js41637</td>\n",
       "    </tr>\n",
       "    <tr>\n",
       "      <th>2</th>\n",
       "      <td>evcentric</td>\n",
       "      <td>[248820, 370360, 237930, 263360, 107200, 224500]</td>\n",
       "      <td>[True, True, True, True, True, True]</td>\n",
       "      <td>http://steamcommunity.com/id/evcentric</td>\n",
       "    </tr>\n",
       "    <tr>\n",
       "      <th>3</th>\n",
       "      <td>doctr</td>\n",
       "      <td>[250320, 20920, 204100, 224600, 207610, 108710]</td>\n",
       "      <td>[True, True, True, True, True, True]</td>\n",
       "      <td>http://steamcommunity.com/id/doctr</td>\n",
       "    </tr>\n",
       "    <tr>\n",
       "      <th>4</th>\n",
       "      <td>maplemage</td>\n",
       "      <td>[211420, 211820, 730, 204300]</td>\n",
       "      <td>[True, True, True, True]</td>\n",
       "      <td>http://steamcommunity.com/id/maplemage</td>\n",
       "    </tr>\n",
       "    <tr>\n",
       "      <th>...</th>\n",
       "      <td>...</td>\n",
       "      <td>...</td>\n",
       "      <td>...</td>\n",
       "      <td>...</td>\n",
       "    </tr>\n",
       "    <tr>\n",
       "      <th>25480</th>\n",
       "      <td>76561198306599751</td>\n",
       "      <td>[261030]</td>\n",
       "      <td>[True]</td>\n",
       "      <td>http://steamcommunity.com/profiles/76561198306...</td>\n",
       "    </tr>\n",
       "    <tr>\n",
       "      <th>25481</th>\n",
       "      <td>Ghoustik</td>\n",
       "      <td>[730]</td>\n",
       "      <td>[True]</td>\n",
       "      <td>http://steamcommunity.com/id/Ghoustik</td>\n",
       "    </tr>\n",
       "    <tr>\n",
       "      <th>25482</th>\n",
       "      <td>76561198310819422</td>\n",
       "      <td>[570]</td>\n",
       "      <td>[True]</td>\n",
       "      <td>http://steamcommunity.com/profiles/76561198310...</td>\n",
       "    </tr>\n",
       "    <tr>\n",
       "      <th>25483</th>\n",
       "      <td>76561198312638244</td>\n",
       "      <td>[233270, 130, 70, 362890]</td>\n",
       "      <td>[True, True, True, True]</td>\n",
       "      <td>http://steamcommunity.com/profiles/76561198312...</td>\n",
       "    </tr>\n",
       "    <tr>\n",
       "      <th>25484</th>\n",
       "      <td>LydiaMorley</td>\n",
       "      <td>[273110, 730, 440]</td>\n",
       "      <td>[True, True, True]</td>\n",
       "      <td>http://steamcommunity.com/id/LydiaMorley</td>\n",
       "    </tr>\n",
       "  </tbody>\n",
       "</table>\n",
       "<p>25485 rows × 4 columns</p>\n",
       "</div>"
      ],
      "text/plain": [
       "                 user_id                                     item_id_rcmnd  \\\n",
       "0      76561197970982479                              [1250, 22200, 43110]   \n",
       "1                js41637                          [251610, 227300, 239030]   \n",
       "2              evcentric  [248820, 370360, 237930, 263360, 107200, 224500]   \n",
       "3                  doctr   [250320, 20920, 204100, 224600, 207610, 108710]   \n",
       "4              maplemage                     [211420, 211820, 730, 204300]   \n",
       "...                  ...                                               ...   \n",
       "25480  76561198306599751                                          [261030]   \n",
       "25481           Ghoustik                                             [730]   \n",
       "25482  76561198310819422                                             [570]   \n",
       "25483  76561198312638244                         [233270, 130, 70, 362890]   \n",
       "25484        LydiaMorley                                [273110, 730, 440]   \n",
       "\n",
       "                                  recommend  \\\n",
       "0                        [True, True, True]   \n",
       "1                        [True, True, True]   \n",
       "2      [True, True, True, True, True, True]   \n",
       "3      [True, True, True, True, True, True]   \n",
       "4                  [True, True, True, True]   \n",
       "...                                     ...   \n",
       "25480                                [True]   \n",
       "25481                                [True]   \n",
       "25482                                [True]   \n",
       "25483              [True, True, True, True]   \n",
       "25484                    [True, True, True]   \n",
       "\n",
       "                                                user_url  \n",
       "0      http://steamcommunity.com/profiles/76561197970...  \n",
       "1                   http://steamcommunity.com/id/js41637  \n",
       "2                 http://steamcommunity.com/id/evcentric  \n",
       "3                     http://steamcommunity.com/id/doctr  \n",
       "4                 http://steamcommunity.com/id/maplemage  \n",
       "...                                                  ...  \n",
       "25480  http://steamcommunity.com/profiles/76561198306...  \n",
       "25481              http://steamcommunity.com/id/Ghoustik  \n",
       "25482  http://steamcommunity.com/profiles/76561198310...  \n",
       "25483  http://steamcommunity.com/profiles/76561198312...  \n",
       "25484           http://steamcommunity.com/id/LydiaMorley  \n",
       "\n",
       "[25485 rows x 4 columns]"
      ]
     },
     "execution_count": 35,
     "metadata": {},
     "output_type": "execute_result"
    }
   ],
   "source": [
    "user_reviews_dataframe_1"
   ]
  },
  {
   "cell_type": "code",
   "execution_count": 36,
   "metadata": {},
   "outputs": [
    {
     "name": "stdout",
     "output_type": "stream",
     "text": [
      "<class 'pandas.core.frame.DataFrame'>\n",
      "RangeIndex: 87625 entries, 0 to 87624\n",
      "Data columns (total 4 columns):\n",
      " #   Column            Non-Null Count  Dtype \n",
      "---  ------            --------------  ----- \n",
      " 0   user_id           87625 non-null  object\n",
      " 1   items_count       87625 non-null  int64 \n",
      " 2   item_id           87625 non-null  object\n",
      " 3   playtime_forever  87625 non-null  object\n",
      "dtypes: int64(1), object(3)\n",
      "memory usage: 2.7+ MB\n"
     ]
    }
   ],
   "source": [
    "user_items_dataframe_1.info()"
   ]
  },
  {
   "attachments": {},
   "cell_type": "markdown",
   "metadata": {},
   "source": [
    "##### Merging \"user_reviews\" and \"user_items\" dataframes"
   ]
  },
  {
   "cell_type": "code",
   "execution_count": 37,
   "metadata": {},
   "outputs": [
    {
     "name": "stdout",
     "output_type": "stream",
     "text": [
      "<class 'pandas.core.frame.DataFrame'>\n",
      "RangeIndex: 87629 entries, 0 to 87628\n",
      "Data columns (total 7 columns):\n",
      " #   Column            Non-Null Count  Dtype  \n",
      "---  ------            --------------  -----  \n",
      " 0   user_id           87629 non-null  object \n",
      " 1   items_count       87625 non-null  float64\n",
      " 2   item_id           87625 non-null  object \n",
      " 3   playtime_forever  87625 non-null  object \n",
      " 4   item_id_rcmnd     25485 non-null  object \n",
      " 5   recommend         25485 non-null  object \n",
      " 6   user_url          25485 non-null  object \n",
      "dtypes: float64(1), object(6)\n",
      "memory usage: 4.7+ MB\n"
     ]
    }
   ],
   "source": [
    "# Merge the two DataFrames using an outer join\n",
    "users_dataframe_1 = pd.merge(user_items_dataframe_1, user_reviews_dataframe_1, on=\"user_id\", how=\"outer\")\n",
    "users_dataframe_1.info()"
   ]
  },
  {
   "attachments": {},
   "cell_type": "markdown",
   "metadata": {},
   "source": [
    "Verifying all columns have its corresponding values."
   ]
  },
  {
   "cell_type": "code",
   "execution_count": 38,
   "metadata": {},
   "outputs": [
    {
     "data": {
      "text/plain": [
       "{'column_name': 'item_id',\n",
       " 'data_type_counts': {\"<class 'list'>\": 87625, \"<class 'float'>\": 4}}"
      ]
     },
     "execution_count": 38,
     "metadata": {},
     "output_type": "execute_result"
    }
   ],
   "source": [
    "# Verifying data types of the \"item_id\" column\n",
    "item_id_summary = data_analysis_utils.column_data_types_summary(users_dataframe_1, \"item_id\")\n",
    "item_id_summary"
   ]
  },
  {
   "cell_type": "code",
   "execution_count": 39,
   "metadata": {},
   "outputs": [
    {
     "name": "stdout",
     "output_type": "stream",
     "text": [
      "index: 87625, user_id: Revan_Aldrei, items_count: nan, item_id_rcmnd: [233720, 55230, 22380, 313371, 215280, 33100, 250600, 214560]\n",
      "index: 87626, user_id: BestCyanide, items_count: nan, item_id_rcmnd: [730]\n",
      "index: 87627, user_id: RuslaNLoveStefochka, items_count: nan, item_id_rcmnd: [730]\n",
      "index: 87628, user_id: profiles76561198094860288, items_count: nan, item_id_rcmnd: [245550, 206420, 304930, 730, 570]\n"
     ]
    }
   ],
   "source": [
    "# Iterating over the column to know indices of float values\n",
    "for index, row in users_dataframe_1.iterrows():\n",
    "    value = row[\"item_id\"]\n",
    "    user_id = row[\"user_id\"]\n",
    "    items_count = row[\"items_count\"]\n",
    "    item_id_rcmnd = row[\"item_id_rcmnd\"]\n",
    "    \n",
    "    if type(value) == float:\n",
    "        print(f\"index: {index}, user_id: {user_id}, items_count: {items_count}, item_id_rcmnd: {item_id_rcmnd}\")"
   ]
  },
  {
   "attachments": {},
   "cell_type": "markdown",
   "metadata": {},
   "source": [
    "Manually inserting corresponding values to \"items_count\" and \"item_id\""
   ]
  },
  {
   "cell_type": "code",
   "execution_count": 40,
   "metadata": {},
   "outputs": [],
   "source": [
    "# Iterating through rows to insert corresponding values\n",
    "idx_list = [87625, 87626, 87627, 87628]\n",
    "\n",
    "for idx in idx_list:\n",
    "    id_list = users_dataframe_1[\"item_id_rcmnd\"][idx]\n",
    "    list_len = len(id_list)\n",
    "\n",
    "    users_dataframe_1.loc[idx, \"items_count\"] = list_len\n",
    "    # Converting to str type to avoid conflicts\n",
    "    users_dataframe_1.loc[idx, \"item_id\"] = str(id_list)"
   ]
  },
  {
   "cell_type": "code",
   "execution_count": 41,
   "metadata": {},
   "outputs": [],
   "source": [
    "# Applying literal eval to transform to list type, and numeric type\n",
    "users_dataframe_1['item_id'] = users_dataframe_1['item_id'].apply(data_analysis_utils.safe_literal_eval)\n",
    "users_dataframe_1['items_count'] = users_dataframe_1['items_count'].apply(data_analysis_utils.safe_literal_eval)"
   ]
  },
  {
   "attachments": {},
   "cell_type": "markdown",
   "metadata": {},
   "source": [
    "##### Merging values from both lists \"item_id\" and \"item_id_rcmnd\""
   ]
  },
  {
   "attachments": {},
   "cell_type": "markdown",
   "metadata": {},
   "source": [
    "The values from \"item_id\" will be the complete list of games owned by the user "
   ]
  },
  {
   "cell_type": "code",
   "execution_count": 42,
   "metadata": {},
   "outputs": [],
   "source": [
    "# Calling the function to merge values from lists\n",
    "data_analysis_utils.merge_values(users_dataframe_1, \"item_id\", \"item_id_rcmnd\")"
   ]
  },
  {
   "attachments": {},
   "cell_type": "markdown",
   "metadata": {},
   "source": [
    "##### Correcting values of \"items_count\""
   ]
  },
  {
   "cell_type": "code",
   "execution_count": 43,
   "metadata": {},
   "outputs": [],
   "source": [
    "# Iterating through the rows of the dataframe to carrect values\n",
    "for index, row in users_dataframe_1.iterrows():\n",
    "    count = row[\"items_count\"]\n",
    "    id_list = row[\"item_id\"]\n",
    "\n",
    "    list_len = len(id_list)\n",
    "    \n",
    "    if count != list_len:\n",
    "        users_dataframe_1.at[index, \"items_count\"] = list_len\n",
    "        "
   ]
  },
  {
   "attachments": {},
   "cell_type": "markdown",
   "metadata": {},
   "source": [
    "### Generating file"
   ]
  },
  {
   "cell_type": "code",
   "execution_count": 44,
   "metadata": {},
   "outputs": [],
   "source": [
    "# Necessary data\n",
    "necessary_columns = [\"user_id\", \"items_count\", \"item_id\", \"recommend\"]\n",
    "\n",
    "# Saving the dataframe to a csv format file\n",
    "# The file will be stored in api inside a the datasets folder \n",
    "users_dataframe_1[necessary_columns].to_csv('../api/datasets/user_data_1.csv', index=False)\n",
    "steam_games_dataframe_1.to_csv('../api/datasets/games_data_1.csv', index=False)"
   ]
  },
  {
   "attachments": {},
   "cell_type": "markdown",
   "metadata": {},
   "source": [
    "compressing files"
   ]
  },
  {
   "cell_type": "code",
   "execution_count": 46,
   "metadata": {},
   "outputs": [],
   "source": [
    "# # Compress the CSV file using gzip and save it to a compressed file\n",
    "# with open('../api/datasets/user_data_1.csv', 'rb') as input_file:\n",
    "#     with gzip.open('../api/datasets/user_data_1.csv.gz', 'wb') as compressed_file:\n",
    "#         compressed_file.writelines(input_file)\n",
    "\n",
    "# print(\"user_data_1 has been compressed and saved to 'user_data_1.csv.gz'.\")"
   ]
  },
  {
   "cell_type": "code",
   "execution_count": 47,
   "metadata": {},
   "outputs": [],
   "source": [
    "# # Compress the CSV file using gzip and save it to a compressed file\n",
    "# with open('../api/datasets/games_data_1.csv', 'rb') as input_file:\n",
    "#     with gzip.open('../api/datasets/games_data_1.csv.gz', 'wb') as compressed_file:\n",
    "#         compressed_file.writelines(input_file)\n",
    "\n",
    "# print(\"games_data_1 has been compressed and saved to 'games_data_1.csv.gz'.\")"
   ]
  },
  {
   "attachments": {},
   "cell_type": "markdown",
   "metadata": {},
   "source": [
    "## API Function 2 \"countreviews\""
   ]
  },
  {
   "attachments": {},
   "cell_type": "markdown",
   "metadata": {},
   "source": [
    "Returns the number of users who made reviews between the given dates and their recommendation percentage based on reviews"
   ]
  },
  {
   "attachments": {},
   "cell_type": "markdown",
   "metadata": {},
   "source": [
    "### Creating dataframes"
   ]
  },
  {
   "attachments": {},
   "cell_type": "markdown",
   "metadata": {},
   "source": [
    "Creating new dataframes with only the necessary columns"
   ]
  },
  {
   "cell_type": "code",
   "execution_count": 45,
   "metadata": {},
   "outputs": [
    {
     "name": "stdout",
     "output_type": "stream",
     "text": [
      "Index(['user_id', 'user_url', 'item_id', 'posted', 'last_edited', 'helpful',\n",
      "       'recommend', 'funny', 'review'],\n",
      "      dtype='object')\n"
     ]
    }
   ],
   "source": [
    "print(user_reviews_3.columns)"
   ]
  },
  {
   "cell_type": "code",
   "execution_count": 46,
   "metadata": {},
   "outputs": [],
   "source": [
    "# Necessary data:\n",
    "\n",
    "# user_reviews = user_id, posted, recommend\n",
    "user_reviews_columns = [\"posted\", \"recommend\"]\n",
    "\n",
    "# Create new DataFrames with only the selected columns\n",
    "user_reviews_dataframe_2 = user_reviews_3[user_reviews_columns]"
   ]
  },
  {
   "attachments": {},
   "cell_type": "markdown",
   "metadata": {},
   "source": [
    "### Generating file"
   ]
  },
  {
   "cell_type": "code",
   "execution_count": 47,
   "metadata": {},
   "outputs": [],
   "source": [
    "# Saving the dataframe to a csv format file\n",
    "# The file will be stored in api inside a the datasets folder \n",
    "user_reviews_dataframe_2.to_csv('../api/datasets/user_data_2.csv', index=False)"
   ]
  },
  {
   "attachments": {},
   "cell_type": "markdown",
   "metadata": {},
   "source": [
    "## API Function 3 \"genre\""
   ]
  },
  {
   "attachments": {},
   "cell_type": "markdown",
   "metadata": {},
   "source": [
    "Returns the position in which a genre is found over the ranking of the same analyzed under the PlayTimeForever column."
   ]
  },
  {
   "attachments": {},
   "cell_type": "markdown",
   "metadata": {},
   "source": [
    "### Creating dataframes"
   ]
  },
  {
   "attachments": {},
   "cell_type": "markdown",
   "metadata": {},
   "source": [
    "Creating new dataframes with only the necessary columns"
   ]
  },
  {
   "cell_type": "code",
   "execution_count": 48,
   "metadata": {},
   "outputs": [
    {
     "name": "stdout",
     "output_type": "stream",
     "text": [
      "Index(['user_id', 'items_count', 'item_id', 'playtime_forever',\n",
      "       'item_id_rcmnd', 'recommend', 'user_url'],\n",
      "      dtype='object')\n",
      "Index(['publisher', 'genres', 'app_name', 'title', 'url', 'release_date',\n",
      "       'tags', 'reviews_url', 'specs', 'price', 'early_access', 'id',\n",
      "       'developer'],\n",
      "      dtype='object')\n"
     ]
    }
   ],
   "source": [
    "# Calling the dataframe with complete information of users from the API function 1\n",
    "print(users_dataframe_1.columns)\n",
    "print(steam_games_2.columns)"
   ]
  },
  {
   "cell_type": "code",
   "execution_count": 49,
   "metadata": {},
   "outputs": [],
   "source": [
    "# Necessary data:\n",
    "# \"user_id\" and \"user_url\" are included to be used in API function 4\n",
    "users_columns = [\"user_id\", \"user_url\",\"item_id\", \"playtime_forever\"] \n",
    "steam_games_columns = [\"id\", \"genres\", \"tags\", \"specs\"]\n",
    "\n",
    "# Create new DataFrames with only the selected columns\n",
    "users_dataframe_3 = users_dataframe_1[users_columns]\n",
    "steam_games_dataframe_3 = steam_games_2[steam_games_columns]"
   ]
  },
  {
   "attachments": {},
   "cell_type": "markdown",
   "metadata": {},
   "source": [
    "#### Deleting null values"
   ]
  },
  {
   "cell_type": "code",
   "execution_count": 50,
   "metadata": {},
   "outputs": [
    {
     "name": "stdout",
     "output_type": "stream",
     "text": [
      "<class 'pandas.core.frame.DataFrame'>\n",
      "RangeIndex: 87629 entries, 0 to 87628\n",
      "Data columns (total 4 columns):\n",
      " #   Column            Non-Null Count  Dtype \n",
      "---  ------            --------------  ----- \n",
      " 0   user_id           87629 non-null  object\n",
      " 1   user_url          25485 non-null  object\n",
      " 2   item_id           87629 non-null  object\n",
      " 3   playtime_forever  87625 non-null  object\n",
      "dtypes: object(4)\n",
      "memory usage: 2.7+ MB\n"
     ]
    }
   ],
   "source": [
    "users_dataframe_3.info()"
   ]
  },
  {
   "attachments": {},
   "cell_type": "markdown",
   "metadata": {},
   "source": [
    "The \"playtime_forever\" column have 4 null values.<br>\n",
    "Apart from being few values, it also means that they do not add time to the genres, so it does not affect the elimination of them. "
   ]
  },
  {
   "cell_type": "code",
   "execution_count": 51,
   "metadata": {},
   "outputs": [
    {
     "data": {
      "text/html": [
       "<div>\n",
       "<style scoped>\n",
       "    .dataframe tbody tr th:only-of-type {\n",
       "        vertical-align: middle;\n",
       "    }\n",
       "\n",
       "    .dataframe tbody tr th {\n",
       "        vertical-align: top;\n",
       "    }\n",
       "\n",
       "    .dataframe thead th {\n",
       "        text-align: right;\n",
       "    }\n",
       "</style>\n",
       "<table border=\"1\" class=\"dataframe\">\n",
       "  <thead>\n",
       "    <tr style=\"text-align: right;\">\n",
       "      <th></th>\n",
       "      <th>user_id</th>\n",
       "      <th>user_url</th>\n",
       "      <th>item_id</th>\n",
       "      <th>playtime_forever</th>\n",
       "    </tr>\n",
       "  </thead>\n",
       "  <tbody>\n",
       "    <tr>\n",
       "      <th>87625</th>\n",
       "      <td>Revan_Aldrei</td>\n",
       "      <td>http://steamcommunity.com/id/Revan_Aldrei</td>\n",
       "      <td>[233720, 55230, 22380, 313371, 215280, 33100, ...</td>\n",
       "      <td>NaN</td>\n",
       "    </tr>\n",
       "    <tr>\n",
       "      <th>87626</th>\n",
       "      <td>BestCyanide</td>\n",
       "      <td>http://steamcommunity.com/id/BestCyanide</td>\n",
       "      <td>[730]</td>\n",
       "      <td>NaN</td>\n",
       "    </tr>\n",
       "    <tr>\n",
       "      <th>87627</th>\n",
       "      <td>RuslaNLoveStefochka</td>\n",
       "      <td>http://steamcommunity.com/id/RuslaNLoveStefochka</td>\n",
       "      <td>[730]</td>\n",
       "      <td>NaN</td>\n",
       "    </tr>\n",
       "    <tr>\n",
       "      <th>87628</th>\n",
       "      <td>profiles76561198094860288</td>\n",
       "      <td>http://steamcommunity.com/id/profiles765611980...</td>\n",
       "      <td>[245550, 206420, 304930, 730, 570]</td>\n",
       "      <td>NaN</td>\n",
       "    </tr>\n",
       "  </tbody>\n",
       "</table>\n",
       "</div>"
      ],
      "text/plain": [
       "                         user_id  \\\n",
       "87625               Revan_Aldrei   \n",
       "87626                BestCyanide   \n",
       "87627        RuslaNLoveStefochka   \n",
       "87628  profiles76561198094860288   \n",
       "\n",
       "                                                user_url  \\\n",
       "87625          http://steamcommunity.com/id/Revan_Aldrei   \n",
       "87626           http://steamcommunity.com/id/BestCyanide   \n",
       "87627   http://steamcommunity.com/id/RuslaNLoveStefochka   \n",
       "87628  http://steamcommunity.com/id/profiles765611980...   \n",
       "\n",
       "                                                 item_id playtime_forever  \n",
       "87625  [233720, 55230, 22380, 313371, 215280, 33100, ...              NaN  \n",
       "87626                                              [730]              NaN  \n",
       "87627                                              [730]              NaN  \n",
       "87628                 [245550, 206420, 304930, 730, 570]              NaN  "
      ]
     },
     "execution_count": 51,
     "metadata": {},
     "output_type": "execute_result"
    }
   ],
   "source": [
    "# Rows with null values in 'playtime_forever'\n",
    "null_rows = users_dataframe_3[users_dataframe_3['playtime_forever'].isnull()]\n",
    "null_rows"
   ]
  },
  {
   "cell_type": "code",
   "execution_count": 52,
   "metadata": {},
   "outputs": [
    {
     "name": "stderr",
     "output_type": "stream",
     "text": [
      "C:\\Users\\Ronnie\\AppData\\Local\\Temp\\ipykernel_12508\\350626787.py:2: SettingWithCopyWarning: \n",
      "A value is trying to be set on a copy of a slice from a DataFrame\n",
      "\n",
      "See the caveats in the documentation: https://pandas.pydata.org/pandas-docs/stable/user_guide/indexing.html#returning-a-view-versus-a-copy\n",
      "  users_dataframe_3.dropna(subset=['playtime_forever'], inplace=True)\n"
     ]
    }
   ],
   "source": [
    "# Delete rows with null values in 'playtime_forever'\n",
    "users_dataframe_3.dropna(subset=['playtime_forever'], inplace=True)"
   ]
  },
  {
   "cell_type": "code",
   "execution_count": 53,
   "metadata": {},
   "outputs": [
    {
     "name": "stdout",
     "output_type": "stream",
     "text": [
      "<class 'pandas.core.frame.DataFrame'>\n",
      "Index: 87625 entries, 0 to 87624\n",
      "Data columns (total 4 columns):\n",
      " #   Column            Non-Null Count  Dtype \n",
      "---  ------            --------------  ----- \n",
      " 0   user_id           87625 non-null  object\n",
      " 1   user_url          25481 non-null  object\n",
      " 2   item_id           87625 non-null  object\n",
      " 3   playtime_forever  87625 non-null  object\n",
      "dtypes: object(4)\n",
      "memory usage: 3.3+ MB\n"
     ]
    }
   ],
   "source": [
    "users_dataframe_3.info()"
   ]
  },
  {
   "attachments": {},
   "cell_type": "markdown",
   "metadata": {},
   "source": [
    "### Merging steam game columns"
   ]
  },
  {
   "cell_type": "code",
   "execution_count": 54,
   "metadata": {},
   "outputs": [
    {
     "name": "stdout",
     "output_type": "stream",
     "text": [
      "<class 'pandas.core.frame.DataFrame'>\n",
      "Index: 32132 entries, 0 to 32133\n",
      "Data columns (total 4 columns):\n",
      " #   Column  Non-Null Count  Dtype  \n",
      "---  ------  --------------  -----  \n",
      " 0   id      32132 non-null  float64\n",
      " 1   genres  28850 non-null  object \n",
      " 2   tags    31970 non-null  object \n",
      " 3   specs   31463 non-null  object \n",
      "dtypes: float64(1), object(3)\n",
      "memory usage: 2.2+ MB\n"
     ]
    }
   ],
   "source": [
    "steam_games_dataframe_3.info()"
   ]
  },
  {
   "attachments": {},
   "cell_type": "markdown",
   "metadata": {},
   "source": [
    "\"genre\" column have missing values.<br>\n",
    "\"tags\" and \"specs\" also have genre list values, this information must be merge.<br>\n",
    "The values from \"genres\" will be the complete list of genres of a game."
   ]
  },
  {
   "attachments": {},
   "cell_type": "markdown",
   "metadata": {},
   "source": [
    "#### \"genres\" and \"tags\""
   ]
  },
  {
   "cell_type": "code",
   "execution_count": 55,
   "metadata": {},
   "outputs": [],
   "source": [
    "# Calling the function to merge values from lists\n",
    "data_analysis_utils.merge_values(steam_games_dataframe_3, \"genres\", \"tags\")"
   ]
  },
  {
   "attachments": {},
   "cell_type": "markdown",
   "metadata": {},
   "source": [
    "#### \"genres\" and \"specs\""
   ]
  },
  {
   "cell_type": "code",
   "execution_count": 56,
   "metadata": {},
   "outputs": [],
   "source": [
    "# Calling the function to merge values from lists\n",
    "data_analysis_utils.merge_values(steam_games_dataframe_3, \"genres\", \"specs\")"
   ]
  },
  {
   "cell_type": "code",
   "execution_count": 57,
   "metadata": {},
   "outputs": [
    {
     "name": "stdout",
     "output_type": "stream",
     "text": [
      "<class 'pandas.core.frame.DataFrame'>\n",
      "Index: 32132 entries, 0 to 32133\n",
      "Data columns (total 4 columns):\n",
      " #   Column  Non-Null Count  Dtype  \n",
      "---  ------  --------------  -----  \n",
      " 0   id      32132 non-null  float64\n",
      " 1   genres  32132 non-null  object \n",
      " 2   tags    31970 non-null  object \n",
      " 3   specs   31463 non-null  object \n",
      "dtypes: float64(1), object(3)\n",
      "memory usage: 2.2+ MB\n"
     ]
    }
   ],
   "source": [
    "steam_games_dataframe_3.info()"
   ]
  },
  {
   "attachments": {},
   "cell_type": "markdown",
   "metadata": {},
   "source": [
    "\"tags\" and \"specs\" are no longer necessary"
   ]
  },
  {
   "cell_type": "code",
   "execution_count": 58,
   "metadata": {},
   "outputs": [],
   "source": [
    "# Necessary data:\n",
    "steam_columns = [\"id\", \"genres\"]\n",
    "\n",
    "# Create new DataFrames with only the selected columns\n",
    "steam_games_dataframe_3 = steam_games_dataframe_3[steam_columns]"
   ]
  },
  {
   "attachments": {},
   "cell_type": "markdown",
   "metadata": {},
   "source": [
    "### Genre ranking dataframe"
   ]
  },
  {
   "attachments": {},
   "cell_type": "markdown",
   "metadata": {},
   "source": [
    "To avoid saturating the genre ranking function, a dataframe with the ranking of genres is created."
   ]
  },
  {
   "attachments": {},
   "cell_type": "markdown",
   "metadata": {},
   "source": [
    "#### Creating dataframe of \"id_game\" and \"time_spent\""
   ]
  },
  {
   "cell_type": "code",
   "execution_count": 59,
   "metadata": {},
   "outputs": [],
   "source": [
    "# Calling function \"correspond\" to create a dict with id game and time spent on that game\n",
    "# The function also returns a report with the row indices that had trouble \n",
    "users_df_explode, users_report = data_analysis_utils.correspond(users_dataframe_3, \"item_id\", \"playtime_forever\")"
   ]
  },
  {
   "cell_type": "code",
   "execution_count": 60,
   "metadata": {},
   "outputs": [
    {
     "name": "stdout",
     "output_type": "stream",
     "text": [
      "6782\n"
     ]
    }
   ],
   "source": [
    "# Number of rows that had trouble, due to missing values inside their corresponding lists\n",
    "print(len(users_report))"
   ]
  },
  {
   "attachments": {},
   "cell_type": "markdown",
   "metadata": {},
   "source": [
    "These values wont be considering in the ranking, because there is no way to find what are those missing values.<br>\n",
    "Also, this values represent only the 7.7% of all the users data"
   ]
  },
  {
   "cell_type": "code",
   "execution_count": 61,
   "metadata": {},
   "outputs": [],
   "source": [
    "# Convert the dictionary to a DataFrame with 'id_games' as the column name\n",
    "users_dataframe_3_exp = pd.DataFrame(list(users_df_explode.items()), columns=['id_game', 'time_spent'])"
   ]
  },
  {
   "cell_type": "code",
   "execution_count": 65,
   "metadata": {},
   "outputs": [
    {
     "data": {
      "text/html": [
       "<div>\n",
       "<style scoped>\n",
       "    .dataframe tbody tr th:only-of-type {\n",
       "        vertical-align: middle;\n",
       "    }\n",
       "\n",
       "    .dataframe tbody tr th {\n",
       "        vertical-align: top;\n",
       "    }\n",
       "\n",
       "    .dataframe thead th {\n",
       "        text-align: right;\n",
       "    }\n",
       "</style>\n",
       "<table border=\"1\" class=\"dataframe\">\n",
       "  <thead>\n",
       "    <tr style=\"text-align: right;\">\n",
       "      <th></th>\n",
       "      <th>id_game</th>\n",
       "      <th>time_spent</th>\n",
       "    </tr>\n",
       "  </thead>\n",
       "  <tbody>\n",
       "    <tr>\n",
       "      <th>0</th>\n",
       "      <td>10</td>\n",
       "      <td>15927385</td>\n",
       "    </tr>\n",
       "    <tr>\n",
       "      <th>1</th>\n",
       "      <td>20</td>\n",
       "      <td>723653</td>\n",
       "    </tr>\n",
       "    <tr>\n",
       "      <th>2</th>\n",
       "      <td>30</td>\n",
       "      <td>606454</td>\n",
       "    </tr>\n",
       "    <tr>\n",
       "      <th>3</th>\n",
       "      <td>40</td>\n",
       "      <td>146709</td>\n",
       "    </tr>\n",
       "    <tr>\n",
       "      <th>4</th>\n",
       "      <td>50</td>\n",
       "      <td>585107</td>\n",
       "    </tr>\n",
       "    <tr>\n",
       "      <th>...</th>\n",
       "      <td>...</td>\n",
       "      <td>...</td>\n",
       "    </tr>\n",
       "    <tr>\n",
       "      <th>11036</th>\n",
       "      <td>354280</td>\n",
       "      <td>164</td>\n",
       "    </tr>\n",
       "    <tr>\n",
       "      <th>11037</th>\n",
       "      <td>433920</td>\n",
       "      <td>0</td>\n",
       "    </tr>\n",
       "    <tr>\n",
       "      <th>11038</th>\n",
       "      <td>22110</td>\n",
       "      <td>0</td>\n",
       "    </tr>\n",
       "    <tr>\n",
       "      <th>11039</th>\n",
       "      <td>485270</td>\n",
       "      <td>7</td>\n",
       "    </tr>\n",
       "    <tr>\n",
       "      <th>11040</th>\n",
       "      <td>414390</td>\n",
       "      <td>0</td>\n",
       "    </tr>\n",
       "  </tbody>\n",
       "</table>\n",
       "<p>11041 rows × 2 columns</p>\n",
       "</div>"
      ],
      "text/plain": [
       "       id_game  time_spent\n",
       "0           10    15927385\n",
       "1           20      723653\n",
       "2           30      606454\n",
       "3           40      146709\n",
       "4           50      585107\n",
       "...        ...         ...\n",
       "11036   354280         164\n",
       "11037   433920           0\n",
       "11038    22110           0\n",
       "11039   485270           7\n",
       "11040   414390           0\n",
       "\n",
       "[11041 rows x 2 columns]"
      ]
     },
     "execution_count": 65,
     "metadata": {},
     "output_type": "execute_result"
    }
   ],
   "source": [
    "users_dataframe_3_exp"
   ]
  },
  {
   "attachments": {},
   "cell_type": "markdown",
   "metadata": {},
   "source": [
    "#### Creating a dataframe with \"id_game\", \"time_spent\" and \"genre\""
   ]
  },
  {
   "cell_type": "code",
   "execution_count": 62,
   "metadata": {},
   "outputs": [],
   "source": [
    "# Merge users_dataframe_3 and steam_games_dataframe_3\n",
    "merged_df = users_dataframe_3_exp.merge(steam_games_dataframe_3, left_on='id_game', right_on='id', how='left')"
   ]
  },
  {
   "cell_type": "code",
   "execution_count": 63,
   "metadata": {},
   "outputs": [
    {
     "data": {
      "text/html": [
       "<div>\n",
       "<style scoped>\n",
       "    .dataframe tbody tr th:only-of-type {\n",
       "        vertical-align: middle;\n",
       "    }\n",
       "\n",
       "    .dataframe tbody tr th {\n",
       "        vertical-align: top;\n",
       "    }\n",
       "\n",
       "    .dataframe thead th {\n",
       "        text-align: right;\n",
       "    }\n",
       "</style>\n",
       "<table border=\"1\" class=\"dataframe\">\n",
       "  <thead>\n",
       "    <tr style=\"text-align: right;\">\n",
       "      <th></th>\n",
       "      <th>id_game</th>\n",
       "      <th>time_spent</th>\n",
       "      <th>id</th>\n",
       "      <th>genres</th>\n",
       "    </tr>\n",
       "  </thead>\n",
       "  <tbody>\n",
       "    <tr>\n",
       "      <th>0</th>\n",
       "      <td>10</td>\n",
       "      <td>15927385</td>\n",
       "      <td>10.0</td>\n",
       "      <td>[Action, Multi-player, Valve Anti-Cheat enabled]</td>\n",
       "    </tr>\n",
       "    <tr>\n",
       "      <th>1</th>\n",
       "      <td>20</td>\n",
       "      <td>723653</td>\n",
       "      <td>20.0</td>\n",
       "      <td>[Action, Multi-player, Valve Anti-Cheat enabled]</td>\n",
       "    </tr>\n",
       "    <tr>\n",
       "      <th>2</th>\n",
       "      <td>30</td>\n",
       "      <td>606454</td>\n",
       "      <td>30.0</td>\n",
       "      <td>[Action, Multi-player, Valve Anti-Cheat enabled]</td>\n",
       "    </tr>\n",
       "    <tr>\n",
       "      <th>3</th>\n",
       "      <td>40</td>\n",
       "      <td>146709</td>\n",
       "      <td>40.0</td>\n",
       "      <td>[Action, Multi-player, Valve Anti-Cheat enabled]</td>\n",
       "    </tr>\n",
       "    <tr>\n",
       "      <th>4</th>\n",
       "      <td>50</td>\n",
       "      <td>585107</td>\n",
       "      <td>50.0</td>\n",
       "      <td>[Action, Single-player, Multi-player, Valve An...</td>\n",
       "    </tr>\n",
       "    <tr>\n",
       "      <th>...</th>\n",
       "      <td>...</td>\n",
       "      <td>...</td>\n",
       "      <td>...</td>\n",
       "      <td>...</td>\n",
       "    </tr>\n",
       "    <tr>\n",
       "      <th>11036</th>\n",
       "      <td>354280</td>\n",
       "      <td>164</td>\n",
       "      <td>354280.0</td>\n",
       "      <td>[Action, Casual, Indie, Simulation, Single-pla...</td>\n",
       "    </tr>\n",
       "    <tr>\n",
       "      <th>11037</th>\n",
       "      <td>433920</td>\n",
       "      <td>0</td>\n",
       "      <td>433920.0</td>\n",
       "      <td>[Adventure, Indie, RPG, Single-player]</td>\n",
       "    </tr>\n",
       "    <tr>\n",
       "      <th>11038</th>\n",
       "      <td>22110</td>\n",
       "      <td>0</td>\n",
       "      <td>NaN</td>\n",
       "      <td>NaN</td>\n",
       "    </tr>\n",
       "    <tr>\n",
       "      <th>11039</th>\n",
       "      <td>485270</td>\n",
       "      <td>7</td>\n",
       "      <td>485270.0</td>\n",
       "      <td>[Single-player, HTC Vive, Oculus Rift, Keyboar...</td>\n",
       "    </tr>\n",
       "    <tr>\n",
       "      <th>11040</th>\n",
       "      <td>414390</td>\n",
       "      <td>0</td>\n",
       "      <td>NaN</td>\n",
       "      <td>NaN</td>\n",
       "    </tr>\n",
       "  </tbody>\n",
       "</table>\n",
       "<p>11041 rows × 4 columns</p>\n",
       "</div>"
      ],
      "text/plain": [
       "       id_game  time_spent        id  \\\n",
       "0           10    15927385      10.0   \n",
       "1           20      723653      20.0   \n",
       "2           30      606454      30.0   \n",
       "3           40      146709      40.0   \n",
       "4           50      585107      50.0   \n",
       "...        ...         ...       ...   \n",
       "11036   354280         164  354280.0   \n",
       "11037   433920           0  433920.0   \n",
       "11038    22110           0       NaN   \n",
       "11039   485270           7  485270.0   \n",
       "11040   414390           0       NaN   \n",
       "\n",
       "                                                  genres  \n",
       "0       [Action, Multi-player, Valve Anti-Cheat enabled]  \n",
       "1       [Action, Multi-player, Valve Anti-Cheat enabled]  \n",
       "2       [Action, Multi-player, Valve Anti-Cheat enabled]  \n",
       "3       [Action, Multi-player, Valve Anti-Cheat enabled]  \n",
       "4      [Action, Single-player, Multi-player, Valve An...  \n",
       "...                                                  ...  \n",
       "11036  [Action, Casual, Indie, Simulation, Single-pla...  \n",
       "11037             [Adventure, Indie, RPG, Single-player]  \n",
       "11038                                                NaN  \n",
       "11039  [Single-player, HTC Vive, Oculus Rift, Keyboar...  \n",
       "11040                                                NaN  \n",
       "\n",
       "[11041 rows x 4 columns]"
      ]
     },
     "execution_count": 63,
     "metadata": {},
     "output_type": "execute_result"
    }
   ],
   "source": [
    "merged_df"
   ]
  },
  {
   "cell_type": "code",
   "execution_count": 64,
   "metadata": {},
   "outputs": [],
   "source": [
    "# Delete rows with null values in 'genres'\n",
    "merged_df.dropna(subset=['genres'], inplace=True)"
   ]
  },
  {
   "cell_type": "code",
   "execution_count": 65,
   "metadata": {},
   "outputs": [],
   "source": [
    "# Explode the list of genres\n",
    "merged_df = merged_df.explode('genres')"
   ]
  },
  {
   "cell_type": "code",
   "execution_count": 66,
   "metadata": {},
   "outputs": [
    {
     "data": {
      "text/html": [
       "<div>\n",
       "<style scoped>\n",
       "    .dataframe tbody tr th:only-of-type {\n",
       "        vertical-align: middle;\n",
       "    }\n",
       "\n",
       "    .dataframe tbody tr th {\n",
       "        vertical-align: top;\n",
       "    }\n",
       "\n",
       "    .dataframe thead th {\n",
       "        text-align: right;\n",
       "    }\n",
       "</style>\n",
       "<table border=\"1\" class=\"dataframe\">\n",
       "  <thead>\n",
       "    <tr style=\"text-align: right;\">\n",
       "      <th></th>\n",
       "      <th>id_game</th>\n",
       "      <th>time_spent</th>\n",
       "      <th>id</th>\n",
       "      <th>genres</th>\n",
       "    </tr>\n",
       "  </thead>\n",
       "  <tbody>\n",
       "    <tr>\n",
       "      <th>0</th>\n",
       "      <td>10</td>\n",
       "      <td>15927385</td>\n",
       "      <td>10.0</td>\n",
       "      <td>Action</td>\n",
       "    </tr>\n",
       "    <tr>\n",
       "      <th>0</th>\n",
       "      <td>10</td>\n",
       "      <td>15927385</td>\n",
       "      <td>10.0</td>\n",
       "      <td>Multi-player</td>\n",
       "    </tr>\n",
       "    <tr>\n",
       "      <th>0</th>\n",
       "      <td>10</td>\n",
       "      <td>15927385</td>\n",
       "      <td>10.0</td>\n",
       "      <td>Valve Anti-Cheat enabled</td>\n",
       "    </tr>\n",
       "    <tr>\n",
       "      <th>1</th>\n",
       "      <td>20</td>\n",
       "      <td>723653</td>\n",
       "      <td>20.0</td>\n",
       "      <td>Action</td>\n",
       "    </tr>\n",
       "    <tr>\n",
       "      <th>1</th>\n",
       "      <td>20</td>\n",
       "      <td>723653</td>\n",
       "      <td>20.0</td>\n",
       "      <td>Multi-player</td>\n",
       "    </tr>\n",
       "    <tr>\n",
       "      <th>...</th>\n",
       "      <td>...</td>\n",
       "      <td>...</td>\n",
       "      <td>...</td>\n",
       "      <td>...</td>\n",
       "    </tr>\n",
       "    <tr>\n",
       "      <th>11039</th>\n",
       "      <td>485270</td>\n",
       "      <td>7</td>\n",
       "      <td>485270.0</td>\n",
       "      <td>Single-player</td>\n",
       "    </tr>\n",
       "    <tr>\n",
       "      <th>11039</th>\n",
       "      <td>485270</td>\n",
       "      <td>7</td>\n",
       "      <td>485270.0</td>\n",
       "      <td>HTC Vive</td>\n",
       "    </tr>\n",
       "    <tr>\n",
       "      <th>11039</th>\n",
       "      <td>485270</td>\n",
       "      <td>7</td>\n",
       "      <td>485270.0</td>\n",
       "      <td>Oculus Rift</td>\n",
       "    </tr>\n",
       "    <tr>\n",
       "      <th>11039</th>\n",
       "      <td>485270</td>\n",
       "      <td>7</td>\n",
       "      <td>485270.0</td>\n",
       "      <td>Keyboard / Mouse</td>\n",
       "    </tr>\n",
       "    <tr>\n",
       "      <th>11039</th>\n",
       "      <td>485270</td>\n",
       "      <td>7</td>\n",
       "      <td>485270.0</td>\n",
       "      <td>Seated</td>\n",
       "    </tr>\n",
       "  </tbody>\n",
       "</table>\n",
       "<p>58308 rows × 4 columns</p>\n",
       "</div>"
      ],
      "text/plain": [
       "       id_game  time_spent        id                    genres\n",
       "0           10    15927385      10.0                    Action\n",
       "0           10    15927385      10.0              Multi-player\n",
       "0           10    15927385      10.0  Valve Anti-Cheat enabled\n",
       "1           20      723653      20.0                    Action\n",
       "1           20      723653      20.0              Multi-player\n",
       "...        ...         ...       ...                       ...\n",
       "11039   485270           7  485270.0             Single-player\n",
       "11039   485270           7  485270.0                  HTC Vive\n",
       "11039   485270           7  485270.0               Oculus Rift\n",
       "11039   485270           7  485270.0          Keyboard / Mouse\n",
       "11039   485270           7  485270.0                    Seated\n",
       "\n",
       "[58308 rows x 4 columns]"
      ]
     },
     "execution_count": 66,
     "metadata": {},
     "output_type": "execute_result"
    }
   ],
   "source": [
    "merged_df"
   ]
  },
  {
   "attachments": {},
   "cell_type": "markdown",
   "metadata": {},
   "source": [
    "#### Creating genre ranking dataframe"
   ]
  },
  {
   "cell_type": "code",
   "execution_count": 67,
   "metadata": {},
   "outputs": [],
   "source": [
    "# Group by genre and calculate total time spent\n",
    "genre_ranking = merged_df.groupby('genres')['time_spent'].sum().reset_index()"
   ]
  },
  {
   "cell_type": "code",
   "execution_count": 68,
   "metadata": {},
   "outputs": [],
   "source": [
    "# Create the final DataFrame for genre ranking\n",
    "genre_ranking = genre_ranking.rename(columns={'genres': 'genre', 'time_spent': 'time_spent'})"
   ]
  },
  {
   "cell_type": "code",
   "execution_count": 69,
   "metadata": {},
   "outputs": [],
   "source": [
    "# Sort the genre ranking DataFrame by total time spent\n",
    "genre_ranking = genre_ranking.sort_values(by='time_spent', ascending=False)"
   ]
  },
  {
   "cell_type": "code",
   "execution_count": 70,
   "metadata": {},
   "outputs": [],
   "source": [
    "# Reset the index\n",
    "genre_ranking = genre_ranking.reset_index(drop=True)"
   ]
  },
  {
   "cell_type": "code",
   "execution_count": 71,
   "metadata": {},
   "outputs": [
    {
     "name": "stdout",
     "output_type": "stream",
     "text": [
      "<class 'pandas.core.frame.DataFrame'>\n",
      "RangeIndex: 60 entries, 0 to 59\n",
      "Data columns (total 2 columns):\n",
      " #   Column      Non-Null Count  Dtype \n",
      "---  ------      --------------  ----- \n",
      " 0   genre       60 non-null     object\n",
      " 1   time_spent  60 non-null     int64 \n",
      "dtypes: int64(1), object(1)\n",
      "memory usage: 1.1+ KB\n"
     ]
    }
   ],
   "source": [
    "genre_ranking.info()"
   ]
  },
  {
   "cell_type": "code",
   "execution_count": 73,
   "metadata": {},
   "outputs": [
    {
     "data": {
      "text/html": [
       "<div>\n",
       "<style scoped>\n",
       "    .dataframe tbody tr th:only-of-type {\n",
       "        vertical-align: middle;\n",
       "    }\n",
       "\n",
       "    .dataframe tbody tr th {\n",
       "        vertical-align: top;\n",
       "    }\n",
       "\n",
       "    .dataframe thead th {\n",
       "        text-align: right;\n",
       "    }\n",
       "</style>\n",
       "<table border=\"1\" class=\"dataframe\">\n",
       "  <thead>\n",
       "    <tr style=\"text-align: right;\">\n",
       "      <th></th>\n",
       "      <th>genre</th>\n",
       "      <th>time_spent</th>\n",
       "    </tr>\n",
       "  </thead>\n",
       "  <tbody>\n",
       "    <tr>\n",
       "      <th>0</th>\n",
       "      <td>Steam Achievements</td>\n",
       "      <td>3082652503</td>\n",
       "    </tr>\n",
       "    <tr>\n",
       "      <th>1</th>\n",
       "      <td>Multi-player</td>\n",
       "      <td>2993279495</td>\n",
       "    </tr>\n",
       "    <tr>\n",
       "      <th>2</th>\n",
       "      <td>Steam Trading Cards</td>\n",
       "      <td>2852651586</td>\n",
       "    </tr>\n",
       "    <tr>\n",
       "      <th>3</th>\n",
       "      <td>Action</td>\n",
       "      <td>2694298058</td>\n",
       "    </tr>\n",
       "    <tr>\n",
       "      <th>4</th>\n",
       "      <td>Single-player</td>\n",
       "      <td>2668106311</td>\n",
       "    </tr>\n",
       "  </tbody>\n",
       "</table>\n",
       "</div>"
      ],
      "text/plain": [
       "                 genre  time_spent\n",
       "0   Steam Achievements  3082652503\n",
       "1         Multi-player  2993279495\n",
       "2  Steam Trading Cards  2852651586\n",
       "3               Action  2694298058\n",
       "4        Single-player  2668106311"
      ]
     },
     "execution_count": 73,
     "metadata": {},
     "output_type": "execute_result"
    }
   ],
   "source": [
    "genre_ranking.head()"
   ]
  },
  {
   "attachments": {},
   "cell_type": "markdown",
   "metadata": {},
   "source": [
    "### Generating file"
   ]
  },
  {
   "cell_type": "code",
   "execution_count": 74,
   "metadata": {},
   "outputs": [],
   "source": [
    "# Necessary data\n",
    "necessary_columns = [\"genre\"]\n",
    "\n",
    "# Saving the dataframe to a csv format file\n",
    "# The file will be stored in api inside a the datasets folder \n",
    "genre_ranking[necessary_columns].to_csv('../api/datasets/genre_ranking.csv', index=False)"
   ]
  },
  {
   "attachments": {},
   "cell_type": "markdown",
   "metadata": {},
   "source": [
    "## API Function 4 \"userforgenre\""
   ]
  },
  {
   "attachments": {},
   "cell_type": "markdown",
   "metadata": {},
   "source": [
    "Returns the top 5 users with the most playing hours in the given genre, with their (user's) URL and user_id."
   ]
  },
  {
   "attachments": {},
   "cell_type": "markdown",
   "metadata": {},
   "source": [
    "### Creating dataframes"
   ]
  },
  {
   "attachments": {},
   "cell_type": "markdown",
   "metadata": {},
   "source": [
    "Creating new dataframes from the API function 3"
   ]
  },
  {
   "cell_type": "code",
   "execution_count": 75,
   "metadata": {},
   "outputs": [
    {
     "name": "stdout",
     "output_type": "stream",
     "text": [
      "Index(['user_id', 'user_url', 'item_id', 'playtime_forever'], dtype='object')\n",
      "Index(['id', 'genres'], dtype='object')\n"
     ]
    }
   ],
   "source": [
    "print(users_dataframe_3.columns)\n",
    "print(steam_games_dataframe_3.columns)"
   ]
  },
  {
   "cell_type": "code",
   "execution_count": 76,
   "metadata": {},
   "outputs": [],
   "source": [
    "# Call the function \"correspond_total\" explode values and store them in lists\n",
    "list_of_dataframe, report_idx = data_analysis_utils.correspond_total(users_dataframe_3, \"item_id\", \"playtime_forever\", \"user_id\", \"user_url\")"
   ]
  },
  {
   "cell_type": "code",
   "execution_count": 77,
   "metadata": {},
   "outputs": [
    {
     "data": {
      "text/plain": [
       "6782"
      ]
     },
     "execution_count": 77,
     "metadata": {},
     "output_type": "execute_result"
    }
   ],
   "source": [
    "# Quantity of values with error\n",
    "len(report_idx)"
   ]
  },
  {
   "attachments": {},
   "cell_type": "markdown",
   "metadata": {},
   "source": [
    "These values wont be considering in the ranking, because there is no way to find what are those missing values.<br>\n",
    "Also, this values represent only the 7.7% of all the users data"
   ]
  },
  {
   "cell_type": "code",
   "execution_count": 80,
   "metadata": {},
   "outputs": [],
   "source": [
    "# Define the column names\n",
    "columns = [\"id_game\", \"time_spent\", \"user_id\", \"user_url\"]\n",
    "\n",
    "# Create a DataFrame from the list of lists and specify the column names\n",
    "users_dataframe_4 = pd.DataFrame(list_of_dataframe, columns=columns)"
   ]
  },
  {
   "cell_type": "code",
   "execution_count": 81,
   "metadata": {},
   "outputs": [
    {
     "name": "stdout",
     "output_type": "stream",
     "text": [
      "<class 'pandas.core.frame.DataFrame'>\n",
      "RangeIndex: 4450211 entries, 0 to 4450210\n",
      "Data columns (total 4 columns):\n",
      " #   Column      Dtype \n",
      "---  ------      ----- \n",
      " 0   id_game     int64 \n",
      " 1   time_spent  int64 \n",
      " 2   user_id     object\n",
      " 3   user_url    object\n",
      "dtypes: int64(2), object(2)\n",
      "memory usage: 135.8+ MB\n"
     ]
    }
   ],
   "source": [
    "users_dataframe_4.info()"
   ]
  },
  {
   "attachments": {},
   "cell_type": "markdown",
   "metadata": {},
   "source": [
    "### Merging steam game columns"
   ]
  },
  {
   "cell_type": "code",
   "execution_count": 82,
   "metadata": {},
   "outputs": [],
   "source": [
    "# Merge users_dataframe_4 and steam_games_dataframe_3\n",
    "users_dataframe_4 = users_dataframe_4.merge(steam_games_dataframe_3, left_on='id_game', right_on='id', how='left')"
   ]
  },
  {
   "cell_type": "code",
   "execution_count": 83,
   "metadata": {},
   "outputs": [
    {
     "name": "stdout",
     "output_type": "stream",
     "text": [
      "<class 'pandas.core.frame.DataFrame'>\n",
      "RangeIndex: 4450211 entries, 0 to 4450210\n",
      "Data columns (total 6 columns):\n",
      " #   Column      Dtype  \n",
      "---  ------      -----  \n",
      " 0   id_game     int64  \n",
      " 1   time_spent  int64  \n",
      " 2   user_id     object \n",
      " 3   user_url    object \n",
      " 4   id          float64\n",
      " 5   genres      object \n",
      "dtypes: float64(1), int64(2), object(3)\n",
      "memory usage: 203.7+ MB\n"
     ]
    }
   ],
   "source": [
    "users_dataframe_4.info()"
   ]
  },
  {
   "attachments": {},
   "cell_type": "markdown",
   "metadata": {},
   "source": [
    "Deleting row without genre values"
   ]
  },
  {
   "cell_type": "code",
   "execution_count": 84,
   "metadata": {},
   "outputs": [],
   "source": [
    "# Delete rows with null values in 'genres'\n",
    "users_dataframe_4.dropna(subset=['genres'], inplace=True)"
   ]
  },
  {
   "cell_type": "code",
   "execution_count": 85,
   "metadata": {},
   "outputs": [],
   "source": [
    "# Explode the list of genres\n",
    "users_dataframe_4 = users_dataframe_4.explode('genres')"
   ]
  },
  {
   "cell_type": "code",
   "execution_count": 86,
   "metadata": {},
   "outputs": [
    {
     "name": "stdout",
     "output_type": "stream",
     "text": [
      "<class 'pandas.core.frame.DataFrame'>\n",
      "Index: 27889782 entries, 0 to 4450209\n",
      "Data columns (total 6 columns):\n",
      " #   Column      Dtype  \n",
      "---  ------      -----  \n",
      " 0   id_game     int64  \n",
      " 1   time_spent  int64  \n",
      " 2   user_id     object \n",
      " 3   user_url    object \n",
      " 4   id          float64\n",
      " 5   genres      object \n",
      "dtypes: float64(1), int64(2), object(3)\n",
      "memory usage: 1.5+ GB\n"
     ]
    }
   ],
   "source": [
    "users_dataframe_4.info()"
   ]
  },
  {
   "attachments": {},
   "cell_type": "markdown",
   "metadata": {},
   "source": [
    "File to heavy to be analyzed, extracting a sample"
   ]
  },
  {
   "cell_type": "code",
   "execution_count": 87,
   "metadata": {},
   "outputs": [],
   "source": [
    "# Define the number of random rows\n",
    "sample_size = 200000  # Adjust this to your desired sample size\n",
    "\n",
    "# Randomly select rows from the original DataFrame\n",
    "users_dataframe_4_sample = users_dataframe_4.sample(n=sample_size, random_state=42)  # Set a random_state for reproducibility\n"
   ]
  },
  {
   "cell_type": "code",
   "execution_count": 89,
   "metadata": {},
   "outputs": [],
   "source": [
    "# Personalized groupby \n",
    "user_data_result = data_analysis_utils.create_dict_genre(users_dataframe_4_sample)"
   ]
  },
  {
   "cell_type": "code",
   "execution_count": 90,
   "metadata": {},
   "outputs": [
    {
     "data": {
      "text/plain": [
       "dict_keys(['Action', 'Adventure', 'Animation &amp; Modeling', 'Audio Production', 'Captions available', 'Casual', 'Co-op', 'Commentary available', 'Cross-Platform Multiplayer', 'Design &amp; Illustration', 'Downloadable Content', 'Early Access', 'Education', 'Free to Play', 'Full controller support', 'Game demo', 'Gamepad', 'HTC Vive', 'In-App Purchases', 'Includes Source SDK', 'Includes level editor', 'Indie', 'Keyboard / Mouse', 'Local Co-op', 'Local Multi-Player', 'MMO', 'Massively Multiplayer', 'Mods', 'Mods (require HL2)', 'Multi-player', 'Oculus Rift', 'Online Co-op', 'Online Multi-Player', 'Partial Controller Support', 'Photo Editing', 'RPG', 'Racing', 'Room-Scale', 'Seated', 'Shared/Split Screen', 'Simulation', 'Single-player', 'Software Training', 'Sports', 'Standing', 'Stats', 'Steam Achievements', 'Steam Cloud', 'Steam Leaderboards', 'Steam Trading Cards', 'Steam Turn Notifications', 'Steam Workshop', 'SteamVR Collectibles', 'Strategy', 'Tracked Motion Controllers', 'Utilities', 'Valve Anti-Cheat enabled', 'Video Production', 'Web Publishing', 'Windows Mixed Reality'])"
      ]
     },
     "execution_count": 90,
     "metadata": {},
     "output_type": "execute_result"
    }
   ],
   "source": [
    "user_data_result.keys()"
   ]
  },
  {
   "cell_type": "code",
   "execution_count": 91,
   "metadata": {},
   "outputs": [],
   "source": [
    "# Convert the dictionary to a DataFrame\n",
    "users_dataframe_4 = pd.DataFrame(list(user_data_result.items()), columns=['genre', 'users_info'])"
   ]
  },
  {
   "cell_type": "code",
   "execution_count": 96,
   "metadata": {},
   "outputs": [
    {
     "data": {
      "text/html": [
       "<div>\n",
       "<style scoped>\n",
       "    .dataframe tbody tr th:only-of-type {\n",
       "        vertical-align: middle;\n",
       "    }\n",
       "\n",
       "    .dataframe tbody tr th {\n",
       "        vertical-align: top;\n",
       "    }\n",
       "\n",
       "    .dataframe thead th {\n",
       "        text-align: right;\n",
       "    }\n",
       "</style>\n",
       "<table border=\"1\" class=\"dataframe\">\n",
       "  <thead>\n",
       "    <tr style=\"text-align: right;\">\n",
       "      <th></th>\n",
       "      <th>genre</th>\n",
       "      <th>users_info</th>\n",
       "    </tr>\n",
       "  </thead>\n",
       "  <tbody>\n",
       "    <tr>\n",
       "      <th>0</th>\n",
       "      <td>Action</td>\n",
       "      <td>[{'user_id': '76561198011705037', 'time_spent'...</td>\n",
       "    </tr>\n",
       "    <tr>\n",
       "      <th>1</th>\n",
       "      <td>Adventure</td>\n",
       "      <td>[{'user_id': 'sogeking1231', 'time_spent': 238...</td>\n",
       "    </tr>\n",
       "    <tr>\n",
       "      <th>2</th>\n",
       "      <td>Animation &amp;amp; Modeling</td>\n",
       "      <td>[{'user_id': 'screwlabs', 'time_spent': 0, 'us...</td>\n",
       "    </tr>\n",
       "    <tr>\n",
       "      <th>3</th>\n",
       "      <td>Audio Production</td>\n",
       "      <td>[{'user_id': 'remyau', 'time_spent': 0, 'user_...</td>\n",
       "    </tr>\n",
       "    <tr>\n",
       "      <th>4</th>\n",
       "      <td>Captions available</td>\n",
       "      <td>[{'user_id': '76561198058819691', 'time_spent'...</td>\n",
       "    </tr>\n",
       "  </tbody>\n",
       "</table>\n",
       "</div>"
      ],
      "text/plain": [
       "                      genre                                         users_info\n",
       "0                    Action  [{'user_id': '76561198011705037', 'time_spent'...\n",
       "1                 Adventure  [{'user_id': 'sogeking1231', 'time_spent': 238...\n",
       "2  Animation &amp; Modeling  [{'user_id': 'screwlabs', 'time_spent': 0, 'us...\n",
       "3          Audio Production  [{'user_id': 'remyau', 'time_spent': 0, 'user_...\n",
       "4        Captions available  [{'user_id': '76561198058819691', 'time_spent'..."
      ]
     },
     "execution_count": 96,
     "metadata": {},
     "output_type": "execute_result"
    }
   ],
   "source": [
    "users_dataframe_4.head()"
   ]
  },
  {
   "attachments": {},
   "cell_type": "markdown",
   "metadata": {},
   "source": [
    "### Generating file"
   ]
  },
  {
   "cell_type": "code",
   "execution_count": 93,
   "metadata": {},
   "outputs": [],
   "source": [
    "# The file will be stored in api inside a the datasets folder \n",
    "users_dataframe_4.to_csv('../api/datasets/user_data_4.csv', index=False)"
   ]
  },
  {
   "attachments": {},
   "cell_type": "markdown",
   "metadata": {},
   "source": [
    "## API Function 5 \"developer\""
   ]
  },
  {
   "attachments": {},
   "cell_type": "markdown",
   "metadata": {},
   "source": [
    "## API Function 6 \"sentiment_analysis\""
   ]
  },
  {
   "cell_type": "code",
   "execution_count": 111,
   "metadata": {},
   "outputs": [
    {
     "name": "stdout",
     "output_type": "stream",
     "text": [
      "['Posted September 18.', 'Posted February 24.']\n",
      "['Fantastic A-RPG with NES tier difficulty', 'As a lifelong monster world and metroid fan I feel very satisfied with how this game turned out.']\n"
     ]
    }
   ],
   "source": [
    "print(user_reviews_2[\"posted\"][15230])\n",
    "print(user_reviews_2[\"review\"][15230])"
   ]
  },
  {
   "attachments": {},
   "cell_type": "markdown",
   "metadata": {},
   "source": [
    "## API Function 7 ML \"game_recommendation\""
   ]
  },
  {
   "cell_type": "code",
   "execution_count": null,
   "metadata": {},
   "outputs": [],
   "source": []
  },
  {
   "cell_type": "code",
   "execution_count": null,
   "metadata": {},
   "outputs": [],
   "source": []
  },
  {
   "cell_type": "code",
   "execution_count": null,
   "metadata": {},
   "outputs": [],
   "source": []
  }
 ],
 "metadata": {
  "kernelspec": {
   "display_name": "env-game-recommend-sys",
   "language": "python",
   "name": "python3"
  },
  "language_info": {
   "codemirror_mode": {
    "name": "ipython",
    "version": 3
   },
   "file_extension": ".py",
   "mimetype": "text/x-python",
   "name": "python",
   "nbconvert_exporter": "python",
   "pygments_lexer": "ipython3",
   "version": "3.10.10"
  },
  "orig_nbformat": 4
 },
 "nbformat": 4,
 "nbformat_minor": 2
}
